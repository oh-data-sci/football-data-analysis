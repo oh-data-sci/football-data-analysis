{
 "cells": [
  {
   "cell_type": "markdown",
   "id": "3a9f4bb7-2f58-4a08-9efc-d9865219f3fe",
   "metadata": {},
   "source": [
    "# fetch data files "
   ]
  },
  {
   "cell_type": "code",
   "execution_count": 1,
   "id": "4ba7b0f3-f158-44ad-b826-cfb64e60958e",
   "metadata": {},
   "outputs": [],
   "source": [
    "from bs4 import BeautifulSoup\n",
    "import chardet\n",
    "import datetime\n",
    "import duckdb\n",
    "import io\n",
    "import pandas as pd\n",
    "import requests"
   ]
  },
  {
   "cell_type": "code",
   "execution_count": 2,
   "id": "c538ecd4-5354-4b9c-9df2-9c8f5e0ba764",
   "metadata": {},
   "outputs": [],
   "source": [
    "data_path = '../data/'\n",
    "country_list = 'config/country_url.csv'"
   ]
  },
  {
   "cell_type": "code",
   "execution_count": 3,
   "id": "09b4bf42-e7c5-4e11-ba94-765a3898738e",
   "metadata": {},
   "outputs": [
    {
     "data": {
      "text/plain": [
       "0         england\n",
       "1        scotland\n",
       "2         germany\n",
       "3           italy\n",
       "4           spain\n",
       "5          france\n",
       "6     netherlands\n",
       "7         belgium\n",
       "8        portugal\n",
       "9          turkey\n",
       "10         greece\n",
       "11      argentina\n",
       "12        austria\n",
       "13         brazil\n",
       "14          china\n",
       "15        denmark\n",
       "16        finland\n",
       "17        ireland\n",
       "18          japan\n",
       "19         mexico\n",
       "20         norway\n",
       "21         poland\n",
       "22        romania\n",
       "23         russia\n",
       "24         sweden\n",
       "25    switzerland\n",
       "26            usa\n",
       "Name: country, dtype: object"
      ]
     },
     "execution_count": 3,
     "metadata": {},
     "output_type": "execute_result"
    }
   ],
   "source": [
    "countries = pd.read_csv(data_path+country_list)['country']\n",
    "countries"
   ]
  },
  {
   "cell_type": "code",
   "execution_count": 5,
   "id": "aebcf01a-3c23-4d34-bd15-5ea6d0c51d48",
   "metadata": {},
   "outputs": [],
   "source": [
    "\n",
    "def read_problematic_csv(url):\n",
    "    # fetch file content of the linked csv file\n",
    "    response = requests.get(url)\n",
    "    content = response.content\n",
    "    \n",
    "    # detect the encoding\n",
    "    detected = chardet.detect(content)\n",
    "    encodings_to_try = [\n",
    "        detected['encoding'],  # first attempt with detected encoding\n",
    "        'windows-1252',        # maybe windows encoding?\n",
    "        'latin-1',             # a permissive encoding\n",
    "        'utf-8'                # standard, preferred encoding\n",
    "    ]\n",
    "    \n",
    "    # remove duplicates, remove 'None's\n",
    "    encodings_to_try = list(set([e for e in encodings_to_try if e]))\n",
    "    \n",
    "    # try each encoding \n",
    "    for encoding in encodings_to_try:\n",
    "        try:\n",
    "            csv_content = content.decode(encoding)\n",
    "            # determine the number of columns from the header\n",
    "            first_line = csv_content.split('\\n')[0]\n",
    "            header_count = first_line.count(',') + 1\n",
    "            \n",
    "            # Read the CSV with pandas, specifying the number of columns\n",
    "            df = pd.read_csv(\n",
    "                io.StringIO(csv_content),\n",
    "                usecols=range(header_count),\n",
    "                parse_dates=['Date'],\n",
    "                dayfirst=True,\n",
    "                on_bad_lines='warn',\n",
    "                encoding_errors='replace'  # replace characters that can't be decoded\n",
    "            )\n",
    "            \n",
    "            # print(f\"successfully read with encoding: {encoding}\")\n",
    "            return df\n",
    "            \n",
    "        except Exception as e:\n",
    "            print(f\"reading/parsing csv file content failed with encoding {encoding}: {str(e)}\")\n",
    "            continue\n",
    "    \n",
    "    # If we've tried all encodings and none worked\n",
    "    raise ValueError(\"could not read the csv file with any encoding\")\n",
    "# test\n",
    "# url =datafile_url\n",
    "# df = read_problematic_csv(datafile_url)\n",
    "# print(df.head())"
   ]
  },
  {
   "cell_type": "code",
   "execution_count": 6,
   "id": "1fd6c414-5ed7-43bf-8d3a-d4338a5a6285",
   "metadata": {},
   "outputs": [
    {
     "name": "stdout",
     "output_type": "stream",
     "text": [
      "france has 61 urls\n",
      "reading https://www.football-data.co.uk/mmz4281/9900/F1.csv\n",
      "filename= france_mmz4281_9900_F1.csv\n"
     ]
    },
    {
     "name": "stderr",
     "output_type": "stream",
     "text": [
      "/var/folders/xn/jj94n4tj5w90v1m3njdf44n80000gp/T/ipykernel_98487/744390444.py:7: UserWarning: Could not infer format, so each element will be parsed individually, falling back to `dateutil`. To ensure parsing is consistent and as-expected, please specify a format.\n",
      "  df = pd.read_csv(datafile_url, parse_dates=['Date'], dayfirst=True)\n"
     ]
    }
   ],
   "source": [
    "country=countries[5]\n",
    "datafile_urls = pd.read_csv(data_path+'config/'+country+'_data_file_urls.csv')\n",
    "print(country, 'has', len(datafile_urls), 'urls')\n",
    "datafile_url=datafile_urls['data_url'][8]\n",
    "# https://www.football-data.co.uk/mmz4281/9900/F1.csv\n",
    "print('reading', datafile_url)\n",
    "df = pd.read_csv(datafile_url, parse_dates=['Date'], dayfirst=True)\n",
    "df = df.dropna(axis=1,how='all')\n",
    "df['country'] = country\n",
    "df['url'] = datafile_url\n",
    "filename = \\\n",
    "    country                           \\\n",
    "    + '_'                             \\\n",
    "    + datafile_url                    \\\n",
    "    .split('football-data.co.uk/')[1] \\\n",
    "    .replace('/', '_')                \\\n",
    "    .split('.')[0]                    \\\n",
    "    + '.csv'                          \\\n",
    "    .lower()\n",
    "\n",
    "print('filename=', filename)"
   ]
  },
  {
   "cell_type": "code",
   "execution_count": 7,
   "id": "facbc7a5-2983-43ef-9950-fd47fc8b54e8",
   "metadata": {},
   "outputs": [
    {
     "name": "stdout",
     "output_type": "stream",
     "text": [
      "england has 148 urls\n",
      "reading https://www.football-data.co.uk/mmz4281/1718/E3.csv\n",
      "reading https://www.football-data.co.uk/mmz4281/0102/E3.csv\n"
     ]
    },
    {
     "name": "stderr",
     "output_type": "stream",
     "text": [
      "/var/folders/xn/jj94n4tj5w90v1m3njdf44n80000gp/T/ipykernel_98487/1440073136.py:28: UserWarning: Could not infer format, so each element will be parsed individually, falling back to `dateutil`. To ensure parsing is consistent and as-expected, please specify a format.\n",
      "  df = pd.read_csv(\n"
     ]
    },
    {
     "name": "stdout",
     "output_type": "stream",
     "text": [
      "reading https://www.football-data.co.uk/mmz4281/1415/E0.csv\n"
     ]
    },
    {
     "name": "stderr",
     "output_type": "stream",
     "text": [
      "/var/folders/xn/jj94n4tj5w90v1m3njdf44n80000gp/T/ipykernel_98487/1440073136.py:28: UserWarning: Could not infer format, so each element will be parsed individually, falling back to `dateutil`. To ensure parsing is consistent and as-expected, please specify a format.\n",
      "  df = pd.read_csv(\n"
     ]
    },
    {
     "name": "stdout",
     "output_type": "stream",
     "text": [
      "reading https://www.football-data.co.uk/mmz4281/0708/E0.csv\n"
     ]
    },
    {
     "name": "stderr",
     "output_type": "stream",
     "text": [
      "/var/folders/xn/jj94n4tj5w90v1m3njdf44n80000gp/T/ipykernel_98487/1440073136.py:28: UserWarning: Could not infer format, so each element will be parsed individually, falling back to `dateutil`. To ensure parsing is consistent and as-expected, please specify a format.\n",
      "  df = pd.read_csv(\n"
     ]
    },
    {
     "name": "stdout",
     "output_type": "stream",
     "text": [
      "reading https://www.football-data.co.uk/mmz4281/1213/E2.csv\n"
     ]
    },
    {
     "name": "stderr",
     "output_type": "stream",
     "text": [
      "/var/folders/xn/jj94n4tj5w90v1m3njdf44n80000gp/T/ipykernel_98487/1440073136.py:28: UserWarning: Could not infer format, so each element will be parsed individually, falling back to `dateutil`. To ensure parsing is consistent and as-expected, please specify a format.\n",
      "  df = pd.read_csv(\n"
     ]
    },
    {
     "name": "stdout",
     "output_type": "stream",
     "text": [
      "reading https://www.football-data.co.uk/mmz4281/1516/E0.csv\n",
      "reading https://www.football-data.co.uk/mmz4281/0304/E2.csv\n"
     ]
    },
    {
     "name": "stderr",
     "output_type": "stream",
     "text": [
      "/var/folders/xn/jj94n4tj5w90v1m3njdf44n80000gp/T/ipykernel_98487/1440073136.py:28: UserWarning: Could not infer format, so each element will be parsed individually, falling back to `dateutil`. To ensure parsing is consistent and as-expected, please specify a format.\n",
      "  df = pd.read_csv(\n"
     ]
    },
    {
     "name": "stdout",
     "output_type": "stream",
     "text": [
      "reading https://www.football-data.co.uk/mmz4281/2324/E0.csv\n",
      "reading https://www.football-data.co.uk/mmz4281/9495/E1.csv\n"
     ]
    },
    {
     "name": "stderr",
     "output_type": "stream",
     "text": [
      "/var/folders/xn/jj94n4tj5w90v1m3njdf44n80000gp/T/ipykernel_98487/1440073136.py:28: UserWarning: Could not infer format, so each element will be parsed individually, falling back to `dateutil`. To ensure parsing is consistent and as-expected, please specify a format.\n",
      "  df = pd.read_csv(\n"
     ]
    },
    {
     "name": "stdout",
     "output_type": "stream",
     "text": [
      "reading https://www.football-data.co.uk/mmz4281/0708/E3.csv\n"
     ]
    },
    {
     "name": "stderr",
     "output_type": "stream",
     "text": [
      "/var/folders/xn/jj94n4tj5w90v1m3njdf44n80000gp/T/ipykernel_98487/1440073136.py:28: UserWarning: Could not infer format, so each element will be parsed individually, falling back to `dateutil`. To ensure parsing is consistent and as-expected, please specify a format.\n",
      "  df = pd.read_csv(\n"
     ]
    },
    {
     "name": "stdout",
     "output_type": "stream",
     "text": [
      "reading https://www.football-data.co.uk/mmz4281/0910/E2.csv\n"
     ]
    },
    {
     "name": "stderr",
     "output_type": "stream",
     "text": [
      "/var/folders/xn/jj94n4tj5w90v1m3njdf44n80000gp/T/ipykernel_98487/1440073136.py:28: UserWarning: Could not infer format, so each element will be parsed individually, falling back to `dateutil`. To ensure parsing is consistent and as-expected, please specify a format.\n",
      "  df = pd.read_csv(\n"
     ]
    },
    {
     "name": "stdout",
     "output_type": "stream",
     "text": [
      "reading https://www.football-data.co.uk/mmz4281/1415/EC.csv\n"
     ]
    },
    {
     "name": "stderr",
     "output_type": "stream",
     "text": [
      "/var/folders/xn/jj94n4tj5w90v1m3njdf44n80000gp/T/ipykernel_98487/1440073136.py:28: UserWarning: Could not infer format, so each element will be parsed individually, falling back to `dateutil`. To ensure parsing is consistent and as-expected, please specify a format.\n",
      "  df = pd.read_csv(\n"
     ]
    },
    {
     "name": "stdout",
     "output_type": "stream",
     "text": [
      "reading https://www.football-data.co.uk/mmz4281/2122/E1.csv\n",
      "reading https://www.football-data.co.uk/mmz4281/9798/E0.csv\n",
      "reading https://www.football-data.co.uk/mmz4281/9899/E2.csv\n"
     ]
    },
    {
     "name": "stderr",
     "output_type": "stream",
     "text": [
      "/var/folders/xn/jj94n4tj5w90v1m3njdf44n80000gp/T/ipykernel_98487/1440073136.py:28: UserWarning: Could not infer format, so each element will be parsed individually, falling back to `dateutil`. To ensure parsing is consistent and as-expected, please specify a format.\n",
      "  df = pd.read_csv(\n",
      "/var/folders/xn/jj94n4tj5w90v1m3njdf44n80000gp/T/ipykernel_98487/1440073136.py:28: UserWarning: Could not infer format, so each element will be parsed individually, falling back to `dateutil`. To ensure parsing is consistent and as-expected, please specify a format.\n",
      "  df = pd.read_csv(\n"
     ]
    },
    {
     "name": "stdout",
     "output_type": "stream",
     "text": [
      "reading https://www.football-data.co.uk/mmz4281/0910/E3.csv\n"
     ]
    },
    {
     "name": "stderr",
     "output_type": "stream",
     "text": [
      "/var/folders/xn/jj94n4tj5w90v1m3njdf44n80000gp/T/ipykernel_98487/1440073136.py:28: UserWarning: Could not infer format, so each element will be parsed individually, falling back to `dateutil`. To ensure parsing is consistent and as-expected, please specify a format.\n",
      "  df = pd.read_csv(\n"
     ]
    },
    {
     "name": "stdout",
     "output_type": "stream",
     "text": [
      "reading https://www.football-data.co.uk/mmz4281/0203/E1.csv\n"
     ]
    },
    {
     "name": "stderr",
     "output_type": "stream",
     "text": [
      "/var/folders/xn/jj94n4tj5w90v1m3njdf44n80000gp/T/ipykernel_98487/1440073136.py:28: UserWarning: Could not infer format, so each element will be parsed individually, falling back to `dateutil`. To ensure parsing is consistent and as-expected, please specify a format.\n",
      "  df = pd.read_csv(\n"
     ]
    },
    {
     "name": "stdout",
     "output_type": "stream",
     "text": [
      "reading https://www.football-data.co.uk/mmz4281/0708/E2.csv\n"
     ]
    },
    {
     "name": "stderr",
     "output_type": "stream",
     "text": [
      "/var/folders/xn/jj94n4tj5w90v1m3njdf44n80000gp/T/ipykernel_98487/1440073136.py:28: UserWarning: Could not infer format, so each element will be parsed individually, falling back to `dateutil`. To ensure parsing is consistent and as-expected, please specify a format.\n",
      "  df = pd.read_csv(\n"
     ]
    },
    {
     "name": "stdout",
     "output_type": "stream",
     "text": [
      "reading https://www.football-data.co.uk/mmz4281/0405/E1.csv\n"
     ]
    },
    {
     "name": "stderr",
     "output_type": "stream",
     "text": [
      "/var/folders/xn/jj94n4tj5w90v1m3njdf44n80000gp/T/ipykernel_98487/1440073136.py:28: UserWarning: Could not infer format, so each element will be parsed individually, falling back to `dateutil`. To ensure parsing is consistent and as-expected, please specify a format.\n",
      "  df = pd.read_csv(\n"
     ]
    },
    {
     "name": "stdout",
     "output_type": "stream",
     "text": [
      "reading https://www.football-data.co.uk/mmz4281/9394/E1.csv\n"
     ]
    },
    {
     "name": "stderr",
     "output_type": "stream",
     "text": [
      "/var/folders/xn/jj94n4tj5w90v1m3njdf44n80000gp/T/ipykernel_98487/1440073136.py:28: UserWarning: Could not infer format, so each element will be parsed individually, falling back to `dateutil`. To ensure parsing is consistent and as-expected, please specify a format.\n",
      "  df = pd.read_csv(\n"
     ]
    },
    {
     "name": "stdout",
     "output_type": "stream",
     "text": [
      "reading https://www.football-data.co.uk/mmz4281/2021/E2.csv\n",
      "reading https://www.football-data.co.uk/mmz4281/2021/E0.csv\n",
      "reading https://www.football-data.co.uk/mmz4281/0203/E3.csv\n"
     ]
    },
    {
     "name": "stderr",
     "output_type": "stream",
     "text": [
      "/var/folders/xn/jj94n4tj5w90v1m3njdf44n80000gp/T/ipykernel_98487/1440073136.py:28: UserWarning: Could not infer format, so each element will be parsed individually, falling back to `dateutil`. To ensure parsing is consistent and as-expected, please specify a format.\n",
      "  df = pd.read_csv(\n"
     ]
    },
    {
     "name": "stdout",
     "output_type": "stream",
     "text": [
      "reading https://www.football-data.co.uk/mmz4281/9697/E3.csv\n"
     ]
    },
    {
     "name": "stderr",
     "output_type": "stream",
     "text": [
      "/var/folders/xn/jj94n4tj5w90v1m3njdf44n80000gp/T/ipykernel_98487/1440073136.py:28: UserWarning: Could not infer format, so each element will be parsed individually, falling back to `dateutil`. To ensure parsing is consistent and as-expected, please specify a format.\n",
      "  df = pd.read_csv(\n"
     ]
    },
    {
     "name": "stdout",
     "output_type": "stream",
     "text": [
      "reading https://www.football-data.co.uk/mmz4281/0304/E1.csv\n"
     ]
    },
    {
     "name": "stderr",
     "output_type": "stream",
     "text": [
      "/var/folders/xn/jj94n4tj5w90v1m3njdf44n80000gp/T/ipykernel_98487/1440073136.py:28: UserWarning: Could not infer format, so each element will be parsed individually, falling back to `dateutil`. To ensure parsing is consistent and as-expected, please specify a format.\n",
      "  df = pd.read_csv(\n"
     ]
    },
    {
     "name": "stdout",
     "output_type": "stream",
     "text": [
      "reading https://www.football-data.co.uk/mmz4281/1516/E1.csv\n"
     ]
    },
    {
     "name": "stderr",
     "output_type": "stream",
     "text": [
      "/var/folders/xn/jj94n4tj5w90v1m3njdf44n80000gp/T/ipykernel_98487/1440073136.py:28: UserWarning: Could not infer format, so each element will be parsed individually, falling back to `dateutil`. To ensure parsing is consistent and as-expected, please specify a format.\n",
      "  df = pd.read_csv(\n"
     ]
    },
    {
     "name": "stdout",
     "output_type": "stream",
     "text": [
      "reading https://www.football-data.co.uk/mmz4281/0910/EC.csv\n"
     ]
    },
    {
     "name": "stderr",
     "output_type": "stream",
     "text": [
      "/var/folders/xn/jj94n4tj5w90v1m3njdf44n80000gp/T/ipykernel_98487/1440073136.py:28: UserWarning: Could not infer format, so each element will be parsed individually, falling back to `dateutil`. To ensure parsing is consistent and as-expected, please specify a format.\n",
      "  df = pd.read_csv(\n"
     ]
    },
    {
     "name": "stdout",
     "output_type": "stream",
     "text": [
      "reading https://www.football-data.co.uk/mmz4281/2425/E0.csv\n",
      "reading https://www.football-data.co.uk/mmz4281/0506/E2.csv\n"
     ]
    },
    {
     "name": "stderr",
     "output_type": "stream",
     "text": [
      "/var/folders/xn/jj94n4tj5w90v1m3njdf44n80000gp/T/ipykernel_98487/1440073136.py:28: UserWarning: Could not infer format, so each element will be parsed individually, falling back to `dateutil`. To ensure parsing is consistent and as-expected, please specify a format.\n",
      "  df = pd.read_csv(\n"
     ]
    },
    {
     "name": "stdout",
     "output_type": "stream",
     "text": [
      "reading https://www.football-data.co.uk/mmz4281/1516/EC.csv\n"
     ]
    },
    {
     "name": "stderr",
     "output_type": "stream",
     "text": [
      "/var/folders/xn/jj94n4tj5w90v1m3njdf44n80000gp/T/ipykernel_98487/1440073136.py:28: UserWarning: Could not infer format, so each element will be parsed individually, falling back to `dateutil`. To ensure parsing is consistent and as-expected, please specify a format.\n",
      "  df = pd.read_csv(\n"
     ]
    },
    {
     "name": "stdout",
     "output_type": "stream",
     "text": [
      "reading https://www.football-data.co.uk/mmz4281/0607/E0.csv\n"
     ]
    },
    {
     "name": "stderr",
     "output_type": "stream",
     "text": [
      "/var/folders/xn/jj94n4tj5w90v1m3njdf44n80000gp/T/ipykernel_98487/1440073136.py:28: UserWarning: Could not infer format, so each element will be parsed individually, falling back to `dateutil`. To ensure parsing is consistent and as-expected, please specify a format.\n",
      "  df = pd.read_csv(\n"
     ]
    },
    {
     "name": "stdout",
     "output_type": "stream",
     "text": [
      "reading https://www.football-data.co.uk/mmz4281/2324/E1.csv\n",
      "reading https://www.football-data.co.uk/mmz4281/2223/E0.csv\n",
      "reading https://www.football-data.co.uk/mmz4281/2223/E3.csv\n",
      "reading https://www.football-data.co.uk/mmz4281/1314/E2.csv\n"
     ]
    },
    {
     "name": "stderr",
     "output_type": "stream",
     "text": [
      "/var/folders/xn/jj94n4tj5w90v1m3njdf44n80000gp/T/ipykernel_98487/1440073136.py:28: UserWarning: Could not infer format, so each element will be parsed individually, falling back to `dateutil`. To ensure parsing is consistent and as-expected, please specify a format.\n",
      "  df = pd.read_csv(\n"
     ]
    },
    {
     "name": "stdout",
     "output_type": "stream",
     "text": [
      "reading https://www.football-data.co.uk/mmz4281/9899/E1.csv\n"
     ]
    },
    {
     "name": "stderr",
     "output_type": "stream",
     "text": [
      "/var/folders/xn/jj94n4tj5w90v1m3njdf44n80000gp/T/ipykernel_98487/1440073136.py:28: UserWarning: Could not infer format, so each element will be parsed individually, falling back to `dateutil`. To ensure parsing is consistent and as-expected, please specify a format.\n",
      "  df = pd.read_csv(\n"
     ]
    },
    {
     "name": "stdout",
     "output_type": "stream",
     "text": [
      "reading https://www.football-data.co.uk/mmz4281/1112/E3.csv\n"
     ]
    },
    {
     "name": "stderr",
     "output_type": "stream",
     "text": [
      "/var/folders/xn/jj94n4tj5w90v1m3njdf44n80000gp/T/ipykernel_98487/1440073136.py:28: UserWarning: Could not infer format, so each element will be parsed individually, falling back to `dateutil`. To ensure parsing is consistent and as-expected, please specify a format.\n",
      "  df = pd.read_csv(\n"
     ]
    },
    {
     "name": "stdout",
     "output_type": "stream",
     "text": [
      "reading https://www.football-data.co.uk/mmz4281/2021/EC.csv\n",
      "reading/parsing csv file content failed with encoding utf-8: 'utf-8' codec can't decode byte 0x92 in position 4615: invalid start byte\n",
      "reading https://www.football-data.co.uk/mmz4281/1617/E0.csv\n"
     ]
    },
    {
     "name": "stderr",
     "output_type": "stream",
     "text": [
      "/var/folders/xn/jj94n4tj5w90v1m3njdf44n80000gp/T/ipykernel_98487/1440073136.py:28: UserWarning: Could not infer format, so each element will be parsed individually, falling back to `dateutil`. To ensure parsing is consistent and as-expected, please specify a format.\n",
      "  df = pd.read_csv(\n"
     ]
    },
    {
     "name": "stdout",
     "output_type": "stream",
     "text": [
      "reading https://www.football-data.co.uk/mmz4281/0708/EC.csv\n"
     ]
    },
    {
     "name": "stderr",
     "output_type": "stream",
     "text": [
      "/var/folders/xn/jj94n4tj5w90v1m3njdf44n80000gp/T/ipykernel_98487/1440073136.py:28: UserWarning: Could not infer format, so each element will be parsed individually, falling back to `dateutil`. To ensure parsing is consistent and as-expected, please specify a format.\n",
      "  df = pd.read_csv(\n"
     ]
    },
    {
     "name": "stdout",
     "output_type": "stream",
     "text": [
      "reading https://www.football-data.co.uk/mmz4281/0405/E0.csv\n"
     ]
    },
    {
     "name": "stderr",
     "output_type": "stream",
     "text": [
      "/var/folders/xn/jj94n4tj5w90v1m3njdf44n80000gp/T/ipykernel_98487/1440073136.py:28: UserWarning: Could not infer format, so each element will be parsed individually, falling back to `dateutil`. To ensure parsing is consistent and as-expected, please specify a format.\n",
      "  df = pd.read_csv(\n"
     ]
    },
    {
     "name": "stdout",
     "output_type": "stream",
     "text": [
      "reading https://www.football-data.co.uk/mmz4281/1920/E0.csv\n",
      "reading https://www.football-data.co.uk/mmz4281/9394/E3.csv\n"
     ]
    },
    {
     "name": "stderr",
     "output_type": "stream",
     "text": [
      "/var/folders/xn/jj94n4tj5w90v1m3njdf44n80000gp/T/ipykernel_98487/1440073136.py:28: UserWarning: Could not infer format, so each element will be parsed individually, falling back to `dateutil`. To ensure parsing is consistent and as-expected, please specify a format.\n",
      "  df = pd.read_csv(\n"
     ]
    },
    {
     "name": "stdout",
     "output_type": "stream",
     "text": [
      "reading https://www.football-data.co.uk/mmz4281/0203/E2.csv\n"
     ]
    },
    {
     "name": "stderr",
     "output_type": "stream",
     "text": [
      "/var/folders/xn/jj94n4tj5w90v1m3njdf44n80000gp/T/ipykernel_98487/1440073136.py:28: UserWarning: Could not infer format, so each element will be parsed individually, falling back to `dateutil`. To ensure parsing is consistent and as-expected, please specify a format.\n",
      "  df = pd.read_csv(\n"
     ]
    },
    {
     "name": "stdout",
     "output_type": "stream",
     "text": [
      "reading https://www.football-data.co.uk/mmz4281/0102/E2.csv\n"
     ]
    },
    {
     "name": "stderr",
     "output_type": "stream",
     "text": [
      "/var/folders/xn/jj94n4tj5w90v1m3njdf44n80000gp/T/ipykernel_98487/1440073136.py:28: UserWarning: Could not infer format, so each element will be parsed individually, falling back to `dateutil`. To ensure parsing is consistent and as-expected, please specify a format.\n",
      "  df = pd.read_csv(\n"
     ]
    },
    {
     "name": "stdout",
     "output_type": "stream",
     "text": [
      "reading https://www.football-data.co.uk/mmz4281/2425/E3.csv\n",
      "reading https://www.football-data.co.uk/mmz4281/0607/E2.csv\n"
     ]
    },
    {
     "name": "stderr",
     "output_type": "stream",
     "text": [
      "/var/folders/xn/jj94n4tj5w90v1m3njdf44n80000gp/T/ipykernel_98487/1440073136.py:28: UserWarning: Could not infer format, so each element will be parsed individually, falling back to `dateutil`. To ensure parsing is consistent and as-expected, please specify a format.\n",
      "  df = pd.read_csv(\n"
     ]
    },
    {
     "name": "stdout",
     "output_type": "stream",
     "text": [
      "reading https://www.football-data.co.uk/mmz4281/2425/EC.csv\n",
      "reading https://www.football-data.co.uk/mmz4281/9798/E2.csv\n"
     ]
    },
    {
     "name": "stderr",
     "output_type": "stream",
     "text": [
      "/var/folders/xn/jj94n4tj5w90v1m3njdf44n80000gp/T/ipykernel_98487/1440073136.py:28: UserWarning: Could not infer format, so each element will be parsed individually, falling back to `dateutil`. To ensure parsing is consistent and as-expected, please specify a format.\n",
      "  df = pd.read_csv(\n"
     ]
    },
    {
     "name": "stdout",
     "output_type": "stream",
     "text": [
      "reading https://www.football-data.co.uk/mmz4281/1314/EC.csv\n"
     ]
    },
    {
     "name": "stderr",
     "output_type": "stream",
     "text": [
      "/var/folders/xn/jj94n4tj5w90v1m3njdf44n80000gp/T/ipykernel_98487/1440073136.py:28: UserWarning: Could not infer format, so each element will be parsed individually, falling back to `dateutil`. To ensure parsing is consistent and as-expected, please specify a format.\n",
      "  df = pd.read_csv(\n"
     ]
    },
    {
     "name": "stdout",
     "output_type": "stream",
     "text": [
      "reading https://www.football-data.co.uk/mmz4281/9900/E3.csv\n"
     ]
    },
    {
     "name": "stderr",
     "output_type": "stream",
     "text": [
      "/var/folders/xn/jj94n4tj5w90v1m3njdf44n80000gp/T/ipykernel_98487/1440073136.py:28: UserWarning: Could not infer format, so each element will be parsed individually, falling back to `dateutil`. To ensure parsing is consistent and as-expected, please specify a format.\n",
      "  df = pd.read_csv(\n"
     ]
    },
    {
     "name": "stdout",
     "output_type": "stream",
     "text": [
      "reading https://www.football-data.co.uk/mmz4281/1617/E1.csv\n"
     ]
    },
    {
     "name": "stderr",
     "output_type": "stream",
     "text": [
      "/var/folders/xn/jj94n4tj5w90v1m3njdf44n80000gp/T/ipykernel_98487/1440073136.py:28: UserWarning: Could not infer format, so each element will be parsed individually, falling back to `dateutil`. To ensure parsing is consistent and as-expected, please specify a format.\n",
      "  df = pd.read_csv(\n"
     ]
    },
    {
     "name": "stdout",
     "output_type": "stream",
     "text": [
      "reading https://www.football-data.co.uk/mmz4281/1617/E2.csv\n"
     ]
    },
    {
     "name": "stderr",
     "output_type": "stream",
     "text": [
      "/var/folders/xn/jj94n4tj5w90v1m3njdf44n80000gp/T/ipykernel_98487/1440073136.py:28: UserWarning: Could not infer format, so each element will be parsed individually, falling back to `dateutil`. To ensure parsing is consistent and as-expected, please specify a format.\n",
      "  df = pd.read_csv(\n"
     ]
    },
    {
     "name": "stdout",
     "output_type": "stream",
     "text": [
      "reading https://www.football-data.co.uk/mmz4281/1718/E0.csv\n",
      "reading https://www.football-data.co.uk/mmz4281/1415/E3.csv\n"
     ]
    },
    {
     "name": "stderr",
     "output_type": "stream",
     "text": [
      "/var/folders/xn/jj94n4tj5w90v1m3njdf44n80000gp/T/ipykernel_98487/1440073136.py:28: UserWarning: Could not infer format, so each element will be parsed individually, falling back to `dateutil`. To ensure parsing is consistent and as-expected, please specify a format.\n",
      "  df = pd.read_csv(\n"
     ]
    },
    {
     "name": "stdout",
     "output_type": "stream",
     "text": [
      "reading https://www.football-data.co.uk/mmz4281/0304/E0.csv\n"
     ]
    },
    {
     "name": "stderr",
     "output_type": "stream",
     "text": [
      "/var/folders/xn/jj94n4tj5w90v1m3njdf44n80000gp/T/ipykernel_98487/1440073136.py:28: UserWarning: Could not infer format, so each element will be parsed individually, falling back to `dateutil`. To ensure parsing is consistent and as-expected, please specify a format.\n",
      "  df = pd.read_csv(\n"
     ]
    },
    {
     "name": "stdout",
     "output_type": "stream",
     "text": [
      "reading https://www.football-data.co.uk/mmz4281/1516/E3.csv\n"
     ]
    },
    {
     "name": "stderr",
     "output_type": "stream",
     "text": [
      "/var/folders/xn/jj94n4tj5w90v1m3njdf44n80000gp/T/ipykernel_98487/1440073136.py:28: UserWarning: Could not infer format, so each element will be parsed individually, falling back to `dateutil`. To ensure parsing is consistent and as-expected, please specify a format.\n",
      "  df = pd.read_csv(\n"
     ]
    },
    {
     "name": "stdout",
     "output_type": "stream",
     "text": [
      "reading https://www.football-data.co.uk/mmz4281/1011/E2.csv\n"
     ]
    },
    {
     "name": "stderr",
     "output_type": "stream",
     "text": [
      "/var/folders/xn/jj94n4tj5w90v1m3njdf44n80000gp/T/ipykernel_98487/1440073136.py:28: UserWarning: Could not infer format, so each element will be parsed individually, falling back to `dateutil`. To ensure parsing is consistent and as-expected, please specify a format.\n",
      "  df = pd.read_csv(\n"
     ]
    },
    {
     "name": "stdout",
     "output_type": "stream",
     "text": [
      "reading https://www.football-data.co.uk/mmz4281/2324/E3.csv\n",
      "reading https://www.football-data.co.uk/mmz4281/0102/E0.csv\n"
     ]
    },
    {
     "name": "stderr",
     "output_type": "stream",
     "text": [
      "/var/folders/xn/jj94n4tj5w90v1m3njdf44n80000gp/T/ipykernel_98487/1440073136.py:28: UserWarning: Could not infer format, so each element will be parsed individually, falling back to `dateutil`. To ensure parsing is consistent and as-expected, please specify a format.\n",
      "  df = pd.read_csv(\n"
     ]
    },
    {
     "name": "stdout",
     "output_type": "stream",
     "text": [
      "reading https://www.football-data.co.uk/mmz4281/1819/EC.csv\n",
      "reading https://www.football-data.co.uk/mmz4281/1718/E1.csv\n"
     ]
    },
    {
     "name": "stderr",
     "output_type": "stream",
     "text": [
      "/var/folders/xn/jj94n4tj5w90v1m3njdf44n80000gp/T/ipykernel_98487/1440073136.py:28: UserWarning: Could not infer format, so each element will be parsed individually, falling back to `dateutil`. To ensure parsing is consistent and as-expected, please specify a format.\n",
      "  df = pd.read_csv(\n"
     ]
    },
    {
     "name": "stdout",
     "output_type": "stream",
     "text": [
      "reading https://www.football-data.co.uk/mmz4281/1718/E2.csv\n"
     ]
    },
    {
     "name": "stderr",
     "output_type": "stream",
     "text": [
      "/var/folders/xn/jj94n4tj5w90v1m3njdf44n80000gp/T/ipykernel_98487/1440073136.py:28: UserWarning: Could not infer format, so each element will be parsed individually, falling back to `dateutil`. To ensure parsing is consistent and as-expected, please specify a format.\n",
      "  df = pd.read_csv(\n"
     ]
    },
    {
     "name": "stdout",
     "output_type": "stream",
     "text": [
      "reading https://www.football-data.co.uk/mmz4281/0809/EC.csv\n"
     ]
    },
    {
     "name": "stderr",
     "output_type": "stream",
     "text": [
      "/var/folders/xn/jj94n4tj5w90v1m3njdf44n80000gp/T/ipykernel_98487/1440073136.py:28: UserWarning: Could not infer format, so each element will be parsed individually, falling back to `dateutil`. To ensure parsing is consistent and as-expected, please specify a format.\n",
      "  df = pd.read_csv(\n"
     ]
    },
    {
     "name": "stdout",
     "output_type": "stream",
     "text": [
      "reading https://www.football-data.co.uk/mmz4281/9798/E3.csv\n"
     ]
    },
    {
     "name": "stderr",
     "output_type": "stream",
     "text": [
      "/var/folders/xn/jj94n4tj5w90v1m3njdf44n80000gp/T/ipykernel_98487/1440073136.py:28: UserWarning: Could not infer format, so each element will be parsed individually, falling back to `dateutil`. To ensure parsing is consistent and as-expected, please specify a format.\n",
      "  df = pd.read_csv(\n"
     ]
    },
    {
     "name": "stdout",
     "output_type": "stream",
     "text": [
      "reading https://www.football-data.co.uk/mmz4281/1011/E3.csv\n"
     ]
    },
    {
     "name": "stderr",
     "output_type": "stream",
     "text": [
      "/var/folders/xn/jj94n4tj5w90v1m3njdf44n80000gp/T/ipykernel_98487/1440073136.py:28: UserWarning: Could not infer format, so each element will be parsed individually, falling back to `dateutil`. To ensure parsing is consistent and as-expected, please specify a format.\n",
      "  df = pd.read_csv(\n"
     ]
    },
    {
     "name": "stdout",
     "output_type": "stream",
     "text": [
      "reading https://www.football-data.co.uk/mmz4281/1516/E2.csv\n"
     ]
    },
    {
     "name": "stderr",
     "output_type": "stream",
     "text": [
      "/var/folders/xn/jj94n4tj5w90v1m3njdf44n80000gp/T/ipykernel_98487/1440073136.py:28: UserWarning: Could not infer format, so each element will be parsed individually, falling back to `dateutil`. To ensure parsing is consistent and as-expected, please specify a format.\n",
      "  df = pd.read_csv(\n"
     ]
    },
    {
     "name": "stdout",
     "output_type": "stream",
     "text": [
      "reading https://www.football-data.co.uk/mmz4281/1920/E2.csv\n",
      "reading https://www.football-data.co.uk/mmz4281/1314/E3.csv\n"
     ]
    },
    {
     "name": "stderr",
     "output_type": "stream",
     "text": [
      "/var/folders/xn/jj94n4tj5w90v1m3njdf44n80000gp/T/ipykernel_98487/1440073136.py:28: UserWarning: Could not infer format, so each element will be parsed individually, falling back to `dateutil`. To ensure parsing is consistent and as-expected, please specify a format.\n",
      "  df = pd.read_csv(\n"
     ]
    },
    {
     "name": "stdout",
     "output_type": "stream",
     "text": [
      "reading https://www.football-data.co.uk/mmz4281/0607/EC.csv\n"
     ]
    },
    {
     "name": "stderr",
     "output_type": "stream",
     "text": [
      "/var/folders/xn/jj94n4tj5w90v1m3njdf44n80000gp/T/ipykernel_98487/1440073136.py:28: UserWarning: Could not infer format, so each element will be parsed individually, falling back to `dateutil`. To ensure parsing is consistent and as-expected, please specify a format.\n",
      "  df = pd.read_csv(\n"
     ]
    },
    {
     "name": "stdout",
     "output_type": "stream",
     "text": [
      "reading https://www.football-data.co.uk/mmz4281/9900/E2.csv\n"
     ]
    },
    {
     "name": "stderr",
     "output_type": "stream",
     "text": [
      "/var/folders/xn/jj94n4tj5w90v1m3njdf44n80000gp/T/ipykernel_98487/1440073136.py:28: UserWarning: Could not infer format, so each element will be parsed individually, falling back to `dateutil`. To ensure parsing is consistent and as-expected, please specify a format.\n",
      "  df = pd.read_csv(\n"
     ]
    },
    {
     "name": "stdout",
     "output_type": "stream",
     "text": [
      "reading https://www.football-data.co.uk/mmz4281/0809/E0.csv\n"
     ]
    },
    {
     "name": "stderr",
     "output_type": "stream",
     "text": [
      "/var/folders/xn/jj94n4tj5w90v1m3njdf44n80000gp/T/ipykernel_98487/1440073136.py:28: UserWarning: Could not infer format, so each element will be parsed individually, falling back to `dateutil`. To ensure parsing is consistent and as-expected, please specify a format.\n",
      "  df = pd.read_csv(\n"
     ]
    },
    {
     "name": "stdout",
     "output_type": "stream",
     "text": [
      "reading https://www.football-data.co.uk/mmz4281/1112/E1.csv\n"
     ]
    },
    {
     "name": "stderr",
     "output_type": "stream",
     "text": [
      "/var/folders/xn/jj94n4tj5w90v1m3njdf44n80000gp/T/ipykernel_98487/1440073136.py:28: UserWarning: Could not infer format, so each element will be parsed individually, falling back to `dateutil`. To ensure parsing is consistent and as-expected, please specify a format.\n",
      "  df = pd.read_csv(\n"
     ]
    },
    {
     "name": "stdout",
     "output_type": "stream",
     "text": [
      "reading https://www.football-data.co.uk/mmz4281/1819/E3.csv\n",
      "reading https://www.football-data.co.uk/mmz4281/9596/E2.csv\n"
     ]
    },
    {
     "name": "stderr",
     "output_type": "stream",
     "text": [
      "/var/folders/xn/jj94n4tj5w90v1m3njdf44n80000gp/T/ipykernel_98487/1440073136.py:28: UserWarning: Could not infer format, so each element will be parsed individually, falling back to `dateutil`. To ensure parsing is consistent and as-expected, please specify a format.\n",
      "  df = pd.read_csv(\n"
     ]
    },
    {
     "name": "stdout",
     "output_type": "stream",
     "text": [
      "reading https://www.football-data.co.uk/mmz4281/2021/E1.csv\n",
      "reading https://www.football-data.co.uk/mmz4281/1819/E2.csv\n",
      "reading https://www.football-data.co.uk/mmz4281/2122/E2.csv\n",
      "reading https://www.football-data.co.uk/mmz4281/9697/E1.csv\n"
     ]
    },
    {
     "name": "stderr",
     "output_type": "stream",
     "text": [
      "/var/folders/xn/jj94n4tj5w90v1m3njdf44n80000gp/T/ipykernel_98487/1440073136.py:28: UserWarning: Could not infer format, so each element will be parsed individually, falling back to `dateutil`. To ensure parsing is consistent and as-expected, please specify a format.\n",
      "  df = pd.read_csv(\n"
     ]
    },
    {
     "name": "stdout",
     "output_type": "stream",
     "text": [
      "reading https://www.football-data.co.uk/mmz4281/9697/E2.csv\n"
     ]
    },
    {
     "name": "stderr",
     "output_type": "stream",
     "text": [
      "/var/folders/xn/jj94n4tj5w90v1m3njdf44n80000gp/T/ipykernel_98487/1440073136.py:28: UserWarning: Could not infer format, so each element will be parsed individually, falling back to `dateutil`. To ensure parsing is consistent and as-expected, please specify a format.\n",
      "  df = pd.read_csv(\n"
     ]
    },
    {
     "name": "stdout",
     "output_type": "stream",
     "text": [
      "reading https://www.football-data.co.uk/mmz4281/2122/E0.csv\n",
      "reading https://www.football-data.co.uk/mmz4281/1112/E2.csv\n"
     ]
    },
    {
     "name": "stderr",
     "output_type": "stream",
     "text": [
      "/var/folders/xn/jj94n4tj5w90v1m3njdf44n80000gp/T/ipykernel_98487/1440073136.py:28: UserWarning: Could not infer format, so each element will be parsed individually, falling back to `dateutil`. To ensure parsing is consistent and as-expected, please specify a format.\n",
      "  df = pd.read_csv(\n"
     ]
    },
    {
     "name": "stdout",
     "output_type": "stream",
     "text": [
      "reading https://www.football-data.co.uk/mmz4281/1920/EC.csv\n",
      "reading https://www.football-data.co.uk/mmz4281/0607/E1.csv\n"
     ]
    },
    {
     "name": "stderr",
     "output_type": "stream",
     "text": [
      "/var/folders/xn/jj94n4tj5w90v1m3njdf44n80000gp/T/ipykernel_98487/1440073136.py:28: UserWarning: Could not infer format, so each element will be parsed individually, falling back to `dateutil`. To ensure parsing is consistent and as-expected, please specify a format.\n",
      "  df = pd.read_csv(\n"
     ]
    },
    {
     "name": "stdout",
     "output_type": "stream",
     "text": [
      "reading https://www.football-data.co.uk/mmz4281/1112/EC.csv\n"
     ]
    },
    {
     "name": "stderr",
     "output_type": "stream",
     "text": [
      "/var/folders/xn/jj94n4tj5w90v1m3njdf44n80000gp/T/ipykernel_98487/1440073136.py:28: UserWarning: Could not infer format, so each element will be parsed individually, falling back to `dateutil`. To ensure parsing is consistent and as-expected, please specify a format.\n",
      "  df = pd.read_csv(\n"
     ]
    },
    {
     "name": "stdout",
     "output_type": "stream",
     "text": [
      "reading https://www.football-data.co.uk/mmz4281/2021/E3.csv\n",
      "reading https://www.football-data.co.uk/mmz4281/9495/E0.csv\n"
     ]
    },
    {
     "name": "stderr",
     "output_type": "stream",
     "text": [
      "/var/folders/xn/jj94n4tj5w90v1m3njdf44n80000gp/T/ipykernel_98487/1440073136.py:28: UserWarning: Could not infer format, so each element will be parsed individually, falling back to `dateutil`. To ensure parsing is consistent and as-expected, please specify a format.\n",
      "  df = pd.read_csv(\n"
     ]
    },
    {
     "name": "stdout",
     "output_type": "stream",
     "text": [
      "reading https://www.football-data.co.uk/mmz4281/0304/E3.csv\n"
     ]
    },
    {
     "name": "stderr",
     "output_type": "stream",
     "text": [
      "/var/folders/xn/jj94n4tj5w90v1m3njdf44n80000gp/T/ipykernel_98487/1440073136.py:28: UserWarning: Could not infer format, so each element will be parsed individually, falling back to `dateutil`. To ensure parsing is consistent and as-expected, please specify a format.\n",
      "  df = pd.read_csv(\n"
     ]
    },
    {
     "name": "stdout",
     "output_type": "stream",
     "text": [
      "reading https://www.football-data.co.uk/mmz4281/0910/E0.csv\n"
     ]
    },
    {
     "name": "stderr",
     "output_type": "stream",
     "text": [
      "/var/folders/xn/jj94n4tj5w90v1m3njdf44n80000gp/T/ipykernel_98487/1440073136.py:28: UserWarning: Could not infer format, so each element will be parsed individually, falling back to `dateutil`. To ensure parsing is consistent and as-expected, please specify a format.\n",
      "  df = pd.read_csv(\n"
     ]
    },
    {
     "name": "stdout",
     "output_type": "stream",
     "text": [
      "reading https://www.football-data.co.uk/mmz4281/1314/E0.csv\n"
     ]
    },
    {
     "name": "stderr",
     "output_type": "stream",
     "text": [
      "/var/folders/xn/jj94n4tj5w90v1m3njdf44n80000gp/T/ipykernel_98487/1440073136.py:28: UserWarning: Could not infer format, so each element will be parsed individually, falling back to `dateutil`. To ensure parsing is consistent and as-expected, please specify a format.\n",
      "  df = pd.read_csv(\n"
     ]
    },
    {
     "name": "stdout",
     "output_type": "stream",
     "text": [
      "reading https://www.football-data.co.uk/mmz4281/0910/E1.csv\n"
     ]
    },
    {
     "name": "stderr",
     "output_type": "stream",
     "text": [
      "/var/folders/xn/jj94n4tj5w90v1m3njdf44n80000gp/T/ipykernel_98487/1440073136.py:28: UserWarning: Could not infer format, so each element will be parsed individually, falling back to `dateutil`. To ensure parsing is consistent and as-expected, please specify a format.\n",
      "  df = pd.read_csv(\n"
     ]
    },
    {
     "name": "stdout",
     "output_type": "stream",
     "text": [
      "reading https://www.football-data.co.uk/mmz4281/1819/E1.csv\n",
      "reading https://www.football-data.co.uk/mmz4281/0506/E0.csv\n"
     ]
    },
    {
     "name": "stderr",
     "output_type": "stream",
     "text": [
      "/var/folders/xn/jj94n4tj5w90v1m3njdf44n80000gp/T/ipykernel_98487/1440073136.py:28: UserWarning: Could not infer format, so each element will be parsed individually, falling back to `dateutil`. To ensure parsing is consistent and as-expected, please specify a format.\n",
      "  df = pd.read_csv(\n"
     ]
    },
    {
     "name": "stdout",
     "output_type": "stream",
     "text": [
      "reading https://www.football-data.co.uk/mmz4281/9596/E0.csv\n"
     ]
    },
    {
     "name": "stderr",
     "output_type": "stream",
     "text": [
      "/var/folders/xn/jj94n4tj5w90v1m3njdf44n80000gp/T/ipykernel_98487/1440073136.py:28: UserWarning: Could not infer format, so each element will be parsed individually, falling back to `dateutil`. To ensure parsing is consistent and as-expected, please specify a format.\n",
      "  df = pd.read_csv(\n"
     ]
    },
    {
     "name": "stdout",
     "output_type": "stream",
     "text": [
      "reading https://www.football-data.co.uk/mmz4281/1415/E1.csv\n"
     ]
    },
    {
     "name": "stderr",
     "output_type": "stream",
     "text": [
      "/var/folders/xn/jj94n4tj5w90v1m3njdf44n80000gp/T/ipykernel_98487/1440073136.py:28: UserWarning: Could not infer format, so each element will be parsed individually, falling back to `dateutil`. To ensure parsing is consistent and as-expected, please specify a format.\n",
      "  df = pd.read_csv(\n"
     ]
    },
    {
     "name": "stdout",
     "output_type": "stream",
     "text": [
      "reading https://www.football-data.co.uk/mmz4281/9900/E1.csv\n"
     ]
    },
    {
     "name": "stderr",
     "output_type": "stream",
     "text": [
      "/var/folders/xn/jj94n4tj5w90v1m3njdf44n80000gp/T/ipykernel_98487/1440073136.py:28: UserWarning: Could not infer format, so each element will be parsed individually, falling back to `dateutil`. To ensure parsing is consistent and as-expected, please specify a format.\n",
      "  df = pd.read_csv(\n"
     ]
    },
    {
     "name": "stdout",
     "output_type": "stream",
     "text": [
      "reading https://www.football-data.co.uk/mmz4281/1819/E0.csv\n",
      "reading https://www.football-data.co.uk/mmz4281/9899/E3.csv\n"
     ]
    },
    {
     "name": "stderr",
     "output_type": "stream",
     "text": [
      "/var/folders/xn/jj94n4tj5w90v1m3njdf44n80000gp/T/ipykernel_98487/1440073136.py:28: UserWarning: Could not infer format, so each element will be parsed individually, falling back to `dateutil`. To ensure parsing is consistent and as-expected, please specify a format.\n",
      "  df = pd.read_csv(\n"
     ]
    },
    {
     "name": "stdout",
     "output_type": "stream",
     "text": [
      "reading https://www.football-data.co.uk/mmz4281/9394/E2.csv\n"
     ]
    },
    {
     "name": "stderr",
     "output_type": "stream",
     "text": [
      "/var/folders/xn/jj94n4tj5w90v1m3njdf44n80000gp/T/ipykernel_98487/1440073136.py:28: UserWarning: Could not infer format, so each element will be parsed individually, falling back to `dateutil`. To ensure parsing is consistent and as-expected, please specify a format.\n",
      "  df = pd.read_csv(\n"
     ]
    },
    {
     "name": "stdout",
     "output_type": "stream",
     "text": [
      "reading https://www.football-data.co.uk/mmz4281/1920/E3.csv\n",
      "reading https://www.football-data.co.uk/mmz4281/0708/E1.csv\n"
     ]
    },
    {
     "name": "stderr",
     "output_type": "stream",
     "text": [
      "/var/folders/xn/jj94n4tj5w90v1m3njdf44n80000gp/T/ipykernel_98487/1440073136.py:28: UserWarning: Could not infer format, so each element will be parsed individually, falling back to `dateutil`. To ensure parsing is consistent and as-expected, please specify a format.\n",
      "  df = pd.read_csv(\n"
     ]
    },
    {
     "name": "stdout",
     "output_type": "stream",
     "text": [
      "reading https://www.football-data.co.uk/mmz4281/2122/E3.csv\n",
      "reading https://www.football-data.co.uk/mmz4281/0607/E3.csv\n"
     ]
    },
    {
     "name": "stderr",
     "output_type": "stream",
     "text": [
      "/var/folders/xn/jj94n4tj5w90v1m3njdf44n80000gp/T/ipykernel_98487/1440073136.py:28: UserWarning: Could not infer format, so each element will be parsed individually, falling back to `dateutil`. To ensure parsing is consistent and as-expected, please specify a format.\n",
      "  df = pd.read_csv(\n"
     ]
    },
    {
     "name": "stdout",
     "output_type": "stream",
     "text": [
      "reading https://www.football-data.co.uk/mmz4281/2122/EC.csv\n",
      "reading/parsing csv file content failed with encoding utf-8: 'utf-8' codec can't decode byte 0x92 in position 1936: invalid start byte\n",
      "reading https://www.football-data.co.uk/mmz4281/2425/E2.csv\n",
      "reading https://www.football-data.co.uk/mmz4281/1617/E3.csv\n"
     ]
    },
    {
     "name": "stderr",
     "output_type": "stream",
     "text": [
      "/var/folders/xn/jj94n4tj5w90v1m3njdf44n80000gp/T/ipykernel_98487/1440073136.py:28: UserWarning: Could not infer format, so each element will be parsed individually, falling back to `dateutil`. To ensure parsing is consistent and as-expected, please specify a format.\n",
      "  df = pd.read_csv(\n"
     ]
    },
    {
     "name": "stdout",
     "output_type": "stream",
     "text": [
      "reading https://www.football-data.co.uk/mmz4281/2425/E1.csv\n",
      "reading https://www.football-data.co.uk/mmz4281/0506/E1.csv\n"
     ]
    },
    {
     "name": "stderr",
     "output_type": "stream",
     "text": [
      "/var/folders/xn/jj94n4tj5w90v1m3njdf44n80000gp/T/ipykernel_98487/1440073136.py:28: UserWarning: Could not infer format, so each element will be parsed individually, falling back to `dateutil`. To ensure parsing is consistent and as-expected, please specify a format.\n",
      "  df = pd.read_csv(\n"
     ]
    },
    {
     "name": "stdout",
     "output_type": "stream",
     "text": [
      "reading https://www.football-data.co.uk/mmz4281/9900/E0.csv\n"
     ]
    },
    {
     "name": "stderr",
     "output_type": "stream",
     "text": [
      "/var/folders/xn/jj94n4tj5w90v1m3njdf44n80000gp/T/ipykernel_98487/1440073136.py:28: UserWarning: Could not infer format, so each element will be parsed individually, falling back to `dateutil`. To ensure parsing is consistent and as-expected, please specify a format.\n",
      "  df = pd.read_csv(\n"
     ]
    },
    {
     "name": "stdout",
     "output_type": "stream",
     "text": [
      "reading https://www.football-data.co.uk/mmz4281/0506/EC.csv\n"
     ]
    },
    {
     "name": "stderr",
     "output_type": "stream",
     "text": [
      "/var/folders/xn/jj94n4tj5w90v1m3njdf44n80000gp/T/ipykernel_98487/1440073136.py:28: UserWarning: Could not infer format, so each element will be parsed individually, falling back to `dateutil`. To ensure parsing is consistent and as-expected, please specify a format.\n",
      "  df = pd.read_csv(\n"
     ]
    },
    {
     "name": "stdout",
     "output_type": "stream",
     "text": [
      "reading https://www.football-data.co.uk/mmz4281/2223/E1.csv\n",
      "reading https://www.football-data.co.uk/mmz4281/0809/E1.csv\n"
     ]
    },
    {
     "name": "stderr",
     "output_type": "stream",
     "text": [
      "/var/folders/xn/jj94n4tj5w90v1m3njdf44n80000gp/T/ipykernel_98487/1440073136.py:28: UserWarning: Could not infer format, so each element will be parsed individually, falling back to `dateutil`. To ensure parsing is consistent and as-expected, please specify a format.\n",
      "  df = pd.read_csv(\n"
     ]
    },
    {
     "name": "stdout",
     "output_type": "stream",
     "text": [
      "reading https://www.football-data.co.uk/mmz4281/0001/E2.csv\n"
     ]
    },
    {
     "name": "stderr",
     "output_type": "stream",
     "text": [
      "/var/folders/xn/jj94n4tj5w90v1m3njdf44n80000gp/T/ipykernel_98487/1440073136.py:28: UserWarning: Could not infer format, so each element will be parsed individually, falling back to `dateutil`. To ensure parsing is consistent and as-expected, please specify a format.\n",
      "  df = pd.read_csv(\n"
     ]
    },
    {
     "name": "stdout",
     "output_type": "stream",
     "text": [
      "reading https://www.football-data.co.uk/mmz4281/9394/E0.csv\n"
     ]
    },
    {
     "name": "stderr",
     "output_type": "stream",
     "text": [
      "/var/folders/xn/jj94n4tj5w90v1m3njdf44n80000gp/T/ipykernel_98487/1440073136.py:28: UserWarning: Could not infer format, so each element will be parsed individually, falling back to `dateutil`. To ensure parsing is consistent and as-expected, please specify a format.\n",
      "  df = pd.read_csv(\n"
     ]
    },
    {
     "name": "stdout",
     "output_type": "stream",
     "text": [
      "reading https://www.football-data.co.uk/mmz4281/9495/E2.csv\n"
     ]
    },
    {
     "name": "stderr",
     "output_type": "stream",
     "text": [
      "/var/folders/xn/jj94n4tj5w90v1m3njdf44n80000gp/T/ipykernel_98487/1440073136.py:28: UserWarning: Could not infer format, so each element will be parsed individually, falling back to `dateutil`. To ensure parsing is consistent and as-expected, please specify a format.\n",
      "  df = pd.read_csv(\n"
     ]
    },
    {
     "name": "stdout",
     "output_type": "stream",
     "text": [
      "reading https://www.football-data.co.uk/mmz4281/9899/E0.csv\n"
     ]
    },
    {
     "name": "stderr",
     "output_type": "stream",
     "text": [
      "/var/folders/xn/jj94n4tj5w90v1m3njdf44n80000gp/T/ipykernel_98487/1440073136.py:28: UserWarning: Could not infer format, so each element will be parsed individually, falling back to `dateutil`. To ensure parsing is consistent and as-expected, please specify a format.\n",
      "  df = pd.read_csv(\n"
     ]
    },
    {
     "name": "stdout",
     "output_type": "stream",
     "text": [
      "reading https://www.football-data.co.uk/mmz4281/1415/E2.csv\n"
     ]
    },
    {
     "name": "stderr",
     "output_type": "stream",
     "text": [
      "/var/folders/xn/jj94n4tj5w90v1m3njdf44n80000gp/T/ipykernel_98487/1440073136.py:28: UserWarning: Could not infer format, so each element will be parsed individually, falling back to `dateutil`. To ensure parsing is consistent and as-expected, please specify a format.\n",
      "  df = pd.read_csv(\n"
     ]
    },
    {
     "name": "stdout",
     "output_type": "stream",
     "text": [
      "reading https://www.football-data.co.uk/mmz4281/0809/E3.csv\n"
     ]
    },
    {
     "name": "stderr",
     "output_type": "stream",
     "text": [
      "/var/folders/xn/jj94n4tj5w90v1m3njdf44n80000gp/T/ipykernel_98487/1440073136.py:28: UserWarning: Could not infer format, so each element will be parsed individually, falling back to `dateutil`. To ensure parsing is consistent and as-expected, please specify a format.\n",
      "  df = pd.read_csv(\n"
     ]
    },
    {
     "name": "stdout",
     "output_type": "stream",
     "text": [
      "reading https://www.football-data.co.uk/mmz4281/0203/E0.csv\n",
      "reading https://www.football-data.co.uk/mmz4281/1213/E3.csv\n"
     ]
    },
    {
     "name": "stderr",
     "output_type": "stream",
     "text": [
      "/var/folders/xn/jj94n4tj5w90v1m3njdf44n80000gp/T/ipykernel_98487/1440073136.py:28: UserWarning: Could not infer format, so each element will be parsed individually, falling back to `dateutil`. To ensure parsing is consistent and as-expected, please specify a format.\n",
      "  df = pd.read_csv(\n"
     ]
    },
    {
     "name": "stdout",
     "output_type": "stream",
     "text": [
      "reading https://www.football-data.co.uk/mmz4281/2223/EC.csv\n",
      "reading https://www.football-data.co.uk/mmz4281/0001/E0.csv\n"
     ]
    },
    {
     "name": "stderr",
     "output_type": "stream",
     "text": [
      "/var/folders/xn/jj94n4tj5w90v1m3njdf44n80000gp/T/ipykernel_98487/1440073136.py:28: UserWarning: Could not infer format, so each element will be parsed individually, falling back to `dateutil`. To ensure parsing is consistent and as-expected, please specify a format.\n",
      "  df = pd.read_csv(\n",
      "/var/folders/xn/jj94n4tj5w90v1m3njdf44n80000gp/T/ipykernel_98487/1440073136.py:28: UserWarning: Could not infer format, so each element will be parsed individually, falling back to `dateutil`. To ensure parsing is consistent and as-expected, please specify a format.\n",
      "  df = pd.read_csv(\n"
     ]
    },
    {
     "name": "stdout",
     "output_type": "stream",
     "text": [
      "reading https://www.football-data.co.uk/mmz4281/9697/E0.csv\n",
      "reading https://www.football-data.co.uk/mmz4281/0001/E1.csv\n"
     ]
    },
    {
     "name": "stderr",
     "output_type": "stream",
     "text": [
      "/var/folders/xn/jj94n4tj5w90v1m3njdf44n80000gp/T/ipykernel_98487/1440073136.py:28: UserWarning: Could not infer format, so each element will be parsed individually, falling back to `dateutil`. To ensure parsing is consistent and as-expected, please specify a format.\n",
      "  df = pd.read_csv(\n"
     ]
    },
    {
     "name": "stdout",
     "output_type": "stream",
     "text": [
      "reading https://www.football-data.co.uk/mmz4281/0102/E1.csv\n"
     ]
    },
    {
     "name": "stderr",
     "output_type": "stream",
     "text": [
      "/var/folders/xn/jj94n4tj5w90v1m3njdf44n80000gp/T/ipykernel_98487/1440073136.py:28: UserWarning: Could not infer format, so each element will be parsed individually, falling back to `dateutil`. To ensure parsing is consistent and as-expected, please specify a format.\n",
      "  df = pd.read_csv(\n"
     ]
    },
    {
     "name": "stdout",
     "output_type": "stream",
     "text": [
      "reading https://www.football-data.co.uk/mmz4281/0405/E3.csv\n"
     ]
    },
    {
     "name": "stderr",
     "output_type": "stream",
     "text": [
      "/var/folders/xn/jj94n4tj5w90v1m3njdf44n80000gp/T/ipykernel_98487/1440073136.py:28: UserWarning: Could not infer format, so each element will be parsed individually, falling back to `dateutil`. To ensure parsing is consistent and as-expected, please specify a format.\n",
      "  df = pd.read_csv(\n"
     ]
    },
    {
     "name": "stdout",
     "output_type": "stream",
     "text": [
      "reading https://www.football-data.co.uk/mmz4281/2324/EC.csv\n",
      "reading https://www.football-data.co.uk/mmz4281/1213/EC.csv\n"
     ]
    },
    {
     "name": "stderr",
     "output_type": "stream",
     "text": [
      "/var/folders/xn/jj94n4tj5w90v1m3njdf44n80000gp/T/ipykernel_98487/1440073136.py:28: UserWarning: Could not infer format, so each element will be parsed individually, falling back to `dateutil`. To ensure parsing is consistent and as-expected, please specify a format.\n",
      "  df = pd.read_csv(\n"
     ]
    },
    {
     "name": "stdout",
     "output_type": "stream",
     "text": [
      "reading https://www.football-data.co.uk/mmz4281/9596/E3.csv\n"
     ]
    },
    {
     "name": "stderr",
     "output_type": "stream",
     "text": [
      "/var/folders/xn/jj94n4tj5w90v1m3njdf44n80000gp/T/ipykernel_98487/1440073136.py:28: UserWarning: Could not infer format, so each element will be parsed individually, falling back to `dateutil`. To ensure parsing is consistent and as-expected, please specify a format.\n",
      "  df = pd.read_csv(\n"
     ]
    },
    {
     "name": "stdout",
     "output_type": "stream",
     "text": [
      "reading https://www.football-data.co.uk/mmz4281/2223/E2.csv\n",
      "reading https://www.football-data.co.uk/mmz4281/1213/E0.csv\n"
     ]
    },
    {
     "name": "stderr",
     "output_type": "stream",
     "text": [
      "/var/folders/xn/jj94n4tj5w90v1m3njdf44n80000gp/T/ipykernel_98487/1440073136.py:28: UserWarning: Could not infer format, so each element will be parsed individually, falling back to `dateutil`. To ensure parsing is consistent and as-expected, please specify a format.\n",
      "  df = pd.read_csv(\n"
     ]
    },
    {
     "name": "stdout",
     "output_type": "stream",
     "text": [
      "reading https://www.football-data.co.uk/mmz4281/1011/E1.csv\n"
     ]
    },
    {
     "name": "stderr",
     "output_type": "stream",
     "text": [
      "/var/folders/xn/jj94n4tj5w90v1m3njdf44n80000gp/T/ipykernel_98487/1440073136.py:28: UserWarning: Could not infer format, so each element will be parsed individually, falling back to `dateutil`. To ensure parsing is consistent and as-expected, please specify a format.\n",
      "  df = pd.read_csv(\n"
     ]
    },
    {
     "name": "stdout",
     "output_type": "stream",
     "text": [
      "reading https://www.football-data.co.uk/mmz4281/1617/EC.csv\n"
     ]
    },
    {
     "name": "stderr",
     "output_type": "stream",
     "text": [
      "/var/folders/xn/jj94n4tj5w90v1m3njdf44n80000gp/T/ipykernel_98487/1440073136.py:28: UserWarning: Could not infer format, so each element will be parsed individually, falling back to `dateutil`. To ensure parsing is consistent and as-expected, please specify a format.\n",
      "  df = pd.read_csv(\n"
     ]
    },
    {
     "name": "stdout",
     "output_type": "stream",
     "text": [
      "reading https://www.football-data.co.uk/mmz4281/9798/E1.csv\n"
     ]
    },
    {
     "name": "stderr",
     "output_type": "stream",
     "text": [
      "/var/folders/xn/jj94n4tj5w90v1m3njdf44n80000gp/T/ipykernel_98487/1440073136.py:28: UserWarning: Could not infer format, so each element will be parsed individually, falling back to `dateutil`. To ensure parsing is consistent and as-expected, please specify a format.\n",
      "  df = pd.read_csv(\n"
     ]
    },
    {
     "name": "stdout",
     "output_type": "stream",
     "text": [
      "reading https://www.football-data.co.uk/mmz4281/9596/E1.csv\n"
     ]
    },
    {
     "name": "stderr",
     "output_type": "stream",
     "text": [
      "/var/folders/xn/jj94n4tj5w90v1m3njdf44n80000gp/T/ipykernel_98487/1440073136.py:28: UserWarning: Could not infer format, so each element will be parsed individually, falling back to `dateutil`. To ensure parsing is consistent and as-expected, please specify a format.\n",
      "  df = pd.read_csv(\n"
     ]
    },
    {
     "name": "stdout",
     "output_type": "stream",
     "text": [
      "reading https://www.football-data.co.uk/mmz4281/2324/E2.csv\n",
      "reading https://www.football-data.co.uk/mmz4281/1920/E1.csv\n",
      "reading https://www.football-data.co.uk/mmz4281/1213/E1.csv\n"
     ]
    },
    {
     "name": "stderr",
     "output_type": "stream",
     "text": [
      "/var/folders/xn/jj94n4tj5w90v1m3njdf44n80000gp/T/ipykernel_98487/1440073136.py:28: UserWarning: Could not infer format, so each element will be parsed individually, falling back to `dateutil`. To ensure parsing is consistent and as-expected, please specify a format.\n",
      "  df = pd.read_csv(\n"
     ]
    },
    {
     "name": "stdout",
     "output_type": "stream",
     "text": [
      "reading https://www.football-data.co.uk/mmz4281/9495/E3.csv\n",
      "reading https://www.football-data.co.uk/mmz4281/1718/EC.csv\n"
     ]
    },
    {
     "name": "stderr",
     "output_type": "stream",
     "text": [
      "/var/folders/xn/jj94n4tj5w90v1m3njdf44n80000gp/T/ipykernel_98487/1440073136.py:28: UserWarning: Could not infer format, so each element will be parsed individually, falling back to `dateutil`. To ensure parsing is consistent and as-expected, please specify a format.\n",
      "  df = pd.read_csv(\n"
     ]
    },
    {
     "name": "stdout",
     "output_type": "stream",
     "text": [
      "reading https://www.football-data.co.uk/mmz4281/1112/E0.csv\n"
     ]
    },
    {
     "name": "stderr",
     "output_type": "stream",
     "text": [
      "/var/folders/xn/jj94n4tj5w90v1m3njdf44n80000gp/T/ipykernel_98487/1440073136.py:28: UserWarning: Could not infer format, so each element will be parsed individually, falling back to `dateutil`. To ensure parsing is consistent and as-expected, please specify a format.\n",
      "  df = pd.read_csv(\n"
     ]
    },
    {
     "name": "stdout",
     "output_type": "stream",
     "text": [
      "reading https://www.football-data.co.uk/mmz4281/0809/E2.csv\n"
     ]
    },
    {
     "name": "stderr",
     "output_type": "stream",
     "text": [
      "/var/folders/xn/jj94n4tj5w90v1m3njdf44n80000gp/T/ipykernel_98487/1440073136.py:28: UserWarning: Could not infer format, so each element will be parsed individually, falling back to `dateutil`. To ensure parsing is consistent and as-expected, please specify a format.\n",
      "  df = pd.read_csv(\n"
     ]
    },
    {
     "name": "stdout",
     "output_type": "stream",
     "text": [
      "reading https://www.football-data.co.uk/mmz4281/1314/E1.csv\n"
     ]
    },
    {
     "name": "stderr",
     "output_type": "stream",
     "text": [
      "/var/folders/xn/jj94n4tj5w90v1m3njdf44n80000gp/T/ipykernel_98487/1440073136.py:28: UserWarning: Could not infer format, so each element will be parsed individually, falling back to `dateutil`. To ensure parsing is consistent and as-expected, please specify a format.\n",
      "  df = pd.read_csv(\n"
     ]
    },
    {
     "name": "stdout",
     "output_type": "stream",
     "text": [
      "reading https://www.football-data.co.uk/mmz4281/0506/E3.csv\n"
     ]
    },
    {
     "name": "stderr",
     "output_type": "stream",
     "text": [
      "/var/folders/xn/jj94n4tj5w90v1m3njdf44n80000gp/T/ipykernel_98487/1440073136.py:28: UserWarning: Could not infer format, so each element will be parsed individually, falling back to `dateutil`. To ensure parsing is consistent and as-expected, please specify a format.\n",
      "  df = pd.read_csv(\n"
     ]
    },
    {
     "name": "stdout",
     "output_type": "stream",
     "text": [
      "reading https://www.football-data.co.uk/mmz4281/1011/E0.csv\n"
     ]
    },
    {
     "name": "stderr",
     "output_type": "stream",
     "text": [
      "/var/folders/xn/jj94n4tj5w90v1m3njdf44n80000gp/T/ipykernel_98487/1440073136.py:28: UserWarning: Could not infer format, so each element will be parsed individually, falling back to `dateutil`. To ensure parsing is consistent and as-expected, please specify a format.\n",
      "  df = pd.read_csv(\n"
     ]
    },
    {
     "name": "stdout",
     "output_type": "stream",
     "text": [
      "reading https://www.football-data.co.uk/mmz4281/1011/EC.csv\n"
     ]
    },
    {
     "name": "stderr",
     "output_type": "stream",
     "text": [
      "/var/folders/xn/jj94n4tj5w90v1m3njdf44n80000gp/T/ipykernel_98487/1440073136.py:28: UserWarning: Could not infer format, so each element will be parsed individually, falling back to `dateutil`. To ensure parsing is consistent and as-expected, please specify a format.\n",
      "  df = pd.read_csv(\n"
     ]
    },
    {
     "name": "stdout",
     "output_type": "stream",
     "text": [
      "reading https://www.football-data.co.uk/mmz4281/0405/E2.csv\n"
     ]
    },
    {
     "name": "stderr",
     "output_type": "stream",
     "text": [
      "/var/folders/xn/jj94n4tj5w90v1m3njdf44n80000gp/T/ipykernel_98487/1440073136.py:28: UserWarning: Could not infer format, so each element will be parsed individually, falling back to `dateutil`. To ensure parsing is consistent and as-expected, please specify a format.\n",
      "  df = pd.read_csv(\n"
     ]
    },
    {
     "name": "stdout",
     "output_type": "stream",
     "text": [
      "reading https://www.football-data.co.uk/mmz4281/0001/E3.csv\n"
     ]
    },
    {
     "name": "stderr",
     "output_type": "stream",
     "text": [
      "/var/folders/xn/jj94n4tj5w90v1m3njdf44n80000gp/T/ipykernel_98487/1440073136.py:28: UserWarning: Could not infer format, so each element will be parsed individually, falling back to `dateutil`. To ensure parsing is consistent and as-expected, please specify a format.\n",
      "  df = pd.read_csv(\n",
      "/var/folders/xn/jj94n4tj5w90v1m3njdf44n80000gp/T/ipykernel_98487/1440073136.py:28: UserWarning: Could not infer format, so each element will be parsed individually, falling back to `dateutil`. To ensure parsing is consistent and as-expected, please specify a format.\n",
      "  df = pd.read_csv(\n"
     ]
    },
    {
     "name": "stdout",
     "output_type": "stream",
     "text": [
      "scotland has 118 urls\n",
      "reading https://www.football-data.co.uk/mmz4281/9899/SC2.csv\n",
      "reading https://www.football-data.co.uk/mmz4281/1213/SC0.csv\n"
     ]
    },
    {
     "name": "stderr",
     "output_type": "stream",
     "text": [
      "/var/folders/xn/jj94n4tj5w90v1m3njdf44n80000gp/T/ipykernel_98487/1440073136.py:28: UserWarning: Could not infer format, so each element will be parsed individually, falling back to `dateutil`. To ensure parsing is consistent and as-expected, please specify a format.\n",
      "  df = pd.read_csv(\n"
     ]
    },
    {
     "name": "stdout",
     "output_type": "stream",
     "text": [
      "reading https://www.football-data.co.uk/mmz4281/1314/SC3.csv\n"
     ]
    },
    {
     "name": "stderr",
     "output_type": "stream",
     "text": [
      "/var/folders/xn/jj94n4tj5w90v1m3njdf44n80000gp/T/ipykernel_98487/1440073136.py:28: UserWarning: Could not infer format, so each element will be parsed individually, falling back to `dateutil`. To ensure parsing is consistent and as-expected, please specify a format.\n",
      "  df = pd.read_csv(\n"
     ]
    },
    {
     "name": "stdout",
     "output_type": "stream",
     "text": [
      "reading https://www.football-data.co.uk/mmz4281/0506/SC0.csv\n"
     ]
    },
    {
     "name": "stderr",
     "output_type": "stream",
     "text": [
      "/var/folders/xn/jj94n4tj5w90v1m3njdf44n80000gp/T/ipykernel_98487/1440073136.py:28: UserWarning: Could not infer format, so each element will be parsed individually, falling back to `dateutil`. To ensure parsing is consistent and as-expected, please specify a format.\n",
      "  df = pd.read_csv(\n",
      "/var/folders/xn/jj94n4tj5w90v1m3njdf44n80000gp/T/ipykernel_98487/1440073136.py:28: UserWarning: Could not infer format, so each element will be parsed individually, falling back to `dateutil`. To ensure parsing is consistent and as-expected, please specify a format.\n",
      "  df = pd.read_csv(\n"
     ]
    },
    {
     "name": "stdout",
     "output_type": "stream",
     "text": [
      "reading https://www.football-data.co.uk/mmz4281/9495/SC1.csv\n",
      "reading https://www.football-data.co.uk/mmz4281/1516/SC3.csv\n"
     ]
    },
    {
     "name": "stderr",
     "output_type": "stream",
     "text": [
      "/var/folders/xn/jj94n4tj5w90v1m3njdf44n80000gp/T/ipykernel_98487/1440073136.py:28: UserWarning: Could not infer format, so each element will be parsed individually, falling back to `dateutil`. To ensure parsing is consistent and as-expected, please specify a format.\n",
      "  df = pd.read_csv(\n",
      "/var/folders/xn/jj94n4tj5w90v1m3njdf44n80000gp/T/ipykernel_98487/1440073136.py:28: UserWarning: Could not infer format, so each element will be parsed individually, falling back to `dateutil`. To ensure parsing is consistent and as-expected, please specify a format.\n",
      "  df = pd.read_csv(\n"
     ]
    },
    {
     "name": "stdout",
     "output_type": "stream",
     "text": [
      "reading https://www.football-data.co.uk/mmz4281/0304/SC1.csv\n",
      "reading https://www.football-data.co.uk/mmz4281/1617/SC1.csv\n"
     ]
    },
    {
     "name": "stderr",
     "output_type": "stream",
     "text": [
      "/var/folders/xn/jj94n4tj5w90v1m3njdf44n80000gp/T/ipykernel_98487/1440073136.py:28: UserWarning: Could not infer format, so each element will be parsed individually, falling back to `dateutil`. To ensure parsing is consistent and as-expected, please specify a format.\n",
      "  df = pd.read_csv(\n"
     ]
    },
    {
     "name": "stdout",
     "output_type": "stream",
     "text": [
      "reading https://www.football-data.co.uk/mmz4281/0708/SC2.csv\n"
     ]
    },
    {
     "name": "stderr",
     "output_type": "stream",
     "text": [
      "/var/folders/xn/jj94n4tj5w90v1m3njdf44n80000gp/T/ipykernel_98487/1440073136.py:28: UserWarning: Could not infer format, so each element will be parsed individually, falling back to `dateutil`. To ensure parsing is consistent and as-expected, please specify a format.\n",
      "  df = pd.read_csv(\n"
     ]
    },
    {
     "name": "stdout",
     "output_type": "stream",
     "text": [
      "reading https://www.football-data.co.uk/mmz4281/2021/SC2.csv\n",
      "reading https://www.football-data.co.uk/mmz4281/0102/SC3.csv\n"
     ]
    },
    {
     "name": "stderr",
     "output_type": "stream",
     "text": [
      "/var/folders/xn/jj94n4tj5w90v1m3njdf44n80000gp/T/ipykernel_98487/1440073136.py:28: UserWarning: Could not infer format, so each element will be parsed individually, falling back to `dateutil`. To ensure parsing is consistent and as-expected, please specify a format.\n",
      "  df = pd.read_csv(\n",
      "/var/folders/xn/jj94n4tj5w90v1m3njdf44n80000gp/T/ipykernel_98487/1440073136.py:28: UserWarning: Could not infer format, so each element will be parsed individually, falling back to `dateutil`. To ensure parsing is consistent and as-expected, please specify a format.\n",
      "  df = pd.read_csv(\n"
     ]
    },
    {
     "name": "stdout",
     "output_type": "stream",
     "text": [
      "reading https://www.football-data.co.uk/mmz4281/9899/SC3.csv\n",
      "reading https://www.football-data.co.uk/mmz4281/9798/SC3.csv\n"
     ]
    },
    {
     "name": "stderr",
     "output_type": "stream",
     "text": [
      "/var/folders/xn/jj94n4tj5w90v1m3njdf44n80000gp/T/ipykernel_98487/1440073136.py:28: UserWarning: Could not infer format, so each element will be parsed individually, falling back to `dateutil`. To ensure parsing is consistent and as-expected, please specify a format.\n",
      "  df = pd.read_csv(\n",
      "/var/folders/xn/jj94n4tj5w90v1m3njdf44n80000gp/T/ipykernel_98487/1440073136.py:28: UserWarning: Could not infer format, so each element will be parsed individually, falling back to `dateutil`. To ensure parsing is consistent and as-expected, please specify a format.\n",
      "  df = pd.read_csv(\n"
     ]
    },
    {
     "name": "stdout",
     "output_type": "stream",
     "text": [
      "reading https://www.football-data.co.uk/mmz4281/9495/SC0.csv\n",
      "reading https://www.football-data.co.uk/mmz4281/9697/SC1.csv\n"
     ]
    },
    {
     "name": "stderr",
     "output_type": "stream",
     "text": [
      "/var/folders/xn/jj94n4tj5w90v1m3njdf44n80000gp/T/ipykernel_98487/1440073136.py:28: UserWarning: Could not infer format, so each element will be parsed individually, falling back to `dateutil`. To ensure parsing is consistent and as-expected, please specify a format.\n",
      "  df = pd.read_csv(\n"
     ]
    },
    {
     "name": "stdout",
     "output_type": "stream",
     "text": [
      "reading https://www.football-data.co.uk/mmz4281/0708/SC0.csv\n"
     ]
    },
    {
     "name": "stderr",
     "output_type": "stream",
     "text": [
      "/var/folders/xn/jj94n4tj5w90v1m3njdf44n80000gp/T/ipykernel_98487/1440073136.py:28: UserWarning: Could not infer format, so each element will be parsed individually, falling back to `dateutil`. To ensure parsing is consistent and as-expected, please specify a format.\n",
      "  df = pd.read_csv(\n"
     ]
    },
    {
     "name": "stdout",
     "output_type": "stream",
     "text": [
      "reading https://www.football-data.co.uk/mmz4281/1920/SC2.csv\n",
      "reading https://www.football-data.co.uk/mmz4281/9697/SC0.csv\n",
      "reading https://www.football-data.co.uk/mmz4281/0910/SC3.csv\n"
     ]
    },
    {
     "name": "stderr",
     "output_type": "stream",
     "text": [
      "/var/folders/xn/jj94n4tj5w90v1m3njdf44n80000gp/T/ipykernel_98487/1440073136.py:28: UserWarning: Could not infer format, so each element will be parsed individually, falling back to `dateutil`. To ensure parsing is consistent and as-expected, please specify a format.\n",
      "  df = pd.read_csv(\n",
      "/var/folders/xn/jj94n4tj5w90v1m3njdf44n80000gp/T/ipykernel_98487/1440073136.py:28: UserWarning: Could not infer format, so each element will be parsed individually, falling back to `dateutil`. To ensure parsing is consistent and as-expected, please specify a format.\n",
      "  df = pd.read_csv(\n"
     ]
    },
    {
     "name": "stdout",
     "output_type": "stream",
     "text": [
      "reading https://www.football-data.co.uk/mmz4281/1920/SC0.csv\n",
      "reading https://www.football-data.co.uk/mmz4281/1920/SC1.csv\n",
      "reading https://www.football-data.co.uk/mmz4281/1314/SC1.csv\n"
     ]
    },
    {
     "name": "stderr",
     "output_type": "stream",
     "text": [
      "/var/folders/xn/jj94n4tj5w90v1m3njdf44n80000gp/T/ipykernel_98487/1440073136.py:28: UserWarning: Could not infer format, so each element will be parsed individually, falling back to `dateutil`. To ensure parsing is consistent and as-expected, please specify a format.\n",
      "  df = pd.read_csv(\n"
     ]
    },
    {
     "name": "stdout",
     "output_type": "stream",
     "text": [
      "reading https://www.football-data.co.uk/mmz4281/1415/SC2.csv\n"
     ]
    },
    {
     "name": "stderr",
     "output_type": "stream",
     "text": [
      "/var/folders/xn/jj94n4tj5w90v1m3njdf44n80000gp/T/ipykernel_98487/1440073136.py:28: UserWarning: Could not infer format, so each element will be parsed individually, falling back to `dateutil`. To ensure parsing is consistent and as-expected, please specify a format.\n",
      "  df = pd.read_csv(\n"
     ]
    },
    {
     "name": "stdout",
     "output_type": "stream",
     "text": [
      "reading https://www.football-data.co.uk/mmz4281/0001/SC1.csv\n"
     ]
    },
    {
     "name": "stderr",
     "output_type": "stream",
     "text": [
      "/var/folders/xn/jj94n4tj5w90v1m3njdf44n80000gp/T/ipykernel_98487/1440073136.py:28: UserWarning: Could not infer format, so each element will be parsed individually, falling back to `dateutil`. To ensure parsing is consistent and as-expected, please specify a format.\n",
      "  df = pd.read_csv(\n"
     ]
    },
    {
     "name": "stdout",
     "output_type": "stream",
     "text": [
      "reading https://www.football-data.co.uk/mmz4281/2021/SC0.csv\n",
      "reading https://www.football-data.co.uk/mmz4281/2122/SC2.csv\n",
      "reading https://www.football-data.co.uk/mmz4281/2324/SC0.csv\n",
      "reading https://www.football-data.co.uk/mmz4281/9798/SC2.csv\n",
      "reading https://www.football-data.co.uk/mmz4281/0304/SC0.csv\n"
     ]
    },
    {
     "name": "stderr",
     "output_type": "stream",
     "text": [
      "/var/folders/xn/jj94n4tj5w90v1m3njdf44n80000gp/T/ipykernel_98487/1440073136.py:28: UserWarning: Could not infer format, so each element will be parsed individually, falling back to `dateutil`. To ensure parsing is consistent and as-expected, please specify a format.\n",
      "  df = pd.read_csv(\n",
      "/var/folders/xn/jj94n4tj5w90v1m3njdf44n80000gp/T/ipykernel_98487/1440073136.py:28: UserWarning: Could not infer format, so each element will be parsed individually, falling back to `dateutil`. To ensure parsing is consistent and as-expected, please specify a format.\n",
      "  df = pd.read_csv(\n"
     ]
    },
    {
     "name": "stdout",
     "output_type": "stream",
     "text": [
      "reading https://www.football-data.co.uk/mmz4281/0809/SC3.csv\n"
     ]
    },
    {
     "name": "stderr",
     "output_type": "stream",
     "text": [
      "/var/folders/xn/jj94n4tj5w90v1m3njdf44n80000gp/T/ipykernel_98487/1440073136.py:28: UserWarning: Could not infer format, so each element will be parsed individually, falling back to `dateutil`. To ensure parsing is consistent and as-expected, please specify a format.\n",
      "  df = pd.read_csv(\n"
     ]
    },
    {
     "name": "stdout",
     "output_type": "stream",
     "text": [
      "reading https://www.football-data.co.uk/mmz4281/2122/SC3.csv\n",
      "reading https://www.football-data.co.uk/mmz4281/0203/SC1.csv\n"
     ]
    },
    {
     "name": "stderr",
     "output_type": "stream",
     "text": [
      "/var/folders/xn/jj94n4tj5w90v1m3njdf44n80000gp/T/ipykernel_98487/1440073136.py:28: UserWarning: Could not infer format, so each element will be parsed individually, falling back to `dateutil`. To ensure parsing is consistent and as-expected, please specify a format.\n",
      "  df = pd.read_csv(\n",
      "/var/folders/xn/jj94n4tj5w90v1m3njdf44n80000gp/T/ipykernel_98487/1440073136.py:28: UserWarning: Could not infer format, so each element will be parsed individually, falling back to `dateutil`. To ensure parsing is consistent and as-expected, please specify a format.\n",
      "  df = pd.read_csv(\n"
     ]
    },
    {
     "name": "stdout",
     "output_type": "stream",
     "text": [
      "reading https://www.football-data.co.uk/mmz4281/0405/SC2.csv\n",
      "reading https://www.football-data.co.uk/mmz4281/9798/SC1.csv\n"
     ]
    },
    {
     "name": "stderr",
     "output_type": "stream",
     "text": [
      "/var/folders/xn/jj94n4tj5w90v1m3njdf44n80000gp/T/ipykernel_98487/1440073136.py:28: UserWarning: Could not infer format, so each element will be parsed individually, falling back to `dateutil`. To ensure parsing is consistent and as-expected, please specify a format.\n",
      "  df = pd.read_csv(\n"
     ]
    },
    {
     "name": "stdout",
     "output_type": "stream",
     "text": [
      "reading https://www.football-data.co.uk/mmz4281/1011/SC2.csv\n"
     ]
    },
    {
     "name": "stderr",
     "output_type": "stream",
     "text": [
      "/var/folders/xn/jj94n4tj5w90v1m3njdf44n80000gp/T/ipykernel_98487/1440073136.py:28: UserWarning: Could not infer format, so each element will be parsed individually, falling back to `dateutil`. To ensure parsing is consistent and as-expected, please specify a format.\n",
      "  df = pd.read_csv(\n"
     ]
    },
    {
     "name": "stdout",
     "output_type": "stream",
     "text": [
      "reading https://www.football-data.co.uk/mmz4281/0405/SC1.csv\n"
     ]
    },
    {
     "name": "stderr",
     "output_type": "stream",
     "text": [
      "/var/folders/xn/jj94n4tj5w90v1m3njdf44n80000gp/T/ipykernel_98487/1440073136.py:28: UserWarning: Could not infer format, so each element will be parsed individually, falling back to `dateutil`. To ensure parsing is consistent and as-expected, please specify a format.\n",
      "  df = pd.read_csv(\n"
     ]
    },
    {
     "name": "stdout",
     "output_type": "stream",
     "text": [
      "reading https://www.football-data.co.uk/mmz4281/1819/SC3.csv\n",
      "reading https://www.football-data.co.uk/mmz4281/1415/SC3.csv\n"
     ]
    },
    {
     "name": "stderr",
     "output_type": "stream",
     "text": [
      "/var/folders/xn/jj94n4tj5w90v1m3njdf44n80000gp/T/ipykernel_98487/1440073136.py:28: UserWarning: Could not infer format, so each element will be parsed individually, falling back to `dateutil`. To ensure parsing is consistent and as-expected, please specify a format.\n",
      "  df = pd.read_csv(\n"
     ]
    },
    {
     "name": "stdout",
     "output_type": "stream",
     "text": [
      "reading https://www.football-data.co.uk/mmz4281/1112/SC0.csv\n"
     ]
    },
    {
     "name": "stderr",
     "output_type": "stream",
     "text": [
      "/var/folders/xn/jj94n4tj5w90v1m3njdf44n80000gp/T/ipykernel_98487/1440073136.py:28: UserWarning: Could not infer format, so each element will be parsed individually, falling back to `dateutil`. To ensure parsing is consistent and as-expected, please specify a format.\n",
      "  df = pd.read_csv(\n"
     ]
    },
    {
     "name": "stdout",
     "output_type": "stream",
     "text": [
      "reading https://www.football-data.co.uk/mmz4281/2324/SC3.csv\n",
      "reading https://www.football-data.co.uk/mmz4281/9900/SC3.csv\n",
      "reading https://www.football-data.co.uk/mmz4281/0607/SC2.csv\n"
     ]
    },
    {
     "name": "stderr",
     "output_type": "stream",
     "text": [
      "/var/folders/xn/jj94n4tj5w90v1m3njdf44n80000gp/T/ipykernel_98487/1440073136.py:28: UserWarning: Could not infer format, so each element will be parsed individually, falling back to `dateutil`. To ensure parsing is consistent and as-expected, please specify a format.\n",
      "  df = pd.read_csv(\n",
      "/var/folders/xn/jj94n4tj5w90v1m3njdf44n80000gp/T/ipykernel_98487/1440073136.py:28: UserWarning: Could not infer format, so each element will be parsed individually, falling back to `dateutil`. To ensure parsing is consistent and as-expected, please specify a format.\n",
      "  df = pd.read_csv(\n"
     ]
    },
    {
     "name": "stdout",
     "output_type": "stream",
     "text": [
      "reading https://www.football-data.co.uk/mmz4281/1718/SC2.csv\n"
     ]
    },
    {
     "name": "stderr",
     "output_type": "stream",
     "text": [
      "/var/folders/xn/jj94n4tj5w90v1m3njdf44n80000gp/T/ipykernel_98487/1440073136.py:28: UserWarning: Could not infer format, so each element will be parsed individually, falling back to `dateutil`. To ensure parsing is consistent and as-expected, please specify a format.\n",
      "  df = pd.read_csv(\n"
     ]
    },
    {
     "name": "stdout",
     "output_type": "stream",
     "text": [
      "reading https://www.football-data.co.uk/mmz4281/1516/SC2.csv\n"
     ]
    },
    {
     "name": "stderr",
     "output_type": "stream",
     "text": [
      "/var/folders/xn/jj94n4tj5w90v1m3njdf44n80000gp/T/ipykernel_98487/1440073136.py:28: UserWarning: Could not infer format, so each element will be parsed individually, falling back to `dateutil`. To ensure parsing is consistent and as-expected, please specify a format.\n",
      "  df = pd.read_csv(\n"
     ]
    },
    {
     "name": "stdout",
     "output_type": "stream",
     "text": [
      "reading https://www.football-data.co.uk/mmz4281/1617/SC2.csv\n"
     ]
    },
    {
     "name": "stderr",
     "output_type": "stream",
     "text": [
      "/var/folders/xn/jj94n4tj5w90v1m3njdf44n80000gp/T/ipykernel_98487/1440073136.py:28: UserWarning: Could not infer format, so each element will be parsed individually, falling back to `dateutil`. To ensure parsing is consistent and as-expected, please specify a format.\n",
      "  df = pd.read_csv(\n"
     ]
    },
    {
     "name": "stdout",
     "output_type": "stream",
     "text": [
      "reading https://www.football-data.co.uk/mmz4281/2425/SC3.csv\n",
      "reading https://www.football-data.co.uk/mmz4281/1213/SC2.csv\n"
     ]
    },
    {
     "name": "stderr",
     "output_type": "stream",
     "text": [
      "/var/folders/xn/jj94n4tj5w90v1m3njdf44n80000gp/T/ipykernel_98487/1440073136.py:28: UserWarning: Could not infer format, so each element will be parsed individually, falling back to `dateutil`. To ensure parsing is consistent and as-expected, please specify a format.\n",
      "  df = pd.read_csv(\n"
     ]
    },
    {
     "name": "stdout",
     "output_type": "stream",
     "text": [
      "reading https://www.football-data.co.uk/mmz4281/1516/SC0.csv\n"
     ]
    },
    {
     "name": "stderr",
     "output_type": "stream",
     "text": [
      "/var/folders/xn/jj94n4tj5w90v1m3njdf44n80000gp/T/ipykernel_98487/1440073136.py:28: UserWarning: Could not infer format, so each element will be parsed individually, falling back to `dateutil`. To ensure parsing is consistent and as-expected, please specify a format.\n",
      "  df = pd.read_csv(\n"
     ]
    },
    {
     "name": "stdout",
     "output_type": "stream",
     "text": [
      "reading https://www.football-data.co.uk/mmz4281/0708/SC3.csv\n"
     ]
    },
    {
     "name": "stderr",
     "output_type": "stream",
     "text": [
      "/var/folders/xn/jj94n4tj5w90v1m3njdf44n80000gp/T/ipykernel_98487/1440073136.py:28: UserWarning: Could not infer format, so each element will be parsed individually, falling back to `dateutil`. To ensure parsing is consistent and as-expected, please specify a format.\n",
      "  df = pd.read_csv(\n"
     ]
    },
    {
     "name": "stdout",
     "output_type": "stream",
     "text": [
      "reading https://www.football-data.co.uk/mmz4281/2223/SC0.csv\n",
      "reading https://www.football-data.co.uk/mmz4281/2425/SC2.csv\n",
      "reading https://www.football-data.co.uk/mmz4281/0506/SC1.csv\n"
     ]
    },
    {
     "name": "stderr",
     "output_type": "stream",
     "text": [
      "/var/folders/xn/jj94n4tj5w90v1m3njdf44n80000gp/T/ipykernel_98487/1440073136.py:28: UserWarning: Could not infer format, so each element will be parsed individually, falling back to `dateutil`. To ensure parsing is consistent and as-expected, please specify a format.\n",
      "  df = pd.read_csv(\n"
     ]
    },
    {
     "name": "stdout",
     "output_type": "stream",
     "text": [
      "reading https://www.football-data.co.uk/mmz4281/0809/SC1.csv\n"
     ]
    },
    {
     "name": "stderr",
     "output_type": "stream",
     "text": [
      "/var/folders/xn/jj94n4tj5w90v1m3njdf44n80000gp/T/ipykernel_98487/1440073136.py:28: UserWarning: Could not infer format, so each element will be parsed individually, falling back to `dateutil`. To ensure parsing is consistent and as-expected, please specify a format.\n",
      "  df = pd.read_csv(\n"
     ]
    },
    {
     "name": "stdout",
     "output_type": "stream",
     "text": [
      "reading https://www.football-data.co.uk/mmz4281/0607/SC0.csv\n"
     ]
    },
    {
     "name": "stderr",
     "output_type": "stream",
     "text": [
      "/var/folders/xn/jj94n4tj5w90v1m3njdf44n80000gp/T/ipykernel_98487/1440073136.py:28: UserWarning: Could not infer format, so each element will be parsed individually, falling back to `dateutil`. To ensure parsing is consistent and as-expected, please specify a format.\n",
      "  df = pd.read_csv(\n"
     ]
    },
    {
     "name": "stdout",
     "output_type": "stream",
     "text": [
      "reading https://www.football-data.co.uk/mmz4281/0809/SC2.csv\n"
     ]
    },
    {
     "name": "stderr",
     "output_type": "stream",
     "text": [
      "/var/folders/xn/jj94n4tj5w90v1m3njdf44n80000gp/T/ipykernel_98487/1440073136.py:28: UserWarning: Could not infer format, so each element will be parsed individually, falling back to `dateutil`. To ensure parsing is consistent and as-expected, please specify a format.\n",
      "  df = pd.read_csv(\n"
     ]
    },
    {
     "name": "stdout",
     "output_type": "stream",
     "text": [
      "reading https://www.football-data.co.uk/mmz4281/1920/SC3.csv\n",
      "reading https://www.football-data.co.uk/mmz4281/0203/SC2.csv\n",
      "reading https://www.football-data.co.uk/mmz4281/2425/SC1.csv\n"
     ]
    },
    {
     "name": "stderr",
     "output_type": "stream",
     "text": [
      "/var/folders/xn/jj94n4tj5w90v1m3njdf44n80000gp/T/ipykernel_98487/1440073136.py:28: UserWarning: Could not infer format, so each element will be parsed individually, falling back to `dateutil`. To ensure parsing is consistent and as-expected, please specify a format.\n",
      "  df = pd.read_csv(\n"
     ]
    },
    {
     "name": "stdout",
     "output_type": "stream",
     "text": [
      "reading https://www.football-data.co.uk/mmz4281/9596/SC1.csv\n",
      "reading https://www.football-data.co.uk/mmz4281/1314/SC0.csv\n"
     ]
    },
    {
     "name": "stderr",
     "output_type": "stream",
     "text": [
      "/var/folders/xn/jj94n4tj5w90v1m3njdf44n80000gp/T/ipykernel_98487/1440073136.py:28: UserWarning: Could not infer format, so each element will be parsed individually, falling back to `dateutil`. To ensure parsing is consistent and as-expected, please specify a format.\n",
      "  df = pd.read_csv(\n",
      "/var/folders/xn/jj94n4tj5w90v1m3njdf44n80000gp/T/ipykernel_98487/1440073136.py:28: UserWarning: Could not infer format, so each element will be parsed individually, falling back to `dateutil`. To ensure parsing is consistent and as-expected, please specify a format.\n",
      "  df = pd.read_csv(\n"
     ]
    },
    {
     "name": "stdout",
     "output_type": "stream",
     "text": [
      "reading https://www.football-data.co.uk/mmz4281/1112/SC1.csv\n"
     ]
    },
    {
     "name": "stderr",
     "output_type": "stream",
     "text": [
      "/var/folders/xn/jj94n4tj5w90v1m3njdf44n80000gp/T/ipykernel_98487/1440073136.py:28: UserWarning: Could not infer format, so each element will be parsed individually, falling back to `dateutil`. To ensure parsing is consistent and as-expected, please specify a format.\n",
      "  df = pd.read_csv(\n"
     ]
    },
    {
     "name": "stdout",
     "output_type": "stream",
     "text": [
      "reading https://www.football-data.co.uk/mmz4281/0102/SC0.csv\n"
     ]
    },
    {
     "name": "stderr",
     "output_type": "stream",
     "text": [
      "/var/folders/xn/jj94n4tj5w90v1m3njdf44n80000gp/T/ipykernel_98487/1440073136.py:28: UserWarning: Could not infer format, so each element will be parsed individually, falling back to `dateutil`. To ensure parsing is consistent and as-expected, please specify a format.\n",
      "  df = pd.read_csv(\n"
     ]
    },
    {
     "name": "stdout",
     "output_type": "stream",
     "text": [
      "reading https://www.football-data.co.uk/mmz4281/1213/SC1.csv\n"
     ]
    },
    {
     "name": "stderr",
     "output_type": "stream",
     "text": [
      "/var/folders/xn/jj94n4tj5w90v1m3njdf44n80000gp/T/ipykernel_98487/1440073136.py:28: UserWarning: Could not infer format, so each element will be parsed individually, falling back to `dateutil`. To ensure parsing is consistent and as-expected, please specify a format.\n",
      "  df = pd.read_csv(\n"
     ]
    },
    {
     "name": "stdout",
     "output_type": "stream",
     "text": [
      "reading https://www.football-data.co.uk/mmz4281/2122/SC1.csv\n",
      "reading https://www.football-data.co.uk/mmz4281/0506/SC2.csv\n"
     ]
    },
    {
     "name": "stderr",
     "output_type": "stream",
     "text": [
      "/var/folders/xn/jj94n4tj5w90v1m3njdf44n80000gp/T/ipykernel_98487/1440073136.py:28: UserWarning: Could not infer format, so each element will be parsed individually, falling back to `dateutil`. To ensure parsing is consistent and as-expected, please specify a format.\n",
      "  df = pd.read_csv(\n",
      "/var/folders/xn/jj94n4tj5w90v1m3njdf44n80000gp/T/ipykernel_98487/1440073136.py:28: UserWarning: Could not infer format, so each element will be parsed individually, falling back to `dateutil`. To ensure parsing is consistent and as-expected, please specify a format.\n",
      "  df = pd.read_csv(\n"
     ]
    },
    {
     "name": "stdout",
     "output_type": "stream",
     "text": [
      "reading https://www.football-data.co.uk/mmz4281/9900/SC0.csv\n",
      "reading https://www.football-data.co.uk/mmz4281/0001/SC2.csv\n"
     ]
    },
    {
     "name": "stderr",
     "output_type": "stream",
     "text": [
      "/var/folders/xn/jj94n4tj5w90v1m3njdf44n80000gp/T/ipykernel_98487/1440073136.py:28: UserWarning: Could not infer format, so each element will be parsed individually, falling back to `dateutil`. To ensure parsing is consistent and as-expected, please specify a format.\n",
      "  df = pd.read_csv(\n"
     ]
    },
    {
     "name": "stdout",
     "output_type": "stream",
     "text": [
      "reading https://www.football-data.co.uk/mmz4281/1415/SC0.csv\n"
     ]
    },
    {
     "name": "stderr",
     "output_type": "stream",
     "text": [
      "/var/folders/xn/jj94n4tj5w90v1m3njdf44n80000gp/T/ipykernel_98487/1440073136.py:28: UserWarning: Could not infer format, so each element will be parsed individually, falling back to `dateutil`. To ensure parsing is consistent and as-expected, please specify a format.\n",
      "  df = pd.read_csv(\n"
     ]
    },
    {
     "name": "stdout",
     "output_type": "stream",
     "text": [
      "reading https://www.football-data.co.uk/mmz4281/1011/SC3.csv\n"
     ]
    },
    {
     "name": "stderr",
     "output_type": "stream",
     "text": [
      "/var/folders/xn/jj94n4tj5w90v1m3njdf44n80000gp/T/ipykernel_98487/1440073136.py:28: UserWarning: Could not infer format, so each element will be parsed individually, falling back to `dateutil`. To ensure parsing is consistent and as-expected, please specify a format.\n",
      "  df = pd.read_csv(\n"
     ]
    },
    {
     "name": "stdout",
     "output_type": "stream",
     "text": [
      "reading https://www.football-data.co.uk/mmz4281/1213/SC3.csv\n"
     ]
    },
    {
     "name": "stderr",
     "output_type": "stream",
     "text": [
      "/var/folders/xn/jj94n4tj5w90v1m3njdf44n80000gp/T/ipykernel_98487/1440073136.py:28: UserWarning: Could not infer format, so each element will be parsed individually, falling back to `dateutil`. To ensure parsing is consistent and as-expected, please specify a format.\n",
      "  df = pd.read_csv(\n"
     ]
    },
    {
     "name": "stdout",
     "output_type": "stream",
     "text": [
      "reading https://www.football-data.co.uk/mmz4281/1819/SC1.csv\n",
      "reading https://www.football-data.co.uk/mmz4281/1011/SC1.csv\n"
     ]
    },
    {
     "name": "stderr",
     "output_type": "stream",
     "text": [
      "/var/folders/xn/jj94n4tj5w90v1m3njdf44n80000gp/T/ipykernel_98487/1440073136.py:28: UserWarning: Could not infer format, so each element will be parsed individually, falling back to `dateutil`. To ensure parsing is consistent and as-expected, please specify a format.\n",
      "  df = pd.read_csv(\n"
     ]
    },
    {
     "name": "stdout",
     "output_type": "stream",
     "text": [
      "reading https://www.football-data.co.uk/mmz4281/2021/SC1.csv\n",
      "reading https://www.football-data.co.uk/mmz4281/0506/SC3.csv\n"
     ]
    },
    {
     "name": "stderr",
     "output_type": "stream",
     "text": [
      "/var/folders/xn/jj94n4tj5w90v1m3njdf44n80000gp/T/ipykernel_98487/1440073136.py:28: UserWarning: Could not infer format, so each element will be parsed individually, falling back to `dateutil`. To ensure parsing is consistent and as-expected, please specify a format.\n",
      "  df = pd.read_csv(\n"
     ]
    },
    {
     "name": "stdout",
     "output_type": "stream",
     "text": [
      "reading https://www.football-data.co.uk/mmz4281/0102/SC1.csv\n"
     ]
    },
    {
     "name": "stderr",
     "output_type": "stream",
     "text": [
      "/var/folders/xn/jj94n4tj5w90v1m3njdf44n80000gp/T/ipykernel_98487/1440073136.py:28: UserWarning: Could not infer format, so each element will be parsed individually, falling back to `dateutil`. To ensure parsing is consistent and as-expected, please specify a format.\n",
      "  df = pd.read_csv(\n",
      "/var/folders/xn/jj94n4tj5w90v1m3njdf44n80000gp/T/ipykernel_98487/1440073136.py:28: UserWarning: Could not infer format, so each element will be parsed individually, falling back to `dateutil`. To ensure parsing is consistent and as-expected, please specify a format.\n",
      "  df = pd.read_csv(\n"
     ]
    },
    {
     "name": "stdout",
     "output_type": "stream",
     "text": [
      "reading https://www.football-data.co.uk/mmz4281/9899/SC0.csv\n",
      "reading https://www.football-data.co.uk/mmz4281/0001/SC3.csv\n"
     ]
    },
    {
     "name": "stderr",
     "output_type": "stream",
     "text": [
      "/var/folders/xn/jj94n4tj5w90v1m3njdf44n80000gp/T/ipykernel_98487/1440073136.py:28: UserWarning: Could not infer format, so each element will be parsed individually, falling back to `dateutil`. To ensure parsing is consistent and as-expected, please specify a format.\n",
      "  df = pd.read_csv(\n",
      "/var/folders/xn/jj94n4tj5w90v1m3njdf44n80000gp/T/ipykernel_98487/1440073136.py:28: UserWarning: Could not infer format, so each element will be parsed individually, falling back to `dateutil`. To ensure parsing is consistent and as-expected, please specify a format.\n",
      "  df = pd.read_csv(\n"
     ]
    },
    {
     "name": "stdout",
     "output_type": "stream",
     "text": [
      "reading https://www.football-data.co.uk/mmz4281/0203/SC3.csv\n",
      "reading https://www.football-data.co.uk/mmz4281/2021/SC3.csv\n",
      "reading https://www.football-data.co.uk/mmz4281/0910/SC0.csv\n"
     ]
    },
    {
     "name": "stderr",
     "output_type": "stream",
     "text": [
      "/var/folders/xn/jj94n4tj5w90v1m3njdf44n80000gp/T/ipykernel_98487/1440073136.py:28: UserWarning: Could not infer format, so each element will be parsed individually, falling back to `dateutil`. To ensure parsing is consistent and as-expected, please specify a format.\n",
      "  df = pd.read_csv(\n"
     ]
    },
    {
     "name": "stdout",
     "output_type": "stream",
     "text": [
      "reading https://www.football-data.co.uk/mmz4281/2223/SC1.csv\n",
      "reading https://www.football-data.co.uk/mmz4281/0102/SC2.csv\n"
     ]
    },
    {
     "name": "stderr",
     "output_type": "stream",
     "text": [
      "/var/folders/xn/jj94n4tj5w90v1m3njdf44n80000gp/T/ipykernel_98487/1440073136.py:28: UserWarning: Could not infer format, so each element will be parsed individually, falling back to `dateutil`. To ensure parsing is consistent and as-expected, please specify a format.\n",
      "  df = pd.read_csv(\n"
     ]
    },
    {
     "name": "stdout",
     "output_type": "stream",
     "text": [
      "reading https://www.football-data.co.uk/mmz4281/1011/SC0.csv\n"
     ]
    },
    {
     "name": "stderr",
     "output_type": "stream",
     "text": [
      "/var/folders/xn/jj94n4tj5w90v1m3njdf44n80000gp/T/ipykernel_98487/1440073136.py:28: UserWarning: Could not infer format, so each element will be parsed individually, falling back to `dateutil`. To ensure parsing is consistent and as-expected, please specify a format.\n",
      "  df = pd.read_csv(\n",
      "/var/folders/xn/jj94n4tj5w90v1m3njdf44n80000gp/T/ipykernel_98487/1440073136.py:28: UserWarning: Could not infer format, so each element will be parsed individually, falling back to `dateutil`. To ensure parsing is consistent and as-expected, please specify a format.\n",
      "  df = pd.read_csv(\n"
     ]
    },
    {
     "name": "stdout",
     "output_type": "stream",
     "text": [
      "reading https://www.football-data.co.uk/mmz4281/9596/SC0.csv\n",
      "reading https://www.football-data.co.uk/mmz4281/1617/SC0.csv\n"
     ]
    },
    {
     "name": "stderr",
     "output_type": "stream",
     "text": [
      "/var/folders/xn/jj94n4tj5w90v1m3njdf44n80000gp/T/ipykernel_98487/1440073136.py:28: UserWarning: Could not infer format, so each element will be parsed individually, falling back to `dateutil`. To ensure parsing is consistent and as-expected, please specify a format.\n",
      "  df = pd.read_csv(\n"
     ]
    },
    {
     "name": "stdout",
     "output_type": "stream",
     "text": [
      "reading https://www.football-data.co.uk/mmz4281/2223/SC2.csv\n",
      "reading https://www.football-data.co.uk/mmz4281/1819/SC0.csv\n",
      "reading https://www.football-data.co.uk/mmz4281/2122/SC0.csv\n",
      "reading https://www.football-data.co.uk/mmz4281/0304/SC3.csv\n",
      "reading https://www.football-data.co.uk/mmz4281/9900/SC2.csv\n"
     ]
    },
    {
     "name": "stderr",
     "output_type": "stream",
     "text": [
      "/var/folders/xn/jj94n4tj5w90v1m3njdf44n80000gp/T/ipykernel_98487/1440073136.py:28: UserWarning: Could not infer format, so each element will be parsed individually, falling back to `dateutil`. To ensure parsing is consistent and as-expected, please specify a format.\n",
      "  df = pd.read_csv(\n",
      "/var/folders/xn/jj94n4tj5w90v1m3njdf44n80000gp/T/ipykernel_98487/1440073136.py:28: UserWarning: Could not infer format, so each element will be parsed individually, falling back to `dateutil`. To ensure parsing is consistent and as-expected, please specify a format.\n",
      "  df = pd.read_csv(\n"
     ]
    },
    {
     "name": "stdout",
     "output_type": "stream",
     "text": [
      "reading https://www.football-data.co.uk/mmz4281/2324/SC1.csv\n",
      "reading https://www.football-data.co.uk/mmz4281/0708/SC1.csv\n"
     ]
    },
    {
     "name": "stderr",
     "output_type": "stream",
     "text": [
      "/var/folders/xn/jj94n4tj5w90v1m3njdf44n80000gp/T/ipykernel_98487/1440073136.py:28: UserWarning: Could not infer format, so each element will be parsed individually, falling back to `dateutil`. To ensure parsing is consistent and as-expected, please specify a format.\n",
      "  df = pd.read_csv(\n",
      "/var/folders/xn/jj94n4tj5w90v1m3njdf44n80000gp/T/ipykernel_98487/1440073136.py:28: UserWarning: Could not infer format, so each element will be parsed individually, falling back to `dateutil`. To ensure parsing is consistent and as-expected, please specify a format.\n",
      "  df = pd.read_csv(\n"
     ]
    },
    {
     "name": "stdout",
     "output_type": "stream",
     "text": [
      "reading https://www.football-data.co.uk/mmz4281/9899/SC1.csv\n",
      "reading https://www.football-data.co.uk/mmz4281/2324/SC2.csv\n",
      "reading https://www.football-data.co.uk/mmz4281/1718/SC0.csv\n"
     ]
    },
    {
     "name": "stderr",
     "output_type": "stream",
     "text": [
      "/var/folders/xn/jj94n4tj5w90v1m3njdf44n80000gp/T/ipykernel_98487/1440073136.py:28: UserWarning: Could not infer format, so each element will be parsed individually, falling back to `dateutil`. To ensure parsing is consistent and as-expected, please specify a format.\n",
      "  df = pd.read_csv(\n"
     ]
    },
    {
     "name": "stdout",
     "output_type": "stream",
     "text": [
      "reading https://www.football-data.co.uk/mmz4281/0607/SC1.csv\n"
     ]
    },
    {
     "name": "stderr",
     "output_type": "stream",
     "text": [
      "/var/folders/xn/jj94n4tj5w90v1m3njdf44n80000gp/T/ipykernel_98487/1440073136.py:28: UserWarning: Could not infer format, so each element will be parsed individually, falling back to `dateutil`. To ensure parsing is consistent and as-expected, please specify a format.\n",
      "  df = pd.read_csv(\n"
     ]
    },
    {
     "name": "stdout",
     "output_type": "stream",
     "text": [
      "reading https://www.football-data.co.uk/mmz4281/1112/SC2.csv\n"
     ]
    },
    {
     "name": "stderr",
     "output_type": "stream",
     "text": [
      "/var/folders/xn/jj94n4tj5w90v1m3njdf44n80000gp/T/ipykernel_98487/1440073136.py:28: UserWarning: Could not infer format, so each element will be parsed individually, falling back to `dateutil`. To ensure parsing is consistent and as-expected, please specify a format.\n",
      "  df = pd.read_csv(\n"
     ]
    },
    {
     "name": "stdout",
     "output_type": "stream",
     "text": [
      "reading https://www.football-data.co.uk/mmz4281/1819/SC2.csv\n",
      "reading https://www.football-data.co.uk/mmz4281/1718/SC3.csv\n"
     ]
    },
    {
     "name": "stderr",
     "output_type": "stream",
     "text": [
      "/var/folders/xn/jj94n4tj5w90v1m3njdf44n80000gp/T/ipykernel_98487/1440073136.py:28: UserWarning: Could not infer format, so each element will be parsed individually, falling back to `dateutil`. To ensure parsing is consistent and as-expected, please specify a format.\n",
      "  df = pd.read_csv(\n"
     ]
    },
    {
     "name": "stdout",
     "output_type": "stream",
     "text": [
      "reading https://www.football-data.co.uk/mmz4281/1415/SC1.csv\n"
     ]
    },
    {
     "name": "stderr",
     "output_type": "stream",
     "text": [
      "/var/folders/xn/jj94n4tj5w90v1m3njdf44n80000gp/T/ipykernel_98487/1440073136.py:28: UserWarning: Could not infer format, so each element will be parsed individually, falling back to `dateutil`. To ensure parsing is consistent and as-expected, please specify a format.\n",
      "  df = pd.read_csv(\n"
     ]
    },
    {
     "name": "stdout",
     "output_type": "stream",
     "text": [
      "reading https://www.football-data.co.uk/mmz4281/2425/SC0.csv\n",
      "reading https://www.football-data.co.uk/mmz4281/0910/SC1.csv\n"
     ]
    },
    {
     "name": "stderr",
     "output_type": "stream",
     "text": [
      "/var/folders/xn/jj94n4tj5w90v1m3njdf44n80000gp/T/ipykernel_98487/1440073136.py:28: UserWarning: Could not infer format, so each element will be parsed individually, falling back to `dateutil`. To ensure parsing is consistent and as-expected, please specify a format.\n",
      "  df = pd.read_csv(\n"
     ]
    },
    {
     "name": "stdout",
     "output_type": "stream",
     "text": [
      "reading https://www.football-data.co.uk/mmz4281/1314/SC2.csv\n"
     ]
    },
    {
     "name": "stderr",
     "output_type": "stream",
     "text": [
      "/var/folders/xn/jj94n4tj5w90v1m3njdf44n80000gp/T/ipykernel_98487/1440073136.py:28: UserWarning: Could not infer format, so each element will be parsed individually, falling back to `dateutil`. To ensure parsing is consistent and as-expected, please specify a format.\n",
      "  df = pd.read_csv(\n"
     ]
    },
    {
     "name": "stdout",
     "output_type": "stream",
     "text": [
      "reading https://www.football-data.co.uk/mmz4281/0910/SC2.csv\n"
     ]
    },
    {
     "name": "stderr",
     "output_type": "stream",
     "text": [
      "/var/folders/xn/jj94n4tj5w90v1m3njdf44n80000gp/T/ipykernel_98487/1440073136.py:28: UserWarning: Could not infer format, so each element will be parsed individually, falling back to `dateutil`. To ensure parsing is consistent and as-expected, please specify a format.\n",
      "  df = pd.read_csv(\n"
     ]
    },
    {
     "name": "stdout",
     "output_type": "stream",
     "text": [
      "reading https://www.football-data.co.uk/mmz4281/0809/SC0.csv\n"
     ]
    },
    {
     "name": "stderr",
     "output_type": "stream",
     "text": [
      "/var/folders/xn/jj94n4tj5w90v1m3njdf44n80000gp/T/ipykernel_98487/1440073136.py:28: UserWarning: Could not infer format, so each element will be parsed individually, falling back to `dateutil`. To ensure parsing is consistent and as-expected, please specify a format.\n",
      "  df = pd.read_csv(\n"
     ]
    },
    {
     "name": "stdout",
     "output_type": "stream",
     "text": [
      "reading https://www.football-data.co.uk/mmz4281/0405/SC3.csv\n"
     ]
    },
    {
     "name": "stderr",
     "output_type": "stream",
     "text": [
      "/var/folders/xn/jj94n4tj5w90v1m3njdf44n80000gp/T/ipykernel_98487/1440073136.py:28: UserWarning: Could not infer format, so each element will be parsed individually, falling back to `dateutil`. To ensure parsing is consistent and as-expected, please specify a format.\n",
      "  df = pd.read_csv(\n"
     ]
    },
    {
     "name": "stdout",
     "output_type": "stream",
     "text": [
      "reading https://www.football-data.co.uk/mmz4281/2223/SC3.csv\n",
      "reading https://www.football-data.co.uk/mmz4281/1718/SC1.csv\n",
      "reading https://www.football-data.co.uk/mmz4281/0001/SC0.csv\n"
     ]
    },
    {
     "name": "stderr",
     "output_type": "stream",
     "text": [
      "/var/folders/xn/jj94n4tj5w90v1m3njdf44n80000gp/T/ipykernel_98487/1440073136.py:28: UserWarning: Could not infer format, so each element will be parsed individually, falling back to `dateutil`. To ensure parsing is consistent and as-expected, please specify a format.\n",
      "  df = pd.read_csv(\n",
      "/var/folders/xn/jj94n4tj5w90v1m3njdf44n80000gp/T/ipykernel_98487/1440073136.py:28: UserWarning: Could not infer format, so each element will be parsed individually, falling back to `dateutil`. To ensure parsing is consistent and as-expected, please specify a format.\n",
      "  df = pd.read_csv(\n"
     ]
    },
    {
     "name": "stdout",
     "output_type": "stream",
     "text": [
      "reading https://www.football-data.co.uk/mmz4281/0304/SC2.csv\n",
      "reading https://www.football-data.co.uk/mmz4281/1617/SC3.csv\n"
     ]
    },
    {
     "name": "stderr",
     "output_type": "stream",
     "text": [
      "/var/folders/xn/jj94n4tj5w90v1m3njdf44n80000gp/T/ipykernel_98487/1440073136.py:28: UserWarning: Could not infer format, so each element will be parsed individually, falling back to `dateutil`. To ensure parsing is consistent and as-expected, please specify a format.\n",
      "  df = pd.read_csv(\n"
     ]
    },
    {
     "name": "stdout",
     "output_type": "stream",
     "text": [
      "reading https://www.football-data.co.uk/mmz4281/1516/SC1.csv\n"
     ]
    },
    {
     "name": "stderr",
     "output_type": "stream",
     "text": [
      "/var/folders/xn/jj94n4tj5w90v1m3njdf44n80000gp/T/ipykernel_98487/1440073136.py:28: UserWarning: Could not infer format, so each element will be parsed individually, falling back to `dateutil`. To ensure parsing is consistent and as-expected, please specify a format.\n",
      "  df = pd.read_csv(\n"
     ]
    },
    {
     "name": "stdout",
     "output_type": "stream",
     "text": [
      "reading https://www.football-data.co.uk/mmz4281/0405/SC0.csv\n"
     ]
    },
    {
     "name": "stderr",
     "output_type": "stream",
     "text": [
      "/var/folders/xn/jj94n4tj5w90v1m3njdf44n80000gp/T/ipykernel_98487/1440073136.py:28: UserWarning: Could not infer format, so each element will be parsed individually, falling back to `dateutil`. To ensure parsing is consistent and as-expected, please specify a format.\n",
      "  df = pd.read_csv(\n",
      "/var/folders/xn/jj94n4tj5w90v1m3njdf44n80000gp/T/ipykernel_98487/1440073136.py:28: UserWarning: Could not infer format, so each element will be parsed individually, falling back to `dateutil`. To ensure parsing is consistent and as-expected, please specify a format.\n",
      "  df = pd.read_csv(\n"
     ]
    },
    {
     "name": "stdout",
     "output_type": "stream",
     "text": [
      "reading https://www.football-data.co.uk/mmz4281/9900/SC1.csv\n",
      "reading https://www.football-data.co.uk/mmz4281/0203/SC0.csv\n"
     ]
    },
    {
     "name": "stderr",
     "output_type": "stream",
     "text": [
      "/var/folders/xn/jj94n4tj5w90v1m3njdf44n80000gp/T/ipykernel_98487/1440073136.py:28: UserWarning: Could not infer format, so each element will be parsed individually, falling back to `dateutil`. To ensure parsing is consistent and as-expected, please specify a format.\n",
      "  df = pd.read_csv(\n",
      "/var/folders/xn/jj94n4tj5w90v1m3njdf44n80000gp/T/ipykernel_98487/1440073136.py:28: UserWarning: Could not infer format, so each element will be parsed individually, falling back to `dateutil`. To ensure parsing is consistent and as-expected, please specify a format.\n",
      "  df = pd.read_csv(\n"
     ]
    },
    {
     "name": "stdout",
     "output_type": "stream",
     "text": [
      "reading https://www.football-data.co.uk/mmz4281/9798/SC0.csv\n",
      "reading https://www.football-data.co.uk/mmz4281/0607/SC3.csv\n"
     ]
    },
    {
     "name": "stderr",
     "output_type": "stream",
     "text": [
      "/var/folders/xn/jj94n4tj5w90v1m3njdf44n80000gp/T/ipykernel_98487/1440073136.py:28: UserWarning: Could not infer format, so each element will be parsed individually, falling back to `dateutil`. To ensure parsing is consistent and as-expected, please specify a format.\n",
      "  df = pd.read_csv(\n"
     ]
    },
    {
     "name": "stdout",
     "output_type": "stream",
     "text": [
      "reading https://www.football-data.co.uk/mmz4281/1112/SC3.csv\n"
     ]
    },
    {
     "name": "stderr",
     "output_type": "stream",
     "text": [
      "/var/folders/xn/jj94n4tj5w90v1m3njdf44n80000gp/T/ipykernel_98487/1440073136.py:28: UserWarning: Could not infer format, so each element will be parsed individually, falling back to `dateutil`. To ensure parsing is consistent and as-expected, please specify a format.\n",
      "  df = pd.read_csv(\n"
     ]
    },
    {
     "name": "stdout",
     "output_type": "stream",
     "text": [
      "germany has 64 urls\n",
      "reading https://www.football-data.co.uk/mmz4281/2324/D2.csv\n",
      "reading https://www.football-data.co.uk/mmz4281/1819/D2.csv\n",
      "reading https://www.football-data.co.uk/mmz4281/9394/D1.csv\n"
     ]
    },
    {
     "name": "stderr",
     "output_type": "stream",
     "text": [
      "/var/folders/xn/jj94n4tj5w90v1m3njdf44n80000gp/T/ipykernel_98487/1440073136.py:28: UserWarning: Could not infer format, so each element will be parsed individually, falling back to `dateutil`. To ensure parsing is consistent and as-expected, please specify a format.\n",
      "  df = pd.read_csv(\n"
     ]
    },
    {
     "name": "stdout",
     "output_type": "stream",
     "text": [
      "reading https://www.football-data.co.uk/mmz4281/1011/D2.csv\n"
     ]
    },
    {
     "name": "stderr",
     "output_type": "stream",
     "text": [
      "/var/folders/xn/jj94n4tj5w90v1m3njdf44n80000gp/T/ipykernel_98487/1440073136.py:28: UserWarning: Could not infer format, so each element will be parsed individually, falling back to `dateutil`. To ensure parsing is consistent and as-expected, please specify a format.\n",
      "  df = pd.read_csv(\n",
      "/var/folders/xn/jj94n4tj5w90v1m3njdf44n80000gp/T/ipykernel_98487/1440073136.py:28: UserWarning: Could not infer format, so each element will be parsed individually, falling back to `dateutil`. To ensure parsing is consistent and as-expected, please specify a format.\n",
      "  df = pd.read_csv(\n"
     ]
    },
    {
     "name": "stdout",
     "output_type": "stream",
     "text": [
      "reading https://www.football-data.co.uk/mmz4281/9596/D1.csv\n",
      "reading https://www.football-data.co.uk/mmz4281/1314/D2.csv\n"
     ]
    },
    {
     "name": "stderr",
     "output_type": "stream",
     "text": [
      "/var/folders/xn/jj94n4tj5w90v1m3njdf44n80000gp/T/ipykernel_98487/1440073136.py:28: UserWarning: Could not infer format, so each element will be parsed individually, falling back to `dateutil`. To ensure parsing is consistent and as-expected, please specify a format.\n",
      "  df = pd.read_csv(\n"
     ]
    },
    {
     "name": "stdout",
     "output_type": "stream",
     "text": [
      "reading https://www.football-data.co.uk/mmz4281/0304/D1.csv\n"
     ]
    },
    {
     "name": "stderr",
     "output_type": "stream",
     "text": [
      "/var/folders/xn/jj94n4tj5w90v1m3njdf44n80000gp/T/ipykernel_98487/1440073136.py:28: UserWarning: Could not infer format, so each element will be parsed individually, falling back to `dateutil`. To ensure parsing is consistent and as-expected, please specify a format.\n",
      "  df = pd.read_csv(\n"
     ]
    },
    {
     "name": "stdout",
     "output_type": "stream",
     "text": [
      "reading https://www.football-data.co.uk/mmz4281/1011/D1.csv\n"
     ]
    },
    {
     "name": "stderr",
     "output_type": "stream",
     "text": [
      "/var/folders/xn/jj94n4tj5w90v1m3njdf44n80000gp/T/ipykernel_98487/1440073136.py:28: UserWarning: Could not infer format, so each element will be parsed individually, falling back to `dateutil`. To ensure parsing is consistent and as-expected, please specify a format.\n",
      "  df = pd.read_csv(\n"
     ]
    },
    {
     "name": "stdout",
     "output_type": "stream",
     "text": [
      "reading https://www.football-data.co.uk/mmz4281/2021/D1.csv\n",
      "reading https://www.football-data.co.uk/mmz4281/9899/D2.csv\n",
      "reading https://www.football-data.co.uk/mmz4281/1415/D1.csv\n"
     ]
    },
    {
     "name": "stderr",
     "output_type": "stream",
     "text": [
      "/var/folders/xn/jj94n4tj5w90v1m3njdf44n80000gp/T/ipykernel_98487/1440073136.py:28: UserWarning: Could not infer format, so each element will be parsed individually, falling back to `dateutil`. To ensure parsing is consistent and as-expected, please specify a format.\n",
      "  df = pd.read_csv(\n",
      "/var/folders/xn/jj94n4tj5w90v1m3njdf44n80000gp/T/ipykernel_98487/1440073136.py:28: UserWarning: Could not infer format, so each element will be parsed individually, falling back to `dateutil`. To ensure parsing is consistent and as-expected, please specify a format.\n",
      "  df = pd.read_csv(\n"
     ]
    },
    {
     "name": "stdout",
     "output_type": "stream",
     "text": [
      "reading https://www.football-data.co.uk/mmz4281/0102/D1.csv\n"
     ]
    },
    {
     "name": "stderr",
     "output_type": "stream",
     "text": [
      "/var/folders/xn/jj94n4tj5w90v1m3njdf44n80000gp/T/ipykernel_98487/1440073136.py:28: UserWarning: Could not infer format, so each element will be parsed individually, falling back to `dateutil`. To ensure parsing is consistent and as-expected, please specify a format.\n",
      "  df = pd.read_csv(\n"
     ]
    },
    {
     "name": "stdout",
     "output_type": "stream",
     "text": [
      "reading https://www.football-data.co.uk/mmz4281/1617/D2.csv\n"
     ]
    },
    {
     "name": "stderr",
     "output_type": "stream",
     "text": [
      "/var/folders/xn/jj94n4tj5w90v1m3njdf44n80000gp/T/ipykernel_98487/1440073136.py:28: UserWarning: Could not infer format, so each element will be parsed individually, falling back to `dateutil`. To ensure parsing is consistent and as-expected, please specify a format.\n",
      "  df = pd.read_csv(\n",
      "/var/folders/xn/jj94n4tj5w90v1m3njdf44n80000gp/T/ipykernel_98487/1440073136.py:28: UserWarning: Could not infer format, so each element will be parsed individually, falling back to `dateutil`. To ensure parsing is consistent and as-expected, please specify a format.\n",
      "  df = pd.read_csv(\n"
     ]
    },
    {
     "name": "stdout",
     "output_type": "stream",
     "text": [
      "reading https://www.football-data.co.uk/mmz4281/9899/D1.csv\n",
      "reading https://www.football-data.co.uk/mmz4281/0910/D1.csv\n"
     ]
    },
    {
     "name": "stderr",
     "output_type": "stream",
     "text": [
      "/var/folders/xn/jj94n4tj5w90v1m3njdf44n80000gp/T/ipykernel_98487/1440073136.py:28: UserWarning: Could not infer format, so each element will be parsed individually, falling back to `dateutil`. To ensure parsing is consistent and as-expected, please specify a format.\n",
      "  df = pd.read_csv(\n"
     ]
    },
    {
     "name": "stdout",
     "output_type": "stream",
     "text": [
      "reading https://www.football-data.co.uk/mmz4281/0203/D2.csv\n"
     ]
    },
    {
     "name": "stderr",
     "output_type": "stream",
     "text": [
      "/var/folders/xn/jj94n4tj5w90v1m3njdf44n80000gp/T/ipykernel_98487/1440073136.py:28: UserWarning: Could not infer format, so each element will be parsed individually, falling back to `dateutil`. To ensure parsing is consistent and as-expected, please specify a format.\n",
      "  df = pd.read_csv(\n"
     ]
    },
    {
     "name": "stdout",
     "output_type": "stream",
     "text": [
      "reading https://www.football-data.co.uk/mmz4281/2324/D1.csv\n",
      "reading https://www.football-data.co.uk/mmz4281/0506/D1.csv\n"
     ]
    },
    {
     "name": "stderr",
     "output_type": "stream",
     "text": [
      "/var/folders/xn/jj94n4tj5w90v1m3njdf44n80000gp/T/ipykernel_98487/1440073136.py:28: UserWarning: Could not infer format, so each element will be parsed individually, falling back to `dateutil`. To ensure parsing is consistent and as-expected, please specify a format.\n",
      "  df = pd.read_csv(\n"
     ]
    },
    {
     "name": "stdout",
     "output_type": "stream",
     "text": [
      "reading https://www.football-data.co.uk/mmz4281/1314/D1.csv\n"
     ]
    },
    {
     "name": "stderr",
     "output_type": "stream",
     "text": [
      "/var/folders/xn/jj94n4tj5w90v1m3njdf44n80000gp/T/ipykernel_98487/1440073136.py:28: UserWarning: Could not infer format, so each element will be parsed individually, falling back to `dateutil`. To ensure parsing is consistent and as-expected, please specify a format.\n",
      "  df = pd.read_csv(\n",
      "/var/folders/xn/jj94n4tj5w90v1m3njdf44n80000gp/T/ipykernel_98487/1440073136.py:28: UserWarning: Could not infer format, so each element will be parsed individually, falling back to `dateutil`. To ensure parsing is consistent and as-expected, please specify a format.\n",
      "  df = pd.read_csv(\n"
     ]
    },
    {
     "name": "stdout",
     "output_type": "stream",
     "text": [
      "reading https://www.football-data.co.uk/mmz4281/9495/D1.csv\n",
      "reading https://www.football-data.co.uk/mmz4281/1112/D1.csv\n"
     ]
    },
    {
     "name": "stderr",
     "output_type": "stream",
     "text": [
      "/var/folders/xn/jj94n4tj5w90v1m3njdf44n80000gp/T/ipykernel_98487/1440073136.py:28: UserWarning: Could not infer format, so each element will be parsed individually, falling back to `dateutil`. To ensure parsing is consistent and as-expected, please specify a format.\n",
      "  df = pd.read_csv(\n"
     ]
    },
    {
     "name": "stdout",
     "output_type": "stream",
     "text": [
      "reading https://www.football-data.co.uk/mmz4281/0809/D1.csv\n"
     ]
    },
    {
     "name": "stderr",
     "output_type": "stream",
     "text": [
      "/var/folders/xn/jj94n4tj5w90v1m3njdf44n80000gp/T/ipykernel_98487/1440073136.py:28: UserWarning: Could not infer format, so each element will be parsed individually, falling back to `dateutil`. To ensure parsing is consistent and as-expected, please specify a format.\n",
      "  df = pd.read_csv(\n"
     ]
    },
    {
     "name": "stdout",
     "output_type": "stream",
     "text": [
      "reading https://www.football-data.co.uk/mmz4281/0405/D2.csv\n"
     ]
    },
    {
     "name": "stderr",
     "output_type": "stream",
     "text": [
      "/var/folders/xn/jj94n4tj5w90v1m3njdf44n80000gp/T/ipykernel_98487/1440073136.py:28: UserWarning: Could not infer format, so each element will be parsed individually, falling back to `dateutil`. To ensure parsing is consistent and as-expected, please specify a format.\n",
      "  df = pd.read_csv(\n"
     ]
    },
    {
     "name": "stdout",
     "output_type": "stream",
     "text": [
      "reading https://www.football-data.co.uk/mmz4281/0708/D1.csv\n"
     ]
    },
    {
     "name": "stderr",
     "output_type": "stream",
     "text": [
      "/var/folders/xn/jj94n4tj5w90v1m3njdf44n80000gp/T/ipykernel_98487/1440073136.py:28: UserWarning: Could not infer format, so each element will be parsed individually, falling back to `dateutil`. To ensure parsing is consistent and as-expected, please specify a format.\n",
      "  df = pd.read_csv(\n"
     ]
    },
    {
     "name": "stdout",
     "output_type": "stream",
     "text": [
      "reading https://www.football-data.co.uk/mmz4281/1213/D1.csv\n"
     ]
    },
    {
     "name": "stderr",
     "output_type": "stream",
     "text": [
      "/var/folders/xn/jj94n4tj5w90v1m3njdf44n80000gp/T/ipykernel_98487/1440073136.py:28: UserWarning: Could not infer format, so each element will be parsed individually, falling back to `dateutil`. To ensure parsing is consistent and as-expected, please specify a format.\n",
      "  df = pd.read_csv(\n"
     ]
    },
    {
     "name": "stdout",
     "output_type": "stream",
     "text": [
      "reading https://www.football-data.co.uk/mmz4281/0910/D2.csv\n"
     ]
    },
    {
     "name": "stderr",
     "output_type": "stream",
     "text": [
      "/var/folders/xn/jj94n4tj5w90v1m3njdf44n80000gp/T/ipykernel_98487/1440073136.py:28: UserWarning: Could not infer format, so each element will be parsed individually, falling back to `dateutil`. To ensure parsing is consistent and as-expected, please specify a format.\n",
      "  df = pd.read_csv(\n"
     ]
    },
    {
     "name": "stdout",
     "output_type": "stream",
     "text": [
      "reading https://www.football-data.co.uk/mmz4281/1920/D2.csv\n",
      "reading https://www.football-data.co.uk/mmz4281/2021/D2.csv\n",
      "reading https://www.football-data.co.uk/mmz4281/1617/D1.csv\n"
     ]
    },
    {
     "name": "stderr",
     "output_type": "stream",
     "text": [
      "/var/folders/xn/jj94n4tj5w90v1m3njdf44n80000gp/T/ipykernel_98487/1440073136.py:28: UserWarning: Could not infer format, so each element will be parsed individually, falling back to `dateutil`. To ensure parsing is consistent and as-expected, please specify a format.\n",
      "  df = pd.read_csv(\n"
     ]
    },
    {
     "name": "stdout",
     "output_type": "stream",
     "text": [
      "reading https://www.football-data.co.uk/mmz4281/1213/D2.csv\n"
     ]
    },
    {
     "name": "stderr",
     "output_type": "stream",
     "text": [
      "/var/folders/xn/jj94n4tj5w90v1m3njdf44n80000gp/T/ipykernel_98487/1440073136.py:28: UserWarning: Could not infer format, so each element will be parsed individually, falling back to `dateutil`. To ensure parsing is consistent and as-expected, please specify a format.\n",
      "  df = pd.read_csv(\n"
     ]
    },
    {
     "name": "stdout",
     "output_type": "stream",
     "text": [
      "reading https://www.football-data.co.uk/mmz4281/0304/D2.csv\n"
     ]
    },
    {
     "name": "stderr",
     "output_type": "stream",
     "text": [
      "/var/folders/xn/jj94n4tj5w90v1m3njdf44n80000gp/T/ipykernel_98487/1440073136.py:28: UserWarning: Could not infer format, so each element will be parsed individually, falling back to `dateutil`. To ensure parsing is consistent and as-expected, please specify a format.\n",
      "  df = pd.read_csv(\n"
     ]
    },
    {
     "name": "stdout",
     "output_type": "stream",
     "text": [
      "reading https://www.football-data.co.uk/mmz4281/1920/D1.csv\n",
      "reading https://www.football-data.co.uk/mmz4281/0001/D2.csv\n"
     ]
    },
    {
     "name": "stderr",
     "output_type": "stream",
     "text": [
      "/var/folders/xn/jj94n4tj5w90v1m3njdf44n80000gp/T/ipykernel_98487/1440073136.py:28: UserWarning: Could not infer format, so each element will be parsed individually, falling back to `dateutil`. To ensure parsing is consistent and as-expected, please specify a format.\n",
      "  df = pd.read_csv(\n"
     ]
    },
    {
     "name": "stdout",
     "output_type": "stream",
     "text": [
      "reading https://www.football-data.co.uk/mmz4281/2425/D2.csv\n",
      "reading https://www.football-data.co.uk/mmz4281/0001/D1.csv\n"
     ]
    },
    {
     "name": "stderr",
     "output_type": "stream",
     "text": [
      "/var/folders/xn/jj94n4tj5w90v1m3njdf44n80000gp/T/ipykernel_98487/1440073136.py:28: UserWarning: Could not infer format, so each element will be parsed individually, falling back to `dateutil`. To ensure parsing is consistent and as-expected, please specify a format.\n",
      "  df = pd.read_csv(\n",
      "/var/folders/xn/jj94n4tj5w90v1m3njdf44n80000gp/T/ipykernel_98487/1440073136.py:28: UserWarning: Could not infer format, so each element will be parsed individually, falling back to `dateutil`. To ensure parsing is consistent and as-expected, please specify a format.\n",
      "  df = pd.read_csv(\n"
     ]
    },
    {
     "name": "stdout",
     "output_type": "stream",
     "text": [
      "reading https://www.football-data.co.uk/mmz4281/9900/D2.csv\n",
      "reading https://www.football-data.co.uk/mmz4281/1415/D2.csv\n"
     ]
    },
    {
     "name": "stderr",
     "output_type": "stream",
     "text": [
      "/var/folders/xn/jj94n4tj5w90v1m3njdf44n80000gp/T/ipykernel_98487/1440073136.py:28: UserWarning: Could not infer format, so each element will be parsed individually, falling back to `dateutil`. To ensure parsing is consistent and as-expected, please specify a format.\n",
      "  df = pd.read_csv(\n"
     ]
    },
    {
     "name": "stdout",
     "output_type": "stream",
     "text": [
      "reading https://www.football-data.co.uk/mmz4281/2223/D2.csv\n",
      "reading https://www.football-data.co.uk/mmz4281/1718/D2.csv\n"
     ]
    },
    {
     "name": "stderr",
     "output_type": "stream",
     "text": [
      "/var/folders/xn/jj94n4tj5w90v1m3njdf44n80000gp/T/ipykernel_98487/1440073136.py:28: UserWarning: Could not infer format, so each element will be parsed individually, falling back to `dateutil`. To ensure parsing is consistent and as-expected, please specify a format.\n",
      "  df = pd.read_csv(\n"
     ]
    },
    {
     "name": "stdout",
     "output_type": "stream",
     "text": [
      "reading https://www.football-data.co.uk/mmz4281/2425/D1.csv\n",
      "reading https://www.football-data.co.uk/mmz4281/9798/D2.csv\n",
      "reading https://www.football-data.co.uk/mmz4281/1516/D1.csv\n"
     ]
    },
    {
     "name": "stderr",
     "output_type": "stream",
     "text": [
      "/var/folders/xn/jj94n4tj5w90v1m3njdf44n80000gp/T/ipykernel_98487/1440073136.py:28: UserWarning: Could not infer format, so each element will be parsed individually, falling back to `dateutil`. To ensure parsing is consistent and as-expected, please specify a format.\n",
      "  df = pd.read_csv(\n",
      "/var/folders/xn/jj94n4tj5w90v1m3njdf44n80000gp/T/ipykernel_98487/1440073136.py:28: UserWarning: Could not infer format, so each element will be parsed individually, falling back to `dateutil`. To ensure parsing is consistent and as-expected, please specify a format.\n",
      "  df = pd.read_csv(\n",
      "/var/folders/xn/jj94n4tj5w90v1m3njdf44n80000gp/T/ipykernel_98487/1440073136.py:28: UserWarning: Could not infer format, so each element will be parsed individually, falling back to `dateutil`. To ensure parsing is consistent and as-expected, please specify a format.\n",
      "  df = pd.read_csv(\n"
     ]
    },
    {
     "name": "stdout",
     "output_type": "stream",
     "text": [
      "reading https://www.football-data.co.uk/mmz4281/9697/D1.csv\n",
      "reading https://www.football-data.co.uk/mmz4281/9495/D2.csv\n"
     ]
    },
    {
     "name": "stderr",
     "output_type": "stream",
     "text": [
      "/var/folders/xn/jj94n4tj5w90v1m3njdf44n80000gp/T/ipykernel_98487/1440073136.py:28: UserWarning: Could not infer format, so each element will be parsed individually, falling back to `dateutil`. To ensure parsing is consistent and as-expected, please specify a format.\n",
      "  df = pd.read_csv(\n"
     ]
    },
    {
     "name": "stdout",
     "output_type": "stream",
     "text": [
      "reading https://www.football-data.co.uk/mmz4281/0102/D2.csv\n"
     ]
    },
    {
     "name": "stderr",
     "output_type": "stream",
     "text": [
      "/var/folders/xn/jj94n4tj5w90v1m3njdf44n80000gp/T/ipykernel_98487/1440073136.py:28: UserWarning: Could not infer format, so each element will be parsed individually, falling back to `dateutil`. To ensure parsing is consistent and as-expected, please specify a format.\n",
      "  df = pd.read_csv(\n"
     ]
    },
    {
     "name": "stdout",
     "output_type": "stream",
     "text": [
      "reading https://www.football-data.co.uk/mmz4281/1718/D1.csv\n"
     ]
    },
    {
     "name": "stderr",
     "output_type": "stream",
     "text": [
      "/var/folders/xn/jj94n4tj5w90v1m3njdf44n80000gp/T/ipykernel_98487/1440073136.py:28: UserWarning: Could not infer format, so each element will be parsed individually, falling back to `dateutil`. To ensure parsing is consistent and as-expected, please specify a format.\n",
      "  df = pd.read_csv(\n"
     ]
    },
    {
     "name": "stdout",
     "output_type": "stream",
     "text": [
      "reading https://www.football-data.co.uk/mmz4281/0809/D2.csv\n",
      "reading https://www.football-data.co.uk/mmz4281/2122/D2.csv\n",
      "reading https://www.football-data.co.uk/mmz4281/9394/D2.csv\n",
      "reading https://www.football-data.co.uk/mmz4281/2122/D1.csv\n"
     ]
    },
    {
     "name": "stderr",
     "output_type": "stream",
     "text": [
      "/var/folders/xn/jj94n4tj5w90v1m3njdf44n80000gp/T/ipykernel_98487/1440073136.py:28: UserWarning: Could not infer format, so each element will be parsed individually, falling back to `dateutil`. To ensure parsing is consistent and as-expected, please specify a format.\n",
      "  df = pd.read_csv(\n"
     ]
    },
    {
     "name": "stdout",
     "output_type": "stream",
     "text": [
      "reading https://www.football-data.co.uk/mmz4281/0506/D2.csv\n"
     ]
    },
    {
     "name": "stderr",
     "output_type": "stream",
     "text": [
      "/var/folders/xn/jj94n4tj5w90v1m3njdf44n80000gp/T/ipykernel_98487/1440073136.py:28: UserWarning: Could not infer format, so each element will be parsed individually, falling back to `dateutil`. To ensure parsing is consistent and as-expected, please specify a format.\n",
      "  df = pd.read_csv(\n"
     ]
    },
    {
     "name": "stdout",
     "output_type": "stream",
     "text": [
      "reading https://www.football-data.co.uk/mmz4281/0607/D1.csv\n"
     ]
    },
    {
     "name": "stderr",
     "output_type": "stream",
     "text": [
      "/var/folders/xn/jj94n4tj5w90v1m3njdf44n80000gp/T/ipykernel_98487/1440073136.py:28: UserWarning: Could not infer format, so each element will be parsed individually, falling back to `dateutil`. To ensure parsing is consistent and as-expected, please specify a format.\n",
      "  df = pd.read_csv(\n",
      "/var/folders/xn/jj94n4tj5w90v1m3njdf44n80000gp/T/ipykernel_98487/1440073136.py:28: UserWarning: Could not infer format, so each element will be parsed individually, falling back to `dateutil`. To ensure parsing is consistent and as-expected, please specify a format.\n",
      "  df = pd.read_csv(\n"
     ]
    },
    {
     "name": "stdout",
     "output_type": "stream",
     "text": [
      "reading https://www.football-data.co.uk/mmz4281/9697/D2.csv\n",
      "reading https://www.football-data.co.uk/mmz4281/9900/D1.csv\n"
     ]
    },
    {
     "name": "stderr",
     "output_type": "stream",
     "text": [
      "/var/folders/xn/jj94n4tj5w90v1m3njdf44n80000gp/T/ipykernel_98487/1440073136.py:28: UserWarning: Could not infer format, so each element will be parsed individually, falling back to `dateutil`. To ensure parsing is consistent and as-expected, please specify a format.\n",
      "  df = pd.read_csv(\n",
      "/var/folders/xn/jj94n4tj5w90v1m3njdf44n80000gp/T/ipykernel_98487/1440073136.py:28: UserWarning: Could not infer format, so each element will be parsed individually, falling back to `dateutil`. To ensure parsing is consistent and as-expected, please specify a format.\n",
      "  df = pd.read_csv(\n"
     ]
    },
    {
     "name": "stdout",
     "output_type": "stream",
     "text": [
      "reading https://www.football-data.co.uk/mmz4281/9596/D2.csv\n",
      "reading https://www.football-data.co.uk/mmz4281/0405/D1.csv\n"
     ]
    },
    {
     "name": "stderr",
     "output_type": "stream",
     "text": [
      "/var/folders/xn/jj94n4tj5w90v1m3njdf44n80000gp/T/ipykernel_98487/1440073136.py:28: UserWarning: Could not infer format, so each element will be parsed individually, falling back to `dateutil`. To ensure parsing is consistent and as-expected, please specify a format.\n",
      "  df = pd.read_csv(\n"
     ]
    },
    {
     "name": "stdout",
     "output_type": "stream",
     "text": [
      "reading https://www.football-data.co.uk/mmz4281/0607/D2.csv\n"
     ]
    },
    {
     "name": "stderr",
     "output_type": "stream",
     "text": [
      "/var/folders/xn/jj94n4tj5w90v1m3njdf44n80000gp/T/ipykernel_98487/1440073136.py:28: UserWarning: Could not infer format, so each element will be parsed individually, falling back to `dateutil`. To ensure parsing is consistent and as-expected, please specify a format.\n",
      "  df = pd.read_csv(\n"
     ]
    },
    {
     "name": "stdout",
     "output_type": "stream",
     "text": [
      "reading https://www.football-data.co.uk/mmz4281/2223/D1.csv\n",
      "reading https://www.football-data.co.uk/mmz4281/9798/D1.csv\n",
      "reading https://www.football-data.co.uk/mmz4281/1819/D1.csv\n"
     ]
    },
    {
     "name": "stderr",
     "output_type": "stream",
     "text": [
      "/var/folders/xn/jj94n4tj5w90v1m3njdf44n80000gp/T/ipykernel_98487/1440073136.py:28: UserWarning: Could not infer format, so each element will be parsed individually, falling back to `dateutil`. To ensure parsing is consistent and as-expected, please specify a format.\n",
      "  df = pd.read_csv(\n"
     ]
    },
    {
     "name": "stdout",
     "output_type": "stream",
     "text": [
      "reading https://www.football-data.co.uk/mmz4281/1516/D2.csv\n"
     ]
    },
    {
     "name": "stderr",
     "output_type": "stream",
     "text": [
      "/var/folders/xn/jj94n4tj5w90v1m3njdf44n80000gp/T/ipykernel_98487/1440073136.py:28: UserWarning: Could not infer format, so each element will be parsed individually, falling back to `dateutil`. To ensure parsing is consistent and as-expected, please specify a format.\n",
      "  df = pd.read_csv(\n"
     ]
    },
    {
     "name": "stdout",
     "output_type": "stream",
     "text": [
      "reading https://www.football-data.co.uk/mmz4281/0203/D1.csv\n"
     ]
    },
    {
     "name": "stderr",
     "output_type": "stream",
     "text": [
      "/var/folders/xn/jj94n4tj5w90v1m3njdf44n80000gp/T/ipykernel_98487/1440073136.py:28: UserWarning: Could not infer format, so each element will be parsed individually, falling back to `dateutil`. To ensure parsing is consistent and as-expected, please specify a format.\n",
      "  df = pd.read_csv(\n"
     ]
    },
    {
     "name": "stdout",
     "output_type": "stream",
     "text": [
      "reading https://www.football-data.co.uk/mmz4281/1112/D2.csv\n"
     ]
    },
    {
     "name": "stderr",
     "output_type": "stream",
     "text": [
      "/var/folders/xn/jj94n4tj5w90v1m3njdf44n80000gp/T/ipykernel_98487/1440073136.py:28: UserWarning: Could not infer format, so each element will be parsed individually, falling back to `dateutil`. To ensure parsing is consistent and as-expected, please specify a format.\n",
      "  df = pd.read_csv(\n"
     ]
    },
    {
     "name": "stdout",
     "output_type": "stream",
     "text": [
      "reading https://www.football-data.co.uk/mmz4281/0708/D2.csv\n"
     ]
    },
    {
     "name": "stderr",
     "output_type": "stream",
     "text": [
      "/var/folders/xn/jj94n4tj5w90v1m3njdf44n80000gp/T/ipykernel_98487/1440073136.py:28: UserWarning: Could not infer format, so each element will be parsed individually, falling back to `dateutil`. To ensure parsing is consistent and as-expected, please specify a format.\n",
      "  df = pd.read_csv(\n"
     ]
    },
    {
     "name": "stdout",
     "output_type": "stream",
     "text": [
      "italy has 60 urls\n",
      "reading https://www.football-data.co.uk/mmz4281/1718/I2.csv\n"
     ]
    },
    {
     "name": "stderr",
     "output_type": "stream",
     "text": [
      "/var/folders/xn/jj94n4tj5w90v1m3njdf44n80000gp/T/ipykernel_98487/1440073136.py:28: UserWarning: Could not infer format, so each element will be parsed individually, falling back to `dateutil`. To ensure parsing is consistent and as-expected, please specify a format.\n",
      "  df = pd.read_csv(\n"
     ]
    },
    {
     "name": "stdout",
     "output_type": "stream",
     "text": [
      "reading https://www.football-data.co.uk/mmz4281/0304/I2.csv\n"
     ]
    },
    {
     "name": "stderr",
     "output_type": "stream",
     "text": [
      "/var/folders/xn/jj94n4tj5w90v1m3njdf44n80000gp/T/ipykernel_98487/1440073136.py:28: UserWarning: Could not infer format, so each element will be parsed individually, falling back to `dateutil`. To ensure parsing is consistent and as-expected, please specify a format.\n",
      "  df = pd.read_csv(\n"
     ]
    },
    {
     "name": "stdout",
     "output_type": "stream",
     "text": [
      "reading https://www.football-data.co.uk/mmz4281/0102/I2.csv\n"
     ]
    },
    {
     "name": "stderr",
     "output_type": "stream",
     "text": [
      "/var/folders/xn/jj94n4tj5w90v1m3njdf44n80000gp/T/ipykernel_98487/1440073136.py:28: UserWarning: Could not infer format, so each element will be parsed individually, falling back to `dateutil`. To ensure parsing is consistent and as-expected, please specify a format.\n",
      "  df = pd.read_csv(\n"
     ]
    },
    {
     "name": "stdout",
     "output_type": "stream",
     "text": [
      "reading https://www.football-data.co.uk/mmz4281/1617/I2.csv\n"
     ]
    },
    {
     "name": "stderr",
     "output_type": "stream",
     "text": [
      "/var/folders/xn/jj94n4tj5w90v1m3njdf44n80000gp/T/ipykernel_98487/1440073136.py:28: UserWarning: Could not infer format, so each element will be parsed individually, falling back to `dateutil`. To ensure parsing is consistent and as-expected, please specify a format.\n",
      "  df = pd.read_csv(\n"
     ]
    },
    {
     "name": "stdout",
     "output_type": "stream",
     "text": [
      "reading https://www.football-data.co.uk/mmz4281/2223/I1.csv\n",
      "reading https://www.football-data.co.uk/mmz4281/1415/I2.csv\n"
     ]
    },
    {
     "name": "stderr",
     "output_type": "stream",
     "text": [
      "/var/folders/xn/jj94n4tj5w90v1m3njdf44n80000gp/T/ipykernel_98487/1440073136.py:28: UserWarning: Could not infer format, so each element will be parsed individually, falling back to `dateutil`. To ensure parsing is consistent and as-expected, please specify a format.\n",
      "  df = pd.read_csv(\n"
     ]
    },
    {
     "name": "stdout",
     "output_type": "stream",
     "text": [
      "reading https://www.football-data.co.uk/mmz4281/1516/I2.csv\n"
     ]
    },
    {
     "name": "stderr",
     "output_type": "stream",
     "text": [
      "/var/folders/xn/jj94n4tj5w90v1m3njdf44n80000gp/T/ipykernel_98487/1440073136.py:28: UserWarning: Could not infer format, so each element will be parsed individually, falling back to `dateutil`. To ensure parsing is consistent and as-expected, please specify a format.\n",
      "  df = pd.read_csv(\n"
     ]
    },
    {
     "name": "stdout",
     "output_type": "stream",
     "text": [
      "reading https://www.football-data.co.uk/mmz4281/2223/I2.csv\n",
      "reading https://www.football-data.co.uk/mmz4281/0506/I1.csv\n"
     ]
    },
    {
     "name": "stderr",
     "output_type": "stream",
     "text": [
      "/var/folders/xn/jj94n4tj5w90v1m3njdf44n80000gp/T/ipykernel_98487/1440073136.py:28: UserWarning: Could not infer format, so each element will be parsed individually, falling back to `dateutil`. To ensure parsing is consistent and as-expected, please specify a format.\n",
      "  df = pd.read_csv(\n"
     ]
    },
    {
     "name": "stdout",
     "output_type": "stream",
     "text": [
      "reading https://www.football-data.co.uk/mmz4281/1516/I1.csv\n"
     ]
    },
    {
     "name": "stderr",
     "output_type": "stream",
     "text": [
      "/var/folders/xn/jj94n4tj5w90v1m3njdf44n80000gp/T/ipykernel_98487/1440073136.py:28: UserWarning: Could not infer format, so each element will be parsed individually, falling back to `dateutil`. To ensure parsing is consistent and as-expected, please specify a format.\n",
      "  df = pd.read_csv(\n",
      "/var/folders/xn/jj94n4tj5w90v1m3njdf44n80000gp/T/ipykernel_98487/1440073136.py:28: UserWarning: Could not infer format, so each element will be parsed individually, falling back to `dateutil`. To ensure parsing is consistent and as-expected, please specify a format.\n",
      "  df = pd.read_csv(\n"
     ]
    },
    {
     "name": "stdout",
     "output_type": "stream",
     "text": [
      "reading https://www.football-data.co.uk/mmz4281/9900/I2.csv\n",
      "reading https://www.football-data.co.uk/mmz4281/1415/I1.csv\n"
     ]
    },
    {
     "name": "stderr",
     "output_type": "stream",
     "text": [
      "/var/folders/xn/jj94n4tj5w90v1m3njdf44n80000gp/T/ipykernel_98487/1440073136.py:28: UserWarning: Could not infer format, so each element will be parsed individually, falling back to `dateutil`. To ensure parsing is consistent and as-expected, please specify a format.\n",
      "  df = pd.read_csv(\n"
     ]
    },
    {
     "name": "stdout",
     "output_type": "stream",
     "text": [
      "reading https://www.football-data.co.uk/mmz4281/2425/I1.csv\n",
      "reading https://www.football-data.co.uk/mmz4281/1314/I2.csv\n"
     ]
    },
    {
     "name": "stderr",
     "output_type": "stream",
     "text": [
      "/var/folders/xn/jj94n4tj5w90v1m3njdf44n80000gp/T/ipykernel_98487/1440073136.py:28: UserWarning: Could not infer format, so each element will be parsed individually, falling back to `dateutil`. To ensure parsing is consistent and as-expected, please specify a format.\n",
      "  df = pd.read_csv(\n"
     ]
    },
    {
     "name": "stdout",
     "output_type": "stream",
     "text": [
      "reading https://www.football-data.co.uk/mmz4281/0203/I2.csv\n"
     ]
    },
    {
     "name": "stderr",
     "output_type": "stream",
     "text": [
      "/var/folders/xn/jj94n4tj5w90v1m3njdf44n80000gp/T/ipykernel_98487/1440073136.py:28: UserWarning: Could not infer format, so each element will be parsed individually, falling back to `dateutil`. To ensure parsing is consistent and as-expected, please specify a format.\n",
      "  df = pd.read_csv(\n"
     ]
    },
    {
     "name": "stdout",
     "output_type": "stream",
     "text": [
      "reading https://www.football-data.co.uk/mmz4281/1920/I1.csv\n",
      "reading https://www.football-data.co.uk/mmz4281/9899/I1.csv\n",
      "reading https://www.football-data.co.uk/mmz4281/1617/I1.csv\n"
     ]
    },
    {
     "name": "stderr",
     "output_type": "stream",
     "text": [
      "/var/folders/xn/jj94n4tj5w90v1m3njdf44n80000gp/T/ipykernel_98487/1440073136.py:28: UserWarning: Could not infer format, so each element will be parsed individually, falling back to `dateutil`. To ensure parsing is consistent and as-expected, please specify a format.\n",
      "  df = pd.read_csv(\n",
      "/var/folders/xn/jj94n4tj5w90v1m3njdf44n80000gp/T/ipykernel_98487/1440073136.py:28: UserWarning: Could not infer format, so each element will be parsed individually, falling back to `dateutil`. To ensure parsing is consistent and as-expected, please specify a format.\n",
      "  df = pd.read_csv(\n",
      "/var/folders/xn/jj94n4tj5w90v1m3njdf44n80000gp/T/ipykernel_98487/1440073136.py:28: UserWarning: Could not infer format, so each element will be parsed individually, falling back to `dateutil`. To ensure parsing is consistent and as-expected, please specify a format.\n",
      "  df = pd.read_csv(\n"
     ]
    },
    {
     "name": "stdout",
     "output_type": "stream",
     "text": [
      "reading https://www.football-data.co.uk/mmz4281/9900/I1.csv\n",
      "reading https://www.football-data.co.uk/mmz4281/1819/I2.csv\n",
      "reading https://www.football-data.co.uk/mmz4281/9596/I1.csv\n",
      "reading https://www.football-data.co.uk/mmz4281/0809/I2.csv\n"
     ]
    },
    {
     "name": "stderr",
     "output_type": "stream",
     "text": [
      "/var/folders/xn/jj94n4tj5w90v1m3njdf44n80000gp/T/ipykernel_98487/1440073136.py:28: UserWarning: Could not infer format, so each element will be parsed individually, falling back to `dateutil`. To ensure parsing is consistent and as-expected, please specify a format.\n",
      "  df = pd.read_csv(\n",
      "/var/folders/xn/jj94n4tj5w90v1m3njdf44n80000gp/T/ipykernel_98487/1440073136.py:28: UserWarning: Could not infer format, so each element will be parsed individually, falling back to `dateutil`. To ensure parsing is consistent and as-expected, please specify a format.\n",
      "  df = pd.read_csv(\n"
     ]
    },
    {
     "name": "stdout",
     "output_type": "stream",
     "text": [
      "reading https://www.football-data.co.uk/mmz4281/0102/I1.csv\n"
     ]
    },
    {
     "name": "stderr",
     "output_type": "stream",
     "text": [
      "/var/folders/xn/jj94n4tj5w90v1m3njdf44n80000gp/T/ipykernel_98487/1440073136.py:28: UserWarning: Could not infer format, so each element will be parsed individually, falling back to `dateutil`. To ensure parsing is consistent and as-expected, please specify a format.\n",
      "  df = pd.read_csv(\n"
     ]
    },
    {
     "name": "stdout",
     "output_type": "stream",
     "text": [
      "reading https://www.football-data.co.uk/mmz4281/1920/I2.csv\n",
      "reading https://www.football-data.co.uk/mmz4281/0708/I1.csv\n"
     ]
    },
    {
     "name": "stderr",
     "output_type": "stream",
     "text": [
      "/var/folders/xn/jj94n4tj5w90v1m3njdf44n80000gp/T/ipykernel_98487/1440073136.py:28: UserWarning: Could not infer format, so each element will be parsed individually, falling back to `dateutil`. To ensure parsing is consistent and as-expected, please specify a format.\n",
      "  df = pd.read_csv(\n"
     ]
    },
    {
     "name": "stdout",
     "output_type": "stream",
     "text": [
      "reading https://www.football-data.co.uk/mmz4281/0405/I2.csv\n"
     ]
    },
    {
     "name": "stderr",
     "output_type": "stream",
     "text": [
      "/var/folders/xn/jj94n4tj5w90v1m3njdf44n80000gp/T/ipykernel_98487/1440073136.py:28: UserWarning: Could not infer format, so each element will be parsed individually, falling back to `dateutil`. To ensure parsing is consistent and as-expected, please specify a format.\n",
      "  df = pd.read_csv(\n"
     ]
    },
    {
     "name": "stdout",
     "output_type": "stream",
     "text": [
      "reading https://www.football-data.co.uk/mmz4281/0708/I2.csv\n"
     ]
    },
    {
     "name": "stderr",
     "output_type": "stream",
     "text": [
      "/var/folders/xn/jj94n4tj5w90v1m3njdf44n80000gp/T/ipykernel_98487/1440073136.py:28: UserWarning: Could not infer format, so each element will be parsed individually, falling back to `dateutil`. To ensure parsing is consistent and as-expected, please specify a format.\n",
      "  df = pd.read_csv(\n"
     ]
    },
    {
     "name": "stdout",
     "output_type": "stream",
     "text": [
      "reading https://www.football-data.co.uk/mmz4281/2425/I2.csv\n",
      "reading https://www.football-data.co.uk/mmz4281/1314/I1.csv\n"
     ]
    },
    {
     "name": "stderr",
     "output_type": "stream",
     "text": [
      "/var/folders/xn/jj94n4tj5w90v1m3njdf44n80000gp/T/ipykernel_98487/1440073136.py:28: UserWarning: Could not infer format, so each element will be parsed individually, falling back to `dateutil`. To ensure parsing is consistent and as-expected, please specify a format.\n",
      "  df = pd.read_csv(\n"
     ]
    },
    {
     "name": "stdout",
     "output_type": "stream",
     "text": [
      "reading https://www.football-data.co.uk/mmz4281/0203/I1.csv\n"
     ]
    },
    {
     "name": "stderr",
     "output_type": "stream",
     "text": [
      "/var/folders/xn/jj94n4tj5w90v1m3njdf44n80000gp/T/ipykernel_98487/1440073136.py:28: UserWarning: Could not infer format, so each element will be parsed individually, falling back to `dateutil`. To ensure parsing is consistent and as-expected, please specify a format.\n",
      "  df = pd.read_csv(\n",
      "/var/folders/xn/jj94n4tj5w90v1m3njdf44n80000gp/T/ipykernel_98487/1440073136.py:28: UserWarning: Could not infer format, so each element will be parsed individually, falling back to `dateutil`. To ensure parsing is consistent and as-expected, please specify a format.\n",
      "  df = pd.read_csv(\n"
     ]
    },
    {
     "name": "stdout",
     "output_type": "stream",
     "text": [
      "reading https://www.football-data.co.uk/mmz4281/9798/I2.csv\n",
      "reading https://www.football-data.co.uk/mmz4281/9697/I1.csv\n"
     ]
    },
    {
     "name": "stderr",
     "output_type": "stream",
     "text": [
      "/var/folders/xn/jj94n4tj5w90v1m3njdf44n80000gp/T/ipykernel_98487/1440073136.py:28: UserWarning: Could not infer format, so each element will be parsed individually, falling back to `dateutil`. To ensure parsing is consistent and as-expected, please specify a format.\n",
      "  df = pd.read_csv(\n",
      "/var/folders/xn/jj94n4tj5w90v1m3njdf44n80000gp/T/ipykernel_98487/1440073136.py:28: UserWarning: Could not infer format, so each element will be parsed individually, falling back to `dateutil`. To ensure parsing is consistent and as-expected, please specify a format.\n",
      "  df = pd.read_csv(\n"
     ]
    },
    {
     "name": "stdout",
     "output_type": "stream",
     "text": [
      "reading https://www.football-data.co.uk/mmz4281/9394/I1.csv\n",
      "reading https://www.football-data.co.uk/mmz4281/2021/I2.csv\n",
      "reading https://www.football-data.co.uk/mmz4281/1011/I1.csv\n"
     ]
    },
    {
     "name": "stderr",
     "output_type": "stream",
     "text": [
      "/var/folders/xn/jj94n4tj5w90v1m3njdf44n80000gp/T/ipykernel_98487/1440073136.py:28: UserWarning: Could not infer format, so each element will be parsed individually, falling back to `dateutil`. To ensure parsing is consistent and as-expected, please specify a format.\n",
      "  df = pd.read_csv(\n"
     ]
    },
    {
     "name": "stdout",
     "output_type": "stream",
     "text": [
      "reading https://www.football-data.co.uk/mmz4281/2021/I1.csv\n",
      "reading https://www.football-data.co.uk/mmz4281/1011/I2.csv\n"
     ]
    },
    {
     "name": "stderr",
     "output_type": "stream",
     "text": [
      "/var/folders/xn/jj94n4tj5w90v1m3njdf44n80000gp/T/ipykernel_98487/1440073136.py:28: UserWarning: Could not infer format, so each element will be parsed individually, falling back to `dateutil`. To ensure parsing is consistent and as-expected, please specify a format.\n",
      "  df = pd.read_csv(\n"
     ]
    },
    {
     "name": "stdout",
     "output_type": "stream",
     "text": [
      "reading https://www.football-data.co.uk/mmz4281/0910/I2.csv\n"
     ]
    },
    {
     "name": "stderr",
     "output_type": "stream",
     "text": [
      "/var/folders/xn/jj94n4tj5w90v1m3njdf44n80000gp/T/ipykernel_98487/1440073136.py:28: UserWarning: Could not infer format, so each element will be parsed individually, falling back to `dateutil`. To ensure parsing is consistent and as-expected, please specify a format.\n",
      "  df = pd.read_csv(\n",
      "/var/folders/xn/jj94n4tj5w90v1m3njdf44n80000gp/T/ipykernel_98487/1440073136.py:28: UserWarning: Could not infer format, so each element will be parsed individually, falling back to `dateutil`. To ensure parsing is consistent and as-expected, please specify a format.\n",
      "  df = pd.read_csv(\n"
     ]
    },
    {
     "name": "stdout",
     "output_type": "stream",
     "text": [
      "reading https://www.football-data.co.uk/mmz4281/9798/I1.csv\n",
      "reading https://www.football-data.co.uk/mmz4281/9495/I1.csv\n"
     ]
    },
    {
     "name": "stderr",
     "output_type": "stream",
     "text": [
      "/var/folders/xn/jj94n4tj5w90v1m3njdf44n80000gp/T/ipykernel_98487/1440073136.py:28: UserWarning: Could not infer format, so each element will be parsed individually, falling back to `dateutil`. To ensure parsing is consistent and as-expected, please specify a format.\n",
      "  df = pd.read_csv(\n"
     ]
    },
    {
     "name": "stdout",
     "output_type": "stream",
     "text": [
      "reading https://www.football-data.co.uk/mmz4281/1819/I1.csv\n",
      "reading https://www.football-data.co.uk/mmz4281/1112/I1.csv\n"
     ]
    },
    {
     "name": "stderr",
     "output_type": "stream",
     "text": [
      "/var/folders/xn/jj94n4tj5w90v1m3njdf44n80000gp/T/ipykernel_98487/1440073136.py:28: UserWarning: Could not infer format, so each element will be parsed individually, falling back to `dateutil`. To ensure parsing is consistent and as-expected, please specify a format.\n",
      "  df = pd.read_csv(\n"
     ]
    },
    {
     "name": "stdout",
     "output_type": "stream",
     "text": [
      "reading https://www.football-data.co.uk/mmz4281/0304/I1.csv\n"
     ]
    },
    {
     "name": "stderr",
     "output_type": "stream",
     "text": [
      "/var/folders/xn/jj94n4tj5w90v1m3njdf44n80000gp/T/ipykernel_98487/1440073136.py:28: UserWarning: Could not infer format, so each element will be parsed individually, falling back to `dateutil`. To ensure parsing is consistent and as-expected, please specify a format.\n",
      "  df = pd.read_csv(\n"
     ]
    },
    {
     "name": "stdout",
     "output_type": "stream",
     "text": [
      "reading https://www.football-data.co.uk/mmz4281/0607/I1.csv\n"
     ]
    },
    {
     "name": "stderr",
     "output_type": "stream",
     "text": [
      "/var/folders/xn/jj94n4tj5w90v1m3njdf44n80000gp/T/ipykernel_98487/1440073136.py:28: UserWarning: Could not infer format, so each element will be parsed individually, falling back to `dateutil`. To ensure parsing is consistent and as-expected, please specify a format.\n",
      "  df = pd.read_csv(\n"
     ]
    },
    {
     "name": "stdout",
     "output_type": "stream",
     "text": [
      "reading https://www.football-data.co.uk/mmz4281/0001/I1.csv\n"
     ]
    },
    {
     "name": "stderr",
     "output_type": "stream",
     "text": [
      "/var/folders/xn/jj94n4tj5w90v1m3njdf44n80000gp/T/ipykernel_98487/1440073136.py:28: UserWarning: Could not infer format, so each element will be parsed individually, falling back to `dateutil`. To ensure parsing is consistent and as-expected, please specify a format.\n",
      "  df = pd.read_csv(\n"
     ]
    },
    {
     "name": "stdout",
     "output_type": "stream",
     "text": [
      "reading https://www.football-data.co.uk/mmz4281/1213/I2.csv\n"
     ]
    },
    {
     "name": "stderr",
     "output_type": "stream",
     "text": [
      "/var/folders/xn/jj94n4tj5w90v1m3njdf44n80000gp/T/ipykernel_98487/1440073136.py:28: UserWarning: Could not infer format, so each element will be parsed individually, falling back to `dateutil`. To ensure parsing is consistent and as-expected, please specify a format.\n",
      "  df = pd.read_csv(\n"
     ]
    },
    {
     "name": "stdout",
     "output_type": "stream",
     "text": [
      "reading https://www.football-data.co.uk/mmz4281/0506/I2.csv\n"
     ]
    },
    {
     "name": "stderr",
     "output_type": "stream",
     "text": [
      "/var/folders/xn/jj94n4tj5w90v1m3njdf44n80000gp/T/ipykernel_98487/1440073136.py:28: UserWarning: Could not infer format, so each element will be parsed individually, falling back to `dateutil`. To ensure parsing is consistent and as-expected, please specify a format.\n",
      "  df = pd.read_csv(\n",
      "/var/folders/xn/jj94n4tj5w90v1m3njdf44n80000gp/T/ipykernel_98487/1440073136.py:28: UserWarning: Could not infer format, so each element will be parsed individually, falling back to `dateutil`. To ensure parsing is consistent and as-expected, please specify a format.\n",
      "  df = pd.read_csv(\n"
     ]
    },
    {
     "name": "stdout",
     "output_type": "stream",
     "text": [
      "reading https://www.football-data.co.uk/mmz4281/0001/I2.csv\n",
      "reading https://www.football-data.co.uk/mmz4281/0607/I2.csv\n"
     ]
    },
    {
     "name": "stderr",
     "output_type": "stream",
     "text": [
      "/var/folders/xn/jj94n4tj5w90v1m3njdf44n80000gp/T/ipykernel_98487/1440073136.py:28: UserWarning: Could not infer format, so each element will be parsed individually, falling back to `dateutil`. To ensure parsing is consistent and as-expected, please specify a format.\n",
      "  df = pd.read_csv(\n"
     ]
    },
    {
     "name": "stdout",
     "output_type": "stream",
     "text": [
      "reading https://www.football-data.co.uk/mmz4281/0809/I1.csv\n"
     ]
    },
    {
     "name": "stderr",
     "output_type": "stream",
     "text": [
      "/var/folders/xn/jj94n4tj5w90v1m3njdf44n80000gp/T/ipykernel_98487/1440073136.py:28: UserWarning: Could not infer format, so each element will be parsed individually, falling back to `dateutil`. To ensure parsing is consistent and as-expected, please specify a format.\n",
      "  df = pd.read_csv(\n"
     ]
    },
    {
     "name": "stdout",
     "output_type": "stream",
     "text": [
      "reading https://www.football-data.co.uk/mmz4281/2324/I2.csv\n",
      "reading https://www.football-data.co.uk/mmz4281/2324/I1.csv\n",
      "reading https://www.football-data.co.uk/mmz4281/1718/I1.csv\n"
     ]
    },
    {
     "name": "stderr",
     "output_type": "stream",
     "text": [
      "/var/folders/xn/jj94n4tj5w90v1m3njdf44n80000gp/T/ipykernel_98487/1440073136.py:28: UserWarning: Could not infer format, so each element will be parsed individually, falling back to `dateutil`. To ensure parsing is consistent and as-expected, please specify a format.\n",
      "  df = pd.read_csv(\n",
      "/var/folders/xn/jj94n4tj5w90v1m3njdf44n80000gp/T/ipykernel_98487/1440073136.py:28: UserWarning: Could not infer format, so each element will be parsed individually, falling back to `dateutil`. To ensure parsing is consistent and as-expected, please specify a format.\n",
      "  df = pd.read_csv(\n"
     ]
    },
    {
     "name": "stdout",
     "output_type": "stream",
     "text": [
      "reading https://www.football-data.co.uk/mmz4281/9899/I2.csv\n",
      "reading https://www.football-data.co.uk/mmz4281/2122/I1.csv\n",
      "reading https://www.football-data.co.uk/mmz4281/1112/I2.csv\n"
     ]
    },
    {
     "name": "stderr",
     "output_type": "stream",
     "text": [
      "/var/folders/xn/jj94n4tj5w90v1m3njdf44n80000gp/T/ipykernel_98487/1440073136.py:28: UserWarning: Could not infer format, so each element will be parsed individually, falling back to `dateutil`. To ensure parsing is consistent and as-expected, please specify a format.\n",
      "  df = pd.read_csv(\n"
     ]
    },
    {
     "name": "stdout",
     "output_type": "stream",
     "text": [
      "reading https://www.football-data.co.uk/mmz4281/0910/I1.csv\n"
     ]
    },
    {
     "name": "stderr",
     "output_type": "stream",
     "text": [
      "/var/folders/xn/jj94n4tj5w90v1m3njdf44n80000gp/T/ipykernel_98487/1440073136.py:28: UserWarning: Could not infer format, so each element will be parsed individually, falling back to `dateutil`. To ensure parsing is consistent and as-expected, please specify a format.\n",
      "  df = pd.read_csv(\n"
     ]
    },
    {
     "name": "stdout",
     "output_type": "stream",
     "text": [
      "reading https://www.football-data.co.uk/mmz4281/0405/I1.csv\n"
     ]
    },
    {
     "name": "stderr",
     "output_type": "stream",
     "text": [
      "/var/folders/xn/jj94n4tj5w90v1m3njdf44n80000gp/T/ipykernel_98487/1440073136.py:28: UserWarning: Could not infer format, so each element will be parsed individually, falling back to `dateutil`. To ensure parsing is consistent and as-expected, please specify a format.\n",
      "  df = pd.read_csv(\n"
     ]
    },
    {
     "name": "stdout",
     "output_type": "stream",
     "text": [
      "reading https://www.football-data.co.uk/mmz4281/1213/I1.csv\n"
     ]
    },
    {
     "name": "stderr",
     "output_type": "stream",
     "text": [
      "/var/folders/xn/jj94n4tj5w90v1m3njdf44n80000gp/T/ipykernel_98487/1440073136.py:28: UserWarning: Could not infer format, so each element will be parsed individually, falling back to `dateutil`. To ensure parsing is consistent and as-expected, please specify a format.\n",
      "  df = pd.read_csv(\n"
     ]
    },
    {
     "name": "stdout",
     "output_type": "stream",
     "text": [
      "reading https://www.football-data.co.uk/mmz4281/2122/I2.csv\n",
      "spain has 61 urls\n",
      "reading https://www.football-data.co.uk/mmz4281/1617/SP2.csv\n"
     ]
    },
    {
     "name": "stderr",
     "output_type": "stream",
     "text": [
      "/var/folders/xn/jj94n4tj5w90v1m3njdf44n80000gp/T/ipykernel_98487/1440073136.py:28: UserWarning: Could not infer format, so each element will be parsed individually, falling back to `dateutil`. To ensure parsing is consistent and as-expected, please specify a format.\n",
      "  df = pd.read_csv(\n"
     ]
    },
    {
     "name": "stdout",
     "output_type": "stream",
     "text": [
      "reading https://www.football-data.co.uk/mmz4281/1213/SP2.csv\n"
     ]
    },
    {
     "name": "stderr",
     "output_type": "stream",
     "text": [
      "/var/folders/xn/jj94n4tj5w90v1m3njdf44n80000gp/T/ipykernel_98487/1440073136.py:28: UserWarning: Could not infer format, so each element will be parsed individually, falling back to `dateutil`. To ensure parsing is consistent and as-expected, please specify a format.\n",
      "  df = pd.read_csv(\n"
     ]
    },
    {
     "name": "stdout",
     "output_type": "stream",
     "text": [
      "reading https://www.football-data.co.uk/mmz4281/1314/SP1.csv\n"
     ]
    },
    {
     "name": "stderr",
     "output_type": "stream",
     "text": [
      "/var/folders/xn/jj94n4tj5w90v1m3njdf44n80000gp/T/ipykernel_98487/1440073136.py:28: UserWarning: Could not infer format, so each element will be parsed individually, falling back to `dateutil`. To ensure parsing is consistent and as-expected, please specify a format.\n",
      "  df = pd.read_csv(\n"
     ]
    },
    {
     "name": "stdout",
     "output_type": "stream",
     "text": [
      "reading https://www.football-data.co.uk/mmz4281/9900/SP2.csv\n"
     ]
    },
    {
     "name": "stderr",
     "output_type": "stream",
     "text": [
      "/var/folders/xn/jj94n4tj5w90v1m3njdf44n80000gp/T/ipykernel_98487/1440073136.py:28: UserWarning: Could not infer format, so each element will be parsed individually, falling back to `dateutil`. To ensure parsing is consistent and as-expected, please specify a format.\n",
      "  df = pd.read_csv(\n"
     ]
    },
    {
     "name": "stdout",
     "output_type": "stream",
     "text": [
      "reading https://www.football-data.co.uk/mmz4281/0506/SP2.csv\n"
     ]
    },
    {
     "name": "stderr",
     "output_type": "stream",
     "text": [
      "/var/folders/xn/jj94n4tj5w90v1m3njdf44n80000gp/T/ipykernel_98487/1440073136.py:28: UserWarning: Could not infer format, so each element will be parsed individually, falling back to `dateutil`. To ensure parsing is consistent and as-expected, please specify a format.\n",
      "  df = pd.read_csv(\n",
      "/var/folders/xn/jj94n4tj5w90v1m3njdf44n80000gp/T/ipykernel_98487/1440073136.py:28: UserWarning: Could not infer format, so each element will be parsed individually, falling back to `dateutil`. To ensure parsing is consistent and as-expected, please specify a format.\n",
      "  df = pd.read_csv(\n"
     ]
    },
    {
     "name": "stdout",
     "output_type": "stream",
     "text": [
      "reading https://www.football-data.co.uk/mmz4281/9899/SP1.csv\n",
      "reading https://www.football-data.co.uk/mmz4281/1112/SP2.csv\n"
     ]
    },
    {
     "name": "stderr",
     "output_type": "stream",
     "text": [
      "/var/folders/xn/jj94n4tj5w90v1m3njdf44n80000gp/T/ipykernel_98487/1440073136.py:28: UserWarning: Could not infer format, so each element will be parsed individually, falling back to `dateutil`. To ensure parsing is consistent and as-expected, please specify a format.\n",
      "  df = pd.read_csv(\n",
      "/var/folders/xn/jj94n4tj5w90v1m3njdf44n80000gp/T/ipykernel_98487/1440073136.py:28: UserWarning: Could not infer format, so each element will be parsed individually, falling back to `dateutil`. To ensure parsing is consistent and as-expected, please specify a format.\n",
      "  df = pd.read_csv(\n"
     ]
    },
    {
     "name": "stdout",
     "output_type": "stream",
     "text": [
      "reading https://www.football-data.co.uk/mmz4281/9899/SP2.csv\n",
      "reading https://www.football-data.co.uk/mmz4281/1819/SP1.csv\n",
      "reading https://www.football-data.co.uk/mmz4281/0304/SP2.csv\n"
     ]
    },
    {
     "name": "stderr",
     "output_type": "stream",
     "text": [
      "/var/folders/xn/jj94n4tj5w90v1m3njdf44n80000gp/T/ipykernel_98487/1440073136.py:28: UserWarning: Could not infer format, so each element will be parsed individually, falling back to `dateutil`. To ensure parsing is consistent and as-expected, please specify a format.\n",
      "  df = pd.read_csv(\n"
     ]
    },
    {
     "name": "stdout",
     "output_type": "stream",
     "text": [
      "reading https://www.football-data.co.uk/mmz4281/2122/SP1.csv\n",
      "reading https://www.football-data.co.uk/mmz4281/0708/SP2.csv\n"
     ]
    },
    {
     "name": "stderr",
     "output_type": "stream",
     "text": [
      "/var/folders/xn/jj94n4tj5w90v1m3njdf44n80000gp/T/ipykernel_98487/1440073136.py:28: UserWarning: Could not infer format, so each element will be parsed individually, falling back to `dateutil`. To ensure parsing is consistent and as-expected, please specify a format.\n",
      "  df = pd.read_csv(\n"
     ]
    },
    {
     "name": "stdout",
     "output_type": "stream",
     "text": [
      "reading https://www.football-data.co.uk/mmz4281/0304/SP1.csv\n"
     ]
    },
    {
     "name": "stderr",
     "output_type": "stream",
     "text": [
      "/var/folders/xn/jj94n4tj5w90v1m3njdf44n80000gp/T/ipykernel_98487/1440073136.py:28: UserWarning: Could not infer format, so each element will be parsed individually, falling back to `dateutil`. To ensure parsing is consistent and as-expected, please specify a format.\n",
      "  df = pd.read_csv(\n"
     ]
    },
    {
     "name": "stdout",
     "output_type": "stream",
     "text": [
      "reading https://www.football-data.co.uk/mmz4281/0506/SP1.csv\n"
     ]
    },
    {
     "name": "stderr",
     "output_type": "stream",
     "text": [
      "/var/folders/xn/jj94n4tj5w90v1m3njdf44n80000gp/T/ipykernel_98487/1440073136.py:28: UserWarning: Could not infer format, so each element will be parsed individually, falling back to `dateutil`. To ensure parsing is consistent and as-expected, please specify a format.\n",
      "  df = pd.read_csv(\n"
     ]
    },
    {
     "name": "stdout",
     "output_type": "stream",
     "text": [
      "reading https://www.football-data.co.uk/mmz4281/9798/SP2.csv\n"
     ]
    },
    {
     "name": "stderr",
     "output_type": "stream",
     "text": [
      "/var/folders/xn/jj94n4tj5w90v1m3njdf44n80000gp/T/ipykernel_98487/1440073136.py:28: UserWarning: Could not infer format, so each element will be parsed individually, falling back to `dateutil`. To ensure parsing is consistent and as-expected, please specify a format.\n",
      "  df = pd.read_csv(\n"
     ]
    },
    {
     "name": "stdout",
     "output_type": "stream",
     "text": [
      "reading https://www.football-data.co.uk/mmz4281/0607/SP2.csv\n"
     ]
    },
    {
     "name": "stderr",
     "output_type": "stream",
     "text": [
      "/var/folders/xn/jj94n4tj5w90v1m3njdf44n80000gp/T/ipykernel_98487/1440073136.py:28: UserWarning: Could not infer format, so each element will be parsed individually, falling back to `dateutil`. To ensure parsing is consistent and as-expected, please specify a format.\n",
      "  df = pd.read_csv(\n"
     ]
    },
    {
     "name": "stdout",
     "output_type": "stream",
     "text": [
      "reading https://www.football-data.co.uk/mmz4281/2425/SP1.csv\n",
      "reading https://www.football-data.co.uk/mmz4281/1415/SP2.csv\n"
     ]
    },
    {
     "name": "stderr",
     "output_type": "stream",
     "text": [
      "/var/folders/xn/jj94n4tj5w90v1m3njdf44n80000gp/T/ipykernel_98487/1440073136.py:28: UserWarning: Could not infer format, so each element will be parsed individually, falling back to `dateutil`. To ensure parsing is consistent and as-expected, please specify a format.\n",
      "  df = pd.read_csv(\n"
     ]
    },
    {
     "name": "stdout",
     "output_type": "stream",
     "text": [
      "reading https://www.football-data.co.uk/mmz4281/0203/SP1.csv\n"
     ]
    },
    {
     "name": "stderr",
     "output_type": "stream",
     "text": [
      "/var/folders/xn/jj94n4tj5w90v1m3njdf44n80000gp/T/ipykernel_98487/1440073136.py:28: UserWarning: Could not infer format, so each element will be parsed individually, falling back to `dateutil`. To ensure parsing is consistent and as-expected, please specify a format.\n",
      "  df = pd.read_csv(\n",
      "/var/folders/xn/jj94n4tj5w90v1m3njdf44n80000gp/T/ipykernel_98487/1440073136.py:28: UserWarning: Could not infer format, so each element will be parsed individually, falling back to `dateutil`. To ensure parsing is consistent and as-expected, please specify a format.\n",
      "  df = pd.read_csv(\n"
     ]
    },
    {
     "name": "stdout",
     "output_type": "stream",
     "text": [
      "reading https://www.football-data.co.uk/mmz4281/9596/SP1.csv\n",
      "reading https://www.football-data.co.uk/mmz4281/0001/SP1.csv\n"
     ]
    },
    {
     "name": "stderr",
     "output_type": "stream",
     "text": [
      "/var/folders/xn/jj94n4tj5w90v1m3njdf44n80000gp/T/ipykernel_98487/1440073136.py:28: UserWarning: Could not infer format, so each element will be parsed individually, falling back to `dateutil`. To ensure parsing is consistent and as-expected, please specify a format.\n",
      "  df = pd.read_csv(\n"
     ]
    },
    {
     "name": "stdout",
     "output_type": "stream",
     "text": [
      "reading https://www.football-data.co.uk/mmz4281/2021/SP1.csv\n",
      "reading https://www.football-data.co.uk/mmz4281/1415/SP1.csv\n"
     ]
    },
    {
     "name": "stderr",
     "output_type": "stream",
     "text": [
      "/var/folders/xn/jj94n4tj5w90v1m3njdf44n80000gp/T/ipykernel_98487/1440073136.py:28: UserWarning: Could not infer format, so each element will be parsed individually, falling back to `dateutil`. To ensure parsing is consistent and as-expected, please specify a format.\n",
      "  df = pd.read_csv(\n",
      "/var/folders/xn/jj94n4tj5w90v1m3njdf44n80000gp/T/ipykernel_98487/1440073136.py:28: UserWarning: Could not infer format, so each element will be parsed individually, falling back to `dateutil`. To ensure parsing is consistent and as-expected, please specify a format.\n",
      "  df = pd.read_csv(\n"
     ]
    },
    {
     "name": "stdout",
     "output_type": "stream",
     "text": [
      "reading https://www.football-data.co.uk/mmz4281/9394/SP1.csv\n",
      "reading https://www.football-data.co.uk/mmz4281/1920/SP1.csv\n",
      "reading https://www.football-data.co.uk/mmz4281/1718/SP1.csv\n"
     ]
    },
    {
     "name": "stderr",
     "output_type": "stream",
     "text": [
      "/var/folders/xn/jj94n4tj5w90v1m3njdf44n80000gp/T/ipykernel_98487/1440073136.py:28: UserWarning: Could not infer format, so each element will be parsed individually, falling back to `dateutil`. To ensure parsing is consistent and as-expected, please specify a format.\n",
      "  df = pd.read_csv(\n"
     ]
    },
    {
     "name": "stdout",
     "output_type": "stream",
     "text": [
      "reading https://www.football-data.co.uk/mmz4281/0405/SP2.csv\n",
      "reading https://www.football-data.co.uk/mmz4281/0102/SP2.csv\n"
     ]
    },
    {
     "name": "stderr",
     "output_type": "stream",
     "text": [
      "/var/folders/xn/jj94n4tj5w90v1m3njdf44n80000gp/T/ipykernel_98487/1440073136.py:28: UserWarning: Could not infer format, so each element will be parsed individually, falling back to `dateutil`. To ensure parsing is consistent and as-expected, please specify a format.\n",
      "  df = pd.read_csv(\n"
     ]
    },
    {
     "name": "stdout",
     "output_type": "stream",
     "text": [
      "reading https://www.football-data.co.uk/mmz4281/1516/SP1.csv\n"
     ]
    },
    {
     "name": "stderr",
     "output_type": "stream",
     "text": [
      "/var/folders/xn/jj94n4tj5w90v1m3njdf44n80000gp/T/ipykernel_98487/1440073136.py:28: UserWarning: Could not infer format, so each element will be parsed individually, falling back to `dateutil`. To ensure parsing is consistent and as-expected, please specify a format.\n",
      "  df = pd.read_csv(\n"
     ]
    },
    {
     "name": "stdout",
     "output_type": "stream",
     "text": [
      "reading https://www.football-data.co.uk/mmz4281/2425/SP2.csv\n",
      "reading https://www.football-data.co.uk/mmz4281/0910/SP1.csv\n"
     ]
    },
    {
     "name": "stderr",
     "output_type": "stream",
     "text": [
      "/var/folders/xn/jj94n4tj5w90v1m3njdf44n80000gp/T/ipykernel_98487/1440073136.py:28: UserWarning: Could not infer format, so each element will be parsed individually, falling back to `dateutil`. To ensure parsing is consistent and as-expected, please specify a format.\n",
      "  df = pd.read_csv(\n"
     ]
    },
    {
     "name": "stdout",
     "output_type": "stream",
     "text": [
      "reading https://www.football-data.co.uk/mmz4281/1011/SP1.csv\n"
     ]
    },
    {
     "name": "stderr",
     "output_type": "stream",
     "text": [
      "/var/folders/xn/jj94n4tj5w90v1m3njdf44n80000gp/T/ipykernel_98487/1440073136.py:28: UserWarning: Could not infer format, so each element will be parsed individually, falling back to `dateutil`. To ensure parsing is consistent and as-expected, please specify a format.\n",
      "  df = pd.read_csv(\n"
     ]
    },
    {
     "name": "stdout",
     "output_type": "stream",
     "text": [
      "reading https://www.football-data.co.uk/mmz4281/0405/SP1.csv\n"
     ]
    },
    {
     "name": "stderr",
     "output_type": "stream",
     "text": [
      "/var/folders/xn/jj94n4tj5w90v1m3njdf44n80000gp/T/ipykernel_98487/1440073136.py:28: UserWarning: Could not infer format, so each element will be parsed individually, falling back to `dateutil`. To ensure parsing is consistent and as-expected, please specify a format.\n",
      "  df = pd.read_csv(\n"
     ]
    },
    {
     "name": "stdout",
     "output_type": "stream",
     "text": [
      "reading https://www.football-data.co.uk/mmz4281/1516/SP2.csv\n"
     ]
    },
    {
     "name": "stderr",
     "output_type": "stream",
     "text": [
      "/var/folders/xn/jj94n4tj5w90v1m3njdf44n80000gp/T/ipykernel_98487/1440073136.py:28: UserWarning: Could not infer format, so each element will be parsed individually, falling back to `dateutil`. To ensure parsing is consistent and as-expected, please specify a format.\n",
      "  df = pd.read_csv(\n"
     ]
    },
    {
     "name": "stdout",
     "output_type": "stream",
     "text": [
      "reading https://www.football-data.co.uk/mmz4281/2324/SP1.csv\n",
      "reading https://www.football-data.co.uk/mmz4281/1011/SP2.csv\n"
     ]
    },
    {
     "name": "stderr",
     "output_type": "stream",
     "text": [
      "/var/folders/xn/jj94n4tj5w90v1m3njdf44n80000gp/T/ipykernel_98487/1440073136.py:28: UserWarning: Could not infer format, so each element will be parsed individually, falling back to `dateutil`. To ensure parsing is consistent and as-expected, please specify a format.\n",
      "  df = pd.read_csv(\n"
     ]
    },
    {
     "name": "stdout",
     "output_type": "stream",
     "text": [
      "reading https://www.football-data.co.uk/mmz4281/0203/SP2.csv\n"
     ]
    },
    {
     "name": "stderr",
     "output_type": "stream",
     "text": [
      "/var/folders/xn/jj94n4tj5w90v1m3njdf44n80000gp/T/ipykernel_98487/1440073136.py:28: UserWarning: Could not infer format, so each element will be parsed individually, falling back to `dateutil`. To ensure parsing is consistent and as-expected, please specify a format.\n",
      "  df = pd.read_csv(\n"
     ]
    },
    {
     "name": "stdout",
     "output_type": "stream",
     "text": [
      "reading https://www.football-data.co.uk/mmz4281/1920/SP2.csv\n",
      "reading https://www.football-data.co.uk/mmz4281/0809/SP2.csv\n"
     ]
    },
    {
     "name": "stderr",
     "output_type": "stream",
     "text": [
      "/var/folders/xn/jj94n4tj5w90v1m3njdf44n80000gp/T/ipykernel_98487/1440073136.py:28: UserWarning: Could not infer format, so each element will be parsed individually, falling back to `dateutil`. To ensure parsing is consistent and as-expected, please specify a format.\n",
      "  df = pd.read_csv(\n"
     ]
    },
    {
     "name": "stdout",
     "output_type": "stream",
     "text": [
      "reading https://www.football-data.co.uk/mmz4281/0001/SP2.csv\n"
     ]
    },
    {
     "name": "stderr",
     "output_type": "stream",
     "text": [
      "/var/folders/xn/jj94n4tj5w90v1m3njdf44n80000gp/T/ipykernel_98487/1440073136.py:28: UserWarning: Could not infer format, so each element will be parsed individually, falling back to `dateutil`. To ensure parsing is consistent and as-expected, please specify a format.\n",
      "  df = pd.read_csv(\n"
     ]
    },
    {
     "name": "stdout",
     "output_type": "stream",
     "text": [
      "reading https://www.football-data.co.uk/mmz4281/1718/SP2.csv\n"
     ]
    },
    {
     "name": "stderr",
     "output_type": "stream",
     "text": [
      "/var/folders/xn/jj94n4tj5w90v1m3njdf44n80000gp/T/ipykernel_98487/1440073136.py:28: UserWarning: Could not infer format, so each element will be parsed individually, falling back to `dateutil`. To ensure parsing is consistent and as-expected, please specify a format.\n",
      "  df = pd.read_csv(\n"
     ]
    },
    {
     "name": "stdout",
     "output_type": "stream",
     "text": [
      "reading https://www.football-data.co.uk/mmz4281/1314/SP2.csv\n"
     ]
    },
    {
     "name": "stderr",
     "output_type": "stream",
     "text": [
      "/var/folders/xn/jj94n4tj5w90v1m3njdf44n80000gp/T/ipykernel_98487/1440073136.py:28: UserWarning: Could not infer format, so each element will be parsed individually, falling back to `dateutil`. To ensure parsing is consistent and as-expected, please specify a format.\n",
      "  df = pd.read_csv(\n"
     ]
    },
    {
     "name": "stdout",
     "output_type": "stream",
     "text": [
      "reading https://www.football-data.co.uk/mmz4281/2122/SP2.csv\n",
      "reading https://www.football-data.co.uk/mmz4281/0708/SP1.csv\n"
     ]
    },
    {
     "name": "stderr",
     "output_type": "stream",
     "text": [
      "/var/folders/xn/jj94n4tj5w90v1m3njdf44n80000gp/T/ipykernel_98487/1440073136.py:28: UserWarning: Could not infer format, so each element will be parsed individually, falling back to `dateutil`. To ensure parsing is consistent and as-expected, please specify a format.\n",
      "  df = pd.read_csv(\n"
     ]
    },
    {
     "name": "stdout",
     "output_type": "stream",
     "text": [
      "reading https://www.football-data.co.uk/mmz4281/0102/SP1.csv\n"
     ]
    },
    {
     "name": "stderr",
     "output_type": "stream",
     "text": [
      "/var/folders/xn/jj94n4tj5w90v1m3njdf44n80000gp/T/ipykernel_98487/1440073136.py:28: UserWarning: Could not infer format, so each element will be parsed individually, falling back to `dateutil`. To ensure parsing is consistent and as-expected, please specify a format.\n",
      "  df = pd.read_csv(\n"
     ]
    },
    {
     "name": "stdout",
     "output_type": "stream",
     "text": [
      "reading https://www.football-data.co.uk/mmz4281/2223/SP2.csv\n",
      "reading https://www.football-data.co.uk/mmz4281/1819/SP2.csv\n",
      "reading https://www.football-data.co.uk/mmz4281/1112/SP1.csv\n"
     ]
    },
    {
     "name": "stderr",
     "output_type": "stream",
     "text": [
      "/var/folders/xn/jj94n4tj5w90v1m3njdf44n80000gp/T/ipykernel_98487/1440073136.py:28: UserWarning: Could not infer format, so each element will be parsed individually, falling back to `dateutil`. To ensure parsing is consistent and as-expected, please specify a format.\n",
      "  df = pd.read_csv(\n"
     ]
    },
    {
     "name": "stdout",
     "output_type": "stream",
     "text": [
      "reading https://www.football-data.co.uk/mmz4281/1213/SP1.csv\n"
     ]
    },
    {
     "name": "stderr",
     "output_type": "stream",
     "text": [
      "/var/folders/xn/jj94n4tj5w90v1m3njdf44n80000gp/T/ipykernel_98487/1440073136.py:28: UserWarning: Could not infer format, so each element will be parsed individually, falling back to `dateutil`. To ensure parsing is consistent and as-expected, please specify a format.\n",
      "  df = pd.read_csv(\n"
     ]
    },
    {
     "name": "stdout",
     "output_type": "stream",
     "text": [
      "reading https://www.football-data.co.uk/mmz4281/0809/SP1.csv\n"
     ]
    },
    {
     "name": "stderr",
     "output_type": "stream",
     "text": [
      "/var/folders/xn/jj94n4tj5w90v1m3njdf44n80000gp/T/ipykernel_98487/1440073136.py:28: UserWarning: Could not infer format, so each element will be parsed individually, falling back to `dateutil`. To ensure parsing is consistent and as-expected, please specify a format.\n",
      "  df = pd.read_csv(\n",
      "/var/folders/xn/jj94n4tj5w90v1m3njdf44n80000gp/T/ipykernel_98487/1440073136.py:28: UserWarning: Could not infer format, so each element will be parsed individually, falling back to `dateutil`. To ensure parsing is consistent and as-expected, please specify a format.\n",
      "  df = pd.read_csv(\n"
     ]
    },
    {
     "name": "stdout",
     "output_type": "stream",
     "text": [
      "reading https://www.football-data.co.uk/mmz4281/9697/SP2.csv\n",
      "reading https://www.football-data.co.uk/mmz4281/9495/SP1.csv\n"
     ]
    },
    {
     "name": "stderr",
     "output_type": "stream",
     "text": [
      "/var/folders/xn/jj94n4tj5w90v1m3njdf44n80000gp/T/ipykernel_98487/1440073136.py:28: UserWarning: Could not infer format, so each element will be parsed individually, falling back to `dateutil`. To ensure parsing is consistent and as-expected, please specify a format.\n",
      "  df = pd.read_csv(\n"
     ]
    },
    {
     "name": "stdout",
     "output_type": "stream",
     "text": [
      "reading https://www.football-data.co.uk/mmz4281/0910/SP2.csv\n"
     ]
    },
    {
     "name": "stderr",
     "output_type": "stream",
     "text": [
      "/var/folders/xn/jj94n4tj5w90v1m3njdf44n80000gp/T/ipykernel_98487/1440073136.py:28: UserWarning: Could not infer format, so each element will be parsed individually, falling back to `dateutil`. To ensure parsing is consistent and as-expected, please specify a format.\n",
      "  df = pd.read_csv(\n"
     ]
    },
    {
     "name": "stdout",
     "output_type": "stream",
     "text": [
      "reading https://www.football-data.co.uk/mmz4281/2223/SP1.csv\n",
      "reading https://www.football-data.co.uk/mmz4281/9798/SP1.csv\n",
      "reading https://www.football-data.co.uk/mmz4281/1617/SP1.csv\n"
     ]
    },
    {
     "name": "stderr",
     "output_type": "stream",
     "text": [
      "/var/folders/xn/jj94n4tj5w90v1m3njdf44n80000gp/T/ipykernel_98487/1440073136.py:28: UserWarning: Could not infer format, so each element will be parsed individually, falling back to `dateutil`. To ensure parsing is consistent and as-expected, please specify a format.\n",
      "  df = pd.read_csv(\n",
      "/var/folders/xn/jj94n4tj5w90v1m3njdf44n80000gp/T/ipykernel_98487/1440073136.py:28: UserWarning: Could not infer format, so each element will be parsed individually, falling back to `dateutil`. To ensure parsing is consistent and as-expected, please specify a format.\n",
      "  df = pd.read_csv(\n",
      "/var/folders/xn/jj94n4tj5w90v1m3njdf44n80000gp/T/ipykernel_98487/1440073136.py:28: UserWarning: Could not infer format, so each element will be parsed individually, falling back to `dateutil`. To ensure parsing is consistent and as-expected, please specify a format.\n",
      "  df = pd.read_csv(\n"
     ]
    },
    {
     "name": "stdout",
     "output_type": "stream",
     "text": [
      "reading https://www.football-data.co.uk/mmz4281/9900/SP1.csv\n",
      "reading https://www.football-data.co.uk/mmz4281/0607/SP1.csv\n"
     ]
    },
    {
     "name": "stderr",
     "output_type": "stream",
     "text": [
      "/var/folders/xn/jj94n4tj5w90v1m3njdf44n80000gp/T/ipykernel_98487/1440073136.py:28: UserWarning: Could not infer format, so each element will be parsed individually, falling back to `dateutil`. To ensure parsing is consistent and as-expected, please specify a format.\n",
      "  df = pd.read_csv(\n"
     ]
    },
    {
     "name": "stdout",
     "output_type": "stream",
     "text": [
      "reading https://www.football-data.co.uk/mmz4281/2324/SP2.csv\n",
      "reading https://www.football-data.co.uk/mmz4281/2021/SP2.csv\n",
      "reading https://www.football-data.co.uk/mmz4281/9697/SP1.csv\n",
      "france has 61 urls\n",
      "reading https://www.football-data.co.uk/mmz4281/1819/F2.csv\n"
     ]
    },
    {
     "name": "stderr",
     "output_type": "stream",
     "text": [
      "/var/folders/xn/jj94n4tj5w90v1m3njdf44n80000gp/T/ipykernel_98487/1440073136.py:28: UserWarning: Could not infer format, so each element will be parsed individually, falling back to `dateutil`. To ensure parsing is consistent and as-expected, please specify a format.\n",
      "  df = pd.read_csv(\n"
     ]
    },
    {
     "name": "stdout",
     "output_type": "stream",
     "text": [
      "reading https://www.football-data.co.uk/mmz4281/0708/F1.csv\n"
     ]
    },
    {
     "name": "stderr",
     "output_type": "stream",
     "text": [
      "/var/folders/xn/jj94n4tj5w90v1m3njdf44n80000gp/T/ipykernel_98487/1440073136.py:28: UserWarning: Could not infer format, so each element will be parsed individually, falling back to `dateutil`. To ensure parsing is consistent and as-expected, please specify a format.\n",
      "  df = pd.read_csv(\n"
     ]
    },
    {
     "name": "stdout",
     "output_type": "stream",
     "text": [
      "reading https://www.football-data.co.uk/mmz4281/0607/F2.csv\n"
     ]
    },
    {
     "name": "stderr",
     "output_type": "stream",
     "text": [
      "/var/folders/xn/jj94n4tj5w90v1m3njdf44n80000gp/T/ipykernel_98487/1440073136.py:28: UserWarning: Could not infer format, so each element will be parsed individually, falling back to `dateutil`. To ensure parsing is consistent and as-expected, please specify a format.\n",
      "  df = pd.read_csv(\n"
     ]
    },
    {
     "name": "stdout",
     "output_type": "stream",
     "text": [
      "reading https://www.football-data.co.uk/mmz4281/2425/F2.csv\n",
      "reading https://www.football-data.co.uk/mmz4281/0809/F2.csv\n"
     ]
    },
    {
     "name": "stderr",
     "output_type": "stream",
     "text": [
      "/var/folders/xn/jj94n4tj5w90v1m3njdf44n80000gp/T/ipykernel_98487/1440073136.py:28: UserWarning: Could not infer format, so each element will be parsed individually, falling back to `dateutil`. To ensure parsing is consistent and as-expected, please specify a format.\n",
      "  df = pd.read_csv(\n"
     ]
    },
    {
     "name": "stdout",
     "output_type": "stream",
     "text": [
      "reading https://www.football-data.co.uk/mmz4281/0102/F1.csv\n"
     ]
    },
    {
     "name": "stderr",
     "output_type": "stream",
     "text": [
      "/var/folders/xn/jj94n4tj5w90v1m3njdf44n80000gp/T/ipykernel_98487/1440073136.py:28: UserWarning: Could not infer format, so each element will be parsed individually, falling back to `dateutil`. To ensure parsing is consistent and as-expected, please specify a format.\n",
      "  df = pd.read_csv(\n"
     ]
    },
    {
     "name": "stdout",
     "output_type": "stream",
     "text": [
      "reading https://www.football-data.co.uk/mmz4281/1718/F1.csv\n"
     ]
    },
    {
     "name": "stderr",
     "output_type": "stream",
     "text": [
      "/var/folders/xn/jj94n4tj5w90v1m3njdf44n80000gp/T/ipykernel_98487/1440073136.py:28: UserWarning: Could not infer format, so each element will be parsed individually, falling back to `dateutil`. To ensure parsing is consistent and as-expected, please specify a format.\n",
      "  df = pd.read_csv(\n"
     ]
    },
    {
     "name": "stdout",
     "output_type": "stream",
     "text": [
      "reading https://www.football-data.co.uk/mmz4281/0607/F1.csv\n",
      "reading https://www.football-data.co.uk/mmz4281/9900/F1.csv\n",
      "reading https://www.football-data.co.uk/mmz4281/1314/F1.csv\n"
     ]
    },
    {
     "name": "stderr",
     "output_type": "stream",
     "text": [
      "/var/folders/xn/jj94n4tj5w90v1m3njdf44n80000gp/T/ipykernel_98487/1440073136.py:28: UserWarning: Could not infer format, so each element will be parsed individually, falling back to `dateutil`. To ensure parsing is consistent and as-expected, please specify a format.\n",
      "  df = pd.read_csv(\n",
      "/var/folders/xn/jj94n4tj5w90v1m3njdf44n80000gp/T/ipykernel_98487/1440073136.py:28: UserWarning: Could not infer format, so each element will be parsed individually, falling back to `dateutil`. To ensure parsing is consistent and as-expected, please specify a format.\n",
      "  df = pd.read_csv(\n"
     ]
    },
    {
     "name": "stdout",
     "output_type": "stream",
     "text": [
      "reading https://www.football-data.co.uk/mmz4281/0203/F1.csv\n"
     ]
    },
    {
     "name": "stderr",
     "output_type": "stream",
     "text": [
      "/var/folders/xn/jj94n4tj5w90v1m3njdf44n80000gp/T/ipykernel_98487/1440073136.py:28: UserWarning: Could not infer format, so each element will be parsed individually, falling back to `dateutil`. To ensure parsing is consistent and as-expected, please specify a format.\n",
      "  df = pd.read_csv(\n"
     ]
    },
    {
     "name": "stdout",
     "output_type": "stream",
     "text": [
      "reading https://www.football-data.co.uk/mmz4281/1920/F1.csv\n",
      "reading https://www.football-data.co.uk/mmz4281/1213/F1.csv\n"
     ]
    },
    {
     "name": "stderr",
     "output_type": "stream",
     "text": [
      "/var/folders/xn/jj94n4tj5w90v1m3njdf44n80000gp/T/ipykernel_98487/1440073136.py:28: UserWarning: Could not infer format, so each element will be parsed individually, falling back to `dateutil`. To ensure parsing is consistent and as-expected, please specify a format.\n",
      "  df = pd.read_csv(\n"
     ]
    },
    {
     "name": "stdout",
     "output_type": "stream",
     "text": [
      "reading https://www.football-data.co.uk/mmz4281/0809/F1.csv\n"
     ]
    },
    {
     "name": "stderr",
     "output_type": "stream",
     "text": [
      "/var/folders/xn/jj94n4tj5w90v1m3njdf44n80000gp/T/ipykernel_98487/1440073136.py:28: UserWarning: Could not infer format, so each element will be parsed individually, falling back to `dateutil`. To ensure parsing is consistent and as-expected, please specify a format.\n",
      "  df = pd.read_csv(\n"
     ]
    },
    {
     "name": "stdout",
     "output_type": "stream",
     "text": [
      "reading https://www.football-data.co.uk/mmz4281/1516/F2.csv\n"
     ]
    },
    {
     "name": "stderr",
     "output_type": "stream",
     "text": [
      "/var/folders/xn/jj94n4tj5w90v1m3njdf44n80000gp/T/ipykernel_98487/1440073136.py:28: UserWarning: Could not infer format, so each element will be parsed individually, falling back to `dateutil`. To ensure parsing is consistent and as-expected, please specify a format.\n",
      "  df = pd.read_csv(\n",
      "/var/folders/xn/jj94n4tj5w90v1m3njdf44n80000gp/T/ipykernel_98487/1440073136.py:28: UserWarning: Could not infer format, so each element will be parsed individually, falling back to `dateutil`. To ensure parsing is consistent and as-expected, please specify a format.\n",
      "  df = pd.read_csv(\n"
     ]
    },
    {
     "name": "stdout",
     "output_type": "stream",
     "text": [
      "reading https://www.football-data.co.uk/mmz4281/0001/F1.csv\n",
      "reading https://www.football-data.co.uk/mmz4281/1213/F2.csv\n"
     ]
    },
    {
     "name": "stderr",
     "output_type": "stream",
     "text": [
      "/var/folders/xn/jj94n4tj5w90v1m3njdf44n80000gp/T/ipykernel_98487/1440073136.py:28: UserWarning: Could not infer format, so each element will be parsed individually, falling back to `dateutil`. To ensure parsing is consistent and as-expected, please specify a format.\n",
      "  df = pd.read_csv(\n",
      "/var/folders/xn/jj94n4tj5w90v1m3njdf44n80000gp/T/ipykernel_98487/1440073136.py:28: UserWarning: Could not infer format, so each element will be parsed individually, falling back to `dateutil`. To ensure parsing is consistent and as-expected, please specify a format.\n",
      "  df = pd.read_csv(\n"
     ]
    },
    {
     "name": "stdout",
     "output_type": "stream",
     "text": [
      "reading https://www.football-data.co.uk/mmz4281/9798/F1.csv\n",
      "reading https://www.football-data.co.uk/mmz4281/1314/F2.csv\n"
     ]
    },
    {
     "name": "stderr",
     "output_type": "stream",
     "text": [
      "/var/folders/xn/jj94n4tj5w90v1m3njdf44n80000gp/T/ipykernel_98487/1440073136.py:28: UserWarning: Could not infer format, so each element will be parsed individually, falling back to `dateutil`. To ensure parsing is consistent and as-expected, please specify a format.\n",
      "  df = pd.read_csv(\n"
     ]
    },
    {
     "name": "stdout",
     "output_type": "stream",
     "text": [
      "reading https://www.football-data.co.uk/mmz4281/1516/F1.csv\n"
     ]
    },
    {
     "name": "stderr",
     "output_type": "stream",
     "text": [
      "/var/folders/xn/jj94n4tj5w90v1m3njdf44n80000gp/T/ipykernel_98487/1440073136.py:28: UserWarning: Could not infer format, so each element will be parsed individually, falling back to `dateutil`. To ensure parsing is consistent and as-expected, please specify a format.\n",
      "  df = pd.read_csv(\n",
      "/var/folders/xn/jj94n4tj5w90v1m3njdf44n80000gp/T/ipykernel_98487/1440073136.py:28: UserWarning: Could not infer format, so each element will be parsed individually, falling back to `dateutil`. To ensure parsing is consistent and as-expected, please specify a format.\n",
      "  df = pd.read_csv(\n"
     ]
    },
    {
     "name": "stdout",
     "output_type": "stream",
     "text": [
      "reading https://www.football-data.co.uk/mmz4281/9596/F1.csv\n",
      "reading https://www.football-data.co.uk/mmz4281/0203/F2.csv\n"
     ]
    },
    {
     "name": "stderr",
     "output_type": "stream",
     "text": [
      "/var/folders/xn/jj94n4tj5w90v1m3njdf44n80000gp/T/ipykernel_98487/1440073136.py:28: UserWarning: Could not infer format, so each element will be parsed individually, falling back to `dateutil`. To ensure parsing is consistent and as-expected, please specify a format.\n",
      "  df = pd.read_csv(\n"
     ]
    },
    {
     "name": "stdout",
     "output_type": "stream",
     "text": [
      "reading https://www.football-data.co.uk/mmz4281/1617/F2.csv\n"
     ]
    },
    {
     "name": "stderr",
     "output_type": "stream",
     "text": [
      "/var/folders/xn/jj94n4tj5w90v1m3njdf44n80000gp/T/ipykernel_98487/1440073136.py:28: UserWarning: Could not infer format, so each element will be parsed individually, falling back to `dateutil`. To ensure parsing is consistent and as-expected, please specify a format.\n",
      "  df = pd.read_csv(\n"
     ]
    },
    {
     "name": "stdout",
     "output_type": "stream",
     "text": [
      "reading https://www.football-data.co.uk/mmz4281/2324/F1.csv\n",
      "reading https://www.football-data.co.uk/mmz4281/2122/F2.csv\n",
      "reading https://www.football-data.co.uk/mmz4281/0708/F2.csv\n"
     ]
    },
    {
     "name": "stderr",
     "output_type": "stream",
     "text": [
      "/var/folders/xn/jj94n4tj5w90v1m3njdf44n80000gp/T/ipykernel_98487/1440073136.py:28: UserWarning: Could not infer format, so each element will be parsed individually, falling back to `dateutil`. To ensure parsing is consistent and as-expected, please specify a format.\n",
      "  df = pd.read_csv(\n"
     ]
    },
    {
     "name": "stdout",
     "output_type": "stream",
     "text": [
      "reading https://www.football-data.co.uk/mmz4281/2425/F1.csv\n",
      "reading https://www.football-data.co.uk/mmz4281/9899/F2.csv\n",
      "reading https://www.football-data.co.uk/mmz4281/2324/F2.csv\n"
     ]
    },
    {
     "name": "stderr",
     "output_type": "stream",
     "text": [
      "/var/folders/xn/jj94n4tj5w90v1m3njdf44n80000gp/T/ipykernel_98487/1440073136.py:28: UserWarning: Could not infer format, so each element will be parsed individually, falling back to `dateutil`. To ensure parsing is consistent and as-expected, please specify a format.\n",
      "  df = pd.read_csv(\n"
     ]
    },
    {
     "name": "stdout",
     "output_type": "stream",
     "text": [
      "reading https://www.football-data.co.uk/mmz4281/0910/F2.csv\n"
     ]
    },
    {
     "name": "stderr",
     "output_type": "stream",
     "text": [
      "/var/folders/xn/jj94n4tj5w90v1m3njdf44n80000gp/T/ipykernel_98487/1440073136.py:28: UserWarning: Could not infer format, so each element will be parsed individually, falling back to `dateutil`. To ensure parsing is consistent and as-expected, please specify a format.\n",
      "  df = pd.read_csv(\n"
     ]
    },
    {
     "name": "stdout",
     "output_type": "stream",
     "text": [
      "reading https://www.football-data.co.uk/mmz4281/2122/F1.csv\n",
      "reading https://www.football-data.co.uk/mmz4281/1920/F2.csv\n",
      "reading https://www.football-data.co.uk/mmz4281/1011/F2.csv\n"
     ]
    },
    {
     "name": "stderr",
     "output_type": "stream",
     "text": [
      "/var/folders/xn/jj94n4tj5w90v1m3njdf44n80000gp/T/ipykernel_98487/1440073136.py:28: UserWarning: Could not infer format, so each element will be parsed individually, falling back to `dateutil`. To ensure parsing is consistent and as-expected, please specify a format.\n",
      "  df = pd.read_csv(\n"
     ]
    },
    {
     "name": "stdout",
     "output_type": "stream",
     "text": [
      "reading https://www.football-data.co.uk/mmz4281/0910/F1.csv\n"
     ]
    },
    {
     "name": "stderr",
     "output_type": "stream",
     "text": [
      "/var/folders/xn/jj94n4tj5w90v1m3njdf44n80000gp/T/ipykernel_98487/1440073136.py:28: UserWarning: Could not infer format, so each element will be parsed individually, falling back to `dateutil`. To ensure parsing is consistent and as-expected, please specify a format.\n",
      "  df = pd.read_csv(\n"
     ]
    },
    {
     "name": "stdout",
     "output_type": "stream",
     "text": [
      "reading https://www.football-data.co.uk/mmz4281/1011/F1.csv\n"
     ]
    },
    {
     "name": "stderr",
     "output_type": "stream",
     "text": [
      "/var/folders/xn/jj94n4tj5w90v1m3njdf44n80000gp/T/ipykernel_98487/1440073136.py:28: UserWarning: Could not infer format, so each element will be parsed individually, falling back to `dateutil`. To ensure parsing is consistent and as-expected, please specify a format.\n",
      "  df = pd.read_csv(\n",
      "/var/folders/xn/jj94n4tj5w90v1m3njdf44n80000gp/T/ipykernel_98487/1440073136.py:28: UserWarning: Could not infer format, so each element will be parsed individually, falling back to `dateutil`. To ensure parsing is consistent and as-expected, please specify a format.\n",
      "  df = pd.read_csv(\n"
     ]
    },
    {
     "name": "stdout",
     "output_type": "stream",
     "text": [
      "reading https://www.football-data.co.uk/mmz4281/9394/F1.csv\n",
      "reading https://www.football-data.co.uk/mmz4281/1617/F1.csv\n"
     ]
    },
    {
     "name": "stderr",
     "output_type": "stream",
     "text": [
      "/var/folders/xn/jj94n4tj5w90v1m3njdf44n80000gp/T/ipykernel_98487/1440073136.py:28: UserWarning: Could not infer format, so each element will be parsed individually, falling back to `dateutil`. To ensure parsing is consistent and as-expected, please specify a format.\n",
      "  df = pd.read_csv(\n"
     ]
    },
    {
     "name": "stdout",
     "output_type": "stream",
     "text": [
      "reading https://www.football-data.co.uk/mmz4281/0506/F2.csv\n"
     ]
    },
    {
     "name": "stderr",
     "output_type": "stream",
     "text": [
      "/var/folders/xn/jj94n4tj5w90v1m3njdf44n80000gp/T/ipykernel_98487/1440073136.py:28: UserWarning: Could not infer format, so each element will be parsed individually, falling back to `dateutil`. To ensure parsing is consistent and as-expected, please specify a format.\n",
      "  df = pd.read_csv(\n",
      "/var/folders/xn/jj94n4tj5w90v1m3njdf44n80000gp/T/ipykernel_98487/1440073136.py:28: UserWarning: Could not infer format, so each element will be parsed individually, falling back to `dateutil`. To ensure parsing is consistent and as-expected, please specify a format.\n",
      "  df = pd.read_csv(\n"
     ]
    },
    {
     "name": "stdout",
     "output_type": "stream",
     "text": [
      "reading https://www.football-data.co.uk/mmz4281/9798/F2.csv\n",
      "reading https://www.football-data.co.uk/mmz4281/0304/F2.csv\n"
     ]
    },
    {
     "name": "stderr",
     "output_type": "stream",
     "text": [
      "/var/folders/xn/jj94n4tj5w90v1m3njdf44n80000gp/T/ipykernel_98487/1440073136.py:28: UserWarning: Could not infer format, so each element will be parsed individually, falling back to `dateutil`. To ensure parsing is consistent and as-expected, please specify a format.\n",
      "  df = pd.read_csv(\n"
     ]
    },
    {
     "name": "stdout",
     "output_type": "stream",
     "text": [
      "reading https://www.football-data.co.uk/mmz4281/0405/F2.csv\n"
     ]
    },
    {
     "name": "stderr",
     "output_type": "stream",
     "text": [
      "/var/folders/xn/jj94n4tj5w90v1m3njdf44n80000gp/T/ipykernel_98487/1440073136.py:28: UserWarning: Could not infer format, so each element will be parsed individually, falling back to `dateutil`. To ensure parsing is consistent and as-expected, please specify a format.\n",
      "  df = pd.read_csv(\n"
     ]
    },
    {
     "name": "stdout",
     "output_type": "stream",
     "text": [
      "reading https://www.football-data.co.uk/mmz4281/1415/F2.csv\n"
     ]
    },
    {
     "name": "stderr",
     "output_type": "stream",
     "text": [
      "/var/folders/xn/jj94n4tj5w90v1m3njdf44n80000gp/T/ipykernel_98487/1440073136.py:28: UserWarning: Could not infer format, so each element will be parsed individually, falling back to `dateutil`. To ensure parsing is consistent and as-expected, please specify a format.\n",
      "  df = pd.read_csv(\n",
      "/var/folders/xn/jj94n4tj5w90v1m3njdf44n80000gp/T/ipykernel_98487/1440073136.py:28: UserWarning: Could not infer format, so each element will be parsed individually, falling back to `dateutil`. To ensure parsing is consistent and as-expected, please specify a format.\n",
      "  df = pd.read_csv(\n"
     ]
    },
    {
     "name": "stdout",
     "output_type": "stream",
     "text": [
      "reading https://www.football-data.co.uk/mmz4281/9900/F2.csv\n",
      "reading https://www.football-data.co.uk/mmz4281/0506/F1.csv\n"
     ]
    },
    {
     "name": "stderr",
     "output_type": "stream",
     "text": [
      "/var/folders/xn/jj94n4tj5w90v1m3njdf44n80000gp/T/ipykernel_98487/1440073136.py:28: UserWarning: Could not infer format, so each element will be parsed individually, falling back to `dateutil`. To ensure parsing is consistent and as-expected, please specify a format.\n",
      "  df = pd.read_csv(\n"
     ]
    },
    {
     "name": "stdout",
     "output_type": "stream",
     "text": [
      "reading https://www.football-data.co.uk/mmz4281/1112/F2.csv\n"
     ]
    },
    {
     "name": "stderr",
     "output_type": "stream",
     "text": [
      "/var/folders/xn/jj94n4tj5w90v1m3njdf44n80000gp/T/ipykernel_98487/1440073136.py:28: UserWarning: Could not infer format, so each element will be parsed individually, falling back to `dateutil`. To ensure parsing is consistent and as-expected, please specify a format.\n",
      "  df = pd.read_csv(\n",
      "/var/folders/xn/jj94n4tj5w90v1m3njdf44n80000gp/T/ipykernel_98487/1440073136.py:28: UserWarning: Could not infer format, so each element will be parsed individually, falling back to `dateutil`. To ensure parsing is consistent and as-expected, please specify a format.\n",
      "  df = pd.read_csv(\n"
     ]
    },
    {
     "name": "stdout",
     "output_type": "stream",
     "text": [
      "reading https://www.football-data.co.uk/mmz4281/9697/F1.csv\n",
      "reading https://www.football-data.co.uk/mmz4281/2223/F2.csv\n",
      "reading https://www.football-data.co.uk/mmz4281/1718/F2.csv\n"
     ]
    },
    {
     "name": "stderr",
     "output_type": "stream",
     "text": [
      "/var/folders/xn/jj94n4tj5w90v1m3njdf44n80000gp/T/ipykernel_98487/1440073136.py:28: UserWarning: Could not infer format, so each element will be parsed individually, falling back to `dateutil`. To ensure parsing is consistent and as-expected, please specify a format.\n",
      "  df = pd.read_csv(\n"
     ]
    },
    {
     "name": "stdout",
     "output_type": "stream",
     "text": [
      "reading https://www.football-data.co.uk/mmz4281/2223/F1.csv\n",
      "reading https://www.football-data.co.uk/mmz4281/9495/F1.csv\n",
      "reading https://www.football-data.co.uk/mmz4281/9899/F1.csv\n"
     ]
    },
    {
     "name": "stderr",
     "output_type": "stream",
     "text": [
      "/var/folders/xn/jj94n4tj5w90v1m3njdf44n80000gp/T/ipykernel_98487/1440073136.py:28: UserWarning: Could not infer format, so each element will be parsed individually, falling back to `dateutil`. To ensure parsing is consistent and as-expected, please specify a format.\n",
      "  df = pd.read_csv(\n",
      "/var/folders/xn/jj94n4tj5w90v1m3njdf44n80000gp/T/ipykernel_98487/1440073136.py:28: UserWarning: Could not infer format, so each element will be parsed individually, falling back to `dateutil`. To ensure parsing is consistent and as-expected, please specify a format.\n",
      "  df = pd.read_csv(\n"
     ]
    },
    {
     "name": "stdout",
     "output_type": "stream",
     "text": [
      "reading https://www.football-data.co.uk/mmz4281/0405/F1.csv\n"
     ]
    },
    {
     "name": "stderr",
     "output_type": "stream",
     "text": [
      "/var/folders/xn/jj94n4tj5w90v1m3njdf44n80000gp/T/ipykernel_98487/1440073136.py:28: UserWarning: Could not infer format, so each element will be parsed individually, falling back to `dateutil`. To ensure parsing is consistent and as-expected, please specify a format.\n",
      "  df = pd.read_csv(\n"
     ]
    },
    {
     "name": "stdout",
     "output_type": "stream",
     "text": [
      "reading https://www.football-data.co.uk/mmz4281/2021/F2.csv\n",
      "reading https://www.football-data.co.uk/mmz4281/0102/F2.csv\n"
     ]
    },
    {
     "name": "stderr",
     "output_type": "stream",
     "text": [
      "/var/folders/xn/jj94n4tj5w90v1m3njdf44n80000gp/T/ipykernel_98487/1440073136.py:28: UserWarning: Could not infer format, so each element will be parsed individually, falling back to `dateutil`. To ensure parsing is consistent and as-expected, please specify a format.\n",
      "  df = pd.read_csv(\n",
      "/var/folders/xn/jj94n4tj5w90v1m3njdf44n80000gp/T/ipykernel_98487/1440073136.py:28: UserWarning: Could not infer format, so each element will be parsed individually, falling back to `dateutil`. To ensure parsing is consistent and as-expected, please specify a format.\n",
      "  df = pd.read_csv(\n"
     ]
    },
    {
     "name": "stdout",
     "output_type": "stream",
     "text": [
      "reading https://www.football-data.co.uk/mmz4281/9697/F2.csv\n",
      "reading https://www.football-data.co.uk/mmz4281/1112/F1.csv\n"
     ]
    },
    {
     "name": "stderr",
     "output_type": "stream",
     "text": [
      "/var/folders/xn/jj94n4tj5w90v1m3njdf44n80000gp/T/ipykernel_98487/1440073136.py:28: UserWarning: Could not infer format, so each element will be parsed individually, falling back to `dateutil`. To ensure parsing is consistent and as-expected, please specify a format.\n",
      "  df = pd.read_csv(\n"
     ]
    },
    {
     "name": "stdout",
     "output_type": "stream",
     "text": [
      "reading https://www.football-data.co.uk/mmz4281/1415/F1.csv\n"
     ]
    },
    {
     "name": "stderr",
     "output_type": "stream",
     "text": [
      "/var/folders/xn/jj94n4tj5w90v1m3njdf44n80000gp/T/ipykernel_98487/1440073136.py:28: UserWarning: Could not infer format, so each element will be parsed individually, falling back to `dateutil`. To ensure parsing is consistent and as-expected, please specify a format.\n",
      "  df = pd.read_csv(\n"
     ]
    },
    {
     "name": "stdout",
     "output_type": "stream",
     "text": [
      "reading https://www.football-data.co.uk/mmz4281/0001/F2.csv\n"
     ]
    },
    {
     "name": "stderr",
     "output_type": "stream",
     "text": [
      "/var/folders/xn/jj94n4tj5w90v1m3njdf44n80000gp/T/ipykernel_98487/1440073136.py:28: UserWarning: Could not infer format, so each element will be parsed individually, falling back to `dateutil`. To ensure parsing is consistent and as-expected, please specify a format.\n",
      "  df = pd.read_csv(\n"
     ]
    },
    {
     "name": "stdout",
     "output_type": "stream",
     "text": [
      "reading https://www.football-data.co.uk/mmz4281/2021/F1.csv\n",
      "reading https://www.football-data.co.uk/mmz4281/1819/F1.csv\n",
      "reading https://www.football-data.co.uk/mmz4281/0304/F1.csv\n"
     ]
    },
    {
     "name": "stderr",
     "output_type": "stream",
     "text": [
      "/var/folders/xn/jj94n4tj5w90v1m3njdf44n80000gp/T/ipykernel_98487/1440073136.py:28: UserWarning: Could not infer format, so each element will be parsed individually, falling back to `dateutil`. To ensure parsing is consistent and as-expected, please specify a format.\n",
      "  df = pd.read_csv(\n"
     ]
    },
    {
     "name": "stdout",
     "output_type": "stream",
     "text": [
      "netherlands has 32 urls\n",
      "reading https://www.football-data.co.uk/mmz4281/0506/N1.csv\n"
     ]
    },
    {
     "name": "stderr",
     "output_type": "stream",
     "text": [
      "/var/folders/xn/jj94n4tj5w90v1m3njdf44n80000gp/T/ipykernel_98487/1440073136.py:28: UserWarning: Could not infer format, so each element will be parsed individually, falling back to `dateutil`. To ensure parsing is consistent and as-expected, please specify a format.\n",
      "  df = pd.read_csv(\n",
      "/var/folders/xn/jj94n4tj5w90v1m3njdf44n80000gp/T/ipykernel_98487/1440073136.py:28: UserWarning: Could not infer format, so each element will be parsed individually, falling back to `dateutil`. To ensure parsing is consistent and as-expected, please specify a format.\n",
      "  df = pd.read_csv(\n"
     ]
    },
    {
     "name": "stdout",
     "output_type": "stream",
     "text": [
      "reading https://www.football-data.co.uk/mmz4281/9495/N1.csv\n",
      "reading https://www.football-data.co.uk/mmz4281/9697/N1.csv\n"
     ]
    },
    {
     "name": "stderr",
     "output_type": "stream",
     "text": [
      "/var/folders/xn/jj94n4tj5w90v1m3njdf44n80000gp/T/ipykernel_98487/1440073136.py:28: UserWarning: Could not infer format, so each element will be parsed individually, falling back to `dateutil`. To ensure parsing is consistent and as-expected, please specify a format.\n",
      "  df = pd.read_csv(\n",
      "/var/folders/xn/jj94n4tj5w90v1m3njdf44n80000gp/T/ipykernel_98487/1440073136.py:28: UserWarning: Could not infer format, so each element will be parsed individually, falling back to `dateutil`. To ensure parsing is consistent and as-expected, please specify a format.\n",
      "  df = pd.read_csv(\n"
     ]
    },
    {
     "name": "stdout",
     "output_type": "stream",
     "text": [
      "reading https://www.football-data.co.uk/mmz4281/9394/N1.csv\n",
      "reading https://www.football-data.co.uk/mmz4281/1718/N1.csv\n"
     ]
    },
    {
     "name": "stderr",
     "output_type": "stream",
     "text": [
      "/var/folders/xn/jj94n4tj5w90v1m3njdf44n80000gp/T/ipykernel_98487/1440073136.py:28: UserWarning: Could not infer format, so each element will be parsed individually, falling back to `dateutil`. To ensure parsing is consistent and as-expected, please specify a format.\n",
      "  df = pd.read_csv(\n"
     ]
    },
    {
     "name": "stdout",
     "output_type": "stream",
     "text": [
      "reading https://www.football-data.co.uk/mmz4281/1112/N1.csv\n"
     ]
    },
    {
     "name": "stderr",
     "output_type": "stream",
     "text": [
      "/var/folders/xn/jj94n4tj5w90v1m3njdf44n80000gp/T/ipykernel_98487/1440073136.py:28: UserWarning: Could not infer format, so each element will be parsed individually, falling back to `dateutil`. To ensure parsing is consistent and as-expected, please specify a format.\n",
      "  df = pd.read_csv(\n"
     ]
    },
    {
     "name": "stdout",
     "output_type": "stream",
     "text": [
      "reading https://www.football-data.co.uk/mmz4281/2324/N1.csv\n",
      "reading https://www.football-data.co.uk/mmz4281/2122/N1.csv\n",
      "reading https://www.football-data.co.uk/mmz4281/1617/N1.csv\n"
     ]
    },
    {
     "name": "stderr",
     "output_type": "stream",
     "text": [
      "/var/folders/xn/jj94n4tj5w90v1m3njdf44n80000gp/T/ipykernel_98487/1440073136.py:28: UserWarning: Could not infer format, so each element will be parsed individually, falling back to `dateutil`. To ensure parsing is consistent and as-expected, please specify a format.\n",
      "  df = pd.read_csv(\n"
     ]
    },
    {
     "name": "stdout",
     "output_type": "stream",
     "text": [
      "reading https://www.football-data.co.uk/mmz4281/0203/N1.csv\n"
     ]
    },
    {
     "name": "stderr",
     "output_type": "stream",
     "text": [
      "/var/folders/xn/jj94n4tj5w90v1m3njdf44n80000gp/T/ipykernel_98487/1440073136.py:28: UserWarning: Could not infer format, so each element will be parsed individually, falling back to `dateutil`. To ensure parsing is consistent and as-expected, please specify a format.\n",
      "  df = pd.read_csv(\n"
     ]
    },
    {
     "name": "stdout",
     "output_type": "stream",
     "text": [
      "reading https://www.football-data.co.uk/mmz4281/1415/N1.csv\n"
     ]
    },
    {
     "name": "stderr",
     "output_type": "stream",
     "text": [
      "/var/folders/xn/jj94n4tj5w90v1m3njdf44n80000gp/T/ipykernel_98487/1440073136.py:28: UserWarning: Could not infer format, so each element will be parsed individually, falling back to `dateutil`. To ensure parsing is consistent and as-expected, please specify a format.\n",
      "  df = pd.read_csv(\n"
     ]
    },
    {
     "name": "stdout",
     "output_type": "stream",
     "text": [
      "reading https://www.football-data.co.uk/mmz4281/1516/N1.csv\n"
     ]
    },
    {
     "name": "stderr",
     "output_type": "stream",
     "text": [
      "/var/folders/xn/jj94n4tj5w90v1m3njdf44n80000gp/T/ipykernel_98487/1440073136.py:28: UserWarning: Could not infer format, so each element will be parsed individually, falling back to `dateutil`. To ensure parsing is consistent and as-expected, please specify a format.\n",
      "  df = pd.read_csv(\n"
     ]
    },
    {
     "name": "stdout",
     "output_type": "stream",
     "text": [
      "reading https://www.football-data.co.uk/mmz4281/2223/N1.csv\n",
      "reading https://www.football-data.co.uk/mmz4281/9899/N1.csv\n",
      "reading https://www.football-data.co.uk/mmz4281/0809/N1.csv\n"
     ]
    },
    {
     "name": "stderr",
     "output_type": "stream",
     "text": [
      "/var/folders/xn/jj94n4tj5w90v1m3njdf44n80000gp/T/ipykernel_98487/1440073136.py:28: UserWarning: Could not infer format, so each element will be parsed individually, falling back to `dateutil`. To ensure parsing is consistent and as-expected, please specify a format.\n",
      "  df = pd.read_csv(\n",
      "/var/folders/xn/jj94n4tj5w90v1m3njdf44n80000gp/T/ipykernel_98487/1440073136.py:28: UserWarning: Could not infer format, so each element will be parsed individually, falling back to `dateutil`. To ensure parsing is consistent and as-expected, please specify a format.\n",
      "  df = pd.read_csv(\n"
     ]
    },
    {
     "name": "stdout",
     "output_type": "stream",
     "text": [
      "reading https://www.football-data.co.uk/mmz4281/1011/N1.csv\n"
     ]
    },
    {
     "name": "stderr",
     "output_type": "stream",
     "text": [
      "/var/folders/xn/jj94n4tj5w90v1m3njdf44n80000gp/T/ipykernel_98487/1440073136.py:28: UserWarning: Could not infer format, so each element will be parsed individually, falling back to `dateutil`. To ensure parsing is consistent and as-expected, please specify a format.\n",
      "  df = pd.read_csv(\n"
     ]
    },
    {
     "name": "stdout",
     "output_type": "stream",
     "text": [
      "reading https://www.football-data.co.uk/mmz4281/1314/N1.csv\n",
      "reading https://www.football-data.co.uk/mmz4281/0001/N1.csv\n"
     ]
    },
    {
     "name": "stderr",
     "output_type": "stream",
     "text": [
      "/var/folders/xn/jj94n4tj5w90v1m3njdf44n80000gp/T/ipykernel_98487/1440073136.py:28: UserWarning: Could not infer format, so each element will be parsed individually, falling back to `dateutil`. To ensure parsing is consistent and as-expected, please specify a format.\n",
      "  df = pd.read_csv(\n",
      "/var/folders/xn/jj94n4tj5w90v1m3njdf44n80000gp/T/ipykernel_98487/1440073136.py:28: UserWarning: Could not infer format, so each element will be parsed individually, falling back to `dateutil`. To ensure parsing is consistent and as-expected, please specify a format.\n",
      "  df = pd.read_csv(\n"
     ]
    },
    {
     "name": "stdout",
     "output_type": "stream",
     "text": [
      "reading https://www.football-data.co.uk/mmz4281/1213/N1.csv\n"
     ]
    },
    {
     "name": "stderr",
     "output_type": "stream",
     "text": [
      "/var/folders/xn/jj94n4tj5w90v1m3njdf44n80000gp/T/ipykernel_98487/1440073136.py:28: UserWarning: Could not infer format, so each element will be parsed individually, falling back to `dateutil`. To ensure parsing is consistent and as-expected, please specify a format.\n",
      "  df = pd.read_csv(\n",
      "/var/folders/xn/jj94n4tj5w90v1m3njdf44n80000gp/T/ipykernel_98487/1440073136.py:28: UserWarning: Could not infer format, so each element will be parsed individually, falling back to `dateutil`. To ensure parsing is consistent and as-expected, please specify a format.\n",
      "  df = pd.read_csv(\n"
     ]
    },
    {
     "name": "stdout",
     "output_type": "stream",
     "text": [
      "reading https://www.football-data.co.uk/mmz4281/9798/N1.csv\n",
      "reading https://www.football-data.co.uk/mmz4281/9596/N1.csv\n"
     ]
    },
    {
     "name": "stderr",
     "output_type": "stream",
     "text": [
      "/var/folders/xn/jj94n4tj5w90v1m3njdf44n80000gp/T/ipykernel_98487/1440073136.py:28: UserWarning: Could not infer format, so each element will be parsed individually, falling back to `dateutil`. To ensure parsing is consistent and as-expected, please specify a format.\n",
      "  df = pd.read_csv(\n"
     ]
    },
    {
     "name": "stdout",
     "output_type": "stream",
     "text": [
      "reading https://www.football-data.co.uk/mmz4281/0405/N1.csv\n"
     ]
    },
    {
     "name": "stderr",
     "output_type": "stream",
     "text": [
      "/var/folders/xn/jj94n4tj5w90v1m3njdf44n80000gp/T/ipykernel_98487/1440073136.py:28: UserWarning: Could not infer format, so each element will be parsed individually, falling back to `dateutil`. To ensure parsing is consistent and as-expected, please specify a format.\n",
      "  df = pd.read_csv(\n"
     ]
    },
    {
     "name": "stdout",
     "output_type": "stream",
     "text": [
      "reading https://www.football-data.co.uk/mmz4281/0708/N1.csv\n"
     ]
    },
    {
     "name": "stderr",
     "output_type": "stream",
     "text": [
      "/var/folders/xn/jj94n4tj5w90v1m3njdf44n80000gp/T/ipykernel_98487/1440073136.py:28: UserWarning: Could not infer format, so each element will be parsed individually, falling back to `dateutil`. To ensure parsing is consistent and as-expected, please specify a format.\n",
      "  df = pd.read_csv(\n"
     ]
    },
    {
     "name": "stdout",
     "output_type": "stream",
     "text": [
      "reading https://www.football-data.co.uk/mmz4281/2021/N1.csv\n",
      "reading https://www.football-data.co.uk/mmz4281/1920/N1.csv\n",
      "reading https://www.football-data.co.uk/mmz4281/9900/N1.csv\n",
      "reading https://www.football-data.co.uk/mmz4281/2425/N1.csv\n"
     ]
    },
    {
     "name": "stderr",
     "output_type": "stream",
     "text": [
      "/var/folders/xn/jj94n4tj5w90v1m3njdf44n80000gp/T/ipykernel_98487/1440073136.py:28: UserWarning: Could not infer format, so each element will be parsed individually, falling back to `dateutil`. To ensure parsing is consistent and as-expected, please specify a format.\n",
      "  df = pd.read_csv(\n"
     ]
    },
    {
     "name": "stdout",
     "output_type": "stream",
     "text": [
      "reading https://www.football-data.co.uk/mmz4281/1819/N1.csv\n",
      "reading https://www.football-data.co.uk/mmz4281/0607/N1.csv\n"
     ]
    },
    {
     "name": "stderr",
     "output_type": "stream",
     "text": [
      "/var/folders/xn/jj94n4tj5w90v1m3njdf44n80000gp/T/ipykernel_98487/1440073136.py:28: UserWarning: Could not infer format, so each element will be parsed individually, falling back to `dateutil`. To ensure parsing is consistent and as-expected, please specify a format.\n",
      "  df = pd.read_csv(\n"
     ]
    },
    {
     "name": "stdout",
     "output_type": "stream",
     "text": [
      "reading https://www.football-data.co.uk/mmz4281/0910/N1.csv\n"
     ]
    },
    {
     "name": "stderr",
     "output_type": "stream",
     "text": [
      "/var/folders/xn/jj94n4tj5w90v1m3njdf44n80000gp/T/ipykernel_98487/1440073136.py:28: UserWarning: Could not infer format, so each element will be parsed individually, falling back to `dateutil`. To ensure parsing is consistent and as-expected, please specify a format.\n",
      "  df = pd.read_csv(\n"
     ]
    },
    {
     "name": "stdout",
     "output_type": "stream",
     "text": [
      "reading https://www.football-data.co.uk/mmz4281/0304/N1.csv\n"
     ]
    },
    {
     "name": "stderr",
     "output_type": "stream",
     "text": [
      "/var/folders/xn/jj94n4tj5w90v1m3njdf44n80000gp/T/ipykernel_98487/1440073136.py:28: UserWarning: Could not infer format, so each element will be parsed individually, falling back to `dateutil`. To ensure parsing is consistent and as-expected, please specify a format.\n",
      "  df = pd.read_csv(\n"
     ]
    },
    {
     "name": "stdout",
     "output_type": "stream",
     "text": [
      "reading https://www.football-data.co.uk/mmz4281/0102/N1.csv\n"
     ]
    },
    {
     "name": "stderr",
     "output_type": "stream",
     "text": [
      "/var/folders/xn/jj94n4tj5w90v1m3njdf44n80000gp/T/ipykernel_98487/1440073136.py:28: UserWarning: Could not infer format, so each element will be parsed individually, falling back to `dateutil`. To ensure parsing is consistent and as-expected, please specify a format.\n",
      "  df = pd.read_csv(\n"
     ]
    },
    {
     "name": "stdout",
     "output_type": "stream",
     "text": [
      "belgium has 30 urls\n",
      "reading https://www.football-data.co.uk/mmz4281/1415/B1.csv\n"
     ]
    },
    {
     "name": "stderr",
     "output_type": "stream",
     "text": [
      "/var/folders/xn/jj94n4tj5w90v1m3njdf44n80000gp/T/ipykernel_98487/1440073136.py:28: UserWarning: Could not infer format, so each element will be parsed individually, falling back to `dateutil`. To ensure parsing is consistent and as-expected, please specify a format.\n",
      "  df = pd.read_csv(\n"
     ]
    },
    {
     "name": "stdout",
     "output_type": "stream",
     "text": [
      "reading https://www.football-data.co.uk/mmz4281/2021/B1.csv\n",
      "reading https://www.football-data.co.uk/mmz4281/0304/B1.csv\n"
     ]
    },
    {
     "name": "stderr",
     "output_type": "stream",
     "text": [
      "/var/folders/xn/jj94n4tj5w90v1m3njdf44n80000gp/T/ipykernel_98487/1440073136.py:28: UserWarning: Could not infer format, so each element will be parsed individually, falling back to `dateutil`. To ensure parsing is consistent and as-expected, please specify a format.\n",
      "  df = pd.read_csv(\n"
     ]
    },
    {
     "name": "stdout",
     "output_type": "stream",
     "text": [
      "reading https://www.football-data.co.uk/mmz4281/1516/B1.csv\n"
     ]
    },
    {
     "name": "stderr",
     "output_type": "stream",
     "text": [
      "/var/folders/xn/jj94n4tj5w90v1m3njdf44n80000gp/T/ipykernel_98487/1440073136.py:28: UserWarning: Could not infer format, so each element will be parsed individually, falling back to `dateutil`. To ensure parsing is consistent and as-expected, please specify a format.\n",
      "  df = pd.read_csv(\n"
     ]
    },
    {
     "name": "stdout",
     "output_type": "stream",
     "text": [
      "reading https://www.football-data.co.uk/mmz4281/0910/B1.csv\n"
     ]
    },
    {
     "name": "stderr",
     "output_type": "stream",
     "text": [
      "/var/folders/xn/jj94n4tj5w90v1m3njdf44n80000gp/T/ipykernel_98487/1440073136.py:28: UserWarning: Could not infer format, so each element will be parsed individually, falling back to `dateutil`. To ensure parsing is consistent and as-expected, please specify a format.\n",
      "  df = pd.read_csv(\n",
      "/var/folders/xn/jj94n4tj5w90v1m3njdf44n80000gp/T/ipykernel_98487/1440073136.py:28: UserWarning: Could not infer format, so each element will be parsed individually, falling back to `dateutil`. To ensure parsing is consistent and as-expected, please specify a format.\n",
      "  df = pd.read_csv(\n"
     ]
    },
    {
     "name": "stdout",
     "output_type": "stream",
     "text": [
      "reading https://www.football-data.co.uk/mmz4281/9900/B1.csv\n",
      "reading https://www.football-data.co.uk/mmz4281/1920/B1.csv\n",
      "reading https://www.football-data.co.uk/mmz4281/2324/B1.csv\n",
      "reading https://www.football-data.co.uk/mmz4281/0001/B1.csv\n"
     ]
    },
    {
     "name": "stderr",
     "output_type": "stream",
     "text": [
      "/var/folders/xn/jj94n4tj5w90v1m3njdf44n80000gp/T/ipykernel_98487/1440073136.py:28: UserWarning: Could not infer format, so each element will be parsed individually, falling back to `dateutil`. To ensure parsing is consistent and as-expected, please specify a format.\n",
      "  df = pd.read_csv(\n"
     ]
    },
    {
     "name": "stdout",
     "output_type": "stream",
     "text": [
      "reading https://www.football-data.co.uk/mmz4281/0405/B1.csv\n"
     ]
    },
    {
     "name": "stderr",
     "output_type": "stream",
     "text": [
      "/var/folders/xn/jj94n4tj5w90v1m3njdf44n80000gp/T/ipykernel_98487/1440073136.py:28: UserWarning: Could not infer format, so each element will be parsed individually, falling back to `dateutil`. To ensure parsing is consistent and as-expected, please specify a format.\n",
      "  df = pd.read_csv(\n"
     ]
    },
    {
     "name": "stdout",
     "output_type": "stream",
     "text": [
      "reading https://www.football-data.co.uk/mmz4281/2425/B1.csv\n",
      "reading https://www.football-data.co.uk/mmz4281/1819/B1.csv\n",
      "reading https://www.football-data.co.uk/mmz4281/0506/B1.csv\n"
     ]
    },
    {
     "name": "stderr",
     "output_type": "stream",
     "text": [
      "/var/folders/xn/jj94n4tj5w90v1m3njdf44n80000gp/T/ipykernel_98487/1440073136.py:28: UserWarning: Could not infer format, so each element will be parsed individually, falling back to `dateutil`. To ensure parsing is consistent and as-expected, please specify a format.\n",
      "  df = pd.read_csv(\n"
     ]
    },
    {
     "name": "stdout",
     "output_type": "stream",
     "text": [
      "reading https://www.football-data.co.uk/mmz4281/2122/B1.csv\n",
      "reading https://www.football-data.co.uk/mmz4281/9697/B1.csv\n",
      "reading https://www.football-data.co.uk/mmz4281/0607/B1.csv\n"
     ]
    },
    {
     "name": "stderr",
     "output_type": "stream",
     "text": [
      "/var/folders/xn/jj94n4tj5w90v1m3njdf44n80000gp/T/ipykernel_98487/1440073136.py:28: UserWarning: Could not infer format, so each element will be parsed individually, falling back to `dateutil`. To ensure parsing is consistent and as-expected, please specify a format.\n",
      "  df = pd.read_csv(\n",
      "/var/folders/xn/jj94n4tj5w90v1m3njdf44n80000gp/T/ipykernel_98487/1440073136.py:28: UserWarning: Could not infer format, so each element will be parsed individually, falling back to `dateutil`. To ensure parsing is consistent and as-expected, please specify a format.\n",
      "  df = pd.read_csv(\n"
     ]
    },
    {
     "name": "stdout",
     "output_type": "stream",
     "text": [
      "reading https://www.football-data.co.uk/mmz4281/1718/B1.csv\n"
     ]
    },
    {
     "name": "stderr",
     "output_type": "stream",
     "text": [
      "/var/folders/xn/jj94n4tj5w90v1m3njdf44n80000gp/T/ipykernel_98487/1440073136.py:28: UserWarning: Could not infer format, so each element will be parsed individually, falling back to `dateutil`. To ensure parsing is consistent and as-expected, please specify a format.\n",
      "  df = pd.read_csv(\n",
      "/var/folders/xn/jj94n4tj5w90v1m3njdf44n80000gp/T/ipykernel_98487/1440073136.py:28: UserWarning: Could not infer format, so each element will be parsed individually, falling back to `dateutil`. To ensure parsing is consistent and as-expected, please specify a format.\n",
      "  df = pd.read_csv(\n"
     ]
    },
    {
     "name": "stdout",
     "output_type": "stream",
     "text": [
      "reading https://www.football-data.co.uk/mmz4281/9596/B1.csv\n",
      "reading https://www.football-data.co.uk/mmz4281/1011/B1.csv\n"
     ]
    },
    {
     "name": "stderr",
     "output_type": "stream",
     "text": [
      "/var/folders/xn/jj94n4tj5w90v1m3njdf44n80000gp/T/ipykernel_98487/1440073136.py:28: UserWarning: Could not infer format, so each element will be parsed individually, falling back to `dateutil`. To ensure parsing is consistent and as-expected, please specify a format.\n",
      "  df = pd.read_csv(\n"
     ]
    },
    {
     "name": "stdout",
     "output_type": "stream",
     "text": [
      "reading https://www.football-data.co.uk/mmz4281/2223/B1.csv\n",
      "reading https://www.football-data.co.uk/mmz4281/9899/B1.csv\n",
      "reading https://www.football-data.co.uk/mmz4281/9798/B1.csv\n"
     ]
    },
    {
     "name": "stderr",
     "output_type": "stream",
     "text": [
      "/var/folders/xn/jj94n4tj5w90v1m3njdf44n80000gp/T/ipykernel_98487/1440073136.py:28: UserWarning: Could not infer format, so each element will be parsed individually, falling back to `dateutil`. To ensure parsing is consistent and as-expected, please specify a format.\n",
      "  df = pd.read_csv(\n",
      "/var/folders/xn/jj94n4tj5w90v1m3njdf44n80000gp/T/ipykernel_98487/1440073136.py:28: UserWarning: Could not infer format, so each element will be parsed individually, falling back to `dateutil`. To ensure parsing is consistent and as-expected, please specify a format.\n",
      "  df = pd.read_csv(\n"
     ]
    },
    {
     "name": "stdout",
     "output_type": "stream",
     "text": [
      "reading https://www.football-data.co.uk/mmz4281/0708/B1.csv\n"
     ]
    },
    {
     "name": "stderr",
     "output_type": "stream",
     "text": [
      "/var/folders/xn/jj94n4tj5w90v1m3njdf44n80000gp/T/ipykernel_98487/1440073136.py:28: UserWarning: Could not infer format, so each element will be parsed individually, falling back to `dateutil`. To ensure parsing is consistent and as-expected, please specify a format.\n",
      "  df = pd.read_csv(\n"
     ]
    },
    {
     "name": "stdout",
     "output_type": "stream",
     "text": [
      "reading https://www.football-data.co.uk/mmz4281/1617/B1.csv\n"
     ]
    },
    {
     "name": "stderr",
     "output_type": "stream",
     "text": [
      "/var/folders/xn/jj94n4tj5w90v1m3njdf44n80000gp/T/ipykernel_98487/1440073136.py:28: UserWarning: Could not infer format, so each element will be parsed individually, falling back to `dateutil`. To ensure parsing is consistent and as-expected, please specify a format.\n",
      "  df = pd.read_csv(\n"
     ]
    },
    {
     "name": "stdout",
     "output_type": "stream",
     "text": [
      "reading https://www.football-data.co.uk/mmz4281/1112/B1.csv\n"
     ]
    },
    {
     "name": "stderr",
     "output_type": "stream",
     "text": [
      "/var/folders/xn/jj94n4tj5w90v1m3njdf44n80000gp/T/ipykernel_98487/1440073136.py:28: UserWarning: Could not infer format, so each element will be parsed individually, falling back to `dateutil`. To ensure parsing is consistent and as-expected, please specify a format.\n",
      "  df = pd.read_csv(\n"
     ]
    },
    {
     "name": "stdout",
     "output_type": "stream",
     "text": [
      "reading https://www.football-data.co.uk/mmz4281/0102/B1.csv\n"
     ]
    },
    {
     "name": "stderr",
     "output_type": "stream",
     "text": [
      "/var/folders/xn/jj94n4tj5w90v1m3njdf44n80000gp/T/ipykernel_98487/1440073136.py:28: UserWarning: Could not infer format, so each element will be parsed individually, falling back to `dateutil`. To ensure parsing is consistent and as-expected, please specify a format.\n",
      "  df = pd.read_csv(\n"
     ]
    },
    {
     "name": "stdout",
     "output_type": "stream",
     "text": [
      "reading https://www.football-data.co.uk/mmz4281/0809/B1.csv\n"
     ]
    },
    {
     "name": "stderr",
     "output_type": "stream",
     "text": [
      "/var/folders/xn/jj94n4tj5w90v1m3njdf44n80000gp/T/ipykernel_98487/1440073136.py:28: UserWarning: Could not infer format, so each element will be parsed individually, falling back to `dateutil`. To ensure parsing is consistent and as-expected, please specify a format.\n",
      "  df = pd.read_csv(\n"
     ]
    },
    {
     "name": "stdout",
     "output_type": "stream",
     "text": [
      "reading https://www.football-data.co.uk/mmz4281/1213/B1.csv\n"
     ]
    },
    {
     "name": "stderr",
     "output_type": "stream",
     "text": [
      "/var/folders/xn/jj94n4tj5w90v1m3njdf44n80000gp/T/ipykernel_98487/1440073136.py:28: UserWarning: Could not infer format, so each element will be parsed individually, falling back to `dateutil`. To ensure parsing is consistent and as-expected, please specify a format.\n",
      "  df = pd.read_csv(\n"
     ]
    },
    {
     "name": "stdout",
     "output_type": "stream",
     "text": [
      "reading https://www.football-data.co.uk/mmz4281/0203/B1.csv\n"
     ]
    },
    {
     "name": "stderr",
     "output_type": "stream",
     "text": [
      "/var/folders/xn/jj94n4tj5w90v1m3njdf44n80000gp/T/ipykernel_98487/1440073136.py:28: UserWarning: Could not infer format, so each element will be parsed individually, falling back to `dateutil`. To ensure parsing is consistent and as-expected, please specify a format.\n",
      "  df = pd.read_csv(\n"
     ]
    },
    {
     "name": "stdout",
     "output_type": "stream",
     "text": [
      "reading https://www.football-data.co.uk/mmz4281/1314/B1.csv\n"
     ]
    },
    {
     "name": "stderr",
     "output_type": "stream",
     "text": [
      "/var/folders/xn/jj94n4tj5w90v1m3njdf44n80000gp/T/ipykernel_98487/1440073136.py:28: UserWarning: Could not infer format, so each element will be parsed individually, falling back to `dateutil`. To ensure parsing is consistent and as-expected, please specify a format.\n",
      "  df = pd.read_csv(\n"
     ]
    },
    {
     "name": "stdout",
     "output_type": "stream",
     "text": [
      "portugal has 31 urls\n",
      "reading https://www.football-data.co.uk/mmz4281/1314/P1.csv\n"
     ]
    },
    {
     "name": "stderr",
     "output_type": "stream",
     "text": [
      "/var/folders/xn/jj94n4tj5w90v1m3njdf44n80000gp/T/ipykernel_98487/1440073136.py:28: UserWarning: Could not infer format, so each element will be parsed individually, falling back to `dateutil`. To ensure parsing is consistent and as-expected, please specify a format.\n",
      "  df = pd.read_csv(\n"
     ]
    },
    {
     "name": "stdout",
     "output_type": "stream",
     "text": [
      "reading https://www.football-data.co.uk/mmz4281/2021/P1.csv\n",
      "reading https://www.football-data.co.uk/mmz4281/0809/P1.csv\n"
     ]
    },
    {
     "name": "stderr",
     "output_type": "stream",
     "text": [
      "/var/folders/xn/jj94n4tj5w90v1m3njdf44n80000gp/T/ipykernel_98487/1440073136.py:28: UserWarning: Could not infer format, so each element will be parsed individually, falling back to `dateutil`. To ensure parsing is consistent and as-expected, please specify a format.\n",
      "  df = pd.read_csv(\n"
     ]
    },
    {
     "name": "stdout",
     "output_type": "stream",
     "text": [
      "reading https://www.football-data.co.uk/mmz4281/0607/P1.csv\n"
     ]
    },
    {
     "name": "stderr",
     "output_type": "stream",
     "text": [
      "/var/folders/xn/jj94n4tj5w90v1m3njdf44n80000gp/T/ipykernel_98487/1440073136.py:28: UserWarning: Could not infer format, so each element will be parsed individually, falling back to `dateutil`. To ensure parsing is consistent and as-expected, please specify a format.\n",
      "  df = pd.read_csv(\n",
      "/var/folders/xn/jj94n4tj5w90v1m3njdf44n80000gp/T/ipykernel_98487/1440073136.py:28: UserWarning: Could not infer format, so each element will be parsed individually, falling back to `dateutil`. To ensure parsing is consistent and as-expected, please specify a format.\n",
      "  df = pd.read_csv(\n"
     ]
    },
    {
     "name": "stdout",
     "output_type": "stream",
     "text": [
      "reading https://www.football-data.co.uk/mmz4281/9899/P1.csv\n",
      "reading https://www.football-data.co.uk/mmz4281/0506/P1.csv\n"
     ]
    },
    {
     "name": "stderr",
     "output_type": "stream",
     "text": [
      "/var/folders/xn/jj94n4tj5w90v1m3njdf44n80000gp/T/ipykernel_98487/1440073136.py:28: UserWarning: Could not infer format, so each element will be parsed individually, falling back to `dateutil`. To ensure parsing is consistent and as-expected, please specify a format.\n",
      "  df = pd.read_csv(\n"
     ]
    },
    {
     "name": "stdout",
     "output_type": "stream",
     "text": [
      "reading https://www.football-data.co.uk/mmz4281/1011/P1.csv\n"
     ]
    },
    {
     "name": "stderr",
     "output_type": "stream",
     "text": [
      "/var/folders/xn/jj94n4tj5w90v1m3njdf44n80000gp/T/ipykernel_98487/1440073136.py:28: UserWarning: Could not infer format, so each element will be parsed individually, falling back to `dateutil`. To ensure parsing is consistent and as-expected, please specify a format.\n",
      "  df = pd.read_csv(\n"
     ]
    },
    {
     "name": "stdout",
     "output_type": "stream",
     "text": [
      "reading https://www.football-data.co.uk/mmz4281/1112/P1.csv\n"
     ]
    },
    {
     "name": "stderr",
     "output_type": "stream",
     "text": [
      "/var/folders/xn/jj94n4tj5w90v1m3njdf44n80000gp/T/ipykernel_98487/1440073136.py:28: UserWarning: Could not infer format, so each element will be parsed individually, falling back to `dateutil`. To ensure parsing is consistent and as-expected, please specify a format.\n",
      "  df = pd.read_csv(\n"
     ]
    },
    {
     "name": "stdout",
     "output_type": "stream",
     "text": [
      "reading https://www.football-data.co.uk/mmz4281/1516/P1.csv\n"
     ]
    },
    {
     "name": "stderr",
     "output_type": "stream",
     "text": [
      "/var/folders/xn/jj94n4tj5w90v1m3njdf44n80000gp/T/ipykernel_98487/1440073136.py:28: UserWarning: Could not infer format, so each element will be parsed individually, falling back to `dateutil`. To ensure parsing is consistent and as-expected, please specify a format.\n",
      "  df = pd.read_csv(\n"
     ]
    },
    {
     "name": "stdout",
     "output_type": "stream",
     "text": [
      "reading https://www.football-data.co.uk/mmz4281/0001/P1.csv\n"
     ]
    },
    {
     "name": "stderr",
     "output_type": "stream",
     "text": [
      "/var/folders/xn/jj94n4tj5w90v1m3njdf44n80000gp/T/ipykernel_98487/1440073136.py:28: UserWarning: Could not infer format, so each element will be parsed individually, falling back to `dateutil`. To ensure parsing is consistent and as-expected, please specify a format.\n",
      "  df = pd.read_csv(\n"
     ]
    },
    {
     "name": "stdout",
     "output_type": "stream",
     "text": [
      "reading https://www.football-data.co.uk/mmz4281/2324/P1.csv\n",
      "reading https://www.football-data.co.uk/mmz4281/2425/P1.csv\n",
      "reading https://www.football-data.co.uk/mmz4281/9798/P1.csv\n",
      "reading https://www.football-data.co.uk/mmz4281/1920/P1.csv\n"
     ]
    },
    {
     "name": "stderr",
     "output_type": "stream",
     "text": [
      "/var/folders/xn/jj94n4tj5w90v1m3njdf44n80000gp/T/ipykernel_98487/1440073136.py:28: UserWarning: Could not infer format, so each element will be parsed individually, falling back to `dateutil`. To ensure parsing is consistent and as-expected, please specify a format.\n",
      "  df = pd.read_csv(\n"
     ]
    },
    {
     "name": "stdout",
     "output_type": "stream",
     "text": [
      "reading https://www.football-data.co.uk/mmz4281/9495/P1.csv\n",
      "reading https://www.football-data.co.uk/mmz4281/0102/P1.csv\n"
     ]
    },
    {
     "name": "stderr",
     "output_type": "stream",
     "text": [
      "/var/folders/xn/jj94n4tj5w90v1m3njdf44n80000gp/T/ipykernel_98487/1440073136.py:28: UserWarning: Could not infer format, so each element will be parsed individually, falling back to `dateutil`. To ensure parsing is consistent and as-expected, please specify a format.\n",
      "  df = pd.read_csv(\n",
      "/var/folders/xn/jj94n4tj5w90v1m3njdf44n80000gp/T/ipykernel_98487/1440073136.py:28: UserWarning: Could not infer format, so each element will be parsed individually, falling back to `dateutil`. To ensure parsing is consistent and as-expected, please specify a format.\n",
      "  df = pd.read_csv(\n",
      "/var/folders/xn/jj94n4tj5w90v1m3njdf44n80000gp/T/ipykernel_98487/1440073136.py:28: UserWarning: Could not infer format, so each element will be parsed individually, falling back to `dateutil`. To ensure parsing is consistent and as-expected, please specify a format.\n",
      "  df = pd.read_csv(\n"
     ]
    },
    {
     "name": "stdout",
     "output_type": "stream",
     "text": [
      "reading https://www.football-data.co.uk/mmz4281/9697/P1.csv\n",
      "reading https://www.football-data.co.uk/mmz4281/1415/P1.csv\n"
     ]
    },
    {
     "name": "stderr",
     "output_type": "stream",
     "text": [
      "/var/folders/xn/jj94n4tj5w90v1m3njdf44n80000gp/T/ipykernel_98487/1440073136.py:28: UserWarning: Could not infer format, so each element will be parsed individually, falling back to `dateutil`. To ensure parsing is consistent and as-expected, please specify a format.\n",
      "  df = pd.read_csv(\n"
     ]
    },
    {
     "name": "stdout",
     "output_type": "stream",
     "text": [
      "reading https://www.football-data.co.uk/mmz4281/0203/P1.csv\n"
     ]
    },
    {
     "name": "stderr",
     "output_type": "stream",
     "text": [
      "/var/folders/xn/jj94n4tj5w90v1m3njdf44n80000gp/T/ipykernel_98487/1440073136.py:28: UserWarning: Could not infer format, so each element will be parsed individually, falling back to `dateutil`. To ensure parsing is consistent and as-expected, please specify a format.\n",
      "  df = pd.read_csv(\n"
     ]
    },
    {
     "name": "stdout",
     "output_type": "stream",
     "text": [
      "reading https://www.football-data.co.uk/mmz4281/1718/P1.csv\n"
     ]
    },
    {
     "name": "stderr",
     "output_type": "stream",
     "text": [
      "/var/folders/xn/jj94n4tj5w90v1m3njdf44n80000gp/T/ipykernel_98487/1440073136.py:28: UserWarning: Could not infer format, so each element will be parsed individually, falling back to `dateutil`. To ensure parsing is consistent and as-expected, please specify a format.\n",
      "  df = pd.read_csv(\n",
      "/var/folders/xn/jj94n4tj5w90v1m3njdf44n80000gp/T/ipykernel_98487/1440073136.py:28: UserWarning: Could not infer format, so each element will be parsed individually, falling back to `dateutil`. To ensure parsing is consistent and as-expected, please specify a format.\n",
      "  df = pd.read_csv(\n"
     ]
    },
    {
     "name": "stdout",
     "output_type": "stream",
     "text": [
      "reading https://www.football-data.co.uk/mmz4281/9596/P1.csv\n",
      "reading https://www.football-data.co.uk/mmz4281/2223/P1.csv\n",
      "reading https://www.football-data.co.uk/mmz4281/9900/P1.csv\n",
      "reading https://www.football-data.co.uk/mmz4281/0405/P1.csv\n"
     ]
    },
    {
     "name": "stderr",
     "output_type": "stream",
     "text": [
      "/var/folders/xn/jj94n4tj5w90v1m3njdf44n80000gp/T/ipykernel_98487/1440073136.py:28: UserWarning: Could not infer format, so each element will be parsed individually, falling back to `dateutil`. To ensure parsing is consistent and as-expected, please specify a format.\n",
      "  df = pd.read_csv(\n",
      "/var/folders/xn/jj94n4tj5w90v1m3njdf44n80000gp/T/ipykernel_98487/1440073136.py:28: UserWarning: Could not infer format, so each element will be parsed individually, falling back to `dateutil`. To ensure parsing is consistent and as-expected, please specify a format.\n",
      "  df = pd.read_csv(\n"
     ]
    },
    {
     "name": "stdout",
     "output_type": "stream",
     "text": [
      "reading https://www.football-data.co.uk/mmz4281/0304/P1.csv\n"
     ]
    },
    {
     "name": "stderr",
     "output_type": "stream",
     "text": [
      "/var/folders/xn/jj94n4tj5w90v1m3njdf44n80000gp/T/ipykernel_98487/1440073136.py:28: UserWarning: Could not infer format, so each element will be parsed individually, falling back to `dateutil`. To ensure parsing is consistent and as-expected, please specify a format.\n",
      "  df = pd.read_csv(\n"
     ]
    },
    {
     "name": "stdout",
     "output_type": "stream",
     "text": [
      "reading https://www.football-data.co.uk/mmz4281/0708/P1.csv\n"
     ]
    },
    {
     "name": "stderr",
     "output_type": "stream",
     "text": [
      "/var/folders/xn/jj94n4tj5w90v1m3njdf44n80000gp/T/ipykernel_98487/1440073136.py:28: UserWarning: Could not infer format, so each element will be parsed individually, falling back to `dateutil`. To ensure parsing is consistent and as-expected, please specify a format.\n",
      "  df = pd.read_csv(\n"
     ]
    },
    {
     "name": "stdout",
     "output_type": "stream",
     "text": [
      "reading https://www.football-data.co.uk/mmz4281/0910/P1.csv\n"
     ]
    },
    {
     "name": "stderr",
     "output_type": "stream",
     "text": [
      "/var/folders/xn/jj94n4tj5w90v1m3njdf44n80000gp/T/ipykernel_98487/1440073136.py:28: UserWarning: Could not infer format, so each element will be parsed individually, falling back to `dateutil`. To ensure parsing is consistent and as-expected, please specify a format.\n",
      "  df = pd.read_csv(\n"
     ]
    },
    {
     "name": "stdout",
     "output_type": "stream",
     "text": [
      "reading https://www.football-data.co.uk/mmz4281/1819/P1.csv\n",
      "reading https://www.football-data.co.uk/mmz4281/2122/P1.csv\n",
      "reading https://www.football-data.co.uk/mmz4281/1617/P1.csv\n"
     ]
    },
    {
     "name": "stderr",
     "output_type": "stream",
     "text": [
      "/var/folders/xn/jj94n4tj5w90v1m3njdf44n80000gp/T/ipykernel_98487/1440073136.py:28: UserWarning: Could not infer format, so each element will be parsed individually, falling back to `dateutil`. To ensure parsing is consistent and as-expected, please specify a format.\n",
      "  df = pd.read_csv(\n"
     ]
    },
    {
     "name": "stdout",
     "output_type": "stream",
     "text": [
      "reading https://www.football-data.co.uk/mmz4281/1213/P1.csv\n"
     ]
    },
    {
     "name": "stderr",
     "output_type": "stream",
     "text": [
      "/var/folders/xn/jj94n4tj5w90v1m3njdf44n80000gp/T/ipykernel_98487/1440073136.py:28: UserWarning: Could not infer format, so each element will be parsed individually, falling back to `dateutil`. To ensure parsing is consistent and as-expected, please specify a format.\n",
      "  df = pd.read_csv(\n"
     ]
    },
    {
     "name": "stdout",
     "output_type": "stream",
     "text": [
      "turkey has 31 urls\n",
      "reading https://www.football-data.co.uk/mmz4281/1718/T1.csv\n"
     ]
    },
    {
     "name": "stderr",
     "output_type": "stream",
     "text": [
      "/var/folders/xn/jj94n4tj5w90v1m3njdf44n80000gp/T/ipykernel_98487/1440073136.py:28: UserWarning: Could not infer format, so each element will be parsed individually, falling back to `dateutil`. To ensure parsing is consistent and as-expected, please specify a format.\n",
      "  df = pd.read_csv(\n"
     ]
    },
    {
     "name": "stdout",
     "output_type": "stream",
     "text": [
      "reading https://www.football-data.co.uk/mmz4281/2223/T1.csv\n",
      "reading https://www.football-data.co.uk/mmz4281/0607/T1.csv\n",
      "reading https://www.football-data.co.uk/mmz4281/9899/T1.csv\n",
      "reading https://www.football-data.co.uk/mmz4281/1112/T1.csv\n"
     ]
    },
    {
     "name": "stderr",
     "output_type": "stream",
     "text": [
      "/var/folders/xn/jj94n4tj5w90v1m3njdf44n80000gp/T/ipykernel_98487/1440073136.py:28: UserWarning: Could not infer format, so each element will be parsed individually, falling back to `dateutil`. To ensure parsing is consistent and as-expected, please specify a format.\n",
      "  df = pd.read_csv(\n",
      "/var/folders/xn/jj94n4tj5w90v1m3njdf44n80000gp/T/ipykernel_98487/1440073136.py:28: UserWarning: Could not infer format, so each element will be parsed individually, falling back to `dateutil`. To ensure parsing is consistent and as-expected, please specify a format.\n",
      "  df = pd.read_csv(\n"
     ]
    },
    {
     "name": "stdout",
     "output_type": "stream",
     "text": [
      "reading https://www.football-data.co.uk/mmz4281/0001/T1.csv\n"
     ]
    },
    {
     "name": "stderr",
     "output_type": "stream",
     "text": [
      "/var/folders/xn/jj94n4tj5w90v1m3njdf44n80000gp/T/ipykernel_98487/1440073136.py:28: UserWarning: Could not infer format, so each element will be parsed individually, falling back to `dateutil`. To ensure parsing is consistent and as-expected, please specify a format.\n",
      "  df = pd.read_csv(\n"
     ]
    },
    {
     "name": "stdout",
     "output_type": "stream",
     "text": [
      "reading https://www.football-data.co.uk/mmz4281/9596/T1.csv\n"
     ]
    },
    {
     "name": "stderr",
     "output_type": "stream",
     "text": [
      "/var/folders/xn/jj94n4tj5w90v1m3njdf44n80000gp/T/ipykernel_98487/1440073136.py:28: UserWarning: Could not infer format, so each element will be parsed individually, falling back to `dateutil`. To ensure parsing is consistent and as-expected, please specify a format.\n",
      "  df = pd.read_csv(\n",
      "/var/folders/xn/jj94n4tj5w90v1m3njdf44n80000gp/T/ipykernel_98487/1440073136.py:28: UserWarning: Could not infer format, so each element will be parsed individually, falling back to `dateutil`. To ensure parsing is consistent and as-expected, please specify a format.\n",
      "  df = pd.read_csv(\n"
     ]
    },
    {
     "name": "stdout",
     "output_type": "stream",
     "text": [
      "reading https://www.football-data.co.uk/mmz4281/9697/T1.csv\n",
      "reading https://www.football-data.co.uk/mmz4281/1516/T1.csv\n"
     ]
    },
    {
     "name": "stderr",
     "output_type": "stream",
     "text": [
      "/var/folders/xn/jj94n4tj5w90v1m3njdf44n80000gp/T/ipykernel_98487/1440073136.py:28: UserWarning: Could not infer format, so each element will be parsed individually, falling back to `dateutil`. To ensure parsing is consistent and as-expected, please specify a format.\n",
      "  df = pd.read_csv(\n"
     ]
    },
    {
     "name": "stdout",
     "output_type": "stream",
     "text": [
      "reading https://www.football-data.co.uk/mmz4281/1415/T1.csv\n"
     ]
    },
    {
     "name": "stderr",
     "output_type": "stream",
     "text": [
      "/var/folders/xn/jj94n4tj5w90v1m3njdf44n80000gp/T/ipykernel_98487/1440073136.py:28: UserWarning: Could not infer format, so each element will be parsed individually, falling back to `dateutil`. To ensure parsing is consistent and as-expected, please specify a format.\n",
      "  df = pd.read_csv(\n"
     ]
    },
    {
     "name": "stdout",
     "output_type": "stream",
     "text": [
      "reading https://www.football-data.co.uk/mmz4281/0910/T1.csv\n"
     ]
    },
    {
     "name": "stderr",
     "output_type": "stream",
     "text": [
      "/var/folders/xn/jj94n4tj5w90v1m3njdf44n80000gp/T/ipykernel_98487/1440073136.py:28: UserWarning: Could not infer format, so each element will be parsed individually, falling back to `dateutil`. To ensure parsing is consistent and as-expected, please specify a format.\n",
      "  df = pd.read_csv(\n"
     ]
    },
    {
     "name": "stdout",
     "output_type": "stream",
     "text": [
      "reading https://www.football-data.co.uk/mmz4281/0405/T1.csv\n"
     ]
    },
    {
     "name": "stderr",
     "output_type": "stream",
     "text": [
      "/var/folders/xn/jj94n4tj5w90v1m3njdf44n80000gp/T/ipykernel_98487/1440073136.py:28: UserWarning: Could not infer format, so each element will be parsed individually, falling back to `dateutil`. To ensure parsing is consistent and as-expected, please specify a format.\n",
      "  df = pd.read_csv(\n",
      "/var/folders/xn/jj94n4tj5w90v1m3njdf44n80000gp/T/ipykernel_98487/1440073136.py:28: UserWarning: Could not infer format, so each element will be parsed individually, falling back to `dateutil`. To ensure parsing is consistent and as-expected, please specify a format.\n",
      "  df = pd.read_csv(\n"
     ]
    },
    {
     "name": "stdout",
     "output_type": "stream",
     "text": [
      "reading https://www.football-data.co.uk/mmz4281/9798/T1.csv\n",
      "reading https://www.football-data.co.uk/mmz4281/1920/T1.csv\n",
      "reading https://www.football-data.co.uk/mmz4281/0102/T1.csv\n"
     ]
    },
    {
     "name": "stderr",
     "output_type": "stream",
     "text": [
      "/var/folders/xn/jj94n4tj5w90v1m3njdf44n80000gp/T/ipykernel_98487/1440073136.py:28: UserWarning: Could not infer format, so each element will be parsed individually, falling back to `dateutil`. To ensure parsing is consistent and as-expected, please specify a format.\n",
      "  df = pd.read_csv(\n"
     ]
    },
    {
     "name": "stdout",
     "output_type": "stream",
     "text": [
      "reading https://www.football-data.co.uk/mmz4281/2021/T1.csv\n",
      "reading https://www.football-data.co.uk/mmz4281/2122/T1.csv\n",
      "reading https://www.football-data.co.uk/mmz4281/1011/T1.csv\n"
     ]
    },
    {
     "name": "stderr",
     "output_type": "stream",
     "text": [
      "/var/folders/xn/jj94n4tj5w90v1m3njdf44n80000gp/T/ipykernel_98487/1440073136.py:28: UserWarning: Could not infer format, so each element will be parsed individually, falling back to `dateutil`. To ensure parsing is consistent and as-expected, please specify a format.\n",
      "  df = pd.read_csv(\n",
      "/var/folders/xn/jj94n4tj5w90v1m3njdf44n80000gp/T/ipykernel_98487/1440073136.py:28: UserWarning: Could not infer format, so each element will be parsed individually, falling back to `dateutil`. To ensure parsing is consistent and as-expected, please specify a format.\n",
      "  df = pd.read_csv(\n"
     ]
    },
    {
     "name": "stdout",
     "output_type": "stream",
     "text": [
      "reading https://www.football-data.co.uk/mmz4281/9900/T1.csv\n",
      "reading https://www.football-data.co.uk/mmz4281/0708/T1.csv\n"
     ]
    },
    {
     "name": "stderr",
     "output_type": "stream",
     "text": [
      "/var/folders/xn/jj94n4tj5w90v1m3njdf44n80000gp/T/ipykernel_98487/1440073136.py:28: UserWarning: Could not infer format, so each element will be parsed individually, falling back to `dateutil`. To ensure parsing is consistent and as-expected, please specify a format.\n",
      "  df = pd.read_csv(\n"
     ]
    },
    {
     "name": "stdout",
     "output_type": "stream",
     "text": [
      "reading https://www.football-data.co.uk/mmz4281/2324/T1.csv\n",
      "reading https://www.football-data.co.uk/mmz4281/1314/T1.csv\n"
     ]
    },
    {
     "name": "stderr",
     "output_type": "stream",
     "text": [
      "/var/folders/xn/jj94n4tj5w90v1m3njdf44n80000gp/T/ipykernel_98487/1440073136.py:28: UserWarning: Could not infer format, so each element will be parsed individually, falling back to `dateutil`. To ensure parsing is consistent and as-expected, please specify a format.\n",
      "  df = pd.read_csv(\n"
     ]
    },
    {
     "name": "stdout",
     "output_type": "stream",
     "text": [
      "reading https://www.football-data.co.uk/mmz4281/0304/T1.csv\n"
     ]
    },
    {
     "name": "stderr",
     "output_type": "stream",
     "text": [
      "/var/folders/xn/jj94n4tj5w90v1m3njdf44n80000gp/T/ipykernel_98487/1440073136.py:28: UserWarning: Could not infer format, so each element will be parsed individually, falling back to `dateutil`. To ensure parsing is consistent and as-expected, please specify a format.\n",
      "  df = pd.read_csv(\n"
     ]
    },
    {
     "name": "stdout",
     "output_type": "stream",
     "text": [
      "reading https://www.football-data.co.uk/mmz4281/0809/T1.csv\n"
     ]
    },
    {
     "name": "stderr",
     "output_type": "stream",
     "text": [
      "/var/folders/xn/jj94n4tj5w90v1m3njdf44n80000gp/T/ipykernel_98487/1440073136.py:28: UserWarning: Could not infer format, so each element will be parsed individually, falling back to `dateutil`. To ensure parsing is consistent and as-expected, please specify a format.\n",
      "  df = pd.read_csv(\n"
     ]
    },
    {
     "name": "stdout",
     "output_type": "stream",
     "text": [
      "reading https://www.football-data.co.uk/mmz4281/0506/T1.csv\n"
     ]
    },
    {
     "name": "stderr",
     "output_type": "stream",
     "text": [
      "/var/folders/xn/jj94n4tj5w90v1m3njdf44n80000gp/T/ipykernel_98487/1440073136.py:28: UserWarning: Could not infer format, so each element will be parsed individually, falling back to `dateutil`. To ensure parsing is consistent and as-expected, please specify a format.\n",
      "  df = pd.read_csv(\n"
     ]
    },
    {
     "name": "stdout",
     "output_type": "stream",
     "text": [
      "reading https://www.football-data.co.uk/mmz4281/0203/T1.csv\n"
     ]
    },
    {
     "name": "stderr",
     "output_type": "stream",
     "text": [
      "/var/folders/xn/jj94n4tj5w90v1m3njdf44n80000gp/T/ipykernel_98487/1440073136.py:28: UserWarning: Could not infer format, so each element will be parsed individually, falling back to `dateutil`. To ensure parsing is consistent and as-expected, please specify a format.\n",
      "  df = pd.read_csv(\n",
      "/var/folders/xn/jj94n4tj5w90v1m3njdf44n80000gp/T/ipykernel_98487/1440073136.py:28: UserWarning: Could not infer format, so each element will be parsed individually, falling back to `dateutil`. To ensure parsing is consistent and as-expected, please specify a format.\n",
      "  df = pd.read_csv(\n"
     ]
    },
    {
     "name": "stdout",
     "output_type": "stream",
     "text": [
      "reading https://www.football-data.co.uk/mmz4281/9495/T1.csv\n",
      "reading https://www.football-data.co.uk/mmz4281/1213/T1.csv\n"
     ]
    },
    {
     "name": "stderr",
     "output_type": "stream",
     "text": [
      "/var/folders/xn/jj94n4tj5w90v1m3njdf44n80000gp/T/ipykernel_98487/1440073136.py:28: UserWarning: Could not infer format, so each element will be parsed individually, falling back to `dateutil`. To ensure parsing is consistent and as-expected, please specify a format.\n",
      "  df = pd.read_csv(\n"
     ]
    },
    {
     "name": "stdout",
     "output_type": "stream",
     "text": [
      "reading https://www.football-data.co.uk/mmz4281/2425/T1.csv\n",
      "reading https://www.football-data.co.uk/mmz4281/1819/T1.csv\n",
      "reading https://www.football-data.co.uk/mmz4281/1617/T1.csv\n"
     ]
    },
    {
     "name": "stderr",
     "output_type": "stream",
     "text": [
      "/var/folders/xn/jj94n4tj5w90v1m3njdf44n80000gp/T/ipykernel_98487/1440073136.py:28: UserWarning: Could not infer format, so each element will be parsed individually, falling back to `dateutil`. To ensure parsing is consistent and as-expected, please specify a format.\n",
      "  df = pd.read_csv(\n"
     ]
    },
    {
     "name": "stdout",
     "output_type": "stream",
     "text": [
      "greece has 31 urls\n",
      "reading https://www.football-data.co.uk/mmz4281/1415/G1.csv\n"
     ]
    },
    {
     "name": "stderr",
     "output_type": "stream",
     "text": [
      "/var/folders/xn/jj94n4tj5w90v1m3njdf44n80000gp/T/ipykernel_98487/1440073136.py:28: UserWarning: Could not infer format, so each element will be parsed individually, falling back to `dateutil`. To ensure parsing is consistent and as-expected, please specify a format.\n",
      "  df = pd.read_csv(\n"
     ]
    },
    {
     "name": "stdout",
     "output_type": "stream",
     "text": [
      "reading https://www.football-data.co.uk/mmz4281/1718/G1.csv\n"
     ]
    },
    {
     "name": "stderr",
     "output_type": "stream",
     "text": [
      "/var/folders/xn/jj94n4tj5w90v1m3njdf44n80000gp/T/ipykernel_98487/1440073136.py:28: UserWarning: Could not infer format, so each element will be parsed individually, falling back to `dateutil`. To ensure parsing is consistent and as-expected, please specify a format.\n",
      "  df = pd.read_csv(\n"
     ]
    },
    {
     "name": "stdout",
     "output_type": "stream",
     "text": [
      "reading https://www.football-data.co.uk/mmz4281/1011/G1.csv\n"
     ]
    },
    {
     "name": "stderr",
     "output_type": "stream",
     "text": [
      "/var/folders/xn/jj94n4tj5w90v1m3njdf44n80000gp/T/ipykernel_98487/1440073136.py:28: UserWarning: Could not infer format, so each element will be parsed individually, falling back to `dateutil`. To ensure parsing is consistent and as-expected, please specify a format.\n",
      "  df = pd.read_csv(\n",
      "/var/folders/xn/jj94n4tj5w90v1m3njdf44n80000gp/T/ipykernel_98487/1440073136.py:28: UserWarning: Could not infer format, so each element will be parsed individually, falling back to `dateutil`. To ensure parsing is consistent and as-expected, please specify a format.\n",
      "  df = pd.read_csv(\n"
     ]
    },
    {
     "name": "stdout",
     "output_type": "stream",
     "text": [
      "reading https://www.football-data.co.uk/mmz4281/9899/G1.csv\n",
      "reading https://www.football-data.co.uk/mmz4281/1314/G1.csv\n"
     ]
    },
    {
     "name": "stderr",
     "output_type": "stream",
     "text": [
      "/var/folders/xn/jj94n4tj5w90v1m3njdf44n80000gp/T/ipykernel_98487/1440073136.py:28: UserWarning: Could not infer format, so each element will be parsed individually, falling back to `dateutil`. To ensure parsing is consistent and as-expected, please specify a format.\n",
      "  df = pd.read_csv(\n"
     ]
    },
    {
     "name": "stdout",
     "output_type": "stream",
     "text": [
      "reading https://www.football-data.co.uk/mmz4281/1819/G1.csv\n",
      "reading https://www.football-data.co.uk/mmz4281/1112/G1.csv\n"
     ]
    },
    {
     "name": "stderr",
     "output_type": "stream",
     "text": [
      "/var/folders/xn/jj94n4tj5w90v1m3njdf44n80000gp/T/ipykernel_98487/1440073136.py:28: UserWarning: Could not infer format, so each element will be parsed individually, falling back to `dateutil`. To ensure parsing is consistent and as-expected, please specify a format.\n",
      "  df = pd.read_csv(\n",
      "/var/folders/xn/jj94n4tj5w90v1m3njdf44n80000gp/T/ipykernel_98487/1440073136.py:28: UserWarning: Could not infer format, so each element will be parsed individually, falling back to `dateutil`. To ensure parsing is consistent and as-expected, please specify a format.\n",
      "  df = pd.read_csv(\n"
     ]
    },
    {
     "name": "stdout",
     "output_type": "stream",
     "text": [
      "reading https://www.football-data.co.uk/mmz4281/9596/G1.csv\n",
      "reading https://www.football-data.co.uk/mmz4281/1213/G1.csv\n"
     ]
    },
    {
     "name": "stderr",
     "output_type": "stream",
     "text": [
      "/var/folders/xn/jj94n4tj5w90v1m3njdf44n80000gp/T/ipykernel_98487/1440073136.py:28: UserWarning: Could not infer format, so each element will be parsed individually, falling back to `dateutil`. To ensure parsing is consistent and as-expected, please specify a format.\n",
      "  df = pd.read_csv(\n",
      "/var/folders/xn/jj94n4tj5w90v1m3njdf44n80000gp/T/ipykernel_98487/1440073136.py:28: UserWarning: Could not infer format, so each element will be parsed individually, falling back to `dateutil`. To ensure parsing is consistent and as-expected, please specify a format.\n",
      "  df = pd.read_csv(\n"
     ]
    },
    {
     "name": "stdout",
     "output_type": "stream",
     "text": [
      "reading https://www.football-data.co.uk/mmz4281/0001/G1.csv\n",
      "reading https://www.football-data.co.uk/mmz4281/2425/G1.csv\n",
      "reading https://www.football-data.co.uk/mmz4281/1920/G1.csv\n",
      "reading https://www.football-data.co.uk/mmz4281/9798/G1.csv\n",
      "reading https://www.football-data.co.uk/mmz4281/1617/G1.csv\n"
     ]
    },
    {
     "name": "stderr",
     "output_type": "stream",
     "text": [
      "/var/folders/xn/jj94n4tj5w90v1m3njdf44n80000gp/T/ipykernel_98487/1440073136.py:28: UserWarning: Could not infer format, so each element will be parsed individually, falling back to `dateutil`. To ensure parsing is consistent and as-expected, please specify a format.\n",
      "  df = pd.read_csv(\n",
      "/var/folders/xn/jj94n4tj5w90v1m3njdf44n80000gp/T/ipykernel_98487/1440073136.py:28: UserWarning: Could not infer format, so each element will be parsed individually, falling back to `dateutil`. To ensure parsing is consistent and as-expected, please specify a format.\n",
      "  df = pd.read_csv(\n"
     ]
    },
    {
     "name": "stdout",
     "output_type": "stream",
     "text": [
      "reading https://www.football-data.co.uk/mmz4281/2324/G1.csv\n",
      "reading https://www.football-data.co.uk/mmz4281/0910/G1.csv\n"
     ]
    },
    {
     "name": "stderr",
     "output_type": "stream",
     "text": [
      "/var/folders/xn/jj94n4tj5w90v1m3njdf44n80000gp/T/ipykernel_98487/1440073136.py:28: UserWarning: Could not infer format, so each element will be parsed individually, falling back to `dateutil`. To ensure parsing is consistent and as-expected, please specify a format.\n",
      "  df = pd.read_csv(\n"
     ]
    },
    {
     "name": "stdout",
     "output_type": "stream",
     "text": [
      "reading https://www.football-data.co.uk/mmz4281/0809/G1.csv\n"
     ]
    },
    {
     "name": "stderr",
     "output_type": "stream",
     "text": [
      "/var/folders/xn/jj94n4tj5w90v1m3njdf44n80000gp/T/ipykernel_98487/1440073136.py:28: UserWarning: Could not infer format, so each element will be parsed individually, falling back to `dateutil`. To ensure parsing is consistent and as-expected, please specify a format.\n",
      "  df = pd.read_csv(\n"
     ]
    },
    {
     "name": "stdout",
     "output_type": "stream",
     "text": [
      "reading https://www.football-data.co.uk/mmz4281/0405/G1.csv\n"
     ]
    },
    {
     "name": "stderr",
     "output_type": "stream",
     "text": [
      "/var/folders/xn/jj94n4tj5w90v1m3njdf44n80000gp/T/ipykernel_98487/1440073136.py:28: UserWarning: Could not infer format, so each element will be parsed individually, falling back to `dateutil`. To ensure parsing is consistent and as-expected, please specify a format.\n",
      "  df = pd.read_csv(\n"
     ]
    },
    {
     "name": "stdout",
     "output_type": "stream",
     "text": [
      "reading https://www.football-data.co.uk/mmz4281/2021/G1.csv\n",
      "reading https://www.football-data.co.uk/mmz4281/0607/G1.csv\n"
     ]
    },
    {
     "name": "stderr",
     "output_type": "stream",
     "text": [
      "/var/folders/xn/jj94n4tj5w90v1m3njdf44n80000gp/T/ipykernel_98487/1440073136.py:28: UserWarning: Could not infer format, so each element will be parsed individually, falling back to `dateutil`. To ensure parsing is consistent and as-expected, please specify a format.\n",
      "  df = pd.read_csv(\n",
      "/var/folders/xn/jj94n4tj5w90v1m3njdf44n80000gp/T/ipykernel_98487/1440073136.py:28: UserWarning: Could not infer format, so each element will be parsed individually, falling back to `dateutil`. To ensure parsing is consistent and as-expected, please specify a format.\n",
      "  df = pd.read_csv(\n"
     ]
    },
    {
     "name": "stdout",
     "output_type": "stream",
     "text": [
      "reading https://www.football-data.co.uk/mmz4281/0203/G1.csv\n",
      "reading https://www.football-data.co.uk/mmz4281/9900/G1.csv\n"
     ]
    },
    {
     "name": "stderr",
     "output_type": "stream",
     "text": [
      "/var/folders/xn/jj94n4tj5w90v1m3njdf44n80000gp/T/ipykernel_98487/1440073136.py:28: UserWarning: Could not infer format, so each element will be parsed individually, falling back to `dateutil`. To ensure parsing is consistent and as-expected, please specify a format.\n",
      "  df = pd.read_csv(\n"
     ]
    },
    {
     "name": "stdout",
     "output_type": "stream",
     "text": [
      "reading https://www.football-data.co.uk/mmz4281/0506/G1.csv\n"
     ]
    },
    {
     "name": "stderr",
     "output_type": "stream",
     "text": [
      "/var/folders/xn/jj94n4tj5w90v1m3njdf44n80000gp/T/ipykernel_98487/1440073136.py:28: UserWarning: Could not infer format, so each element will be parsed individually, falling back to `dateutil`. To ensure parsing is consistent and as-expected, please specify a format.\n",
      "  df = pd.read_csv(\n"
     ]
    },
    {
     "name": "stdout",
     "output_type": "stream",
     "text": [
      "reading https://www.football-data.co.uk/mmz4281/2122/G1.csv\n",
      "reading https://www.football-data.co.uk/mmz4281/0708/G1.csv\n"
     ]
    },
    {
     "name": "stderr",
     "output_type": "stream",
     "text": [
      "/var/folders/xn/jj94n4tj5w90v1m3njdf44n80000gp/T/ipykernel_98487/1440073136.py:28: UserWarning: Could not infer format, so each element will be parsed individually, falling back to `dateutil`. To ensure parsing is consistent and as-expected, please specify a format.\n",
      "  df = pd.read_csv(\n"
     ]
    },
    {
     "name": "stdout",
     "output_type": "stream",
     "text": [
      "reading https://www.football-data.co.uk/mmz4281/1516/G1.csv\n"
     ]
    },
    {
     "name": "stderr",
     "output_type": "stream",
     "text": [
      "/var/folders/xn/jj94n4tj5w90v1m3njdf44n80000gp/T/ipykernel_98487/1440073136.py:28: UserWarning: Could not infer format, so each element will be parsed individually, falling back to `dateutil`. To ensure parsing is consistent and as-expected, please specify a format.\n",
      "  df = pd.read_csv(\n"
     ]
    },
    {
     "name": "stdout",
     "output_type": "stream",
     "text": [
      "reading https://www.football-data.co.uk/mmz4281/2223/G1.csv\n",
      "reading https://www.football-data.co.uk/mmz4281/9495/G1.csv\n",
      "reading https://www.football-data.co.uk/mmz4281/0102/G1.csv\n"
     ]
    },
    {
     "name": "stderr",
     "output_type": "stream",
     "text": [
      "/var/folders/xn/jj94n4tj5w90v1m3njdf44n80000gp/T/ipykernel_98487/1440073136.py:28: UserWarning: Could not infer format, so each element will be parsed individually, falling back to `dateutil`. To ensure parsing is consistent and as-expected, please specify a format.\n",
      "  df = pd.read_csv(\n",
      "/var/folders/xn/jj94n4tj5w90v1m3njdf44n80000gp/T/ipykernel_98487/1440073136.py:28: UserWarning: Could not infer format, so each element will be parsed individually, falling back to `dateutil`. To ensure parsing is consistent and as-expected, please specify a format.\n",
      "  df = pd.read_csv(\n"
     ]
    },
    {
     "name": "stdout",
     "output_type": "stream",
     "text": [
      "reading https://www.football-data.co.uk/mmz4281/9697/G1.csv\n",
      "reading https://www.football-data.co.uk/mmz4281/0304/G1.csv\n"
     ]
    },
    {
     "name": "stderr",
     "output_type": "stream",
     "text": [
      "/var/folders/xn/jj94n4tj5w90v1m3njdf44n80000gp/T/ipykernel_98487/1440073136.py:28: UserWarning: Could not infer format, so each element will be parsed individually, falling back to `dateutil`. To ensure parsing is consistent and as-expected, please specify a format.\n",
      "  df = pd.read_csv(\n",
      "/var/folders/xn/jj94n4tj5w90v1m3njdf44n80000gp/T/ipykernel_98487/1440073136.py:28: UserWarning: Could not infer format, so each element will be parsed individually, falling back to `dateutil`. To ensure parsing is consistent and as-expected, please specify a format.\n",
      "  df = pd.read_csv(\n"
     ]
    },
    {
     "name": "stdout",
     "output_type": "stream",
     "text": [
      "argentina has 1 urls\n",
      "reading https://www.football-data.co.uk/new/ARG.csv\n",
      "austria has 1 urls\n",
      "reading https://www.football-data.co.uk/new/AUT.csv\n",
      "brazil has 1 urls\n",
      "reading https://www.football-data.co.uk/new/BRA.csv\n",
      "china has 1 urls\n",
      "reading https://www.football-data.co.uk/new/CHN.csv\n",
      "denmark has 1 urls\n",
      "reading https://www.football-data.co.uk/new/DNK.csv\n",
      "finland has 1 urls\n",
      "reading https://www.football-data.co.uk/new/FIN.csv\n",
      "ireland has 1 urls\n",
      "reading https://www.football-data.co.uk/new/IRL.csv\n",
      "japan has 1 urls\n",
      "reading https://www.football-data.co.uk/new/JPN.csv\n",
      "mexico has 1 urls\n",
      "reading https://www.football-data.co.uk/new/MEX.csv\n",
      "norway has 1 urls\n",
      "reading https://www.football-data.co.uk/new/NOR.csv\n",
      "poland has 1 urls\n",
      "reading https://www.football-data.co.uk/new/POL.csv\n",
      "romania has 1 urls\n",
      "reading https://www.football-data.co.uk/new/ROU.csv\n",
      "russia has 1 urls\n",
      "reading https://www.football-data.co.uk/new/RUS.csv\n",
      "sweden has 1 urls\n",
      "reading https://www.football-data.co.uk/new/SWE.csv\n",
      "switzerland has 1 urls\n",
      "reading https://www.football-data.co.uk/new/SWZ.csv\n",
      "usa has 1 urls\n",
      "reading https://www.football-data.co.uk/new/USA.csv\n"
     ]
    }
   ],
   "source": [
    "for country in countries:\n",
    "    datafile_urls = pd.read_csv(data_path+'config/'+country+'_data_file_urls.csv')\n",
    "    print(country, 'has', len(datafile_urls), 'urls')\n",
    "    for datafile_url in datafile_urls['data_url']:\n",
    "        print('reading', datafile_url)\n",
    "        df = read_problematic_csv(datafile_url)\n",
    "        # df = pd.read_csv(datafile_url, parse_dates=['Date'], dayfirst=True, on_bad_lines='error')\n",
    "        df['country'] = country\n",
    "        filename =                                \\\n",
    "            data_path                             \\\n",
    "            + 'raw/'                              \\\n",
    "            + country                             \\\n",
    "            + '_'                                 \\\n",
    "            + datafile_url                        \\\n",
    "                .split('football-data.co.uk/')[1] \\\n",
    "                .replace('/', '_')                \\\n",
    "                .split('.')[0]                    \\\n",
    "            + '.csv'                              \\\n",
    "            .lower()\n",
    "        df.to_csv(filename)"
   ]
  },
  {
   "cell_type": "code",
   "execution_count": null,
   "id": "13d2a21e-1d88-4df7-872c-c0aed11350dd",
   "metadata": {},
   "outputs": [],
   "source": [
    "datafile_url"
   ]
  },
  {
   "cell_type": "code",
   "execution_count": null,
   "id": "c19eaf51-eb93-4906-a4ac-97e6117c785f",
   "metadata": {},
   "outputs": [],
   "source": []
  }
 ],
 "metadata": {
  "kernelspec": {
   "display_name": "Python 3 (ipykernel)",
   "language": "python",
   "name": "python3"
  },
  "language_info": {
   "codemirror_mode": {
    "name": "ipython",
    "version": 3
   },
   "file_extension": ".py",
   "mimetype": "text/x-python",
   "name": "python",
   "nbconvert_exporter": "python",
   "pygments_lexer": "ipython3",
   "version": "3.12.5"
  }
 },
 "nbformat": 4,
 "nbformat_minor": 5
}
