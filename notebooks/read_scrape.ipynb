{
 "cells": [
  {
   "cell_type": "markdown",
   "id": "10484789-3352-47ea-973c-2c83e302f748",
   "metadata": {},
   "source": [
    "# fetch data files from football-data source pages.\n",
    "\n",
    "using the freely available [football-data](https://www.football-data.co.uk) page, we search out the country pages and for each country/league page we collect the data files linked.\n"
   ]
  },
  {
   "cell_type": "code",
   "execution_count": 1,
   "id": "267eda7d-800c-4f35-8984-2380aa891541",
   "metadata": {},
   "outputs": [],
   "source": [
    "from bs4 import BeautifulSoup\n",
    "import pandas as pd\n",
    "import requests"
   ]
  },
  {
   "cell_type": "code",
   "execution_count": 2,
   "id": "76d1baef-9725-4fcc-818d-db4687bfb3ce",
   "metadata": {},
   "outputs": [],
   "source": [
    "data_path = '../data/config/'\n",
    "url_filepath = data_path+'football_data_source_pages.txt'"
   ]
  },
  {
   "cell_type": "code",
   "execution_count": 3,
   "id": "c89439e4-e0fb-4d3a-b622-3dac9e693d38",
   "metadata": {},
   "outputs": [],
   "source": [
    "country_urls = []\n",
    "with open(url_filepath, \"r\") as uf:\n",
    "   country_urls = uf.read().splitlines()"
   ]
  },
  {
   "cell_type": "code",
   "execution_count": 4,
   "id": "70a59681-79be-4f41-a4f5-c5236a597728",
   "metadata": {},
   "outputs": [],
   "source": [
    "countries = []\n",
    "for url in country_urls:\n",
    "    country = url.split('/')[-1].split('.')[0].lower()\n",
    "    if country.endswith('m'):\n",
    "        country=country[:-1]\n",
    "    countries.append(country)\n",
    "\n",
    "pd.DataFrame(\n",
    "    {'country':countries, 'url':country_urls}\n",
    "    ).to_csv(data_path+'country_url.csv', index=False)"
   ]
  },
  {
   "cell_type": "code",
   "execution_count": 5,
   "id": "f294efaf-147f-4a0d-9f32-8288de06ddff",
   "metadata": {},
   "outputs": [
    {
     "name": "stdout",
     "output_type": "stream",
     "text": [
      "england :  parsed 148 data urls\n",
      "scotland :  parsed 118 data urls\n",
      "germany :  parsed 64 data urls\n",
      "italy :  parsed 60 data urls\n",
      "spain :  parsed 61 data urls\n",
      "france :  parsed 61 data urls\n",
      "netherlands :  parsed 32 data urls\n",
      "belgium :  parsed 30 data urls\n",
      "portugal :  parsed 31 data urls\n",
      "turkey :  parsed 31 data urls\n",
      "greece :  parsed 31 data urls\n",
      "argentina :  parsed 1 data urls\n",
      "austria :  parsed 1 data urls\n",
      "brazil :  parsed 1 data urls\n",
      "china :  parsed 1 data urls\n",
      "denmark :  parsed 1 data urls\n",
      "finland :  parsed 1 data urls\n",
      "ireland :  parsed 1 data urls\n",
      "japan :  parsed 1 data urls\n",
      "mexico :  parsed 1 data urls\n",
      "norway :  parsed 1 data urls\n",
      "poland :  parsed 1 data urls\n",
      "romania :  parsed 1 data urls\n",
      "russia :  parsed 1 data urls\n",
      "sweden :  parsed 1 data urls\n",
      "switzerland :  parsed 1 data urls\n",
      "usa :  parsed 1 data urls\n"
     ]
    }
   ],
   "source": [
    "for url in country_urls:\n",
    "    country = url.split('/')[-1].split('.')[0].lower()\n",
    "    if country.endswith('m'):\n",
    "        country=country[:-1]\n",
    "    r = requests.get(url)\n",
    "    soup_page = BeautifulSoup(r.content, 'html.parser')\n",
    "    table = soup_page.html.body.find_all('table')[4]\n",
    "    links = table.find_all('a')\n",
    "    # print(country, ':  found', len(links), 'links to league files')\n",
    "    data_urls = []\n",
    "    for link in links:\n",
    "        url = link.get('href')\n",
    "        if url.endswith('.csv'):\n",
    "            data_urls.append('https://www.football-data.co.uk/'+url)\n",
    "    data_urls = list(set(data_urls)) # deduplicated\n",
    "    num_urls = len(data_urls)\n",
    "    df_url = pd.DataFrame({'country':[country]*num_urls, 'data_url':data_urls})\n",
    "    df_url.to_csv(data_path+country+'_data_file_urls.csv', index=False)\n",
    "    print(country, ':  parsed', num_urls, 'data urls')"
   ]
  },
  {
   "cell_type": "code",
   "execution_count": null,
   "id": "55daaedc-6635-4f34-a4a0-75465da568ff",
   "metadata": {},
   "outputs": [],
   "source": []
  }
 ],
 "metadata": {
  "kernelspec": {
   "display_name": "Python 3 (ipykernel)",
   "language": "python",
   "name": "python3"
  },
  "language_info": {
   "codemirror_mode": {
    "name": "ipython",
    "version": 3
   },
   "file_extension": ".py",
   "mimetype": "text/x-python",
   "name": "python",
   "nbconvert_exporter": "python",
   "pygments_lexer": "ipython3",
   "version": "3.12.5"
  }
 },
 "nbformat": 4,
 "nbformat_minor": 5
}
