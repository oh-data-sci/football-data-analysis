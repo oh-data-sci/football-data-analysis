{
 "cells": [
  {
   "cell_type": "markdown",
   "id": "3a9f4bb7-2f58-4a08-9efc-d9865219f3fe",
   "metadata": {},
   "source": [
    "# fetch data files \n",
    "\n",
    "having scraped the url links to the data files for each country, the following script steps through each country's  links and gathers their respective match data into a csv file, and uploads into"
   ]
  },
  {
   "cell_type": "code",
   "execution_count": 1,
   "id": "4ba7b0f3-f158-44ad-b826-cfb64e60958e",
   "metadata": {},
   "outputs": [],
   "source": [
    "from bs4 import BeautifulSoup\n",
    "import chardet\n",
    "import datetime\n",
    "import duckdb\n",
    "import io\n",
    "import pandas as pd\n",
    "import requests"
   ]
  },
  {
   "cell_type": "code",
   "execution_count": 2,
   "id": "c538ecd4-5354-4b9c-9df2-9c8f5e0ba764",
   "metadata": {},
   "outputs": [],
   "source": [
    "DATA_PATH = '../data/'\n",
    "PATH_TO_SOURCE_URLS = DATA_PATH+'source_urls/'                 # input\n",
    "PATH_TO_COUNTRY_URL = PATH_TO_SOURCE_URLS + 'country_urls.csv' # input\n",
    "PATH_TO_MATCH_DATA = DATA_PATH + 'match_data/'                 # output"
   ]
  },
  {
   "cell_type": "code",
   "execution_count": 3,
   "id": "09b4bf42-e7c5-4e11-ba94-765a3898738e",
   "metadata": {},
   "outputs": [],
   "source": [
    "countries = pd.read_csv(PATH_TO_COUNTRY_URL)['country']"
   ]
  },
  {
   "cell_type": "markdown",
   "id": "ea884640-ff73-4cb2-a6e2-6a79160c5829",
   "metadata": {},
   "source": [
    "# special handling of problematic data files\n",
    "most match data files are easy to read, and for these `pd.read_csv(url)` is enough. however, testing has revealed two issues that require special handling.\n",
    "\n",
    "    1. some files contain characters encoded in special bespoke encoding, meaning other than utf-8. since the encoding varies from file to file, we must test each file for the appropriate encoding to choose. \n",
    "    2. the files are generated out of spradsheet documents and some files contain records that have a number of blank columns at the line end. \n",
    "    3. the date field is not consistently formatted from file to file.\n",
    "\n",
    "because of each of these problems, we have to read the file contents first and evaluate the encoding and the number of actual columns. only then can we use pandas to ingest the data into a dataframe."
   ]
  },
  {
   "cell_type": "code",
   "execution_count": 4,
   "id": "aebcf01a-3c23-4d34-bd15-5ea6d0c51d48",
   "metadata": {},
   "outputs": [],
   "source": [
    "def read_problematic_csv(url):\n",
    "    # fetch file content of the linked csv file\n",
    "    response = requests.get(url)\n",
    "    content = response.content\n",
    "    \n",
    "    # detect the encoding\n",
    "    detected = chardet.detect(content)\n",
    "    encodings_to_try = [\n",
    "        detected['encoding'],  # first attempt with detected encoding\n",
    "        'windows-1252',        # maybe windows encoding?\n",
    "        'latin-1',             # a permissive encoding\n",
    "        'utf-8'                # standard, preferred encoding\n",
    "    ]\n",
    "    \n",
    "    # remove duplicates, remove 'None's\n",
    "    encodings_to_try = list(set([e for e in encodings_to_try if e]))\n",
    "    \n",
    "    # try each encoding \n",
    "    for encoding in encodings_to_try:\n",
    "        try:\n",
    "            csv_content = content.decode(encoding)\n",
    "            # determine the number of columns from the header\n",
    "            first_line = csv_content.split('\\n')[0]\n",
    "            header_count = first_line.count(',') + 1\n",
    "            \n",
    "            # Read the CSV with pandas, specifying the number of columns\n",
    "            df = pd.read_csv(\n",
    "                io.StringIO(csv_content),\n",
    "                usecols=range(header_count),\n",
    "                parse_dates=['Date'],\n",
    "                dayfirst=True,\n",
    "                on_bad_lines='warn',\n",
    "                encoding_errors='replace'  # replace characters that can't be decoded\n",
    "            )\n",
    "            \n",
    "            # print(f\"successfully read with encoding: {encoding}\")\n",
    "            return df\n",
    "            \n",
    "        except Exception as e:\n",
    "            print(f\"reading/parsing csv file content failed with encoding {encoding}: {str(e)}\")\n",
    "            continue\n",
    "    \n",
    "    # If we've tried all encodings and none worked\n",
    "    raise ValueError(\"could not read the csv file with any encoding\")\n",
    "# test\n",
    "# url =datafile_url\n",
    "# df = read_problematic_csv(datafile_url)\n",
    "# print(df.head())"
   ]
  },
  {
   "cell_type": "markdown",
   "id": "d55dabc0-f475-4c35-8b75-a0ff22ade9ef",
   "metadata": {},
   "source": [
    "this is not too bad a solution because each file is rather small compared to the available memory, containing hundreds, not millions, of rows.\n",
    "\n",
    "# fetching the match data files.\n",
    "stepping through each of the countries, looking up the links to their data files, reading in their data files, saving as local csv files."
   ]
  },
  {
   "cell_type": "code",
   "execution_count": 6,
   "id": "facbc7a5-2983-43ef-9950-fd47fc8b54e8",
   "metadata": {},
   "outputs": [
    {
     "name": "stdout",
     "output_type": "stream",
     "text": [
      "reading, altering, and saving match data file: https://www.football-data.co.uk/mmz4281/1819/E1.csv\n",
      "reading, altering, and saving match data file: https://www.football-data.co.uk/mmz4281/1516/E1.csv\n"
     ]
    },
    {
     "name": "stderr",
     "output_type": "stream",
     "text": [
      "/var/folders/xn/jj94n4tj5w90v1m3njdf44n80000gp/T/ipykernel_45706/3335976498.py:27: UserWarning: Could not infer format, so each element will be parsed individually, falling back to `dateutil`. To ensure parsing is consistent and as-expected, please specify a format.\n",
      "  df = pd.read_csv(\n"
     ]
    },
    {
     "name": "stdout",
     "output_type": "stream",
     "text": [
      "reading, altering, and saving match data file: https://www.football-data.co.uk/mmz4281/2021/E3.csv\n",
      "reading, altering, and saving match data file: https://www.football-data.co.uk/mmz4281/0708/E1.csv\n"
     ]
    },
    {
     "name": "stderr",
     "output_type": "stream",
     "text": [
      "/var/folders/xn/jj94n4tj5w90v1m3njdf44n80000gp/T/ipykernel_45706/3335976498.py:27: UserWarning: Could not infer format, so each element will be parsed individually, falling back to `dateutil`. To ensure parsing is consistent and as-expected, please specify a format.\n",
      "  df = pd.read_csv(\n"
     ]
    },
    {
     "name": "stdout",
     "output_type": "stream",
     "text": [
      "reading, altering, and saving match data file: https://www.football-data.co.uk/mmz4281/0001/E0.csv\n"
     ]
    },
    {
     "name": "stderr",
     "output_type": "stream",
     "text": [
      "/var/folders/xn/jj94n4tj5w90v1m3njdf44n80000gp/T/ipykernel_45706/3335976498.py:27: UserWarning: Could not infer format, so each element will be parsed individually, falling back to `dateutil`. To ensure parsing is consistent and as-expected, please specify a format.\n",
      "  df = pd.read_csv(\n"
     ]
    },
    {
     "name": "stdout",
     "output_type": "stream",
     "text": [
      "reading, altering, and saving match data file: https://www.football-data.co.uk/mmz4281/1819/E2.csv\n",
      "reading, altering, and saving match data file: https://www.football-data.co.uk/mmz4281/1112/E3.csv\n"
     ]
    },
    {
     "name": "stderr",
     "output_type": "stream",
     "text": [
      "/var/folders/xn/jj94n4tj5w90v1m3njdf44n80000gp/T/ipykernel_45706/3335976498.py:27: UserWarning: Could not infer format, so each element will be parsed individually, falling back to `dateutil`. To ensure parsing is consistent and as-expected, please specify a format.\n",
      "  df = pd.read_csv(\n"
     ]
    },
    {
     "name": "stdout",
     "output_type": "stream",
     "text": [
      "reading, altering, and saving match data file: https://www.football-data.co.uk/mmz4281/2122/E3.csv\n",
      "reading, altering, and saving match data file: https://www.football-data.co.uk/mmz4281/0607/EC.csv\n"
     ]
    },
    {
     "name": "stderr",
     "output_type": "stream",
     "text": [
      "/var/folders/xn/jj94n4tj5w90v1m3njdf44n80000gp/T/ipykernel_45706/3335976498.py:27: UserWarning: Could not infer format, so each element will be parsed individually, falling back to `dateutil`. To ensure parsing is consistent and as-expected, please specify a format.\n",
      "  df = pd.read_csv(\n"
     ]
    },
    {
     "name": "stdout",
     "output_type": "stream",
     "text": [
      "reading, altering, and saving match data file: https://www.football-data.co.uk/mmz4281/9394/E0.csv\n"
     ]
    },
    {
     "name": "stderr",
     "output_type": "stream",
     "text": [
      "/var/folders/xn/jj94n4tj5w90v1m3njdf44n80000gp/T/ipykernel_45706/3335976498.py:27: UserWarning: Could not infer format, so each element will be parsed individually, falling back to `dateutil`. To ensure parsing is consistent and as-expected, please specify a format.\n",
      "  df = pd.read_csv(\n"
     ]
    },
    {
     "name": "stdout",
     "output_type": "stream",
     "text": [
      "reading, altering, and saving match data file: https://www.football-data.co.uk/mmz4281/2425/E2.csv\n",
      "reading, altering, and saving match data file: https://www.football-data.co.uk/mmz4281/0405/E3.csv\n"
     ]
    },
    {
     "name": "stderr",
     "output_type": "stream",
     "text": [
      "/var/folders/xn/jj94n4tj5w90v1m3njdf44n80000gp/T/ipykernel_45706/3335976498.py:27: UserWarning: Could not infer format, so each element will be parsed individually, falling back to `dateutil`. To ensure parsing is consistent and as-expected, please specify a format.\n",
      "  df = pd.read_csv(\n"
     ]
    },
    {
     "name": "stdout",
     "output_type": "stream",
     "text": [
      "reading, altering, and saving match data file: https://www.football-data.co.uk/mmz4281/1213/E1.csv\n"
     ]
    },
    {
     "name": "stderr",
     "output_type": "stream",
     "text": [
      "/var/folders/xn/jj94n4tj5w90v1m3njdf44n80000gp/T/ipykernel_45706/3335976498.py:27: UserWarning: Could not infer format, so each element will be parsed individually, falling back to `dateutil`. To ensure parsing is consistent and as-expected, please specify a format.\n",
      "  df = pd.read_csv(\n"
     ]
    },
    {
     "name": "stdout",
     "output_type": "stream",
     "text": [
      "reading, altering, and saving match data file: https://www.football-data.co.uk/mmz4281/0001/E1.csv\n"
     ]
    },
    {
     "name": "stderr",
     "output_type": "stream",
     "text": [
      "/var/folders/xn/jj94n4tj5w90v1m3njdf44n80000gp/T/ipykernel_45706/3335976498.py:27: UserWarning: Could not infer format, so each element will be parsed individually, falling back to `dateutil`. To ensure parsing is consistent and as-expected, please specify a format.\n",
      "  df = pd.read_csv(\n"
     ]
    },
    {
     "name": "stdout",
     "output_type": "stream",
     "text": [
      "reading, altering, and saving match data file: https://www.football-data.co.uk/mmz4281/1213/EC.csv\n"
     ]
    },
    {
     "name": "stderr",
     "output_type": "stream",
     "text": [
      "/var/folders/xn/jj94n4tj5w90v1m3njdf44n80000gp/T/ipykernel_45706/3335976498.py:27: UserWarning: Could not infer format, so each element will be parsed individually, falling back to `dateutil`. To ensure parsing is consistent and as-expected, please specify a format.\n",
      "  df = pd.read_csv(\n"
     ]
    },
    {
     "name": "stdout",
     "output_type": "stream",
     "text": [
      "reading, altering, and saving match data file: https://www.football-data.co.uk/mmz4281/9697/E1.csv\n"
     ]
    },
    {
     "name": "stderr",
     "output_type": "stream",
     "text": [
      "/var/folders/xn/jj94n4tj5w90v1m3njdf44n80000gp/T/ipykernel_45706/3335976498.py:27: UserWarning: Could not infer format, so each element will be parsed individually, falling back to `dateutil`. To ensure parsing is consistent and as-expected, please specify a format.\n",
      "  df = pd.read_csv(\n"
     ]
    },
    {
     "name": "stdout",
     "output_type": "stream",
     "text": [
      "reading, altering, and saving match data file: https://www.football-data.co.uk/mmz4281/1617/E0.csv\n"
     ]
    },
    {
     "name": "stderr",
     "output_type": "stream",
     "text": [
      "/var/folders/xn/jj94n4tj5w90v1m3njdf44n80000gp/T/ipykernel_45706/3335976498.py:27: UserWarning: Could not infer format, so each element will be parsed individually, falling back to `dateutil`. To ensure parsing is consistent and as-expected, please specify a format.\n",
      "  df = pd.read_csv(\n"
     ]
    },
    {
     "name": "stdout",
     "output_type": "stream",
     "text": [
      "reading, altering, and saving match data file: https://www.football-data.co.uk/mmz4281/2324/E2.csv\n",
      "reading, altering, and saving match data file: https://www.football-data.co.uk/mmz4281/0203/E0.csv\n",
      "reading, altering, and saving match data file: https://www.football-data.co.uk/mmz4281/0506/E3.csv\n"
     ]
    },
    {
     "name": "stderr",
     "output_type": "stream",
     "text": [
      "/var/folders/xn/jj94n4tj5w90v1m3njdf44n80000gp/T/ipykernel_45706/3335976498.py:27: UserWarning: Could not infer format, so each element will be parsed individually, falling back to `dateutil`. To ensure parsing is consistent and as-expected, please specify a format.\n",
      "  df = pd.read_csv(\n"
     ]
    },
    {
     "name": "stdout",
     "output_type": "stream",
     "text": [
      "reading, altering, and saving match data file: https://www.football-data.co.uk/mmz4281/1011/EC.csv\n"
     ]
    },
    {
     "name": "stderr",
     "output_type": "stream",
     "text": [
      "/var/folders/xn/jj94n4tj5w90v1m3njdf44n80000gp/T/ipykernel_45706/3335976498.py:27: UserWarning: Could not infer format, so each element will be parsed individually, falling back to `dateutil`. To ensure parsing is consistent and as-expected, please specify a format.\n",
      "  df = pd.read_csv(\n"
     ]
    },
    {
     "name": "stdout",
     "output_type": "stream",
     "text": [
      "reading, altering, and saving match data file: https://www.football-data.co.uk/mmz4281/0607/E3.csv\n"
     ]
    },
    {
     "name": "stderr",
     "output_type": "stream",
     "text": [
      "/var/folders/xn/jj94n4tj5w90v1m3njdf44n80000gp/T/ipykernel_45706/3335976498.py:27: UserWarning: Could not infer format, so each element will be parsed individually, falling back to `dateutil`. To ensure parsing is consistent and as-expected, please specify a format.\n",
      "  df = pd.read_csv(\n"
     ]
    },
    {
     "name": "stdout",
     "output_type": "stream",
     "text": [
      "reading, altering, and saving match data file: https://www.football-data.co.uk/mmz4281/2324/E1.csv\n",
      "reading, altering, and saving match data file: https://www.football-data.co.uk/mmz4281/0102/E3.csv\n"
     ]
    },
    {
     "name": "stderr",
     "output_type": "stream",
     "text": [
      "/var/folders/xn/jj94n4tj5w90v1m3njdf44n80000gp/T/ipykernel_45706/3335976498.py:27: UserWarning: Could not infer format, so each element will be parsed individually, falling back to `dateutil`. To ensure parsing is consistent and as-expected, please specify a format.\n",
      "  df = pd.read_csv(\n"
     ]
    },
    {
     "name": "stdout",
     "output_type": "stream",
     "text": [
      "reading, altering, and saving match data file: https://www.football-data.co.uk/mmz4281/9394/E1.csv\n"
     ]
    },
    {
     "name": "stderr",
     "output_type": "stream",
     "text": [
      "/var/folders/xn/jj94n4tj5w90v1m3njdf44n80000gp/T/ipykernel_45706/3335976498.py:27: UserWarning: Could not infer format, so each element will be parsed individually, falling back to `dateutil`. To ensure parsing is consistent and as-expected, please specify a format.\n",
      "  df = pd.read_csv(\n"
     ]
    },
    {
     "name": "stdout",
     "output_type": "stream",
     "text": [
      "reading, altering, and saving match data file: https://www.football-data.co.uk/mmz4281/9798/E1.csv\n"
     ]
    },
    {
     "name": "stderr",
     "output_type": "stream",
     "text": [
      "/var/folders/xn/jj94n4tj5w90v1m3njdf44n80000gp/T/ipykernel_45706/3335976498.py:27: UserWarning: Could not infer format, so each element will be parsed individually, falling back to `dateutil`. To ensure parsing is consistent and as-expected, please specify a format.\n",
      "  df = pd.read_csv(\n"
     ]
    },
    {
     "name": "stdout",
     "output_type": "stream",
     "text": [
      "reading, altering, and saving match data file: https://www.football-data.co.uk/mmz4281/0910/E2.csv\n"
     ]
    },
    {
     "name": "stderr",
     "output_type": "stream",
     "text": [
      "/var/folders/xn/jj94n4tj5w90v1m3njdf44n80000gp/T/ipykernel_45706/3335976498.py:27: UserWarning: Could not infer format, so each element will be parsed individually, falling back to `dateutil`. To ensure parsing is consistent and as-expected, please specify a format.\n",
      "  df = pd.read_csv(\n"
     ]
    },
    {
     "name": "stdout",
     "output_type": "stream",
     "text": [
      "reading, altering, and saving match data file: https://www.football-data.co.uk/mmz4281/1617/E1.csv\n"
     ]
    },
    {
     "name": "stderr",
     "output_type": "stream",
     "text": [
      "/var/folders/xn/jj94n4tj5w90v1m3njdf44n80000gp/T/ipykernel_45706/3335976498.py:27: UserWarning: Could not infer format, so each element will be parsed individually, falling back to `dateutil`. To ensure parsing is consistent and as-expected, please specify a format.\n",
      "  df = pd.read_csv(\n"
     ]
    },
    {
     "name": "stdout",
     "output_type": "stream",
     "text": [
      "reading, altering, and saving match data file: https://www.football-data.co.uk/mmz4281/0607/E0.csv\n"
     ]
    },
    {
     "name": "stderr",
     "output_type": "stream",
     "text": [
      "/var/folders/xn/jj94n4tj5w90v1m3njdf44n80000gp/T/ipykernel_45706/3335976498.py:27: UserWarning: Could not infer format, so each element will be parsed individually, falling back to `dateutil`. To ensure parsing is consistent and as-expected, please specify a format.\n",
      "  df = pd.read_csv(\n"
     ]
    },
    {
     "name": "stdout",
     "output_type": "stream",
     "text": [
      "reading, altering, and saving match data file: https://www.football-data.co.uk/mmz4281/1213/E2.csv\n"
     ]
    },
    {
     "name": "stderr",
     "output_type": "stream",
     "text": [
      "/var/folders/xn/jj94n4tj5w90v1m3njdf44n80000gp/T/ipykernel_45706/3335976498.py:27: UserWarning: Could not infer format, so each element will be parsed individually, falling back to `dateutil`. To ensure parsing is consistent and as-expected, please specify a format.\n",
      "  df = pd.read_csv(\n"
     ]
    },
    {
     "name": "stdout",
     "output_type": "stream",
     "text": [
      "reading, altering, and saving match data file: https://www.football-data.co.uk/mmz4281/1516/E3.csv\n"
     ]
    },
    {
     "name": "stderr",
     "output_type": "stream",
     "text": [
      "/var/folders/xn/jj94n4tj5w90v1m3njdf44n80000gp/T/ipykernel_45706/3335976498.py:27: UserWarning: Could not infer format, so each element will be parsed individually, falling back to `dateutil`. To ensure parsing is consistent and as-expected, please specify a format.\n",
      "  df = pd.read_csv(\n"
     ]
    },
    {
     "name": "stdout",
     "output_type": "stream",
     "text": [
      "reading, altering, and saving match data file: https://www.football-data.co.uk/mmz4281/9899/E2.csv\n"
     ]
    },
    {
     "name": "stderr",
     "output_type": "stream",
     "text": [
      "/var/folders/xn/jj94n4tj5w90v1m3njdf44n80000gp/T/ipykernel_45706/3335976498.py:27: UserWarning: Could not infer format, so each element will be parsed individually, falling back to `dateutil`. To ensure parsing is consistent and as-expected, please specify a format.\n",
      "  df = pd.read_csv(\n"
     ]
    },
    {
     "name": "stdout",
     "output_type": "stream",
     "text": [
      "reading, altering, and saving match data file: https://www.football-data.co.uk/mmz4281/0809/E0.csv\n"
     ]
    },
    {
     "name": "stderr",
     "output_type": "stream",
     "text": [
      "/var/folders/xn/jj94n4tj5w90v1m3njdf44n80000gp/T/ipykernel_45706/3335976498.py:27: UserWarning: Could not infer format, so each element will be parsed individually, falling back to `dateutil`. To ensure parsing is consistent and as-expected, please specify a format.\n",
      "  df = pd.read_csv(\n"
     ]
    },
    {
     "name": "stdout",
     "output_type": "stream",
     "text": [
      "reading, altering, and saving match data file: https://www.football-data.co.uk/mmz4281/2223/E0.csv\n",
      "reading, altering, and saving match data file: https://www.football-data.co.uk/mmz4281/0405/E1.csv\n"
     ]
    },
    {
     "name": "stderr",
     "output_type": "stream",
     "text": [
      "/var/folders/xn/jj94n4tj5w90v1m3njdf44n80000gp/T/ipykernel_45706/3335976498.py:27: UserWarning: Could not infer format, so each element will be parsed individually, falling back to `dateutil`. To ensure parsing is consistent and as-expected, please specify a format.\n",
      "  df = pd.read_csv(\n"
     ]
    },
    {
     "name": "stdout",
     "output_type": "stream",
     "text": [
      "reading, altering, and saving match data file: https://www.football-data.co.uk/mmz4281/0506/E2.csv\n"
     ]
    },
    {
     "name": "stderr",
     "output_type": "stream",
     "text": [
      "/var/folders/xn/jj94n4tj5w90v1m3njdf44n80000gp/T/ipykernel_45706/3335976498.py:27: UserWarning: Could not infer format, so each element will be parsed individually, falling back to `dateutil`. To ensure parsing is consistent and as-expected, please specify a format.\n",
      "  df = pd.read_csv(\n"
     ]
    },
    {
     "name": "stdout",
     "output_type": "stream",
     "text": [
      "reading, altering, and saving match data file: https://www.football-data.co.uk/mmz4281/2223/E2.csv\n",
      "reading, altering, and saving match data file: https://www.football-data.co.uk/mmz4281/1213/E0.csv\n"
     ]
    },
    {
     "name": "stderr",
     "output_type": "stream",
     "text": [
      "/var/folders/xn/jj94n4tj5w90v1m3njdf44n80000gp/T/ipykernel_45706/3335976498.py:27: UserWarning: Could not infer format, so each element will be parsed individually, falling back to `dateutil`. To ensure parsing is consistent and as-expected, please specify a format.\n",
      "  df = pd.read_csv(\n"
     ]
    },
    {
     "name": "stdout",
     "output_type": "stream",
     "text": [
      "reading, altering, and saving match data file: https://www.football-data.co.uk/mmz4281/0708/E3.csv\n"
     ]
    },
    {
     "name": "stderr",
     "output_type": "stream",
     "text": [
      "/var/folders/xn/jj94n4tj5w90v1m3njdf44n80000gp/T/ipykernel_45706/3335976498.py:27: UserWarning: Could not infer format, so each element will be parsed individually, falling back to `dateutil`. To ensure parsing is consistent and as-expected, please specify a format.\n",
      "  df = pd.read_csv(\n"
     ]
    },
    {
     "name": "stdout",
     "output_type": "stream",
     "text": [
      "reading, altering, and saving match data file: https://www.football-data.co.uk/mmz4281/2122/EC.csv\n",
      "reading, altering, and saving match data file: https://www.football-data.co.uk/mmz4281/1011/E0.csv\n"
     ]
    },
    {
     "name": "stderr",
     "output_type": "stream",
     "text": [
      "/var/folders/xn/jj94n4tj5w90v1m3njdf44n80000gp/T/ipykernel_45706/3335976498.py:27: UserWarning: Could not infer format, so each element will be parsed individually, falling back to `dateutil`. To ensure parsing is consistent and as-expected, please specify a format.\n",
      "  df = pd.read_csv(\n"
     ]
    },
    {
     "name": "stdout",
     "output_type": "stream",
     "text": [
      "reading, altering, and saving match data file: https://www.football-data.co.uk/mmz4281/0304/E1.csv\n"
     ]
    },
    {
     "name": "stderr",
     "output_type": "stream",
     "text": [
      "/var/folders/xn/jj94n4tj5w90v1m3njdf44n80000gp/T/ipykernel_45706/3335976498.py:27: UserWarning: Could not infer format, so each element will be parsed individually, falling back to `dateutil`. To ensure parsing is consistent and as-expected, please specify a format.\n",
      "  df = pd.read_csv(\n"
     ]
    },
    {
     "name": "stdout",
     "output_type": "stream",
     "text": [
      "reading, altering, and saving match data file: https://www.football-data.co.uk/mmz4281/1415/E2.csv\n"
     ]
    },
    {
     "name": "stderr",
     "output_type": "stream",
     "text": [
      "/var/folders/xn/jj94n4tj5w90v1m3njdf44n80000gp/T/ipykernel_45706/3335976498.py:27: UserWarning: Could not infer format, so each element will be parsed individually, falling back to `dateutil`. To ensure parsing is consistent and as-expected, please specify a format.\n",
      "  df = pd.read_csv(\n"
     ]
    },
    {
     "name": "stdout",
     "output_type": "stream",
     "text": [
      "reading, altering, and saving match data file: https://www.football-data.co.uk/mmz4281/0910/E0.csv\n"
     ]
    },
    {
     "name": "stderr",
     "output_type": "stream",
     "text": [
      "/var/folders/xn/jj94n4tj5w90v1m3njdf44n80000gp/T/ipykernel_45706/3335976498.py:27: UserWarning: Could not infer format, so each element will be parsed individually, falling back to `dateutil`. To ensure parsing is consistent and as-expected, please specify a format.\n",
      "  df = pd.read_csv(\n"
     ]
    },
    {
     "name": "stdout",
     "output_type": "stream",
     "text": [
      "reading, altering, and saving match data file: https://www.football-data.co.uk/mmz4281/1819/EC.csv\n",
      "reading, altering, and saving match data file: https://www.football-data.co.uk/mmz4281/2122/E1.csv\n",
      "reading, altering, and saving match data file: https://www.football-data.co.uk/mmz4281/2122/E0.csv\n",
      "reading, altering, and saving match data file: https://www.football-data.co.uk/mmz4281/9899/E1.csv\n"
     ]
    },
    {
     "name": "stderr",
     "output_type": "stream",
     "text": [
      "/var/folders/xn/jj94n4tj5w90v1m3njdf44n80000gp/T/ipykernel_45706/3335976498.py:27: UserWarning: Could not infer format, so each element will be parsed individually, falling back to `dateutil`. To ensure parsing is consistent and as-expected, please specify a format.\n",
      "  df = pd.read_csv(\n"
     ]
    },
    {
     "name": "stdout",
     "output_type": "stream",
     "text": [
      "reading, altering, and saving match data file: https://www.football-data.co.uk/mmz4281/0001/E3.csv\n"
     ]
    },
    {
     "name": "stderr",
     "output_type": "stream",
     "text": [
      "/var/folders/xn/jj94n4tj5w90v1m3njdf44n80000gp/T/ipykernel_45706/3335976498.py:27: UserWarning: Could not infer format, so each element will be parsed individually, falling back to `dateutil`. To ensure parsing is consistent and as-expected, please specify a format.\n",
      "  df = pd.read_csv(\n"
     ]
    },
    {
     "name": "stdout",
     "output_type": "stream",
     "text": [
      "reading, altering, and saving match data file: https://www.football-data.co.uk/mmz4281/1516/EC.csv\n"
     ]
    },
    {
     "name": "stderr",
     "output_type": "stream",
     "text": [
      "/var/folders/xn/jj94n4tj5w90v1m3njdf44n80000gp/T/ipykernel_45706/3335976498.py:27: UserWarning: Could not infer format, so each element will be parsed individually, falling back to `dateutil`. To ensure parsing is consistent and as-expected, please specify a format.\n",
      "  df = pd.read_csv(\n"
     ]
    },
    {
     "name": "stdout",
     "output_type": "stream",
     "text": [
      "reading, altering, and saving match data file: https://www.football-data.co.uk/mmz4281/9495/E1.csv\n"
     ]
    },
    {
     "name": "stderr",
     "output_type": "stream",
     "text": [
      "/var/folders/xn/jj94n4tj5w90v1m3njdf44n80000gp/T/ipykernel_45706/3335976498.py:27: UserWarning: Could not infer format, so each element will be parsed individually, falling back to `dateutil`. To ensure parsing is consistent and as-expected, please specify a format.\n",
      "  df = pd.read_csv(\n"
     ]
    },
    {
     "name": "stdout",
     "output_type": "stream",
     "text": [
      "reading, altering, and saving match data file: https://www.football-data.co.uk/mmz4281/1920/E0.csv\n",
      "reading, altering, and saving match data file: https://www.football-data.co.uk/mmz4281/1314/E3.csv\n"
     ]
    },
    {
     "name": "stderr",
     "output_type": "stream",
     "text": [
      "/var/folders/xn/jj94n4tj5w90v1m3njdf44n80000gp/T/ipykernel_45706/3335976498.py:27: UserWarning: Could not infer format, so each element will be parsed individually, falling back to `dateutil`. To ensure parsing is consistent and as-expected, please specify a format.\n",
      "  df = pd.read_csv(\n"
     ]
    },
    {
     "name": "stdout",
     "output_type": "stream",
     "text": [
      "reading, altering, and saving match data file: https://www.football-data.co.uk/mmz4281/9495/E3.csv\n",
      "reading, altering, and saving match data file: https://www.football-data.co.uk/mmz4281/1112/EC.csv\n"
     ]
    },
    {
     "name": "stderr",
     "output_type": "stream",
     "text": [
      "/var/folders/xn/jj94n4tj5w90v1m3njdf44n80000gp/T/ipykernel_45706/3335976498.py:27: UserWarning: Could not infer format, so each element will be parsed individually, falling back to `dateutil`. To ensure parsing is consistent and as-expected, please specify a format.\n",
      "  df = pd.read_csv(\n"
     ]
    },
    {
     "name": "stdout",
     "output_type": "stream",
     "text": [
      "reading, altering, and saving match data file: https://www.football-data.co.uk/mmz4281/9697/E0.csv\n"
     ]
    },
    {
     "name": "stderr",
     "output_type": "stream",
     "text": [
      "/var/folders/xn/jj94n4tj5w90v1m3njdf44n80000gp/T/ipykernel_45706/3335976498.py:27: UserWarning: Could not infer format, so each element will be parsed individually, falling back to `dateutil`. To ensure parsing is consistent and as-expected, please specify a format.\n",
      "  df = pd.read_csv(\n"
     ]
    },
    {
     "name": "stdout",
     "output_type": "stream",
     "text": [
      "reading, altering, and saving match data file: https://www.football-data.co.uk/mmz4281/2425/E0.csv\n",
      "reading, altering, and saving match data file: https://www.football-data.co.uk/mmz4281/2425/E3.csv\n",
      "reading, altering, and saving match data file: https://www.football-data.co.uk/mmz4281/2324/E3.csv\n",
      "reading, altering, and saving match data file: https://www.football-data.co.uk/mmz4281/9697/E3.csv\n"
     ]
    },
    {
     "name": "stderr",
     "output_type": "stream",
     "text": [
      "/var/folders/xn/jj94n4tj5w90v1m3njdf44n80000gp/T/ipykernel_45706/3335976498.py:27: UserWarning: Could not infer format, so each element will be parsed individually, falling back to `dateutil`. To ensure parsing is consistent and as-expected, please specify a format.\n",
      "  df = pd.read_csv(\n"
     ]
    },
    {
     "name": "stdout",
     "output_type": "stream",
     "text": [
      "reading, altering, and saving match data file: https://www.football-data.co.uk/mmz4281/9697/E2.csv\n"
     ]
    },
    {
     "name": "stderr",
     "output_type": "stream",
     "text": [
      "/var/folders/xn/jj94n4tj5w90v1m3njdf44n80000gp/T/ipykernel_45706/3335976498.py:27: UserWarning: Could not infer format, so each element will be parsed individually, falling back to `dateutil`. To ensure parsing is consistent and as-expected, please specify a format.\n",
      "  df = pd.read_csv(\n"
     ]
    },
    {
     "name": "stdout",
     "output_type": "stream",
     "text": [
      "reading, altering, and saving match data file: https://www.football-data.co.uk/mmz4281/1718/E1.csv\n"
     ]
    },
    {
     "name": "stderr",
     "output_type": "stream",
     "text": [
      "/var/folders/xn/jj94n4tj5w90v1m3njdf44n80000gp/T/ipykernel_45706/3335976498.py:27: UserWarning: Could not infer format, so each element will be parsed individually, falling back to `dateutil`. To ensure parsing is consistent and as-expected, please specify a format.\n",
      "  df = pd.read_csv(\n"
     ]
    },
    {
     "name": "stdout",
     "output_type": "stream",
     "text": [
      "reading, altering, and saving match data file: https://www.football-data.co.uk/mmz4281/1011/E2.csv\n"
     ]
    },
    {
     "name": "stderr",
     "output_type": "stream",
     "text": [
      "/var/folders/xn/jj94n4tj5w90v1m3njdf44n80000gp/T/ipykernel_45706/3335976498.py:27: UserWarning: Could not infer format, so each element will be parsed individually, falling back to `dateutil`. To ensure parsing is consistent and as-expected, please specify a format.\n",
      "  df = pd.read_csv(\n"
     ]
    },
    {
     "name": "stdout",
     "output_type": "stream",
     "text": [
      "reading, altering, and saving match data file: https://www.football-data.co.uk/mmz4281/9900/E3.csv\n"
     ]
    },
    {
     "name": "stderr",
     "output_type": "stream",
     "text": [
      "/var/folders/xn/jj94n4tj5w90v1m3njdf44n80000gp/T/ipykernel_45706/3335976498.py:27: UserWarning: Could not infer format, so each element will be parsed individually, falling back to `dateutil`. To ensure parsing is consistent and as-expected, please specify a format.\n",
      "  df = pd.read_csv(\n"
     ]
    },
    {
     "name": "stdout",
     "output_type": "stream",
     "text": [
      "reading, altering, and saving match data file: https://www.football-data.co.uk/mmz4281/1819/E0.csv\n",
      "reading, altering, and saving match data file: https://www.football-data.co.uk/mmz4281/1617/E3.csv\n"
     ]
    },
    {
     "name": "stderr",
     "output_type": "stream",
     "text": [
      "/var/folders/xn/jj94n4tj5w90v1m3njdf44n80000gp/T/ipykernel_45706/3335976498.py:27: UserWarning: Could not infer format, so each element will be parsed individually, falling back to `dateutil`. To ensure parsing is consistent and as-expected, please specify a format.\n",
      "  df = pd.read_csv(\n"
     ]
    },
    {
     "name": "stdout",
     "output_type": "stream",
     "text": [
      "reading, altering, and saving match data file: https://www.football-data.co.uk/mmz4281/1415/E1.csv\n"
     ]
    },
    {
     "name": "stderr",
     "output_type": "stream",
     "text": [
      "/var/folders/xn/jj94n4tj5w90v1m3njdf44n80000gp/T/ipykernel_45706/3335976498.py:27: UserWarning: Could not infer format, so each element will be parsed individually, falling back to `dateutil`. To ensure parsing is consistent and as-expected, please specify a format.\n",
      "  df = pd.read_csv(\n"
     ]
    },
    {
     "name": "stdout",
     "output_type": "stream",
     "text": [
      "reading, altering, and saving match data file: https://www.football-data.co.uk/mmz4281/9798/E3.csv\n"
     ]
    },
    {
     "name": "stderr",
     "output_type": "stream",
     "text": [
      "/var/folders/xn/jj94n4tj5w90v1m3njdf44n80000gp/T/ipykernel_45706/3335976498.py:27: UserWarning: Could not infer format, so each element will be parsed individually, falling back to `dateutil`. To ensure parsing is consistent and as-expected, please specify a format.\n",
      "  df = pd.read_csv(\n"
     ]
    },
    {
     "name": "stdout",
     "output_type": "stream",
     "text": [
      "reading, altering, and saving match data file: https://www.football-data.co.uk/mmz4281/9900/E2.csv\n"
     ]
    },
    {
     "name": "stderr",
     "output_type": "stream",
     "text": [
      "/var/folders/xn/jj94n4tj5w90v1m3njdf44n80000gp/T/ipykernel_45706/3335976498.py:27: UserWarning: Could not infer format, so each element will be parsed individually, falling back to `dateutil`. To ensure parsing is consistent and as-expected, please specify a format.\n",
      "  df = pd.read_csv(\n"
     ]
    },
    {
     "name": "stdout",
     "output_type": "stream",
     "text": [
      "reading, altering, and saving match data file: https://www.football-data.co.uk/mmz4281/9394/E3.csv\n"
     ]
    },
    {
     "name": "stderr",
     "output_type": "stream",
     "text": [
      "/var/folders/xn/jj94n4tj5w90v1m3njdf44n80000gp/T/ipykernel_45706/3335976498.py:27: UserWarning: Could not infer format, so each element will be parsed individually, falling back to `dateutil`. To ensure parsing is consistent and as-expected, please specify a format.\n",
      "  df = pd.read_csv(\n",
      "/var/folders/xn/jj94n4tj5w90v1m3njdf44n80000gp/T/ipykernel_45706/3335976498.py:27: UserWarning: Could not infer format, so each element will be parsed individually, falling back to `dateutil`. To ensure parsing is consistent and as-expected, please specify a format.\n",
      "  df = pd.read_csv(\n"
     ]
    },
    {
     "name": "stdout",
     "output_type": "stream",
     "text": [
      "reading, altering, and saving match data file: https://www.football-data.co.uk/mmz4281/9900/E0.csv\n",
      "reading, altering, and saving match data file: https://www.football-data.co.uk/mmz4281/0102/E0.csv\n"
     ]
    },
    {
     "name": "stderr",
     "output_type": "stream",
     "text": [
      "/var/folders/xn/jj94n4tj5w90v1m3njdf44n80000gp/T/ipykernel_45706/3335976498.py:27: UserWarning: Could not infer format, so each element will be parsed individually, falling back to `dateutil`. To ensure parsing is consistent and as-expected, please specify a format.\n",
      "  df = pd.read_csv(\n"
     ]
    },
    {
     "name": "stdout",
     "output_type": "stream",
     "text": [
      "reading, altering, and saving match data file: https://www.football-data.co.uk/mmz4281/1314/EC.csv\n"
     ]
    },
    {
     "name": "stderr",
     "output_type": "stream",
     "text": [
      "/var/folders/xn/jj94n4tj5w90v1m3njdf44n80000gp/T/ipykernel_45706/3335976498.py:27: UserWarning: Could not infer format, so each element will be parsed individually, falling back to `dateutil`. To ensure parsing is consistent and as-expected, please specify a format.\n",
      "  df = pd.read_csv(\n"
     ]
    },
    {
     "name": "stdout",
     "output_type": "stream",
     "text": [
      "reading, altering, and saving match data file: https://www.football-data.co.uk/mmz4281/0203/E3.csv\n"
     ]
    },
    {
     "name": "stderr",
     "output_type": "stream",
     "text": [
      "/var/folders/xn/jj94n4tj5w90v1m3njdf44n80000gp/T/ipykernel_45706/3335976498.py:27: UserWarning: Could not infer format, so each element will be parsed individually, falling back to `dateutil`. To ensure parsing is consistent and as-expected, please specify a format.\n",
      "  df = pd.read_csv(\n"
     ]
    },
    {
     "name": "stdout",
     "output_type": "stream",
     "text": [
      "reading, altering, and saving match data file: https://www.football-data.co.uk/mmz4281/1718/E3.csv\n",
      "reading, altering, and saving match data file: https://www.football-data.co.uk/mmz4281/0001/E2.csv\n"
     ]
    },
    {
     "name": "stderr",
     "output_type": "stream",
     "text": [
      "/var/folders/xn/jj94n4tj5w90v1m3njdf44n80000gp/T/ipykernel_45706/3335976498.py:27: UserWarning: Could not infer format, so each element will be parsed individually, falling back to `dateutil`. To ensure parsing is consistent and as-expected, please specify a format.\n",
      "  df = pd.read_csv(\n"
     ]
    },
    {
     "name": "stdout",
     "output_type": "stream",
     "text": [
      "reading, altering, and saving match data file: https://www.football-data.co.uk/mmz4281/2223/E1.csv\n",
      "reading, altering, and saving match data file: https://www.football-data.co.uk/mmz4281/1213/E3.csv\n"
     ]
    },
    {
     "name": "stderr",
     "output_type": "stream",
     "text": [
      "/var/folders/xn/jj94n4tj5w90v1m3njdf44n80000gp/T/ipykernel_45706/3335976498.py:27: UserWarning: Could not infer format, so each element will be parsed individually, falling back to `dateutil`. To ensure parsing is consistent and as-expected, please specify a format.\n",
      "  df = pd.read_csv(\n"
     ]
    },
    {
     "name": "stdout",
     "output_type": "stream",
     "text": [
      "reading, altering, and saving match data file: https://www.football-data.co.uk/mmz4281/1718/E2.csv\n"
     ]
    },
    {
     "name": "stderr",
     "output_type": "stream",
     "text": [
      "/var/folders/xn/jj94n4tj5w90v1m3njdf44n80000gp/T/ipykernel_45706/3335976498.py:27: UserWarning: Could not infer format, so each element will be parsed individually, falling back to `dateutil`. To ensure parsing is consistent and as-expected, please specify a format.\n",
      "  df = pd.read_csv(\n"
     ]
    },
    {
     "name": "stdout",
     "output_type": "stream",
     "text": [
      "reading, altering, and saving match data file: https://www.football-data.co.uk/mmz4281/1011/E1.csv\n"
     ]
    },
    {
     "name": "stderr",
     "output_type": "stream",
     "text": [
      "/var/folders/xn/jj94n4tj5w90v1m3njdf44n80000gp/T/ipykernel_45706/3335976498.py:27: UserWarning: Could not infer format, so each element will be parsed individually, falling back to `dateutil`. To ensure parsing is consistent and as-expected, please specify a format.\n",
      "  df = pd.read_csv(\n"
     ]
    },
    {
     "name": "stdout",
     "output_type": "stream",
     "text": [
      "reading, altering, and saving match data file: https://www.football-data.co.uk/mmz4281/9596/E3.csv\n"
     ]
    },
    {
     "name": "stderr",
     "output_type": "stream",
     "text": [
      "/var/folders/xn/jj94n4tj5w90v1m3njdf44n80000gp/T/ipykernel_45706/3335976498.py:27: UserWarning: Could not infer format, so each element will be parsed individually, falling back to `dateutil`. To ensure parsing is consistent and as-expected, please specify a format.\n",
      "  df = pd.read_csv(\n"
     ]
    },
    {
     "name": "stdout",
     "output_type": "stream",
     "text": [
      "reading, altering, and saving match data file: https://www.football-data.co.uk/mmz4281/1516/E0.csv\n",
      "reading, altering, and saving match data file: https://www.football-data.co.uk/mmz4281/1415/EC.csv\n"
     ]
    },
    {
     "name": "stderr",
     "output_type": "stream",
     "text": [
      "/var/folders/xn/jj94n4tj5w90v1m3njdf44n80000gp/T/ipykernel_45706/3335976498.py:27: UserWarning: Could not infer format, so each element will be parsed individually, falling back to `dateutil`. To ensure parsing is consistent and as-expected, please specify a format.\n",
      "  df = pd.read_csv(\n"
     ]
    },
    {
     "name": "stdout",
     "output_type": "stream",
     "text": [
      "reading, altering, and saving match data file: https://www.football-data.co.uk/mmz4281/1920/E3.csv\n",
      "reading, altering, and saving match data file: https://www.football-data.co.uk/mmz4281/0910/E1.csv\n"
     ]
    },
    {
     "name": "stderr",
     "output_type": "stream",
     "text": [
      "/var/folders/xn/jj94n4tj5w90v1m3njdf44n80000gp/T/ipykernel_45706/3335976498.py:27: UserWarning: Could not infer format, so each element will be parsed individually, falling back to `dateutil`. To ensure parsing is consistent and as-expected, please specify a format.\n",
      "  df = pd.read_csv(\n"
     ]
    },
    {
     "name": "stdout",
     "output_type": "stream",
     "text": [
      "reading, altering, and saving match data file: https://www.football-data.co.uk/mmz4281/1617/EC.csv\n"
     ]
    },
    {
     "name": "stderr",
     "output_type": "stream",
     "text": [
      "/var/folders/xn/jj94n4tj5w90v1m3njdf44n80000gp/T/ipykernel_45706/3335976498.py:27: UserWarning: Could not infer format, so each element will be parsed individually, falling back to `dateutil`. To ensure parsing is consistent and as-expected, please specify a format.\n",
      "  df = pd.read_csv(\n"
     ]
    },
    {
     "name": "stdout",
     "output_type": "stream",
     "text": [
      "reading, altering, and saving match data file: https://www.football-data.co.uk/mmz4281/0708/EC.csv\n"
     ]
    },
    {
     "name": "stderr",
     "output_type": "stream",
     "text": [
      "/var/folders/xn/jj94n4tj5w90v1m3njdf44n80000gp/T/ipykernel_45706/3335976498.py:27: UserWarning: Could not infer format, so each element will be parsed individually, falling back to `dateutil`. To ensure parsing is consistent and as-expected, please specify a format.\n",
      "  df = pd.read_csv(\n"
     ]
    },
    {
     "name": "stdout",
     "output_type": "stream",
     "text": [
      "reading, altering, and saving match data file: https://www.football-data.co.uk/mmz4281/2223/E3.csv\n",
      "reading, altering, and saving match data file: https://www.football-data.co.uk/mmz4281/1112/E2.csv\n"
     ]
    },
    {
     "name": "stderr",
     "output_type": "stream",
     "text": [
      "/var/folders/xn/jj94n4tj5w90v1m3njdf44n80000gp/T/ipykernel_45706/3335976498.py:27: UserWarning: Could not infer format, so each element will be parsed individually, falling back to `dateutil`. To ensure parsing is consistent and as-expected, please specify a format.\n",
      "  df = pd.read_csv(\n"
     ]
    },
    {
     "name": "stdout",
     "output_type": "stream",
     "text": [
      "reading, altering, and saving match data file: https://www.football-data.co.uk/mmz4281/9495/E2.csv\n"
     ]
    },
    {
     "name": "stderr",
     "output_type": "stream",
     "text": [
      "/var/folders/xn/jj94n4tj5w90v1m3njdf44n80000gp/T/ipykernel_45706/3335976498.py:27: UserWarning: Could not infer format, so each element will be parsed individually, falling back to `dateutil`. To ensure parsing is consistent and as-expected, please specify a format.\n",
      "  df = pd.read_csv(\n"
     ]
    },
    {
     "name": "stdout",
     "output_type": "stream",
     "text": [
      "reading, altering, and saving match data file: https://www.football-data.co.uk/mmz4281/0102/E2.csv\n"
     ]
    },
    {
     "name": "stderr",
     "output_type": "stream",
     "text": [
      "/var/folders/xn/jj94n4tj5w90v1m3njdf44n80000gp/T/ipykernel_45706/3335976498.py:27: UserWarning: Could not infer format, so each element will be parsed individually, falling back to `dateutil`. To ensure parsing is consistent and as-expected, please specify a format.\n",
      "  df = pd.read_csv(\n"
     ]
    },
    {
     "name": "stdout",
     "output_type": "stream",
     "text": [
      "reading, altering, and saving match data file: https://www.football-data.co.uk/mmz4281/2425/EC.csv\n",
      "reading, altering, and saving match data file: https://www.football-data.co.uk/mmz4281/0102/E1.csv\n"
     ]
    },
    {
     "name": "stderr",
     "output_type": "stream",
     "text": [
      "/var/folders/xn/jj94n4tj5w90v1m3njdf44n80000gp/T/ipykernel_45706/3335976498.py:27: UserWarning: Could not infer format, so each element will be parsed individually, falling back to `dateutil`. To ensure parsing is consistent and as-expected, please specify a format.\n",
      "  df = pd.read_csv(\n"
     ]
    },
    {
     "name": "stdout",
     "output_type": "stream",
     "text": [
      "reading, altering, and saving match data file: https://www.football-data.co.uk/mmz4281/0809/E1.csv\n"
     ]
    },
    {
     "name": "stderr",
     "output_type": "stream",
     "text": [
      "/var/folders/xn/jj94n4tj5w90v1m3njdf44n80000gp/T/ipykernel_45706/3335976498.py:27: UserWarning: Could not infer format, so each element will be parsed individually, falling back to `dateutil`. To ensure parsing is consistent and as-expected, please specify a format.\n",
      "  df = pd.read_csv(\n"
     ]
    },
    {
     "name": "stdout",
     "output_type": "stream",
     "text": [
      "reading, altering, and saving match data file: https://www.football-data.co.uk/mmz4281/0607/E2.csv\n"
     ]
    },
    {
     "name": "stderr",
     "output_type": "stream",
     "text": [
      "/var/folders/xn/jj94n4tj5w90v1m3njdf44n80000gp/T/ipykernel_45706/3335976498.py:27: UserWarning: Could not infer format, so each element will be parsed individually, falling back to `dateutil`. To ensure parsing is consistent and as-expected, please specify a format.\n",
      "  df = pd.read_csv(\n"
     ]
    },
    {
     "name": "stdout",
     "output_type": "stream",
     "text": [
      "reading, altering, and saving match data file: https://www.football-data.co.uk/mmz4281/9495/E0.csv\n"
     ]
    },
    {
     "name": "stderr",
     "output_type": "stream",
     "text": [
      "/var/folders/xn/jj94n4tj5w90v1m3njdf44n80000gp/T/ipykernel_45706/3335976498.py:27: UserWarning: Could not infer format, so each element will be parsed individually, falling back to `dateutil`. To ensure parsing is consistent and as-expected, please specify a format.\n",
      "  df = pd.read_csv(\n"
     ]
    },
    {
     "name": "stdout",
     "output_type": "stream",
     "text": [
      "reading, altering, and saving match data file: https://www.football-data.co.uk/mmz4281/1819/E3.csv\n",
      "reading, altering, and saving match data file: https://www.football-data.co.uk/mmz4281/1920/E1.csv\n",
      "reading, altering, and saving match data file: https://www.football-data.co.uk/mmz4281/0506/E1.csv\n"
     ]
    },
    {
     "name": "stderr",
     "output_type": "stream",
     "text": [
      "/var/folders/xn/jj94n4tj5w90v1m3njdf44n80000gp/T/ipykernel_45706/3335976498.py:27: UserWarning: Could not infer format, so each element will be parsed individually, falling back to `dateutil`. To ensure parsing is consistent and as-expected, please specify a format.\n",
      "  df = pd.read_csv(\n"
     ]
    },
    {
     "name": "stdout",
     "output_type": "stream",
     "text": [
      "reading, altering, and saving match data file: https://www.football-data.co.uk/mmz4281/9900/E1.csv\n"
     ]
    },
    {
     "name": "stderr",
     "output_type": "stream",
     "text": [
      "/var/folders/xn/jj94n4tj5w90v1m3njdf44n80000gp/T/ipykernel_45706/3335976498.py:27: UserWarning: Could not infer format, so each element will be parsed individually, falling back to `dateutil`. To ensure parsing is consistent and as-expected, please specify a format.\n",
      "  df = pd.read_csv(\n"
     ]
    },
    {
     "name": "stdout",
     "output_type": "stream",
     "text": [
      "reading, altering, and saving match data file: https://www.football-data.co.uk/mmz4281/9394/E2.csv\n"
     ]
    },
    {
     "name": "stderr",
     "output_type": "stream",
     "text": [
      "/var/folders/xn/jj94n4tj5w90v1m3njdf44n80000gp/T/ipykernel_45706/3335976498.py:27: UserWarning: Could not infer format, so each element will be parsed individually, falling back to `dateutil`. To ensure parsing is consistent and as-expected, please specify a format.\n",
      "  df = pd.read_csv(\n"
     ]
    },
    {
     "name": "stdout",
     "output_type": "stream",
     "text": [
      "reading, altering, and saving match data file: https://www.football-data.co.uk/mmz4281/2021/E1.csv\n",
      "reading, altering, and saving match data file: https://www.football-data.co.uk/mmz4281/1415/E0.csv\n"
     ]
    },
    {
     "name": "stderr",
     "output_type": "stream",
     "text": [
      "/var/folders/xn/jj94n4tj5w90v1m3njdf44n80000gp/T/ipykernel_45706/3335976498.py:27: UserWarning: Could not infer format, so each element will be parsed individually, falling back to `dateutil`. To ensure parsing is consistent and as-expected, please specify a format.\n",
      "  df = pd.read_csv(\n"
     ]
    },
    {
     "name": "stdout",
     "output_type": "stream",
     "text": [
      "reading, altering, and saving match data file: https://www.football-data.co.uk/mmz4281/0910/E3.csv\n"
     ]
    },
    {
     "name": "stderr",
     "output_type": "stream",
     "text": [
      "/var/folders/xn/jj94n4tj5w90v1m3njdf44n80000gp/T/ipykernel_45706/3335976498.py:27: UserWarning: Could not infer format, so each element will be parsed individually, falling back to `dateutil`. To ensure parsing is consistent and as-expected, please specify a format.\n",
      "  df = pd.read_csv(\n"
     ]
    },
    {
     "name": "stdout",
     "output_type": "stream",
     "text": [
      "reading, altering, and saving match data file: https://www.football-data.co.uk/mmz4281/0910/EC.csv\n"
     ]
    },
    {
     "name": "stderr",
     "output_type": "stream",
     "text": [
      "/var/folders/xn/jj94n4tj5w90v1m3njdf44n80000gp/T/ipykernel_45706/3335976498.py:27: UserWarning: Could not infer format, so each element will be parsed individually, falling back to `dateutil`. To ensure parsing is consistent and as-expected, please specify a format.\n",
      "  df = pd.read_csv(\n"
     ]
    },
    {
     "name": "stdout",
     "output_type": "stream",
     "text": [
      "reading, altering, and saving match data file: https://www.football-data.co.uk/mmz4281/0809/E2.csv\n"
     ]
    },
    {
     "name": "stderr",
     "output_type": "stream",
     "text": [
      "/var/folders/xn/jj94n4tj5w90v1m3njdf44n80000gp/T/ipykernel_45706/3335976498.py:27: UserWarning: Could not infer format, so each element will be parsed individually, falling back to `dateutil`. To ensure parsing is consistent and as-expected, please specify a format.\n",
      "  df = pd.read_csv(\n"
     ]
    },
    {
     "name": "stdout",
     "output_type": "stream",
     "text": [
      "reading, altering, and saving match data file: https://www.football-data.co.uk/mmz4281/0405/E2.csv\n"
     ]
    },
    {
     "name": "stderr",
     "output_type": "stream",
     "text": [
      "/var/folders/xn/jj94n4tj5w90v1m3njdf44n80000gp/T/ipykernel_45706/3335976498.py:27: UserWarning: Could not infer format, so each element will be parsed individually, falling back to `dateutil`. To ensure parsing is consistent and as-expected, please specify a format.\n",
      "  df = pd.read_csv(\n"
     ]
    },
    {
     "name": "stdout",
     "output_type": "stream",
     "text": [
      "reading, altering, and saving match data file: https://www.football-data.co.uk/mmz4281/0203/E1.csv\n"
     ]
    },
    {
     "name": "stderr",
     "output_type": "stream",
     "text": [
      "/var/folders/xn/jj94n4tj5w90v1m3njdf44n80000gp/T/ipykernel_45706/3335976498.py:27: UserWarning: Could not infer format, so each element will be parsed individually, falling back to `dateutil`. To ensure parsing is consistent and as-expected, please specify a format.\n",
      "  df = pd.read_csv(\n"
     ]
    },
    {
     "name": "stdout",
     "output_type": "stream",
     "text": [
      "reading, altering, and saving match data file: https://www.football-data.co.uk/mmz4281/9596/E0.csv\n"
     ]
    },
    {
     "name": "stderr",
     "output_type": "stream",
     "text": [
      "/var/folders/xn/jj94n4tj5w90v1m3njdf44n80000gp/T/ipykernel_45706/3335976498.py:27: UserWarning: Could not infer format, so each element will be parsed individually, falling back to `dateutil`. To ensure parsing is consistent and as-expected, please specify a format.\n",
      "  df = pd.read_csv(\n"
     ]
    },
    {
     "name": "stdout",
     "output_type": "stream",
     "text": [
      "reading, altering, and saving match data file: https://www.football-data.co.uk/mmz4281/0304/E2.csv\n"
     ]
    },
    {
     "name": "stderr",
     "output_type": "stream",
     "text": [
      "/var/folders/xn/jj94n4tj5w90v1m3njdf44n80000gp/T/ipykernel_45706/3335976498.py:27: UserWarning: Could not infer format, so each element will be parsed individually, falling back to `dateutil`. To ensure parsing is consistent and as-expected, please specify a format.\n",
      "  df = pd.read_csv(\n"
     ]
    },
    {
     "name": "stdout",
     "output_type": "stream",
     "text": [
      "reading, altering, and saving match data file: https://www.football-data.co.uk/mmz4281/2021/E2.csv\n",
      "reading, altering, and saving match data file: https://www.football-data.co.uk/mmz4281/9899/E3.csv\n"
     ]
    },
    {
     "name": "stderr",
     "output_type": "stream",
     "text": [
      "/var/folders/xn/jj94n4tj5w90v1m3njdf44n80000gp/T/ipykernel_45706/3335976498.py:27: UserWarning: Could not infer format, so each element will be parsed individually, falling back to `dateutil`. To ensure parsing is consistent and as-expected, please specify a format.\n",
      "  df = pd.read_csv(\n"
     ]
    },
    {
     "name": "stdout",
     "output_type": "stream",
     "text": [
      "reading, altering, and saving match data file: https://www.football-data.co.uk/mmz4281/9596/E2.csv\n"
     ]
    },
    {
     "name": "stderr",
     "output_type": "stream",
     "text": [
      "/var/folders/xn/jj94n4tj5w90v1m3njdf44n80000gp/T/ipykernel_45706/3335976498.py:27: UserWarning: Could not infer format, so each element will be parsed individually, falling back to `dateutil`. To ensure parsing is consistent and as-expected, please specify a format.\n",
      "  df = pd.read_csv(\n"
     ]
    },
    {
     "name": "stdout",
     "output_type": "stream",
     "text": [
      "reading, altering, and saving match data file: https://www.football-data.co.uk/mmz4281/2425/E1.csv\n",
      "reading, altering, and saving match data file: https://www.football-data.co.uk/mmz4281/1718/EC.csv\n"
     ]
    },
    {
     "name": "stderr",
     "output_type": "stream",
     "text": [
      "/var/folders/xn/jj94n4tj5w90v1m3njdf44n80000gp/T/ipykernel_45706/3335976498.py:27: UserWarning: Could not infer format, so each element will be parsed individually, falling back to `dateutil`. To ensure parsing is consistent and as-expected, please specify a format.\n",
      "  df = pd.read_csv(\n"
     ]
    },
    {
     "name": "stdout",
     "output_type": "stream",
     "text": [
      "reading, altering, and saving match data file: https://www.football-data.co.uk/mmz4281/0809/E3.csv\n"
     ]
    },
    {
     "name": "stderr",
     "output_type": "stream",
     "text": [
      "/var/folders/xn/jj94n4tj5w90v1m3njdf44n80000gp/T/ipykernel_45706/3335976498.py:27: UserWarning: Could not infer format, so each element will be parsed individually, falling back to `dateutil`. To ensure parsing is consistent and as-expected, please specify a format.\n",
      "  df = pd.read_csv(\n"
     ]
    },
    {
     "name": "stdout",
     "output_type": "stream",
     "text": [
      "reading, altering, and saving match data file: https://www.football-data.co.uk/mmz4281/1617/E2.csv\n"
     ]
    },
    {
     "name": "stderr",
     "output_type": "stream",
     "text": [
      "/var/folders/xn/jj94n4tj5w90v1m3njdf44n80000gp/T/ipykernel_45706/3335976498.py:27: UserWarning: Could not infer format, so each element will be parsed individually, falling back to `dateutil`. To ensure parsing is consistent and as-expected, please specify a format.\n",
      "  df = pd.read_csv(\n"
     ]
    },
    {
     "name": "stdout",
     "output_type": "stream",
     "text": [
      "reading, altering, and saving match data file: https://www.football-data.co.uk/mmz4281/2324/E0.csv\n",
      "reading, altering, and saving match data file: https://www.football-data.co.uk/mmz4281/9798/E0.csv\n"
     ]
    },
    {
     "name": "stderr",
     "output_type": "stream",
     "text": [
      "/var/folders/xn/jj94n4tj5w90v1m3njdf44n80000gp/T/ipykernel_45706/3335976498.py:27: UserWarning: Could not infer format, so each element will be parsed individually, falling back to `dateutil`. To ensure parsing is consistent and as-expected, please specify a format.\n",
      "  df = pd.read_csv(\n"
     ]
    },
    {
     "name": "stdout",
     "output_type": "stream",
     "text": [
      "reading, altering, and saving match data file: https://www.football-data.co.uk/mmz4281/0607/E1.csv\n"
     ]
    },
    {
     "name": "stderr",
     "output_type": "stream",
     "text": [
      "/var/folders/xn/jj94n4tj5w90v1m3njdf44n80000gp/T/ipykernel_45706/3335976498.py:27: UserWarning: Could not infer format, so each element will be parsed individually, falling back to `dateutil`. To ensure parsing is consistent and as-expected, please specify a format.\n",
      "  df = pd.read_csv(\n"
     ]
    },
    {
     "name": "stdout",
     "output_type": "stream",
     "text": [
      "reading, altering, and saving match data file: https://www.football-data.co.uk/mmz4281/0405/E0.csv\n"
     ]
    },
    {
     "name": "stderr",
     "output_type": "stream",
     "text": [
      "/var/folders/xn/jj94n4tj5w90v1m3njdf44n80000gp/T/ipykernel_45706/3335976498.py:27: UserWarning: Could not infer format, so each element will be parsed individually, falling back to `dateutil`. To ensure parsing is consistent and as-expected, please specify a format.\n",
      "  df = pd.read_csv(\n"
     ]
    },
    {
     "name": "stdout",
     "output_type": "stream",
     "text": [
      "reading, altering, and saving match data file: https://www.football-data.co.uk/mmz4281/2324/EC.csv\n",
      "reading, altering, and saving match data file: https://www.football-data.co.uk/mmz4281/1112/E0.csv\n"
     ]
    },
    {
     "name": "stderr",
     "output_type": "stream",
     "text": [
      "/var/folders/xn/jj94n4tj5w90v1m3njdf44n80000gp/T/ipykernel_45706/3335976498.py:27: UserWarning: Could not infer format, so each element will be parsed individually, falling back to `dateutil`. To ensure parsing is consistent and as-expected, please specify a format.\n",
      "  df = pd.read_csv(\n"
     ]
    },
    {
     "name": "stdout",
     "output_type": "stream",
     "text": [
      "reading, altering, and saving match data file: https://www.football-data.co.uk/mmz4281/9798/E2.csv\n"
     ]
    },
    {
     "name": "stderr",
     "output_type": "stream",
     "text": [
      "/var/folders/xn/jj94n4tj5w90v1m3njdf44n80000gp/T/ipykernel_45706/3335976498.py:27: UserWarning: Could not infer format, so each element will be parsed individually, falling back to `dateutil`. To ensure parsing is consistent and as-expected, please specify a format.\n",
      "  df = pd.read_csv(\n"
     ]
    },
    {
     "name": "stdout",
     "output_type": "stream",
     "text": [
      "reading, altering, and saving match data file: https://www.football-data.co.uk/mmz4281/1011/E3.csv\n"
     ]
    },
    {
     "name": "stderr",
     "output_type": "stream",
     "text": [
      "/var/folders/xn/jj94n4tj5w90v1m3njdf44n80000gp/T/ipykernel_45706/3335976498.py:27: UserWarning: Could not infer format, so each element will be parsed individually, falling back to `dateutil`. To ensure parsing is consistent and as-expected, please specify a format.\n",
      "  df = pd.read_csv(\n"
     ]
    },
    {
     "name": "stdout",
     "output_type": "stream",
     "text": [
      "reading, altering, and saving match data file: https://www.football-data.co.uk/mmz4281/2021/EC.csv\n",
      "reading, altering, and saving match data file: https://www.football-data.co.uk/mmz4281/2223/EC.csv\n",
      "reading, altering, and saving match data file: https://www.football-data.co.uk/mmz4281/1920/E2.csv\n",
      "reading, altering, and saving match data file: https://www.football-data.co.uk/mmz4281/0809/EC.csv\n"
     ]
    },
    {
     "name": "stderr",
     "output_type": "stream",
     "text": [
      "/var/folders/xn/jj94n4tj5w90v1m3njdf44n80000gp/T/ipykernel_45706/3335976498.py:27: UserWarning: Could not infer format, so each element will be parsed individually, falling back to `dateutil`. To ensure parsing is consistent and as-expected, please specify a format.\n",
      "  df = pd.read_csv(\n"
     ]
    },
    {
     "name": "stdout",
     "output_type": "stream",
     "text": [
      "reading, altering, and saving match data file: https://www.football-data.co.uk/mmz4281/2122/E2.csv\n",
      "reading, altering, and saving match data file: https://www.football-data.co.uk/mmz4281/2021/E0.csv\n",
      "reading, altering, and saving match data file: https://www.football-data.co.uk/mmz4281/9899/E0.csv\n"
     ]
    },
    {
     "name": "stderr",
     "output_type": "stream",
     "text": [
      "/var/folders/xn/jj94n4tj5w90v1m3njdf44n80000gp/T/ipykernel_45706/3335976498.py:27: UserWarning: Could not infer format, so each element will be parsed individually, falling back to `dateutil`. To ensure parsing is consistent and as-expected, please specify a format.\n",
      "  df = pd.read_csv(\n"
     ]
    },
    {
     "name": "stdout",
     "output_type": "stream",
     "text": [
      "reading, altering, and saving match data file: https://www.football-data.co.uk/mmz4281/1314/E2.csv\n"
     ]
    },
    {
     "name": "stderr",
     "output_type": "stream",
     "text": [
      "/var/folders/xn/jj94n4tj5w90v1m3njdf44n80000gp/T/ipykernel_45706/3335976498.py:27: UserWarning: Could not infer format, so each element will be parsed individually, falling back to `dateutil`. To ensure parsing is consistent and as-expected, please specify a format.\n",
      "  df = pd.read_csv(\n"
     ]
    },
    {
     "name": "stdout",
     "output_type": "stream",
     "text": [
      "reading, altering, and saving match data file: https://www.football-data.co.uk/mmz4281/0708/E2.csv\n"
     ]
    },
    {
     "name": "stderr",
     "output_type": "stream",
     "text": [
      "/var/folders/xn/jj94n4tj5w90v1m3njdf44n80000gp/T/ipykernel_45706/3335976498.py:27: UserWarning: Could not infer format, so each element will be parsed individually, falling back to `dateutil`. To ensure parsing is consistent and as-expected, please specify a format.\n",
      "  df = pd.read_csv(\n"
     ]
    },
    {
     "name": "stdout",
     "output_type": "stream",
     "text": [
      "reading, altering, and saving match data file: https://www.football-data.co.uk/mmz4281/0203/E2.csv\n"
     ]
    },
    {
     "name": "stderr",
     "output_type": "stream",
     "text": [
      "/var/folders/xn/jj94n4tj5w90v1m3njdf44n80000gp/T/ipykernel_45706/3335976498.py:27: UserWarning: Could not infer format, so each element will be parsed individually, falling back to `dateutil`. To ensure parsing is consistent and as-expected, please specify a format.\n",
      "  df = pd.read_csv(\n"
     ]
    },
    {
     "name": "stdout",
     "output_type": "stream",
     "text": [
      "reading, altering, and saving match data file: https://www.football-data.co.uk/mmz4281/0304/E3.csv\n"
     ]
    },
    {
     "name": "stderr",
     "output_type": "stream",
     "text": [
      "/var/folders/xn/jj94n4tj5w90v1m3njdf44n80000gp/T/ipykernel_45706/3335976498.py:27: UserWarning: Could not infer format, so each element will be parsed individually, falling back to `dateutil`. To ensure parsing is consistent and as-expected, please specify a format.\n",
      "  df = pd.read_csv(\n"
     ]
    },
    {
     "name": "stdout",
     "output_type": "stream",
     "text": [
      "reading, altering, and saving match data file: https://www.football-data.co.uk/mmz4281/9596/E1.csv\n"
     ]
    },
    {
     "name": "stderr",
     "output_type": "stream",
     "text": [
      "/var/folders/xn/jj94n4tj5w90v1m3njdf44n80000gp/T/ipykernel_45706/3335976498.py:27: UserWarning: Could not infer format, so each element will be parsed individually, falling back to `dateutil`. To ensure parsing is consistent and as-expected, please specify a format.\n",
      "  df = pd.read_csv(\n"
     ]
    },
    {
     "name": "stdout",
     "output_type": "stream",
     "text": [
      "reading, altering, and saving match data file: https://www.football-data.co.uk/mmz4281/0506/EC.csv\n"
     ]
    },
    {
     "name": "stderr",
     "output_type": "stream",
     "text": [
      "/var/folders/xn/jj94n4tj5w90v1m3njdf44n80000gp/T/ipykernel_45706/3335976498.py:27: UserWarning: Could not infer format, so each element will be parsed individually, falling back to `dateutil`. To ensure parsing is consistent and as-expected, please specify a format.\n",
      "  df = pd.read_csv(\n"
     ]
    },
    {
     "name": "stdout",
     "output_type": "stream",
     "text": [
      "reading, altering, and saving match data file: https://www.football-data.co.uk/mmz4281/0506/E0.csv\n"
     ]
    },
    {
     "name": "stderr",
     "output_type": "stream",
     "text": [
      "/var/folders/xn/jj94n4tj5w90v1m3njdf44n80000gp/T/ipykernel_45706/3335976498.py:27: UserWarning: Could not infer format, so each element will be parsed individually, falling back to `dateutil`. To ensure parsing is consistent and as-expected, please specify a format.\n",
      "  df = pd.read_csv(\n"
     ]
    },
    {
     "name": "stdout",
     "output_type": "stream",
     "text": [
      "reading, altering, and saving match data file: https://www.football-data.co.uk/mmz4281/0304/E0.csv\n"
     ]
    },
    {
     "name": "stderr",
     "output_type": "stream",
     "text": [
      "/var/folders/xn/jj94n4tj5w90v1m3njdf44n80000gp/T/ipykernel_45706/3335976498.py:27: UserWarning: Could not infer format, so each element will be parsed individually, falling back to `dateutil`. To ensure parsing is consistent and as-expected, please specify a format.\n",
      "  df = pd.read_csv(\n"
     ]
    },
    {
     "name": "stdout",
     "output_type": "stream",
     "text": [
      "reading, altering, and saving match data file: https://www.football-data.co.uk/mmz4281/1314/E1.csv\n"
     ]
    },
    {
     "name": "stderr",
     "output_type": "stream",
     "text": [
      "/var/folders/xn/jj94n4tj5w90v1m3njdf44n80000gp/T/ipykernel_45706/3335976498.py:27: UserWarning: Could not infer format, so each element will be parsed individually, falling back to `dateutil`. To ensure parsing is consistent and as-expected, please specify a format.\n",
      "  df = pd.read_csv(\n"
     ]
    },
    {
     "name": "stdout",
     "output_type": "stream",
     "text": [
      "reading, altering, and saving match data file: https://www.football-data.co.uk/mmz4281/1718/E0.csv\n",
      "reading, altering, and saving match data file: https://www.football-data.co.uk/mmz4281/1516/E2.csv\n"
     ]
    },
    {
     "name": "stderr",
     "output_type": "stream",
     "text": [
      "/var/folders/xn/jj94n4tj5w90v1m3njdf44n80000gp/T/ipykernel_45706/3335976498.py:27: UserWarning: Could not infer format, so each element will be parsed individually, falling back to `dateutil`. To ensure parsing is consistent and as-expected, please specify a format.\n",
      "  df = pd.read_csv(\n"
     ]
    },
    {
     "name": "stdout",
     "output_type": "stream",
     "text": [
      "reading, altering, and saving match data file: https://www.football-data.co.uk/mmz4281/1314/E0.csv\n"
     ]
    },
    {
     "name": "stderr",
     "output_type": "stream",
     "text": [
      "/var/folders/xn/jj94n4tj5w90v1m3njdf44n80000gp/T/ipykernel_45706/3335976498.py:27: UserWarning: Could not infer format, so each element will be parsed individually, falling back to `dateutil`. To ensure parsing is consistent and as-expected, please specify a format.\n",
      "  df = pd.read_csv(\n"
     ]
    },
    {
     "name": "stdout",
     "output_type": "stream",
     "text": [
      "reading, altering, and saving match data file: https://www.football-data.co.uk/mmz4281/1112/E1.csv\n"
     ]
    },
    {
     "name": "stderr",
     "output_type": "stream",
     "text": [
      "/var/folders/xn/jj94n4tj5w90v1m3njdf44n80000gp/T/ipykernel_45706/3335976498.py:27: UserWarning: Could not infer format, so each element will be parsed individually, falling back to `dateutil`. To ensure parsing is consistent and as-expected, please specify a format.\n",
      "  df = pd.read_csv(\n"
     ]
    },
    {
     "name": "stdout",
     "output_type": "stream",
     "text": [
      "reading, altering, and saving match data file: https://www.football-data.co.uk/mmz4281/0708/E0.csv\n"
     ]
    },
    {
     "name": "stderr",
     "output_type": "stream",
     "text": [
      "/var/folders/xn/jj94n4tj5w90v1m3njdf44n80000gp/T/ipykernel_45706/3335976498.py:27: UserWarning: Could not infer format, so each element will be parsed individually, falling back to `dateutil`. To ensure parsing is consistent and as-expected, please specify a format.\n",
      "  df = pd.read_csv(\n"
     ]
    },
    {
     "name": "stdout",
     "output_type": "stream",
     "text": [
      "reading, altering, and saving match data file: https://www.football-data.co.uk/mmz4281/1415/E3.csv\n"
     ]
    },
    {
     "name": "stderr",
     "output_type": "stream",
     "text": [
      "/var/folders/xn/jj94n4tj5w90v1m3njdf44n80000gp/T/ipykernel_45706/3335976498.py:27: UserWarning: Could not infer format, so each element will be parsed individually, falling back to `dateutil`. To ensure parsing is consistent and as-expected, please specify a format.\n",
      "  df = pd.read_csv(\n"
     ]
    },
    {
     "name": "stdout",
     "output_type": "stream",
     "text": [
      "reading, altering, and saving match data file: https://www.football-data.co.uk/mmz4281/1920/EC.csv\n",
      "reading, altering, and saving match data file: https://www.football-data.co.uk/mmz4281/0607/SC0.csv\n"
     ]
    },
    {
     "name": "stderr",
     "output_type": "stream",
     "text": [
      "/var/folders/xn/jj94n4tj5w90v1m3njdf44n80000gp/T/ipykernel_45706/3335976498.py:27: UserWarning: Could not infer format, so each element will be parsed individually, falling back to `dateutil`. To ensure parsing is consistent and as-expected, please specify a format.\n",
      "  df = pd.read_csv(\n"
     ]
    },
    {
     "name": "stdout",
     "output_type": "stream",
     "text": [
      "reading, altering, and saving match data file: https://www.football-data.co.uk/mmz4281/0708/SC3.csv\n"
     ]
    },
    {
     "name": "stderr",
     "output_type": "stream",
     "text": [
      "/var/folders/xn/jj94n4tj5w90v1m3njdf44n80000gp/T/ipykernel_45706/3335976498.py:27: UserWarning: Could not infer format, so each element will be parsed individually, falling back to `dateutil`. To ensure parsing is consistent and as-expected, please specify a format.\n",
      "  df = pd.read_csv(\n"
     ]
    },
    {
     "name": "stdout",
     "output_type": "stream",
     "text": [
      "reading, altering, and saving match data file: https://www.football-data.co.uk/mmz4281/1112/SC3.csv\n"
     ]
    },
    {
     "name": "stderr",
     "output_type": "stream",
     "text": [
      "/var/folders/xn/jj94n4tj5w90v1m3njdf44n80000gp/T/ipykernel_45706/3335976498.py:27: UserWarning: Could not infer format, so each element will be parsed individually, falling back to `dateutil`. To ensure parsing is consistent and as-expected, please specify a format.\n",
      "  df = pd.read_csv(\n"
     ]
    },
    {
     "name": "stdout",
     "output_type": "stream",
     "text": [
      "reading, altering, and saving match data file: https://www.football-data.co.uk/mmz4281/0001/SC2.csv\n"
     ]
    },
    {
     "name": "stderr",
     "output_type": "stream",
     "text": [
      "/var/folders/xn/jj94n4tj5w90v1m3njdf44n80000gp/T/ipykernel_45706/3335976498.py:27: UserWarning: Could not infer format, so each element will be parsed individually, falling back to `dateutil`. To ensure parsing is consistent and as-expected, please specify a format.\n",
      "  df = pd.read_csv(\n"
     ]
    },
    {
     "name": "stdout",
     "output_type": "stream",
     "text": [
      "reading, altering, and saving match data file: https://www.football-data.co.uk/mmz4281/1314/SC0.csv\n"
     ]
    },
    {
     "name": "stderr",
     "output_type": "stream",
     "text": [
      "/var/folders/xn/jj94n4tj5w90v1m3njdf44n80000gp/T/ipykernel_45706/3335976498.py:27: UserWarning: Could not infer format, so each element will be parsed individually, falling back to `dateutil`. To ensure parsing is consistent and as-expected, please specify a format.\n",
      "  df = pd.read_csv(\n"
     ]
    },
    {
     "name": "stdout",
     "output_type": "stream",
     "text": [
      "reading, altering, and saving match data file: https://www.football-data.co.uk/mmz4281/1112/SC2.csv\n"
     ]
    },
    {
     "name": "stderr",
     "output_type": "stream",
     "text": [
      "/var/folders/xn/jj94n4tj5w90v1m3njdf44n80000gp/T/ipykernel_45706/3335976498.py:27: UserWarning: Could not infer format, so each element will be parsed individually, falling back to `dateutil`. To ensure parsing is consistent and as-expected, please specify a format.\n",
      "  df = pd.read_csv(\n"
     ]
    },
    {
     "name": "stdout",
     "output_type": "stream",
     "text": [
      "reading, altering, and saving match data file: https://www.football-data.co.uk/mmz4281/9899/SC2.csv\n"
     ]
    },
    {
     "name": "stderr",
     "output_type": "stream",
     "text": [
      "/var/folders/xn/jj94n4tj5w90v1m3njdf44n80000gp/T/ipykernel_45706/3335976498.py:27: UserWarning: Could not infer format, so each element will be parsed individually, falling back to `dateutil`. To ensure parsing is consistent and as-expected, please specify a format.\n",
      "  df = pd.read_csv(\n",
      "/var/folders/xn/jj94n4tj5w90v1m3njdf44n80000gp/T/ipykernel_45706/3335976498.py:27: UserWarning: Could not infer format, so each element will be parsed individually, falling back to `dateutil`. To ensure parsing is consistent and as-expected, please specify a format.\n",
      "  df = pd.read_csv(\n"
     ]
    },
    {
     "name": "stdout",
     "output_type": "stream",
     "text": [
      "reading, altering, and saving match data file: https://www.football-data.co.uk/mmz4281/9495/SC0.csv\n",
      "reading, altering, and saving match data file: https://www.football-data.co.uk/mmz4281/1011/SC1.csv\n"
     ]
    },
    {
     "name": "stderr",
     "output_type": "stream",
     "text": [
      "/var/folders/xn/jj94n4tj5w90v1m3njdf44n80000gp/T/ipykernel_45706/3335976498.py:27: UserWarning: Could not infer format, so each element will be parsed individually, falling back to `dateutil`. To ensure parsing is consistent and as-expected, please specify a format.\n",
      "  df = pd.read_csv(\n",
      "/var/folders/xn/jj94n4tj5w90v1m3njdf44n80000gp/T/ipykernel_45706/3335976498.py:27: UserWarning: Could not infer format, so each element will be parsed individually, falling back to `dateutil`. To ensure parsing is consistent and as-expected, please specify a format.\n",
      "  df = pd.read_csv(\n"
     ]
    },
    {
     "name": "stdout",
     "output_type": "stream",
     "text": [
      "reading, altering, and saving match data file: https://www.football-data.co.uk/mmz4281/0405/SC1.csv\n",
      "reading, altering, and saving match data file: https://www.football-data.co.uk/mmz4281/9798/SC1.csv\n"
     ]
    },
    {
     "name": "stderr",
     "output_type": "stream",
     "text": [
      "/var/folders/xn/jj94n4tj5w90v1m3njdf44n80000gp/T/ipykernel_45706/3335976498.py:27: UserWarning: Could not infer format, so each element will be parsed individually, falling back to `dateutil`. To ensure parsing is consistent and as-expected, please specify a format.\n",
      "  df = pd.read_csv(\n"
     ]
    },
    {
     "name": "stdout",
     "output_type": "stream",
     "text": [
      "reading, altering, and saving match data file: https://www.football-data.co.uk/mmz4281/0203/SC2.csv\n"
     ]
    },
    {
     "name": "stderr",
     "output_type": "stream",
     "text": [
      "/var/folders/xn/jj94n4tj5w90v1m3njdf44n80000gp/T/ipykernel_45706/3335976498.py:27: UserWarning: Could not infer format, so each element will be parsed individually, falling back to `dateutil`. To ensure parsing is consistent and as-expected, please specify a format.\n",
      "  df = pd.read_csv(\n"
     ]
    },
    {
     "name": "stdout",
     "output_type": "stream",
     "text": [
      "reading, altering, and saving match data file: https://www.football-data.co.uk/mmz4281/0102/SC1.csv\n"
     ]
    },
    {
     "name": "stderr",
     "output_type": "stream",
     "text": [
      "/var/folders/xn/jj94n4tj5w90v1m3njdf44n80000gp/T/ipykernel_45706/3335976498.py:27: UserWarning: Could not infer format, so each element will be parsed individually, falling back to `dateutil`. To ensure parsing is consistent and as-expected, please specify a format.\n",
      "  df = pd.read_csv(\n"
     ]
    },
    {
     "name": "stdout",
     "output_type": "stream",
     "text": [
      "reading, altering, and saving match data file: https://www.football-data.co.uk/mmz4281/9798/SC0.csv\n"
     ]
    },
    {
     "name": "stderr",
     "output_type": "stream",
     "text": [
      "/var/folders/xn/jj94n4tj5w90v1m3njdf44n80000gp/T/ipykernel_45706/3335976498.py:27: UserWarning: Could not infer format, so each element will be parsed individually, falling back to `dateutil`. To ensure parsing is consistent and as-expected, please specify a format.\n",
      "  df = pd.read_csv(\n"
     ]
    },
    {
     "name": "stdout",
     "output_type": "stream",
     "text": [
      "reading, altering, and saving match data file: https://www.football-data.co.uk/mmz4281/2324/SC0.csv\n",
      "reading, altering, and saving match data file: https://www.football-data.co.uk/mmz4281/1314/SC2.csv\n"
     ]
    },
    {
     "name": "stderr",
     "output_type": "stream",
     "text": [
      "/var/folders/xn/jj94n4tj5w90v1m3njdf44n80000gp/T/ipykernel_45706/3335976498.py:27: UserWarning: Could not infer format, so each element will be parsed individually, falling back to `dateutil`. To ensure parsing is consistent and as-expected, please specify a format.\n",
      "  df = pd.read_csv(\n",
      "/var/folders/xn/jj94n4tj5w90v1m3njdf44n80000gp/T/ipykernel_45706/3335976498.py:27: UserWarning: Could not infer format, so each element will be parsed individually, falling back to `dateutil`. To ensure parsing is consistent and as-expected, please specify a format.\n",
      "  df = pd.read_csv(\n"
     ]
    },
    {
     "name": "stdout",
     "output_type": "stream",
     "text": [
      "reading, altering, and saving match data file: https://www.football-data.co.uk/mmz4281/9899/SC0.csv\n",
      "reading, altering, and saving match data file: https://www.football-data.co.uk/mmz4281/0708/SC1.csv\n"
     ]
    },
    {
     "name": "stderr",
     "output_type": "stream",
     "text": [
      "/var/folders/xn/jj94n4tj5w90v1m3njdf44n80000gp/T/ipykernel_45706/3335976498.py:27: UserWarning: Could not infer format, so each element will be parsed individually, falling back to `dateutil`. To ensure parsing is consistent and as-expected, please specify a format.\n",
      "  df = pd.read_csv(\n",
      "/var/folders/xn/jj94n4tj5w90v1m3njdf44n80000gp/T/ipykernel_45706/3335976498.py:27: UserWarning: Could not infer format, so each element will be parsed individually, falling back to `dateutil`. To ensure parsing is consistent and as-expected, please specify a format.\n",
      "  df = pd.read_csv(\n"
     ]
    },
    {
     "name": "stdout",
     "output_type": "stream",
     "text": [
      "reading, altering, and saving match data file: https://www.football-data.co.uk/mmz4281/9900/SC3.csv\n",
      "reading, altering, and saving match data file: https://www.football-data.co.uk/mmz4281/9900/SC0.csv\n"
     ]
    },
    {
     "name": "stderr",
     "output_type": "stream",
     "text": [
      "/var/folders/xn/jj94n4tj5w90v1m3njdf44n80000gp/T/ipykernel_45706/3335976498.py:27: UserWarning: Could not infer format, so each element will be parsed individually, falling back to `dateutil`. To ensure parsing is consistent and as-expected, please specify a format.\n",
      "  df = pd.read_csv(\n",
      "/var/folders/xn/jj94n4tj5w90v1m3njdf44n80000gp/T/ipykernel_45706/3335976498.py:27: UserWarning: Could not infer format, so each element will be parsed individually, falling back to `dateutil`. To ensure parsing is consistent and as-expected, please specify a format.\n",
      "  df = pd.read_csv(\n"
     ]
    },
    {
     "name": "stdout",
     "output_type": "stream",
     "text": [
      "reading, altering, and saving match data file: https://www.football-data.co.uk/mmz4281/9495/SC1.csv\n",
      "reading, altering, and saving match data file: https://www.football-data.co.uk/mmz4281/0001/SC1.csv\n"
     ]
    },
    {
     "name": "stderr",
     "output_type": "stream",
     "text": [
      "/var/folders/xn/jj94n4tj5w90v1m3njdf44n80000gp/T/ipykernel_45706/3335976498.py:27: UserWarning: Could not infer format, so each element will be parsed individually, falling back to `dateutil`. To ensure parsing is consistent and as-expected, please specify a format.\n",
      "  df = pd.read_csv(\n"
     ]
    },
    {
     "name": "stdout",
     "output_type": "stream",
     "text": [
      "reading, altering, and saving match data file: https://www.football-data.co.uk/mmz4281/2324/SC2.csv\n",
      "reading, altering, and saving match data file: https://www.football-data.co.uk/mmz4281/0102/SC2.csv\n"
     ]
    },
    {
     "name": "stderr",
     "output_type": "stream",
     "text": [
      "/var/folders/xn/jj94n4tj5w90v1m3njdf44n80000gp/T/ipykernel_45706/3335976498.py:27: UserWarning: Could not infer format, so each element will be parsed individually, falling back to `dateutil`. To ensure parsing is consistent and as-expected, please specify a format.\n",
      "  df = pd.read_csv(\n"
     ]
    },
    {
     "name": "stdout",
     "output_type": "stream",
     "text": [
      "reading, altering, and saving match data file: https://www.football-data.co.uk/mmz4281/0102/SC3.csv\n"
     ]
    },
    {
     "name": "stderr",
     "output_type": "stream",
     "text": [
      "/var/folders/xn/jj94n4tj5w90v1m3njdf44n80000gp/T/ipykernel_45706/3335976498.py:27: UserWarning: Could not infer format, so each element will be parsed individually, falling back to `dateutil`. To ensure parsing is consistent and as-expected, please specify a format.\n",
      "  df = pd.read_csv(\n",
      "/var/folders/xn/jj94n4tj5w90v1m3njdf44n80000gp/T/ipykernel_45706/3335976498.py:27: UserWarning: Could not infer format, so each element will be parsed individually, falling back to `dateutil`. To ensure parsing is consistent and as-expected, please specify a format.\n",
      "  df = pd.read_csv(\n"
     ]
    },
    {
     "name": "stdout",
     "output_type": "stream",
     "text": [
      "reading, altering, and saving match data file: https://www.football-data.co.uk/mmz4281/9798/SC3.csv\n",
      "reading, altering, and saving match data file: https://www.football-data.co.uk/mmz4281/0001/SC0.csv\n"
     ]
    },
    {
     "name": "stderr",
     "output_type": "stream",
     "text": [
      "/var/folders/xn/jj94n4tj5w90v1m3njdf44n80000gp/T/ipykernel_45706/3335976498.py:27: UserWarning: Could not infer format, so each element will be parsed individually, falling back to `dateutil`. To ensure parsing is consistent and as-expected, please specify a format.\n",
      "  df = pd.read_csv(\n"
     ]
    },
    {
     "name": "stdout",
     "output_type": "stream",
     "text": [
      "reading, altering, and saving match data file: https://www.football-data.co.uk/mmz4281/1718/SC1.csv\n",
      "reading, altering, and saving match data file: https://www.football-data.co.uk/mmz4281/2021/SC3.csv\n",
      "reading, altering, and saving match data file: https://www.football-data.co.uk/mmz4281/1617/SC0.csv\n"
     ]
    },
    {
     "name": "stderr",
     "output_type": "stream",
     "text": [
      "/var/folders/xn/jj94n4tj5w90v1m3njdf44n80000gp/T/ipykernel_45706/3335976498.py:27: UserWarning: Could not infer format, so each element will be parsed individually, falling back to `dateutil`. To ensure parsing is consistent and as-expected, please specify a format.\n",
      "  df = pd.read_csv(\n"
     ]
    },
    {
     "name": "stdout",
     "output_type": "stream",
     "text": [
      "reading, altering, and saving match data file: https://www.football-data.co.uk/mmz4281/0809/SC0.csv\n"
     ]
    },
    {
     "name": "stderr",
     "output_type": "stream",
     "text": [
      "/var/folders/xn/jj94n4tj5w90v1m3njdf44n80000gp/T/ipykernel_45706/3335976498.py:27: UserWarning: Could not infer format, so each element will be parsed individually, falling back to `dateutil`. To ensure parsing is consistent and as-expected, please specify a format.\n",
      "  df = pd.read_csv(\n"
     ]
    },
    {
     "name": "stdout",
     "output_type": "stream",
     "text": [
      "reading, altering, and saving match data file: https://www.football-data.co.uk/mmz4281/0809/SC2.csv\n"
     ]
    },
    {
     "name": "stderr",
     "output_type": "stream",
     "text": [
      "/var/folders/xn/jj94n4tj5w90v1m3njdf44n80000gp/T/ipykernel_45706/3335976498.py:27: UserWarning: Could not infer format, so each element will be parsed individually, falling back to `dateutil`. To ensure parsing is consistent and as-expected, please specify a format.\n",
      "  df = pd.read_csv(\n"
     ]
    },
    {
     "name": "stdout",
     "output_type": "stream",
     "text": [
      "reading, altering, and saving match data file: https://www.football-data.co.uk/mmz4281/1819/SC0.csv\n",
      "reading, altering, and saving match data file: https://www.football-data.co.uk/mmz4281/2425/SC0.csv\n",
      "reading, altering, and saving match data file: https://www.football-data.co.uk/mmz4281/1617/SC2.csv\n"
     ]
    },
    {
     "name": "stderr",
     "output_type": "stream",
     "text": [
      "/var/folders/xn/jj94n4tj5w90v1m3njdf44n80000gp/T/ipykernel_45706/3335976498.py:27: UserWarning: Could not infer format, so each element will be parsed individually, falling back to `dateutil`. To ensure parsing is consistent and as-expected, please specify a format.\n",
      "  df = pd.read_csv(\n"
     ]
    },
    {
     "name": "stdout",
     "output_type": "stream",
     "text": [
      "reading, altering, and saving match data file: https://www.football-data.co.uk/mmz4281/1213/SC2.csv\n"
     ]
    },
    {
     "name": "stderr",
     "output_type": "stream",
     "text": [
      "/var/folders/xn/jj94n4tj5w90v1m3njdf44n80000gp/T/ipykernel_45706/3335976498.py:27: UserWarning: Could not infer format, so each element will be parsed individually, falling back to `dateutil`. To ensure parsing is consistent and as-expected, please specify a format.\n",
      "  df = pd.read_csv(\n"
     ]
    },
    {
     "name": "stdout",
     "output_type": "stream",
     "text": [
      "reading, altering, and saving match data file: https://www.football-data.co.uk/mmz4281/1617/SC1.csv\n"
     ]
    },
    {
     "name": "stderr",
     "output_type": "stream",
     "text": [
      "/var/folders/xn/jj94n4tj5w90v1m3njdf44n80000gp/T/ipykernel_45706/3335976498.py:27: UserWarning: Could not infer format, so each element will be parsed individually, falling back to `dateutil`. To ensure parsing is consistent and as-expected, please specify a format.\n",
      "  df = pd.read_csv(\n"
     ]
    },
    {
     "name": "stdout",
     "output_type": "stream",
     "text": [
      "reading, altering, and saving match data file: https://www.football-data.co.uk/mmz4281/0506/SC2.csv\n"
     ]
    },
    {
     "name": "stderr",
     "output_type": "stream",
     "text": [
      "/var/folders/xn/jj94n4tj5w90v1m3njdf44n80000gp/T/ipykernel_45706/3335976498.py:27: UserWarning: Could not infer format, so each element will be parsed individually, falling back to `dateutil`. To ensure parsing is consistent and as-expected, please specify a format.\n",
      "  df = pd.read_csv(\n"
     ]
    },
    {
     "name": "stdout",
     "output_type": "stream",
     "text": [
      "reading, altering, and saving match data file: https://www.football-data.co.uk/mmz4281/2425/SC2.csv\n",
      "reading, altering, and saving match data file: https://www.football-data.co.uk/mmz4281/1213/SC1.csv\n"
     ]
    },
    {
     "name": "stderr",
     "output_type": "stream",
     "text": [
      "/var/folders/xn/jj94n4tj5w90v1m3njdf44n80000gp/T/ipykernel_45706/3335976498.py:27: UserWarning: Could not infer format, so each element will be parsed individually, falling back to `dateutil`. To ensure parsing is consistent and as-expected, please specify a format.\n",
      "  df = pd.read_csv(\n"
     ]
    },
    {
     "name": "stdout",
     "output_type": "stream",
     "text": [
      "reading, altering, and saving match data file: https://www.football-data.co.uk/mmz4281/0405/SC0.csv\n"
     ]
    },
    {
     "name": "stderr",
     "output_type": "stream",
     "text": [
      "/var/folders/xn/jj94n4tj5w90v1m3njdf44n80000gp/T/ipykernel_45706/3335976498.py:27: UserWarning: Could not infer format, so each element will be parsed individually, falling back to `dateutil`. To ensure parsing is consistent and as-expected, please specify a format.\n",
      "  df = pd.read_csv(\n"
     ]
    },
    {
     "name": "stdout",
     "output_type": "stream",
     "text": [
      "reading, altering, and saving match data file: https://www.football-data.co.uk/mmz4281/0809/SC1.csv\n"
     ]
    },
    {
     "name": "stderr",
     "output_type": "stream",
     "text": [
      "/var/folders/xn/jj94n4tj5w90v1m3njdf44n80000gp/T/ipykernel_45706/3335976498.py:27: UserWarning: Could not infer format, so each element will be parsed individually, falling back to `dateutil`. To ensure parsing is consistent and as-expected, please specify a format.\n",
      "  df = pd.read_csv(\n"
     ]
    },
    {
     "name": "stdout",
     "output_type": "stream",
     "text": [
      "reading, altering, and saving match data file: https://www.football-data.co.uk/mmz4281/1718/SC3.csv\n"
     ]
    },
    {
     "name": "stderr",
     "output_type": "stream",
     "text": [
      "/var/folders/xn/jj94n4tj5w90v1m3njdf44n80000gp/T/ipykernel_45706/3335976498.py:27: UserWarning: Could not infer format, so each element will be parsed individually, falling back to `dateutil`. To ensure parsing is consistent and as-expected, please specify a format.\n",
      "  df = pd.read_csv(\n"
     ]
    },
    {
     "name": "stdout",
     "output_type": "stream",
     "text": [
      "reading, altering, and saving match data file: https://www.football-data.co.uk/mmz4281/1213/SC3.csv\n"
     ]
    },
    {
     "name": "stderr",
     "output_type": "stream",
     "text": [
      "/var/folders/xn/jj94n4tj5w90v1m3njdf44n80000gp/T/ipykernel_45706/3335976498.py:27: UserWarning: Could not infer format, so each element will be parsed individually, falling back to `dateutil`. To ensure parsing is consistent and as-expected, please specify a format.\n",
      "  df = pd.read_csv(\n"
     ]
    },
    {
     "name": "stdout",
     "output_type": "stream",
     "text": [
      "reading, altering, and saving match data file: https://www.football-data.co.uk/mmz4281/1516/SC1.csv\n"
     ]
    },
    {
     "name": "stderr",
     "output_type": "stream",
     "text": [
      "/var/folders/xn/jj94n4tj5w90v1m3njdf44n80000gp/T/ipykernel_45706/3335976498.py:27: UserWarning: Could not infer format, so each element will be parsed individually, falling back to `dateutil`. To ensure parsing is consistent and as-expected, please specify a format.\n",
      "  df = pd.read_csv(\n"
     ]
    },
    {
     "name": "stdout",
     "output_type": "stream",
     "text": [
      "reading, altering, and saving match data file: https://www.football-data.co.uk/mmz4281/2021/SC2.csv\n",
      "reading, altering, and saving match data file: https://www.football-data.co.uk/mmz4281/1718/SC2.csv\n"
     ]
    },
    {
     "name": "stderr",
     "output_type": "stream",
     "text": [
      "/var/folders/xn/jj94n4tj5w90v1m3njdf44n80000gp/T/ipykernel_45706/3335976498.py:27: UserWarning: Could not infer format, so each element will be parsed individually, falling back to `dateutil`. To ensure parsing is consistent and as-expected, please specify a format.\n",
      "  df = pd.read_csv(\n",
      "/var/folders/xn/jj94n4tj5w90v1m3njdf44n80000gp/T/ipykernel_45706/3335976498.py:27: UserWarning: Could not infer format, so each element will be parsed individually, falling back to `dateutil`. To ensure parsing is consistent and as-expected, please specify a format.\n",
      "  df = pd.read_csv(\n"
     ]
    },
    {
     "name": "stdout",
     "output_type": "stream",
     "text": [
      "reading, altering, and saving match data file: https://www.football-data.co.uk/mmz4281/9798/SC2.csv\n",
      "reading, altering, and saving match data file: https://www.football-data.co.uk/mmz4281/1011/SC2.csv\n"
     ]
    },
    {
     "name": "stderr",
     "output_type": "stream",
     "text": [
      "/var/folders/xn/jj94n4tj5w90v1m3njdf44n80000gp/T/ipykernel_45706/3335976498.py:27: UserWarning: Could not infer format, so each element will be parsed individually, falling back to `dateutil`. To ensure parsing is consistent and as-expected, please specify a format.\n",
      "  df = pd.read_csv(\n"
     ]
    },
    {
     "name": "stdout",
     "output_type": "stream",
     "text": [
      "reading, altering, and saving match data file: https://www.football-data.co.uk/mmz4281/2223/SC2.csv\n",
      "reading, altering, and saving match data file: https://www.football-data.co.uk/mmz4281/0304/SC3.csv\n"
     ]
    },
    {
     "name": "stderr",
     "output_type": "stream",
     "text": [
      "/var/folders/xn/jj94n4tj5w90v1m3njdf44n80000gp/T/ipykernel_45706/3335976498.py:27: UserWarning: Could not infer format, so each element will be parsed individually, falling back to `dateutil`. To ensure parsing is consistent and as-expected, please specify a format.\n",
      "  df = pd.read_csv(\n"
     ]
    },
    {
     "name": "stdout",
     "output_type": "stream",
     "text": [
      "reading, altering, and saving match data file: https://www.football-data.co.uk/mmz4281/1314/SC1.csv\n"
     ]
    },
    {
     "name": "stderr",
     "output_type": "stream",
     "text": [
      "/var/folders/xn/jj94n4tj5w90v1m3njdf44n80000gp/T/ipykernel_45706/3335976498.py:27: UserWarning: Could not infer format, so each element will be parsed individually, falling back to `dateutil`. To ensure parsing is consistent and as-expected, please specify a format.\n",
      "  df = pd.read_csv(\n",
      "/var/folders/xn/jj94n4tj5w90v1m3njdf44n80000gp/T/ipykernel_45706/3335976498.py:27: UserWarning: Could not infer format, so each element will be parsed individually, falling back to `dateutil`. To ensure parsing is consistent and as-expected, please specify a format.\n",
      "  df = pd.read_csv(\n"
     ]
    },
    {
     "name": "stdout",
     "output_type": "stream",
     "text": [
      "reading, altering, and saving match data file: https://www.football-data.co.uk/mmz4281/9900/SC1.csv\n",
      "reading, altering, and saving match data file: https://www.football-data.co.uk/mmz4281/2223/SC0.csv\n",
      "reading, altering, and saving match data file: https://www.football-data.co.uk/mmz4281/0102/SC0.csv\n"
     ]
    },
    {
     "name": "stderr",
     "output_type": "stream",
     "text": [
      "/var/folders/xn/jj94n4tj5w90v1m3njdf44n80000gp/T/ipykernel_45706/3335976498.py:27: UserWarning: Could not infer format, so each element will be parsed individually, falling back to `dateutil`. To ensure parsing is consistent and as-expected, please specify a format.\n",
      "  df = pd.read_csv(\n"
     ]
    },
    {
     "name": "stdout",
     "output_type": "stream",
     "text": [
      "reading, altering, and saving match data file: https://www.football-data.co.uk/mmz4281/1819/SC3.csv\n",
      "reading, altering, and saving match data file: https://www.football-data.co.uk/mmz4281/0910/SC1.csv\n"
     ]
    },
    {
     "name": "stderr",
     "output_type": "stream",
     "text": [
      "/var/folders/xn/jj94n4tj5w90v1m3njdf44n80000gp/T/ipykernel_45706/3335976498.py:27: UserWarning: Could not infer format, so each element will be parsed individually, falling back to `dateutil`. To ensure parsing is consistent and as-expected, please specify a format.\n",
      "  df = pd.read_csv(\n"
     ]
    },
    {
     "name": "stdout",
     "output_type": "stream",
     "text": [
      "reading, altering, and saving match data file: https://www.football-data.co.uk/mmz4281/0001/SC3.csv\n"
     ]
    },
    {
     "name": "stderr",
     "output_type": "stream",
     "text": [
      "/var/folders/xn/jj94n4tj5w90v1m3njdf44n80000gp/T/ipykernel_45706/3335976498.py:27: UserWarning: Could not infer format, so each element will be parsed individually, falling back to `dateutil`. To ensure parsing is consistent and as-expected, please specify a format.\n",
      "  df = pd.read_csv(\n",
      "/var/folders/xn/jj94n4tj5w90v1m3njdf44n80000gp/T/ipykernel_45706/3335976498.py:27: UserWarning: Could not infer format, so each element will be parsed individually, falling back to `dateutil`. To ensure parsing is consistent and as-expected, please specify a format.\n",
      "  df = pd.read_csv(\n"
     ]
    },
    {
     "name": "stdout",
     "output_type": "stream",
     "text": [
      "reading, altering, and saving match data file: https://www.football-data.co.uk/mmz4281/9697/SC1.csv\n",
      "reading, altering, and saving match data file: https://www.football-data.co.uk/mmz4281/0910/SC3.csv\n"
     ]
    },
    {
     "name": "stderr",
     "output_type": "stream",
     "text": [
      "/var/folders/xn/jj94n4tj5w90v1m3njdf44n80000gp/T/ipykernel_45706/3335976498.py:27: UserWarning: Could not infer format, so each element will be parsed individually, falling back to `dateutil`. To ensure parsing is consistent and as-expected, please specify a format.\n",
      "  df = pd.read_csv(\n"
     ]
    },
    {
     "name": "stdout",
     "output_type": "stream",
     "text": [
      "reading, altering, and saving match data file: https://www.football-data.co.uk/mmz4281/0708/SC2.csv\n"
     ]
    },
    {
     "name": "stderr",
     "output_type": "stream",
     "text": [
      "/var/folders/xn/jj94n4tj5w90v1m3njdf44n80000gp/T/ipykernel_45706/3335976498.py:27: UserWarning: Could not infer format, so each element will be parsed individually, falling back to `dateutil`. To ensure parsing is consistent and as-expected, please specify a format.\n",
      "  df = pd.read_csv(\n"
     ]
    },
    {
     "name": "stdout",
     "output_type": "stream",
     "text": [
      "reading, altering, and saving match data file: https://www.football-data.co.uk/mmz4281/0304/SC0.csv\n"
     ]
    },
    {
     "name": "stderr",
     "output_type": "stream",
     "text": [
      "/var/folders/xn/jj94n4tj5w90v1m3njdf44n80000gp/T/ipykernel_45706/3335976498.py:27: UserWarning: Could not infer format, so each element will be parsed individually, falling back to `dateutil`. To ensure parsing is consistent and as-expected, please specify a format.\n",
      "  df = pd.read_csv(\n"
     ]
    },
    {
     "name": "stdout",
     "output_type": "stream",
     "text": [
      "reading, altering, and saving match data file: https://www.football-data.co.uk/mmz4281/1415/SC1.csv\n"
     ]
    },
    {
     "name": "stderr",
     "output_type": "stream",
     "text": [
      "/var/folders/xn/jj94n4tj5w90v1m3njdf44n80000gp/T/ipykernel_45706/3335976498.py:27: UserWarning: Could not infer format, so each element will be parsed individually, falling back to `dateutil`. To ensure parsing is consistent and as-expected, please specify a format.\n",
      "  df = pd.read_csv(\n"
     ]
    },
    {
     "name": "stdout",
     "output_type": "stream",
     "text": [
      "reading, altering, and saving match data file: https://www.football-data.co.uk/mmz4281/2425/SC3.csv\n",
      "reading, altering, and saving match data file: https://www.football-data.co.uk/mmz4281/0708/SC0.csv\n"
     ]
    },
    {
     "name": "stderr",
     "output_type": "stream",
     "text": [
      "/var/folders/xn/jj94n4tj5w90v1m3njdf44n80000gp/T/ipykernel_45706/3335976498.py:27: UserWarning: Could not infer format, so each element will be parsed individually, falling back to `dateutil`. To ensure parsing is consistent and as-expected, please specify a format.\n",
      "  df = pd.read_csv(\n"
     ]
    },
    {
     "name": "stdout",
     "output_type": "stream",
     "text": [
      "reading, altering, and saving match data file: https://www.football-data.co.uk/mmz4281/0304/SC2.csv\n"
     ]
    },
    {
     "name": "stderr",
     "output_type": "stream",
     "text": [
      "/var/folders/xn/jj94n4tj5w90v1m3njdf44n80000gp/T/ipykernel_45706/3335976498.py:27: UserWarning: Could not infer format, so each element will be parsed individually, falling back to `dateutil`. To ensure parsing is consistent and as-expected, please specify a format.\n",
      "  df = pd.read_csv(\n"
     ]
    },
    {
     "name": "stdout",
     "output_type": "stream",
     "text": [
      "reading, altering, and saving match data file: https://www.football-data.co.uk/mmz4281/2021/SC0.csv\n",
      "reading, altering, and saving match data file: https://www.football-data.co.uk/mmz4281/1415/SC2.csv\n"
     ]
    },
    {
     "name": "stderr",
     "output_type": "stream",
     "text": [
      "/var/folders/xn/jj94n4tj5w90v1m3njdf44n80000gp/T/ipykernel_45706/3335976498.py:27: UserWarning: Could not infer format, so each element will be parsed individually, falling back to `dateutil`. To ensure parsing is consistent and as-expected, please specify a format.\n",
      "  df = pd.read_csv(\n"
     ]
    },
    {
     "name": "stdout",
     "output_type": "stream",
     "text": [
      "reading, altering, and saving match data file: https://www.football-data.co.uk/mmz4281/2122/SC2.csv\n",
      "reading, altering, and saving match data file: https://www.football-data.co.uk/mmz4281/1112/SC0.csv\n"
     ]
    },
    {
     "name": "stderr",
     "output_type": "stream",
     "text": [
      "/var/folders/xn/jj94n4tj5w90v1m3njdf44n80000gp/T/ipykernel_45706/3335976498.py:27: UserWarning: Could not infer format, so each element will be parsed individually, falling back to `dateutil`. To ensure parsing is consistent and as-expected, please specify a format.\n",
      "  df = pd.read_csv(\n",
      "/var/folders/xn/jj94n4tj5w90v1m3njdf44n80000gp/T/ipykernel_45706/3335976498.py:27: UserWarning: Could not infer format, so each element will be parsed individually, falling back to `dateutil`. To ensure parsing is consistent and as-expected, please specify a format.\n",
      "  df = pd.read_csv(\n"
     ]
    },
    {
     "name": "stdout",
     "output_type": "stream",
     "text": [
      "reading, altering, and saving match data file: https://www.football-data.co.uk/mmz4281/9900/SC2.csv\n",
      "reading, altering, and saving match data file: https://www.football-data.co.uk/mmz4281/0506/SC1.csv\n"
     ]
    },
    {
     "name": "stderr",
     "output_type": "stream",
     "text": [
      "/var/folders/xn/jj94n4tj5w90v1m3njdf44n80000gp/T/ipykernel_45706/3335976498.py:27: UserWarning: Could not infer format, so each element will be parsed individually, falling back to `dateutil`. To ensure parsing is consistent and as-expected, please specify a format.\n",
      "  df = pd.read_csv(\n"
     ]
    },
    {
     "name": "stdout",
     "output_type": "stream",
     "text": [
      "reading, altering, and saving match data file: https://www.football-data.co.uk/mmz4281/0910/SC2.csv\n"
     ]
    },
    {
     "name": "stderr",
     "output_type": "stream",
     "text": [
      "/var/folders/xn/jj94n4tj5w90v1m3njdf44n80000gp/T/ipykernel_45706/3335976498.py:27: UserWarning: Could not infer format, so each element will be parsed individually, falling back to `dateutil`. To ensure parsing is consistent and as-expected, please specify a format.\n",
      "  df = pd.read_csv(\n"
     ]
    },
    {
     "name": "stdout",
     "output_type": "stream",
     "text": [
      "reading, altering, and saving match data file: https://www.football-data.co.uk/mmz4281/1415/SC0.csv\n"
     ]
    },
    {
     "name": "stderr",
     "output_type": "stream",
     "text": [
      "/var/folders/xn/jj94n4tj5w90v1m3njdf44n80000gp/T/ipykernel_45706/3335976498.py:27: UserWarning: Could not infer format, so each element will be parsed individually, falling back to `dateutil`. To ensure parsing is consistent and as-expected, please specify a format.\n",
      "  df = pd.read_csv(\n"
     ]
    },
    {
     "name": "stdout",
     "output_type": "stream",
     "text": [
      "reading, altering, and saving match data file: https://www.football-data.co.uk/mmz4281/1314/SC3.csv\n"
     ]
    },
    {
     "name": "stderr",
     "output_type": "stream",
     "text": [
      "/var/folders/xn/jj94n4tj5w90v1m3njdf44n80000gp/T/ipykernel_45706/3335976498.py:27: UserWarning: Could not infer format, so each element will be parsed individually, falling back to `dateutil`. To ensure parsing is consistent and as-expected, please specify a format.\n",
      "  df = pd.read_csv(\n"
     ]
    },
    {
     "name": "stdout",
     "output_type": "stream",
     "text": [
      "reading, altering, and saving match data file: https://www.football-data.co.uk/mmz4281/0607/SC1.csv\n"
     ]
    },
    {
     "name": "stderr",
     "output_type": "stream",
     "text": [
      "/var/folders/xn/jj94n4tj5w90v1m3njdf44n80000gp/T/ipykernel_45706/3335976498.py:27: UserWarning: Could not infer format, so each element will be parsed individually, falling back to `dateutil`. To ensure parsing is consistent and as-expected, please specify a format.\n",
      "  df = pd.read_csv(\n"
     ]
    },
    {
     "name": "stdout",
     "output_type": "stream",
     "text": [
      "reading, altering, and saving match data file: https://www.football-data.co.uk/mmz4281/1213/SC0.csv\n"
     ]
    },
    {
     "name": "stderr",
     "output_type": "stream",
     "text": [
      "/var/folders/xn/jj94n4tj5w90v1m3njdf44n80000gp/T/ipykernel_45706/3335976498.py:27: UserWarning: Could not infer format, so each element will be parsed individually, falling back to `dateutil`. To ensure parsing is consistent and as-expected, please specify a format.\n",
      "  df = pd.read_csv(\n"
     ]
    },
    {
     "name": "stdout",
     "output_type": "stream",
     "text": [
      "reading, altering, and saving match data file: https://www.football-data.co.uk/mmz4281/1516/SC0.csv\n"
     ]
    },
    {
     "name": "stderr",
     "output_type": "stream",
     "text": [
      "/var/folders/xn/jj94n4tj5w90v1m3njdf44n80000gp/T/ipykernel_45706/3335976498.py:27: UserWarning: Could not infer format, so each element will be parsed individually, falling back to `dateutil`. To ensure parsing is consistent and as-expected, please specify a format.\n",
      "  df = pd.read_csv(\n"
     ]
    },
    {
     "name": "stdout",
     "output_type": "stream",
     "text": [
      "reading, altering, and saving match data file: https://www.football-data.co.uk/mmz4281/1011/SC0.csv\n"
     ]
    },
    {
     "name": "stderr",
     "output_type": "stream",
     "text": [
      "/var/folders/xn/jj94n4tj5w90v1m3njdf44n80000gp/T/ipykernel_45706/3335976498.py:27: UserWarning: Could not infer format, so each element will be parsed individually, falling back to `dateutil`. To ensure parsing is consistent and as-expected, please specify a format.\n",
      "  df = pd.read_csv(\n"
     ]
    },
    {
     "name": "stdout",
     "output_type": "stream",
     "text": [
      "reading, altering, and saving match data file: https://www.football-data.co.uk/mmz4281/1819/SC1.csv\n",
      "reading, altering, and saving match data file: https://www.football-data.co.uk/mmz4281/0203/SC1.csv\n"
     ]
    },
    {
     "name": "stderr",
     "output_type": "stream",
     "text": [
      "/var/folders/xn/jj94n4tj5w90v1m3njdf44n80000gp/T/ipykernel_45706/3335976498.py:27: UserWarning: Could not infer format, so each element will be parsed individually, falling back to `dateutil`. To ensure parsing is consistent and as-expected, please specify a format.\n",
      "  df = pd.read_csv(\n"
     ]
    },
    {
     "name": "stdout",
     "output_type": "stream",
     "text": [
      "reading, altering, and saving match data file: https://www.football-data.co.uk/mmz4281/1920/SC0.csv\n",
      "reading, altering, and saving match data file: https://www.football-data.co.uk/mmz4281/1920/SC3.csv\n",
      "reading, altering, and saving match data file: https://www.football-data.co.uk/mmz4281/9697/SC0.csv\n"
     ]
    },
    {
     "name": "stderr",
     "output_type": "stream",
     "text": [
      "/var/folders/xn/jj94n4tj5w90v1m3njdf44n80000gp/T/ipykernel_45706/3335976498.py:27: UserWarning: Could not infer format, so each element will be parsed individually, falling back to `dateutil`. To ensure parsing is consistent and as-expected, please specify a format.\n",
      "  df = pd.read_csv(\n"
     ]
    },
    {
     "name": "stdout",
     "output_type": "stream",
     "text": [
      "reading, altering, and saving match data file: https://www.football-data.co.uk/mmz4281/2324/SC1.csv\n",
      "reading, altering, and saving match data file: https://www.football-data.co.uk/mmz4281/1920/SC2.csv\n",
      "reading, altering, and saving match data file: https://www.football-data.co.uk/mmz4281/1415/SC3.csv\n"
     ]
    },
    {
     "name": "stderr",
     "output_type": "stream",
     "text": [
      "/var/folders/xn/jj94n4tj5w90v1m3njdf44n80000gp/T/ipykernel_45706/3335976498.py:27: UserWarning: Could not infer format, so each element will be parsed individually, falling back to `dateutil`. To ensure parsing is consistent and as-expected, please specify a format.\n",
      "  df = pd.read_csv(\n"
     ]
    },
    {
     "name": "stdout",
     "output_type": "stream",
     "text": [
      "reading, altering, and saving match data file: https://www.football-data.co.uk/mmz4281/1718/SC0.csv\n"
     ]
    },
    {
     "name": "stderr",
     "output_type": "stream",
     "text": [
      "/var/folders/xn/jj94n4tj5w90v1m3njdf44n80000gp/T/ipykernel_45706/3335976498.py:27: UserWarning: Could not infer format, so each element will be parsed individually, falling back to `dateutil`. To ensure parsing is consistent and as-expected, please specify a format.\n",
      "  df = pd.read_csv(\n"
     ]
    },
    {
     "name": "stdout",
     "output_type": "stream",
     "text": [
      "reading, altering, and saving match data file: https://www.football-data.co.uk/mmz4281/0910/SC0.csv\n"
     ]
    },
    {
     "name": "stderr",
     "output_type": "stream",
     "text": [
      "/var/folders/xn/jj94n4tj5w90v1m3njdf44n80000gp/T/ipykernel_45706/3335976498.py:27: UserWarning: Could not infer format, so each element will be parsed individually, falling back to `dateutil`. To ensure parsing is consistent and as-expected, please specify a format.\n",
      "  df = pd.read_csv(\n",
      "/var/folders/xn/jj94n4tj5w90v1m3njdf44n80000gp/T/ipykernel_45706/3335976498.py:27: UserWarning: Could not infer format, so each element will be parsed individually, falling back to `dateutil`. To ensure parsing is consistent and as-expected, please specify a format.\n",
      "  df = pd.read_csv(\n"
     ]
    },
    {
     "name": "stdout",
     "output_type": "stream",
     "text": [
      "reading, altering, and saving match data file: https://www.football-data.co.uk/mmz4281/9899/SC1.csv\n",
      "reading, altering, and saving match data file: https://www.football-data.co.uk/mmz4281/1516/SC3.csv\n"
     ]
    },
    {
     "name": "stderr",
     "output_type": "stream",
     "text": [
      "/var/folders/xn/jj94n4tj5w90v1m3njdf44n80000gp/T/ipykernel_45706/3335976498.py:27: UserWarning: Could not infer format, so each element will be parsed individually, falling back to `dateutil`. To ensure parsing is consistent and as-expected, please specify a format.\n",
      "  df = pd.read_csv(\n"
     ]
    },
    {
     "name": "stdout",
     "output_type": "stream",
     "text": [
      "reading, altering, and saving match data file: https://www.football-data.co.uk/mmz4281/0405/SC3.csv\n"
     ]
    },
    {
     "name": "stderr",
     "output_type": "stream",
     "text": [
      "/var/folders/xn/jj94n4tj5w90v1m3njdf44n80000gp/T/ipykernel_45706/3335976498.py:27: UserWarning: Could not infer format, so each element will be parsed individually, falling back to `dateutil`. To ensure parsing is consistent and as-expected, please specify a format.\n",
      "  df = pd.read_csv(\n"
     ]
    },
    {
     "name": "stdout",
     "output_type": "stream",
     "text": [
      "reading, altering, and saving match data file: https://www.football-data.co.uk/mmz4281/9596/SC1.csv\n"
     ]
    },
    {
     "name": "stderr",
     "output_type": "stream",
     "text": [
      "/var/folders/xn/jj94n4tj5w90v1m3njdf44n80000gp/T/ipykernel_45706/3335976498.py:27: UserWarning: Could not infer format, so each element will be parsed individually, falling back to `dateutil`. To ensure parsing is consistent and as-expected, please specify a format.\n",
      "  df = pd.read_csv(\n"
     ]
    },
    {
     "name": "stdout",
     "output_type": "stream",
     "text": [
      "reading, altering, and saving match data file: https://www.football-data.co.uk/mmz4281/1011/SC3.csv\n"
     ]
    },
    {
     "name": "stderr",
     "output_type": "stream",
     "text": [
      "/var/folders/xn/jj94n4tj5w90v1m3njdf44n80000gp/T/ipykernel_45706/3335976498.py:27: UserWarning: Could not infer format, so each element will be parsed individually, falling back to `dateutil`. To ensure parsing is consistent and as-expected, please specify a format.\n",
      "  df = pd.read_csv(\n"
     ]
    },
    {
     "name": "stdout",
     "output_type": "stream",
     "text": [
      "reading, altering, and saving match data file: https://www.football-data.co.uk/mmz4281/0506/SC0.csv\n"
     ]
    },
    {
     "name": "stderr",
     "output_type": "stream",
     "text": [
      "/var/folders/xn/jj94n4tj5w90v1m3njdf44n80000gp/T/ipykernel_45706/3335976498.py:27: UserWarning: Could not infer format, so each element will be parsed individually, falling back to `dateutil`. To ensure parsing is consistent and as-expected, please specify a format.\n",
      "  df = pd.read_csv(\n"
     ]
    },
    {
     "name": "stdout",
     "output_type": "stream",
     "text": [
      "reading, altering, and saving match data file: https://www.football-data.co.uk/mmz4281/1617/SC3.csv\n"
     ]
    },
    {
     "name": "stderr",
     "output_type": "stream",
     "text": [
      "/var/folders/xn/jj94n4tj5w90v1m3njdf44n80000gp/T/ipykernel_45706/3335976498.py:27: UserWarning: Could not infer format, so each element will be parsed individually, falling back to `dateutil`. To ensure parsing is consistent and as-expected, please specify a format.\n",
      "  df = pd.read_csv(\n"
     ]
    },
    {
     "name": "stdout",
     "output_type": "stream",
     "text": [
      "reading, altering, and saving match data file: https://www.football-data.co.uk/mmz4281/9596/SC0.csv\n"
     ]
    },
    {
     "name": "stderr",
     "output_type": "stream",
     "text": [
      "/var/folders/xn/jj94n4tj5w90v1m3njdf44n80000gp/T/ipykernel_45706/3335976498.py:27: UserWarning: Could not infer format, so each element will be parsed individually, falling back to `dateutil`. To ensure parsing is consistent and as-expected, please specify a format.\n",
      "  df = pd.read_csv(\n",
      "/var/folders/xn/jj94n4tj5w90v1m3njdf44n80000gp/T/ipykernel_45706/3335976498.py:27: UserWarning: Could not infer format, so each element will be parsed individually, falling back to `dateutil`. To ensure parsing is consistent and as-expected, please specify a format.\n",
      "  df = pd.read_csv(\n"
     ]
    },
    {
     "name": "stdout",
     "output_type": "stream",
     "text": [
      "reading, altering, and saving match data file: https://www.football-data.co.uk/mmz4281/0203/SC3.csv\n",
      "reading, altering, and saving match data file: https://www.football-data.co.uk/mmz4281/2021/SC1.csv\n",
      "reading, altering, and saving match data file: https://www.football-data.co.uk/mmz4281/0405/SC2.csv\n"
     ]
    },
    {
     "name": "stderr",
     "output_type": "stream",
     "text": [
      "/var/folders/xn/jj94n4tj5w90v1m3njdf44n80000gp/T/ipykernel_45706/3335976498.py:27: UserWarning: Could not infer format, so each element will be parsed individually, falling back to `dateutil`. To ensure parsing is consistent and as-expected, please specify a format.\n",
      "  df = pd.read_csv(\n"
     ]
    },
    {
     "name": "stdout",
     "output_type": "stream",
     "text": [
      "reading, altering, and saving match data file: https://www.football-data.co.uk/mmz4281/0304/SC1.csv\n"
     ]
    },
    {
     "name": "stderr",
     "output_type": "stream",
     "text": [
      "/var/folders/xn/jj94n4tj5w90v1m3njdf44n80000gp/T/ipykernel_45706/3335976498.py:27: UserWarning: Could not infer format, so each element will be parsed individually, falling back to `dateutil`. To ensure parsing is consistent and as-expected, please specify a format.\n",
      "  df = pd.read_csv(\n"
     ]
    },
    {
     "name": "stdout",
     "output_type": "stream",
     "text": [
      "reading, altering, and saving match data file: https://www.football-data.co.uk/mmz4281/2122/SC3.csv\n",
      "reading, altering, and saving match data file: https://www.football-data.co.uk/mmz4281/2223/SC3.csv\n",
      "reading, altering, and saving match data file: https://www.football-data.co.uk/mmz4281/9899/SC3.csv\n",
      "reading, altering, and saving match data file: https://www.football-data.co.uk/mmz4281/0506/SC3.csv\n"
     ]
    },
    {
     "name": "stderr",
     "output_type": "stream",
     "text": [
      "/var/folders/xn/jj94n4tj5w90v1m3njdf44n80000gp/T/ipykernel_45706/3335976498.py:27: UserWarning: Could not infer format, so each element will be parsed individually, falling back to `dateutil`. To ensure parsing is consistent and as-expected, please specify a format.\n",
      "  df = pd.read_csv(\n",
      "/var/folders/xn/jj94n4tj5w90v1m3njdf44n80000gp/T/ipykernel_45706/3335976498.py:27: UserWarning: Could not infer format, so each element will be parsed individually, falling back to `dateutil`. To ensure parsing is consistent and as-expected, please specify a format.\n",
      "  df = pd.read_csv(\n"
     ]
    },
    {
     "name": "stdout",
     "output_type": "stream",
     "text": [
      "reading, altering, and saving match data file: https://www.football-data.co.uk/mmz4281/1516/SC2.csv\n"
     ]
    },
    {
     "name": "stderr",
     "output_type": "stream",
     "text": [
      "/var/folders/xn/jj94n4tj5w90v1m3njdf44n80000gp/T/ipykernel_45706/3335976498.py:27: UserWarning: Could not infer format, so each element will be parsed individually, falling back to `dateutil`. To ensure parsing is consistent and as-expected, please specify a format.\n",
      "  df = pd.read_csv(\n"
     ]
    },
    {
     "name": "stdout",
     "output_type": "stream",
     "text": [
      "reading, altering, and saving match data file: https://www.football-data.co.uk/mmz4281/1920/SC1.csv\n",
      "reading, altering, and saving match data file: https://www.football-data.co.uk/mmz4281/0809/SC3.csv\n"
     ]
    },
    {
     "name": "stderr",
     "output_type": "stream",
     "text": [
      "/var/folders/xn/jj94n4tj5w90v1m3njdf44n80000gp/T/ipykernel_45706/3335976498.py:27: UserWarning: Could not infer format, so each element will be parsed individually, falling back to `dateutil`. To ensure parsing is consistent and as-expected, please specify a format.\n",
      "  df = pd.read_csv(\n"
     ]
    },
    {
     "name": "stdout",
     "output_type": "stream",
     "text": [
      "reading, altering, and saving match data file: https://www.football-data.co.uk/mmz4281/2425/SC1.csv\n",
      "reading, altering, and saving match data file: https://www.football-data.co.uk/mmz4281/1819/SC2.csv\n",
      "reading, altering, and saving match data file: https://www.football-data.co.uk/mmz4281/2223/SC1.csv\n",
      "reading, altering, and saving match data file: https://www.football-data.co.uk/mmz4281/2324/SC3.csv\n",
      "reading, altering, and saving match data file: https://www.football-data.co.uk/mmz4281/1112/SC1.csv\n"
     ]
    },
    {
     "name": "stderr",
     "output_type": "stream",
     "text": [
      "/var/folders/xn/jj94n4tj5w90v1m3njdf44n80000gp/T/ipykernel_45706/3335976498.py:27: UserWarning: Could not infer format, so each element will be parsed individually, falling back to `dateutil`. To ensure parsing is consistent and as-expected, please specify a format.\n",
      "  df = pd.read_csv(\n"
     ]
    },
    {
     "name": "stdout",
     "output_type": "stream",
     "text": [
      "reading, altering, and saving match data file: https://www.football-data.co.uk/mmz4281/0607/SC2.csv\n"
     ]
    },
    {
     "name": "stderr",
     "output_type": "stream",
     "text": [
      "/var/folders/xn/jj94n4tj5w90v1m3njdf44n80000gp/T/ipykernel_45706/3335976498.py:27: UserWarning: Could not infer format, so each element will be parsed individually, falling back to `dateutil`. To ensure parsing is consistent and as-expected, please specify a format.\n",
      "  df = pd.read_csv(\n"
     ]
    },
    {
     "name": "stdout",
     "output_type": "stream",
     "text": [
      "reading, altering, and saving match data file: https://www.football-data.co.uk/mmz4281/0607/SC3.csv\n"
     ]
    },
    {
     "name": "stderr",
     "output_type": "stream",
     "text": [
      "/var/folders/xn/jj94n4tj5w90v1m3njdf44n80000gp/T/ipykernel_45706/3335976498.py:27: UserWarning: Could not infer format, so each element will be parsed individually, falling back to `dateutil`. To ensure parsing is consistent and as-expected, please specify a format.\n",
      "  df = pd.read_csv(\n"
     ]
    },
    {
     "name": "stdout",
     "output_type": "stream",
     "text": [
      "reading, altering, and saving match data file: https://www.football-data.co.uk/mmz4281/2122/SC0.csv\n",
      "reading, altering, and saving match data file: https://www.football-data.co.uk/mmz4281/0203/SC0.csv\n"
     ]
    },
    {
     "name": "stderr",
     "output_type": "stream",
     "text": [
      "/var/folders/xn/jj94n4tj5w90v1m3njdf44n80000gp/T/ipykernel_45706/3335976498.py:27: UserWarning: Could not infer format, so each element will be parsed individually, falling back to `dateutil`. To ensure parsing is consistent and as-expected, please specify a format.\n",
      "  df = pd.read_csv(\n"
     ]
    },
    {
     "name": "stdout",
     "output_type": "stream",
     "text": [
      "reading, altering, and saving match data file: https://www.football-data.co.uk/mmz4281/2122/SC1.csv\n",
      "reading, altering, and saving match data file: https://www.football-data.co.uk/mmz4281/1617/D2.csv\n"
     ]
    },
    {
     "name": "stderr",
     "output_type": "stream",
     "text": [
      "/var/folders/xn/jj94n4tj5w90v1m3njdf44n80000gp/T/ipykernel_45706/3335976498.py:27: UserWarning: Could not infer format, so each element will be parsed individually, falling back to `dateutil`. To ensure parsing is consistent and as-expected, please specify a format.\n",
      "  df = pd.read_csv(\n"
     ]
    },
    {
     "name": "stdout",
     "output_type": "stream",
     "text": [
      "reading, altering, and saving match data file: https://www.football-data.co.uk/mmz4281/0809/D2.csv\n",
      "reading, altering, and saving match data file: https://www.football-data.co.uk/mmz4281/2324/D1.csv\n",
      "reading, altering, and saving match data file: https://www.football-data.co.uk/mmz4281/2021/D1.csv\n",
      "reading, altering, and saving match data file: https://www.football-data.co.uk/mmz4281/1314/D2.csv\n"
     ]
    },
    {
     "name": "stderr",
     "output_type": "stream",
     "text": [
      "/var/folders/xn/jj94n4tj5w90v1m3njdf44n80000gp/T/ipykernel_45706/3335976498.py:27: UserWarning: Could not infer format, so each element will be parsed individually, falling back to `dateutil`. To ensure parsing is consistent and as-expected, please specify a format.\n",
      "  df = pd.read_csv(\n"
     ]
    },
    {
     "name": "stdout",
     "output_type": "stream",
     "text": [
      "reading, altering, and saving match data file: https://www.football-data.co.uk/mmz4281/9596/D1.csv\n"
     ]
    },
    {
     "name": "stderr",
     "output_type": "stream",
     "text": [
      "/var/folders/xn/jj94n4tj5w90v1m3njdf44n80000gp/T/ipykernel_45706/3335976498.py:27: UserWarning: Could not infer format, so each element will be parsed individually, falling back to `dateutil`. To ensure parsing is consistent and as-expected, please specify a format.\n",
      "  df = pd.read_csv(\n"
     ]
    },
    {
     "name": "stdout",
     "output_type": "stream",
     "text": [
      "reading, altering, and saving match data file: https://www.football-data.co.uk/mmz4281/0203/D2.csv\n"
     ]
    },
    {
     "name": "stderr",
     "output_type": "stream",
     "text": [
      "/var/folders/xn/jj94n4tj5w90v1m3njdf44n80000gp/T/ipykernel_45706/3335976498.py:27: UserWarning: Could not infer format, so each element will be parsed individually, falling back to `dateutil`. To ensure parsing is consistent and as-expected, please specify a format.\n",
      "  df = pd.read_csv(\n"
     ]
    },
    {
     "name": "stdout",
     "output_type": "stream",
     "text": [
      "reading, altering, and saving match data file: https://www.football-data.co.uk/mmz4281/0203/D1.csv\n"
     ]
    },
    {
     "name": "stderr",
     "output_type": "stream",
     "text": [
      "/var/folders/xn/jj94n4tj5w90v1m3njdf44n80000gp/T/ipykernel_45706/3335976498.py:27: UserWarning: Could not infer format, so each element will be parsed individually, falling back to `dateutil`. To ensure parsing is consistent and as-expected, please specify a format.\n",
      "  df = pd.read_csv(\n"
     ]
    },
    {
     "name": "stdout",
     "output_type": "stream",
     "text": [
      "reading, altering, and saving match data file: https://www.football-data.co.uk/mmz4281/9900/D2.csv\n"
     ]
    },
    {
     "name": "stderr",
     "output_type": "stream",
     "text": [
      "/var/folders/xn/jj94n4tj5w90v1m3njdf44n80000gp/T/ipykernel_45706/3335976498.py:27: UserWarning: Could not infer format, so each element will be parsed individually, falling back to `dateutil`. To ensure parsing is consistent and as-expected, please specify a format.\n",
      "  df = pd.read_csv(\n"
     ]
    },
    {
     "name": "stdout",
     "output_type": "stream",
     "text": [
      "reading, altering, and saving match data file: https://www.football-data.co.uk/mmz4281/2223/D1.csv\n",
      "reading, altering, and saving match data file: https://www.football-data.co.uk/mmz4281/2122/D2.csv\n",
      "reading, altering, and saving match data file: https://www.football-data.co.uk/mmz4281/1819/D2.csv\n",
      "reading, altering, and saving match data file: https://www.football-data.co.uk/mmz4281/1516/D2.csv\n"
     ]
    },
    {
     "name": "stderr",
     "output_type": "stream",
     "text": [
      "/var/folders/xn/jj94n4tj5w90v1m3njdf44n80000gp/T/ipykernel_45706/3335976498.py:27: UserWarning: Could not infer format, so each element will be parsed individually, falling back to `dateutil`. To ensure parsing is consistent and as-expected, please specify a format.\n",
      "  df = pd.read_csv(\n"
     ]
    },
    {
     "name": "stdout",
     "output_type": "stream",
     "text": [
      "reading, altering, and saving match data file: https://www.football-data.co.uk/mmz4281/9899/D1.csv\n"
     ]
    },
    {
     "name": "stderr",
     "output_type": "stream",
     "text": [
      "/var/folders/xn/jj94n4tj5w90v1m3njdf44n80000gp/T/ipykernel_45706/3335976498.py:27: UserWarning: Could not infer format, so each element will be parsed individually, falling back to `dateutil`. To ensure parsing is consistent and as-expected, please specify a format.\n",
      "  df = pd.read_csv(\n",
      "/var/folders/xn/jj94n4tj5w90v1m3njdf44n80000gp/T/ipykernel_45706/3335976498.py:27: UserWarning: Could not infer format, so each element will be parsed individually, falling back to `dateutil`. To ensure parsing is consistent and as-expected, please specify a format.\n",
      "  df = pd.read_csv(\n"
     ]
    },
    {
     "name": "stdout",
     "output_type": "stream",
     "text": [
      "reading, altering, and saving match data file: https://www.football-data.co.uk/mmz4281/9596/D2.csv\n",
      "reading, altering, and saving match data file: https://www.football-data.co.uk/mmz4281/0405/D2.csv\n"
     ]
    },
    {
     "name": "stderr",
     "output_type": "stream",
     "text": [
      "/var/folders/xn/jj94n4tj5w90v1m3njdf44n80000gp/T/ipykernel_45706/3335976498.py:27: UserWarning: Could not infer format, so each element will be parsed individually, falling back to `dateutil`. To ensure parsing is consistent and as-expected, please specify a format.\n",
      "  df = pd.read_csv(\n"
     ]
    },
    {
     "name": "stdout",
     "output_type": "stream",
     "text": [
      "reading, altering, and saving match data file: https://www.football-data.co.uk/mmz4281/9495/D1.csv\n"
     ]
    },
    {
     "name": "stderr",
     "output_type": "stream",
     "text": [
      "/var/folders/xn/jj94n4tj5w90v1m3njdf44n80000gp/T/ipykernel_45706/3335976498.py:27: UserWarning: Could not infer format, so each element will be parsed individually, falling back to `dateutil`. To ensure parsing is consistent and as-expected, please specify a format.\n",
      "  df = pd.read_csv(\n"
     ]
    },
    {
     "name": "stdout",
     "output_type": "stream",
     "text": [
      "reading, altering, and saving match data file: https://www.football-data.co.uk/mmz4281/2021/D2.csv\n",
      "reading, altering, and saving match data file: https://www.football-data.co.uk/mmz4281/9900/D1.csv\n"
     ]
    },
    {
     "name": "stderr",
     "output_type": "stream",
     "text": [
      "/var/folders/xn/jj94n4tj5w90v1m3njdf44n80000gp/T/ipykernel_45706/3335976498.py:27: UserWarning: Could not infer format, so each element will be parsed individually, falling back to `dateutil`. To ensure parsing is consistent and as-expected, please specify a format.\n",
      "  df = pd.read_csv(\n"
     ]
    },
    {
     "name": "stdout",
     "output_type": "stream",
     "text": [
      "reading, altering, and saving match data file: https://www.football-data.co.uk/mmz4281/2324/D2.csv\n",
      "reading, altering, and saving match data file: https://www.football-data.co.uk/mmz4281/0708/D1.csv\n"
     ]
    },
    {
     "name": "stderr",
     "output_type": "stream",
     "text": [
      "/var/folders/xn/jj94n4tj5w90v1m3njdf44n80000gp/T/ipykernel_45706/3335976498.py:27: UserWarning: Could not infer format, so each element will be parsed individually, falling back to `dateutil`. To ensure parsing is consistent and as-expected, please specify a format.\n",
      "  df = pd.read_csv(\n"
     ]
    },
    {
     "name": "stdout",
     "output_type": "stream",
     "text": [
      "reading, altering, and saving match data file: https://www.football-data.co.uk/mmz4281/0304/D1.csv\n"
     ]
    },
    {
     "name": "stderr",
     "output_type": "stream",
     "text": [
      "/var/folders/xn/jj94n4tj5w90v1m3njdf44n80000gp/T/ipykernel_45706/3335976498.py:27: UserWarning: Could not infer format, so each element will be parsed individually, falling back to `dateutil`. To ensure parsing is consistent and as-expected, please specify a format.\n",
      "  df = pd.read_csv(\n"
     ]
    },
    {
     "name": "stdout",
     "output_type": "stream",
     "text": [
      "reading, altering, and saving match data file: https://www.football-data.co.uk/mmz4281/1819/D1.csv\n",
      "reading, altering, and saving match data file: https://www.football-data.co.uk/mmz4281/9697/D1.csv\n"
     ]
    },
    {
     "name": "stderr",
     "output_type": "stream",
     "text": [
      "/var/folders/xn/jj94n4tj5w90v1m3njdf44n80000gp/T/ipykernel_45706/3335976498.py:27: UserWarning: Could not infer format, so each element will be parsed individually, falling back to `dateutil`. To ensure parsing is consistent and as-expected, please specify a format.\n",
      "  df = pd.read_csv(\n",
      "/var/folders/xn/jj94n4tj5w90v1m3njdf44n80000gp/T/ipykernel_45706/3335976498.py:27: UserWarning: Could not infer format, so each element will be parsed individually, falling back to `dateutil`. To ensure parsing is consistent and as-expected, please specify a format.\n",
      "  df = pd.read_csv(\n"
     ]
    },
    {
     "name": "stdout",
     "output_type": "stream",
     "text": [
      "reading, altering, and saving match data file: https://www.football-data.co.uk/mmz4281/9394/D2.csv\n",
      "reading, altering, and saving match data file: https://www.football-data.co.uk/mmz4281/0102/D2.csv\n"
     ]
    },
    {
     "name": "stderr",
     "output_type": "stream",
     "text": [
      "/var/folders/xn/jj94n4tj5w90v1m3njdf44n80000gp/T/ipykernel_45706/3335976498.py:27: UserWarning: Could not infer format, so each element will be parsed individually, falling back to `dateutil`. To ensure parsing is consistent and as-expected, please specify a format.\n",
      "  df = pd.read_csv(\n"
     ]
    },
    {
     "name": "stdout",
     "output_type": "stream",
     "text": [
      "reading, altering, and saving match data file: https://www.football-data.co.uk/mmz4281/0607/D1.csv\n"
     ]
    },
    {
     "name": "stderr",
     "output_type": "stream",
     "text": [
      "/var/folders/xn/jj94n4tj5w90v1m3njdf44n80000gp/T/ipykernel_45706/3335976498.py:27: UserWarning: Could not infer format, so each element will be parsed individually, falling back to `dateutil`. To ensure parsing is consistent and as-expected, please specify a format.\n",
      "  df = pd.read_csv(\n",
      "/var/folders/xn/jj94n4tj5w90v1m3njdf44n80000gp/T/ipykernel_45706/3335976498.py:27: UserWarning: Could not infer format, so each element will be parsed individually, falling back to `dateutil`. To ensure parsing is consistent and as-expected, please specify a format.\n",
      "  df = pd.read_csv(\n"
     ]
    },
    {
     "name": "stdout",
     "output_type": "stream",
     "text": [
      "reading, altering, and saving match data file: https://www.football-data.co.uk/mmz4281/9495/D2.csv\n",
      "reading, altering, and saving match data file: https://www.football-data.co.uk/mmz4281/0102/D1.csv\n"
     ]
    },
    {
     "name": "stderr",
     "output_type": "stream",
     "text": [
      "/var/folders/xn/jj94n4tj5w90v1m3njdf44n80000gp/T/ipykernel_45706/3335976498.py:27: UserWarning: Could not infer format, so each element will be parsed individually, falling back to `dateutil`. To ensure parsing is consistent and as-expected, please specify a format.\n",
      "  df = pd.read_csv(\n"
     ]
    },
    {
     "name": "stdout",
     "output_type": "stream",
     "text": [
      "reading, altering, and saving match data file: https://www.football-data.co.uk/mmz4281/1112/D2.csv\n"
     ]
    },
    {
     "name": "stderr",
     "output_type": "stream",
     "text": [
      "/var/folders/xn/jj94n4tj5w90v1m3njdf44n80000gp/T/ipykernel_45706/3335976498.py:27: UserWarning: Could not infer format, so each element will be parsed individually, falling back to `dateutil`. To ensure parsing is consistent and as-expected, please specify a format.\n",
      "  df = pd.read_csv(\n"
     ]
    },
    {
     "name": "stdout",
     "output_type": "stream",
     "text": [
      "reading, altering, and saving match data file: https://www.football-data.co.uk/mmz4281/1213/D2.csv\n"
     ]
    },
    {
     "name": "stderr",
     "output_type": "stream",
     "text": [
      "/var/folders/xn/jj94n4tj5w90v1m3njdf44n80000gp/T/ipykernel_45706/3335976498.py:27: UserWarning: Could not infer format, so each element will be parsed individually, falling back to `dateutil`. To ensure parsing is consistent and as-expected, please specify a format.\n",
      "  df = pd.read_csv(\n"
     ]
    },
    {
     "name": "stdout",
     "output_type": "stream",
     "text": [
      "reading, altering, and saving match data file: https://www.football-data.co.uk/mmz4281/0001/D2.csv\n"
     ]
    },
    {
     "name": "stderr",
     "output_type": "stream",
     "text": [
      "/var/folders/xn/jj94n4tj5w90v1m3njdf44n80000gp/T/ipykernel_45706/3335976498.py:27: UserWarning: Could not infer format, so each element will be parsed individually, falling back to `dateutil`. To ensure parsing is consistent and as-expected, please specify a format.\n",
      "  df = pd.read_csv(\n",
      "/var/folders/xn/jj94n4tj5w90v1m3njdf44n80000gp/T/ipykernel_45706/3335976498.py:27: UserWarning: Could not infer format, so each element will be parsed individually, falling back to `dateutil`. To ensure parsing is consistent and as-expected, please specify a format.\n",
      "  df = pd.read_csv(\n"
     ]
    },
    {
     "name": "stdout",
     "output_type": "stream",
     "text": [
      "reading, altering, and saving match data file: https://www.football-data.co.uk/mmz4281/9394/D1.csv\n",
      "reading, altering, and saving match data file: https://www.football-data.co.uk/mmz4281/1516/D1.csv\n"
     ]
    },
    {
     "name": "stderr",
     "output_type": "stream",
     "text": [
      "/var/folders/xn/jj94n4tj5w90v1m3njdf44n80000gp/T/ipykernel_45706/3335976498.py:27: UserWarning: Could not infer format, so each element will be parsed individually, falling back to `dateutil`. To ensure parsing is consistent and as-expected, please specify a format.\n",
      "  df = pd.read_csv(\n"
     ]
    },
    {
     "name": "stdout",
     "output_type": "stream",
     "text": [
      "reading, altering, and saving match data file: https://www.football-data.co.uk/mmz4281/0405/D1.csv\n"
     ]
    },
    {
     "name": "stderr",
     "output_type": "stream",
     "text": [
      "/var/folders/xn/jj94n4tj5w90v1m3njdf44n80000gp/T/ipykernel_45706/3335976498.py:27: UserWarning: Could not infer format, so each element will be parsed individually, falling back to `dateutil`. To ensure parsing is consistent and as-expected, please specify a format.\n",
      "  df = pd.read_csv(\n"
     ]
    },
    {
     "name": "stdout",
     "output_type": "stream",
     "text": [
      "reading, altering, and saving match data file: https://www.football-data.co.uk/mmz4281/2425/D1.csv\n",
      "reading, altering, and saving match data file: https://www.football-data.co.uk/mmz4281/1112/D1.csv\n"
     ]
    },
    {
     "name": "stderr",
     "output_type": "stream",
     "text": [
      "/var/folders/xn/jj94n4tj5w90v1m3njdf44n80000gp/T/ipykernel_45706/3335976498.py:27: UserWarning: Could not infer format, so each element will be parsed individually, falling back to `dateutil`. To ensure parsing is consistent and as-expected, please specify a format.\n",
      "  df = pd.read_csv(\n"
     ]
    },
    {
     "name": "stdout",
     "output_type": "stream",
     "text": [
      "reading, altering, and saving match data file: https://www.football-data.co.uk/mmz4281/0910/D2.csv\n"
     ]
    },
    {
     "name": "stderr",
     "output_type": "stream",
     "text": [
      "/var/folders/xn/jj94n4tj5w90v1m3njdf44n80000gp/T/ipykernel_45706/3335976498.py:27: UserWarning: Could not infer format, so each element will be parsed individually, falling back to `dateutil`. To ensure parsing is consistent and as-expected, please specify a format.\n",
      "  df = pd.read_csv(\n"
     ]
    },
    {
     "name": "stdout",
     "output_type": "stream",
     "text": [
      "reading, altering, and saving match data file: https://www.football-data.co.uk/mmz4281/1415/D2.csv\n"
     ]
    },
    {
     "name": "stderr",
     "output_type": "stream",
     "text": [
      "/var/folders/xn/jj94n4tj5w90v1m3njdf44n80000gp/T/ipykernel_45706/3335976498.py:27: UserWarning: Could not infer format, so each element will be parsed individually, falling back to `dateutil`. To ensure parsing is consistent and as-expected, please specify a format.\n",
      "  df = pd.read_csv(\n"
     ]
    },
    {
     "name": "stdout",
     "output_type": "stream",
     "text": [
      "reading, altering, and saving match data file: https://www.football-data.co.uk/mmz4281/2122/D1.csv\n",
      "reading, altering, and saving match data file: https://www.football-data.co.uk/mmz4281/0506/D1.csv\n"
     ]
    },
    {
     "name": "stderr",
     "output_type": "stream",
     "text": [
      "/var/folders/xn/jj94n4tj5w90v1m3njdf44n80000gp/T/ipykernel_45706/3335976498.py:27: UserWarning: Could not infer format, so each element will be parsed individually, falling back to `dateutil`. To ensure parsing is consistent and as-expected, please specify a format.\n",
      "  df = pd.read_csv(\n",
      "/var/folders/xn/jj94n4tj5w90v1m3njdf44n80000gp/T/ipykernel_45706/3335976498.py:27: UserWarning: Could not infer format, so each element will be parsed individually, falling back to `dateutil`. To ensure parsing is consistent and as-expected, please specify a format.\n",
      "  df = pd.read_csv(\n"
     ]
    },
    {
     "name": "stdout",
     "output_type": "stream",
     "text": [
      "reading, altering, and saving match data file: https://www.football-data.co.uk/mmz4281/9798/D1.csv\n",
      "reading, altering, and saving match data file: https://www.football-data.co.uk/mmz4281/1011/D2.csv\n"
     ]
    },
    {
     "name": "stderr",
     "output_type": "stream",
     "text": [
      "/var/folders/xn/jj94n4tj5w90v1m3njdf44n80000gp/T/ipykernel_45706/3335976498.py:27: UserWarning: Could not infer format, so each element will be parsed individually, falling back to `dateutil`. To ensure parsing is consistent and as-expected, please specify a format.\n",
      "  df = pd.read_csv(\n",
      "/var/folders/xn/jj94n4tj5w90v1m3njdf44n80000gp/T/ipykernel_45706/3335976498.py:27: UserWarning: Could not infer format, so each element will be parsed individually, falling back to `dateutil`. To ensure parsing is consistent and as-expected, please specify a format.\n",
      "  df = pd.read_csv(\n"
     ]
    },
    {
     "name": "stdout",
     "output_type": "stream",
     "text": [
      "reading, altering, and saving match data file: https://www.football-data.co.uk/mmz4281/9899/D2.csv\n",
      "reading, altering, and saving match data file: https://www.football-data.co.uk/mmz4281/0607/D2.csv\n"
     ]
    },
    {
     "name": "stderr",
     "output_type": "stream",
     "text": [
      "/var/folders/xn/jj94n4tj5w90v1m3njdf44n80000gp/T/ipykernel_45706/3335976498.py:27: UserWarning: Could not infer format, so each element will be parsed individually, falling back to `dateutil`. To ensure parsing is consistent and as-expected, please specify a format.\n",
      "  df = pd.read_csv(\n"
     ]
    },
    {
     "name": "stdout",
     "output_type": "stream",
     "text": [
      "reading, altering, and saving match data file: https://www.football-data.co.uk/mmz4281/0304/D2.csv\n"
     ]
    },
    {
     "name": "stderr",
     "output_type": "stream",
     "text": [
      "/var/folders/xn/jj94n4tj5w90v1m3njdf44n80000gp/T/ipykernel_45706/3335976498.py:27: UserWarning: Could not infer format, so each element will be parsed individually, falling back to `dateutil`. To ensure parsing is consistent and as-expected, please specify a format.\n",
      "  df = pd.read_csv(\n"
     ]
    },
    {
     "name": "stdout",
     "output_type": "stream",
     "text": [
      "reading, altering, and saving match data file: https://www.football-data.co.uk/mmz4281/1617/D1.csv\n"
     ]
    },
    {
     "name": "stderr",
     "output_type": "stream",
     "text": [
      "/var/folders/xn/jj94n4tj5w90v1m3njdf44n80000gp/T/ipykernel_45706/3335976498.py:27: UserWarning: Could not infer format, so each element will be parsed individually, falling back to `dateutil`. To ensure parsing is consistent and as-expected, please specify a format.\n",
      "  df = pd.read_csv(\n",
      "/var/folders/xn/jj94n4tj5w90v1m3njdf44n80000gp/T/ipykernel_45706/3335976498.py:27: UserWarning: Could not infer format, so each element will be parsed individually, falling back to `dateutil`. To ensure parsing is consistent and as-expected, please specify a format.\n",
      "  df = pd.read_csv(\n"
     ]
    },
    {
     "name": "stdout",
     "output_type": "stream",
     "text": [
      "reading, altering, and saving match data file: https://www.football-data.co.uk/mmz4281/9798/D2.csv\n",
      "reading, altering, and saving match data file: https://www.football-data.co.uk/mmz4281/9697/D2.csv\n"
     ]
    },
    {
     "name": "stderr",
     "output_type": "stream",
     "text": [
      "/var/folders/xn/jj94n4tj5w90v1m3njdf44n80000gp/T/ipykernel_45706/3335976498.py:27: UserWarning: Could not infer format, so each element will be parsed individually, falling back to `dateutil`. To ensure parsing is consistent and as-expected, please specify a format.\n",
      "  df = pd.read_csv(\n"
     ]
    },
    {
     "name": "stdout",
     "output_type": "stream",
     "text": [
      "reading, altering, and saving match data file: https://www.football-data.co.uk/mmz4281/0809/D1.csv\n"
     ]
    },
    {
     "name": "stderr",
     "output_type": "stream",
     "text": [
      "/var/folders/xn/jj94n4tj5w90v1m3njdf44n80000gp/T/ipykernel_45706/3335976498.py:27: UserWarning: Could not infer format, so each element will be parsed individually, falling back to `dateutil`. To ensure parsing is consistent and as-expected, please specify a format.\n",
      "  df = pd.read_csv(\n"
     ]
    },
    {
     "name": "stdout",
     "output_type": "stream",
     "text": [
      "reading, altering, and saving match data file: https://www.football-data.co.uk/mmz4281/2223/D2.csv\n",
      "reading, altering, and saving match data file: https://www.football-data.co.uk/mmz4281/2425/D2.csv\n",
      "reading, altering, and saving match data file: https://www.football-data.co.uk/mmz4281/1415/D1.csv\n"
     ]
    },
    {
     "name": "stderr",
     "output_type": "stream",
     "text": [
      "/var/folders/xn/jj94n4tj5w90v1m3njdf44n80000gp/T/ipykernel_45706/3335976498.py:27: UserWarning: Could not infer format, so each element will be parsed individually, falling back to `dateutil`. To ensure parsing is consistent and as-expected, please specify a format.\n",
      "  df = pd.read_csv(\n"
     ]
    },
    {
     "name": "stdout",
     "output_type": "stream",
     "text": [
      "reading, altering, and saving match data file: https://www.football-data.co.uk/mmz4281/1920/D1.csv\n",
      "reading, altering, and saving match data file: https://www.football-data.co.uk/mmz4281/1213/D1.csv\n"
     ]
    },
    {
     "name": "stderr",
     "output_type": "stream",
     "text": [
      "/var/folders/xn/jj94n4tj5w90v1m3njdf44n80000gp/T/ipykernel_45706/3335976498.py:27: UserWarning: Could not infer format, so each element will be parsed individually, falling back to `dateutil`. To ensure parsing is consistent and as-expected, please specify a format.\n",
      "  df = pd.read_csv(\n"
     ]
    },
    {
     "name": "stdout",
     "output_type": "stream",
     "text": [
      "reading, altering, and saving match data file: https://www.football-data.co.uk/mmz4281/1011/D1.csv\n"
     ]
    },
    {
     "name": "stderr",
     "output_type": "stream",
     "text": [
      "/var/folders/xn/jj94n4tj5w90v1m3njdf44n80000gp/T/ipykernel_45706/3335976498.py:27: UserWarning: Could not infer format, so each element will be parsed individually, falling back to `dateutil`. To ensure parsing is consistent and as-expected, please specify a format.\n",
      "  df = pd.read_csv(\n"
     ]
    },
    {
     "name": "stdout",
     "output_type": "stream",
     "text": [
      "reading, altering, and saving match data file: https://www.football-data.co.uk/mmz4281/0506/D2.csv\n"
     ]
    },
    {
     "name": "stderr",
     "output_type": "stream",
     "text": [
      "/var/folders/xn/jj94n4tj5w90v1m3njdf44n80000gp/T/ipykernel_45706/3335976498.py:27: UserWarning: Could not infer format, so each element will be parsed individually, falling back to `dateutil`. To ensure parsing is consistent and as-expected, please specify a format.\n",
      "  df = pd.read_csv(\n"
     ]
    },
    {
     "name": "stdout",
     "output_type": "stream",
     "text": [
      "reading, altering, and saving match data file: https://www.football-data.co.uk/mmz4281/0001/D1.csv\n"
     ]
    },
    {
     "name": "stderr",
     "output_type": "stream",
     "text": [
      "/var/folders/xn/jj94n4tj5w90v1m3njdf44n80000gp/T/ipykernel_45706/3335976498.py:27: UserWarning: Could not infer format, so each element will be parsed individually, falling back to `dateutil`. To ensure parsing is consistent and as-expected, please specify a format.\n",
      "  df = pd.read_csv(\n"
     ]
    },
    {
     "name": "stdout",
     "output_type": "stream",
     "text": [
      "reading, altering, and saving match data file: https://www.football-data.co.uk/mmz4281/1718/D1.csv\n"
     ]
    },
    {
     "name": "stderr",
     "output_type": "stream",
     "text": [
      "/var/folders/xn/jj94n4tj5w90v1m3njdf44n80000gp/T/ipykernel_45706/3335976498.py:27: UserWarning: Could not infer format, so each element will be parsed individually, falling back to `dateutil`. To ensure parsing is consistent and as-expected, please specify a format.\n",
      "  df = pd.read_csv(\n"
     ]
    },
    {
     "name": "stdout",
     "output_type": "stream",
     "text": [
      "reading, altering, and saving match data file: https://www.football-data.co.uk/mmz4281/1718/D2.csv\n"
     ]
    },
    {
     "name": "stderr",
     "output_type": "stream",
     "text": [
      "/var/folders/xn/jj94n4tj5w90v1m3njdf44n80000gp/T/ipykernel_45706/3335976498.py:27: UserWarning: Could not infer format, so each element will be parsed individually, falling back to `dateutil`. To ensure parsing is consistent and as-expected, please specify a format.\n",
      "  df = pd.read_csv(\n"
     ]
    },
    {
     "name": "stdout",
     "output_type": "stream",
     "text": [
      "reading, altering, and saving match data file: https://www.football-data.co.uk/mmz4281/0708/D2.csv\n"
     ]
    },
    {
     "name": "stderr",
     "output_type": "stream",
     "text": [
      "/var/folders/xn/jj94n4tj5w90v1m3njdf44n80000gp/T/ipykernel_45706/3335976498.py:27: UserWarning: Could not infer format, so each element will be parsed individually, falling back to `dateutil`. To ensure parsing is consistent and as-expected, please specify a format.\n",
      "  df = pd.read_csv(\n"
     ]
    },
    {
     "name": "stdout",
     "output_type": "stream",
     "text": [
      "reading, altering, and saving match data file: https://www.football-data.co.uk/mmz4281/1314/D1.csv\n"
     ]
    },
    {
     "name": "stderr",
     "output_type": "stream",
     "text": [
      "/var/folders/xn/jj94n4tj5w90v1m3njdf44n80000gp/T/ipykernel_45706/3335976498.py:27: UserWarning: Could not infer format, so each element will be parsed individually, falling back to `dateutil`. To ensure parsing is consistent and as-expected, please specify a format.\n",
      "  df = pd.read_csv(\n"
     ]
    },
    {
     "name": "stdout",
     "output_type": "stream",
     "text": [
      "reading, altering, and saving match data file: https://www.football-data.co.uk/mmz4281/1920/D2.csv\n",
      "reading, altering, and saving match data file: https://www.football-data.co.uk/mmz4281/0910/D1.csv\n"
     ]
    },
    {
     "name": "stderr",
     "output_type": "stream",
     "text": [
      "/var/folders/xn/jj94n4tj5w90v1m3njdf44n80000gp/T/ipykernel_45706/3335976498.py:27: UserWarning: Could not infer format, so each element will be parsed individually, falling back to `dateutil`. To ensure parsing is consistent and as-expected, please specify a format.\n",
      "  df = pd.read_csv(\n",
      "/var/folders/xn/jj94n4tj5w90v1m3njdf44n80000gp/T/ipykernel_45706/3335976498.py:27: UserWarning: Could not infer format, so each element will be parsed individually, falling back to `dateutil`. To ensure parsing is consistent and as-expected, please specify a format.\n",
      "  df = pd.read_csv(\n"
     ]
    },
    {
     "name": "stdout",
     "output_type": "stream",
     "text": [
      "reading, altering, and saving match data file: https://www.football-data.co.uk/mmz4281/9899/I1.csv\n",
      "reading, altering, and saving match data file: https://www.football-data.co.uk/mmz4281/0102/I1.csv\n"
     ]
    },
    {
     "name": "stderr",
     "output_type": "stream",
     "text": [
      "/var/folders/xn/jj94n4tj5w90v1m3njdf44n80000gp/T/ipykernel_45706/3335976498.py:27: UserWarning: Could not infer format, so each element will be parsed individually, falling back to `dateutil`. To ensure parsing is consistent and as-expected, please specify a format.\n",
      "  df = pd.read_csv(\n"
     ]
    },
    {
     "name": "stdout",
     "output_type": "stream",
     "text": [
      "reading, altering, and saving match data file: https://www.football-data.co.uk/mmz4281/0405/I2.csv\n"
     ]
    },
    {
     "name": "stderr",
     "output_type": "stream",
     "text": [
      "/var/folders/xn/jj94n4tj5w90v1m3njdf44n80000gp/T/ipykernel_45706/3335976498.py:27: UserWarning: Could not infer format, so each element will be parsed individually, falling back to `dateutil`. To ensure parsing is consistent and as-expected, please specify a format.\n",
      "  df = pd.read_csv(\n"
     ]
    },
    {
     "name": "stdout",
     "output_type": "stream",
     "text": [
      "reading, altering, and saving match data file: https://www.football-data.co.uk/mmz4281/2324/I1.csv\n",
      "reading, altering, and saving match data file: https://www.football-data.co.uk/mmz4281/0203/I1.csv\n"
     ]
    },
    {
     "name": "stderr",
     "output_type": "stream",
     "text": [
      "/var/folders/xn/jj94n4tj5w90v1m3njdf44n80000gp/T/ipykernel_45706/3335976498.py:27: UserWarning: Could not infer format, so each element will be parsed individually, falling back to `dateutil`. To ensure parsing is consistent and as-expected, please specify a format.\n",
      "  df = pd.read_csv(\n",
      "/var/folders/xn/jj94n4tj5w90v1m3njdf44n80000gp/T/ipykernel_45706/3335976498.py:27: UserWarning: Could not infer format, so each element will be parsed individually, falling back to `dateutil`. To ensure parsing is consistent and as-expected, please specify a format.\n",
      "  df = pd.read_csv(\n"
     ]
    },
    {
     "name": "stdout",
     "output_type": "stream",
     "text": [
      "reading, altering, and saving match data file: https://www.football-data.co.uk/mmz4281/9899/I2.csv\n",
      "reading, altering, and saving match data file: https://www.football-data.co.uk/mmz4281/1819/I2.csv\n",
      "reading, altering, and saving match data file: https://www.football-data.co.uk/mmz4281/9495/I1.csv\n",
      "reading, altering, and saving match data file: https://www.football-data.co.uk/mmz4281/1920/I2.csv\n"
     ]
    },
    {
     "name": "stderr",
     "output_type": "stream",
     "text": [
      "/var/folders/xn/jj94n4tj5w90v1m3njdf44n80000gp/T/ipykernel_45706/3335976498.py:27: UserWarning: Could not infer format, so each element will be parsed individually, falling back to `dateutil`. To ensure parsing is consistent and as-expected, please specify a format.\n",
      "  df = pd.read_csv(\n"
     ]
    },
    {
     "name": "stdout",
     "output_type": "stream",
     "text": [
      "reading, altering, and saving match data file: https://www.football-data.co.uk/mmz4281/2122/I1.csv\n",
      "reading, altering, and saving match data file: https://www.football-data.co.uk/mmz4281/9697/I1.csv\n",
      "reading, altering, and saving match data file: https://www.football-data.co.uk/mmz4281/2425/I2.csv\n"
     ]
    },
    {
     "name": "stderr",
     "output_type": "stream",
     "text": [
      "/var/folders/xn/jj94n4tj5w90v1m3njdf44n80000gp/T/ipykernel_45706/3335976498.py:27: UserWarning: Could not infer format, so each element will be parsed individually, falling back to `dateutil`. To ensure parsing is consistent and as-expected, please specify a format.\n",
      "  df = pd.read_csv(\n"
     ]
    },
    {
     "name": "stdout",
     "output_type": "stream",
     "text": [
      "reading, altering, and saving match data file: https://www.football-data.co.uk/mmz4281/0203/I2.csv\n"
     ]
    },
    {
     "name": "stderr",
     "output_type": "stream",
     "text": [
      "/var/folders/xn/jj94n4tj5w90v1m3njdf44n80000gp/T/ipykernel_45706/3335976498.py:27: UserWarning: Could not infer format, so each element will be parsed individually, falling back to `dateutil`. To ensure parsing is consistent and as-expected, please specify a format.\n",
      "  df = pd.read_csv(\n"
     ]
    },
    {
     "name": "stdout",
     "output_type": "stream",
     "text": [
      "reading, altering, and saving match data file: https://www.football-data.co.uk/mmz4281/9798/I2.csv\n"
     ]
    },
    {
     "name": "stderr",
     "output_type": "stream",
     "text": [
      "/var/folders/xn/jj94n4tj5w90v1m3njdf44n80000gp/T/ipykernel_45706/3335976498.py:27: UserWarning: Could not infer format, so each element will be parsed individually, falling back to `dateutil`. To ensure parsing is consistent and as-expected, please specify a format.\n",
      "  df = pd.read_csv(\n"
     ]
    },
    {
     "name": "stdout",
     "output_type": "stream",
     "text": [
      "reading, altering, and saving match data file: https://www.football-data.co.uk/mmz4281/0910/I2.csv\n"
     ]
    },
    {
     "name": "stderr",
     "output_type": "stream",
     "text": [
      "/var/folders/xn/jj94n4tj5w90v1m3njdf44n80000gp/T/ipykernel_45706/3335976498.py:27: UserWarning: Could not infer format, so each element will be parsed individually, falling back to `dateutil`. To ensure parsing is consistent and as-expected, please specify a format.\n",
      "  df = pd.read_csv(\n"
     ]
    },
    {
     "name": "stdout",
     "output_type": "stream",
     "text": [
      "reading, altering, and saving match data file: https://www.football-data.co.uk/mmz4281/1920/I1.csv\n",
      "reading, altering, and saving match data file: https://www.football-data.co.uk/mmz4281/1213/I1.csv\n"
     ]
    },
    {
     "name": "stderr",
     "output_type": "stream",
     "text": [
      "/var/folders/xn/jj94n4tj5w90v1m3njdf44n80000gp/T/ipykernel_45706/3335976498.py:27: UserWarning: Could not infer format, so each element will be parsed individually, falling back to `dateutil`. To ensure parsing is consistent and as-expected, please specify a format.\n",
      "  df = pd.read_csv(\n"
     ]
    },
    {
     "name": "stdout",
     "output_type": "stream",
     "text": [
      "reading, altering, and saving match data file: https://www.football-data.co.uk/mmz4281/1112/I1.csv\n"
     ]
    },
    {
     "name": "stderr",
     "output_type": "stream",
     "text": [
      "/var/folders/xn/jj94n4tj5w90v1m3njdf44n80000gp/T/ipykernel_45706/3335976498.py:27: UserWarning: Could not infer format, so each element will be parsed individually, falling back to `dateutil`. To ensure parsing is consistent and as-expected, please specify a format.\n",
      "  df = pd.read_csv(\n"
     ]
    },
    {
     "name": "stdout",
     "output_type": "stream",
     "text": [
      "reading, altering, and saving match data file: https://www.football-data.co.uk/mmz4281/1617/I2.csv\n"
     ]
    },
    {
     "name": "stderr",
     "output_type": "stream",
     "text": [
      "/var/folders/xn/jj94n4tj5w90v1m3njdf44n80000gp/T/ipykernel_45706/3335976498.py:27: UserWarning: Could not infer format, so each element will be parsed individually, falling back to `dateutil`. To ensure parsing is consistent and as-expected, please specify a format.\n",
      "  df = pd.read_csv(\n"
     ]
    },
    {
     "name": "stdout",
     "output_type": "stream",
     "text": [
      "reading, altering, and saving match data file: https://www.football-data.co.uk/mmz4281/0809/I2.csv\n"
     ]
    },
    {
     "name": "stderr",
     "output_type": "stream",
     "text": [
      "/var/folders/xn/jj94n4tj5w90v1m3njdf44n80000gp/T/ipykernel_45706/3335976498.py:27: UserWarning: Could not infer format, so each element will be parsed individually, falling back to `dateutil`. To ensure parsing is consistent and as-expected, please specify a format.\n",
      "  df = pd.read_csv(\n"
     ]
    },
    {
     "name": "stdout",
     "output_type": "stream",
     "text": [
      "reading, altering, and saving match data file: https://www.football-data.co.uk/mmz4281/1415/I1.csv\n"
     ]
    },
    {
     "name": "stderr",
     "output_type": "stream",
     "text": [
      "/var/folders/xn/jj94n4tj5w90v1m3njdf44n80000gp/T/ipykernel_45706/3335976498.py:27: UserWarning: Could not infer format, so each element will be parsed individually, falling back to `dateutil`. To ensure parsing is consistent and as-expected, please specify a format.\n",
      "  df = pd.read_csv(\n"
     ]
    },
    {
     "name": "stdout",
     "output_type": "stream",
     "text": [
      "reading, altering, and saving match data file: https://www.football-data.co.uk/mmz4281/0809/I1.csv\n"
     ]
    },
    {
     "name": "stderr",
     "output_type": "stream",
     "text": [
      "/var/folders/xn/jj94n4tj5w90v1m3njdf44n80000gp/T/ipykernel_45706/3335976498.py:27: UserWarning: Could not infer format, so each element will be parsed individually, falling back to `dateutil`. To ensure parsing is consistent and as-expected, please specify a format.\n",
      "  df = pd.read_csv(\n"
     ]
    },
    {
     "name": "stdout",
     "output_type": "stream",
     "text": [
      "reading, altering, and saving match data file: https://www.football-data.co.uk/mmz4281/0304/I2.csv\n"
     ]
    },
    {
     "name": "stderr",
     "output_type": "stream",
     "text": [
      "/var/folders/xn/jj94n4tj5w90v1m3njdf44n80000gp/T/ipykernel_45706/3335976498.py:27: UserWarning: Could not infer format, so each element will be parsed individually, falling back to `dateutil`. To ensure parsing is consistent and as-expected, please specify a format.\n",
      "  df = pd.read_csv(\n",
      "/var/folders/xn/jj94n4tj5w90v1m3njdf44n80000gp/T/ipykernel_45706/3335976498.py:27: UserWarning: Could not infer format, so each element will be parsed individually, falling back to `dateutil`. To ensure parsing is consistent and as-expected, please specify a format.\n",
      "  df = pd.read_csv(\n"
     ]
    },
    {
     "name": "stdout",
     "output_type": "stream",
     "text": [
      "reading, altering, and saving match data file: https://www.football-data.co.uk/mmz4281/9798/I1.csv\n",
      "reading, altering, and saving match data file: https://www.football-data.co.uk/mmz4281/1314/I2.csv\n"
     ]
    },
    {
     "name": "stderr",
     "output_type": "stream",
     "text": [
      "/var/folders/xn/jj94n4tj5w90v1m3njdf44n80000gp/T/ipykernel_45706/3335976498.py:27: UserWarning: Could not infer format, so each element will be parsed individually, falling back to `dateutil`. To ensure parsing is consistent and as-expected, please specify a format.\n",
      "  df = pd.read_csv(\n"
     ]
    },
    {
     "name": "stdout",
     "output_type": "stream",
     "text": [
      "reading, altering, and saving match data file: https://www.football-data.co.uk/mmz4281/0607/I2.csv\n"
     ]
    },
    {
     "name": "stderr",
     "output_type": "stream",
     "text": [
      "/var/folders/xn/jj94n4tj5w90v1m3njdf44n80000gp/T/ipykernel_45706/3335976498.py:27: UserWarning: Could not infer format, so each element will be parsed individually, falling back to `dateutil`. To ensure parsing is consistent and as-expected, please specify a format.\n",
      "  df = pd.read_csv(\n"
     ]
    },
    {
     "name": "stdout",
     "output_type": "stream",
     "text": [
      "reading, altering, and saving match data file: https://www.football-data.co.uk/mmz4281/0607/I1.csv\n"
     ]
    },
    {
     "name": "stderr",
     "output_type": "stream",
     "text": [
      "/var/folders/xn/jj94n4tj5w90v1m3njdf44n80000gp/T/ipykernel_45706/3335976498.py:27: UserWarning: Could not infer format, so each element will be parsed individually, falling back to `dateutil`. To ensure parsing is consistent and as-expected, please specify a format.\n",
      "  df = pd.read_csv(\n"
     ]
    },
    {
     "name": "stdout",
     "output_type": "stream",
     "text": [
      "reading, altering, and saving match data file: https://www.football-data.co.uk/mmz4281/1516/I2.csv\n"
     ]
    },
    {
     "name": "stderr",
     "output_type": "stream",
     "text": [
      "/var/folders/xn/jj94n4tj5w90v1m3njdf44n80000gp/T/ipykernel_45706/3335976498.py:27: UserWarning: Could not infer format, so each element will be parsed individually, falling back to `dateutil`. To ensure parsing is consistent and as-expected, please specify a format.\n",
      "  df = pd.read_csv(\n"
     ]
    },
    {
     "name": "stdout",
     "output_type": "stream",
     "text": [
      "reading, altering, and saving match data file: https://www.football-data.co.uk/mmz4281/2324/I2.csv\n",
      "reading, altering, and saving match data file: https://www.football-data.co.uk/mmz4281/2021/I2.csv\n",
      "reading, altering, and saving match data file: https://www.football-data.co.uk/mmz4281/1011/I2.csv\n"
     ]
    },
    {
     "name": "stderr",
     "output_type": "stream",
     "text": [
      "/var/folders/xn/jj94n4tj5w90v1m3njdf44n80000gp/T/ipykernel_45706/3335976498.py:27: UserWarning: Could not infer format, so each element will be parsed individually, falling back to `dateutil`. To ensure parsing is consistent and as-expected, please specify a format.\n",
      "  df = pd.read_csv(\n"
     ]
    },
    {
     "name": "stdout",
     "output_type": "stream",
     "text": [
      "reading, altering, and saving match data file: https://www.football-data.co.uk/mmz4281/0001/I1.csv\n"
     ]
    },
    {
     "name": "stderr",
     "output_type": "stream",
     "text": [
      "/var/folders/xn/jj94n4tj5w90v1m3njdf44n80000gp/T/ipykernel_45706/3335976498.py:27: UserWarning: Could not infer format, so each element will be parsed individually, falling back to `dateutil`. To ensure parsing is consistent and as-expected, please specify a format.\n",
      "  df = pd.read_csv(\n"
     ]
    },
    {
     "name": "stdout",
     "output_type": "stream",
     "text": [
      "reading, altering, and saving match data file: https://www.football-data.co.uk/mmz4281/1314/I1.csv\n"
     ]
    },
    {
     "name": "stderr",
     "output_type": "stream",
     "text": [
      "/var/folders/xn/jj94n4tj5w90v1m3njdf44n80000gp/T/ipykernel_45706/3335976498.py:27: UserWarning: Could not infer format, so each element will be parsed individually, falling back to `dateutil`. To ensure parsing is consistent and as-expected, please specify a format.\n",
      "  df = pd.read_csv(\n"
     ]
    },
    {
     "name": "stdout",
     "output_type": "stream",
     "text": [
      "reading, altering, and saving match data file: https://www.football-data.co.uk/mmz4281/0001/I2.csv\n"
     ]
    },
    {
     "name": "stderr",
     "output_type": "stream",
     "text": [
      "/var/folders/xn/jj94n4tj5w90v1m3njdf44n80000gp/T/ipykernel_45706/3335976498.py:27: UserWarning: Could not infer format, so each element will be parsed individually, falling back to `dateutil`. To ensure parsing is consistent and as-expected, please specify a format.\n",
      "  df = pd.read_csv(\n"
     ]
    },
    {
     "name": "stdout",
     "output_type": "stream",
     "text": [
      "reading, altering, and saving match data file: https://www.football-data.co.uk/mmz4281/0506/I2.csv\n"
     ]
    },
    {
     "name": "stderr",
     "output_type": "stream",
     "text": [
      "/var/folders/xn/jj94n4tj5w90v1m3njdf44n80000gp/T/ipykernel_45706/3335976498.py:27: UserWarning: Could not infer format, so each element will be parsed individually, falling back to `dateutil`. To ensure parsing is consistent and as-expected, please specify a format.\n",
      "  df = pd.read_csv(\n"
     ]
    },
    {
     "name": "stdout",
     "output_type": "stream",
     "text": [
      "reading, altering, and saving match data file: https://www.football-data.co.uk/mmz4281/1718/I1.csv\n"
     ]
    },
    {
     "name": "stderr",
     "output_type": "stream",
     "text": [
      "/var/folders/xn/jj94n4tj5w90v1m3njdf44n80000gp/T/ipykernel_45706/3335976498.py:27: UserWarning: Could not infer format, so each element will be parsed individually, falling back to `dateutil`. To ensure parsing is consistent and as-expected, please specify a format.\n",
      "  df = pd.read_csv(\n"
     ]
    },
    {
     "name": "stdout",
     "output_type": "stream",
     "text": [
      "reading, altering, and saving match data file: https://www.football-data.co.uk/mmz4281/2122/I2.csv\n",
      "reading, altering, and saving match data file: https://www.football-data.co.uk/mmz4281/1112/I2.csv\n"
     ]
    },
    {
     "name": "stderr",
     "output_type": "stream",
     "text": [
      "/var/folders/xn/jj94n4tj5w90v1m3njdf44n80000gp/T/ipykernel_45706/3335976498.py:27: UserWarning: Could not infer format, so each element will be parsed individually, falling back to `dateutil`. To ensure parsing is consistent and as-expected, please specify a format.\n",
      "  df = pd.read_csv(\n",
      "/var/folders/xn/jj94n4tj5w90v1m3njdf44n80000gp/T/ipykernel_45706/3335976498.py:27: UserWarning: Could not infer format, so each element will be parsed individually, falling back to `dateutil`. To ensure parsing is consistent and as-expected, please specify a format.\n",
      "  df = pd.read_csv(\n"
     ]
    },
    {
     "name": "stdout",
     "output_type": "stream",
     "text": [
      "reading, altering, and saving match data file: https://www.football-data.co.uk/mmz4281/9596/I1.csv\n",
      "reading, altering, and saving match data file: https://www.football-data.co.uk/mmz4281/9394/I1.csv\n"
     ]
    },
    {
     "name": "stderr",
     "output_type": "stream",
     "text": [
      "/var/folders/xn/jj94n4tj5w90v1m3njdf44n80000gp/T/ipykernel_45706/3335976498.py:27: UserWarning: Could not infer format, so each element will be parsed individually, falling back to `dateutil`. To ensure parsing is consistent and as-expected, please specify a format.\n",
      "  df = pd.read_csv(\n"
     ]
    },
    {
     "name": "stdout",
     "output_type": "stream",
     "text": [
      "reading, altering, and saving match data file: https://www.football-data.co.uk/mmz4281/2223/I2.csv\n",
      "reading, altering, and saving match data file: https://www.football-data.co.uk/mmz4281/0304/I1.csv\n"
     ]
    },
    {
     "name": "stderr",
     "output_type": "stream",
     "text": [
      "/var/folders/xn/jj94n4tj5w90v1m3njdf44n80000gp/T/ipykernel_45706/3335976498.py:27: UserWarning: Could not infer format, so each element will be parsed individually, falling back to `dateutil`. To ensure parsing is consistent and as-expected, please specify a format.\n",
      "  df = pd.read_csv(\n"
     ]
    },
    {
     "name": "stdout",
     "output_type": "stream",
     "text": [
      "reading, altering, and saving match data file: https://www.football-data.co.uk/mmz4281/1617/I1.csv\n"
     ]
    },
    {
     "name": "stderr",
     "output_type": "stream",
     "text": [
      "/var/folders/xn/jj94n4tj5w90v1m3njdf44n80000gp/T/ipykernel_45706/3335976498.py:27: UserWarning: Could not infer format, so each element will be parsed individually, falling back to `dateutil`. To ensure parsing is consistent and as-expected, please specify a format.\n",
      "  df = pd.read_csv(\n"
     ]
    },
    {
     "name": "stdout",
     "output_type": "stream",
     "text": [
      "reading, altering, and saving match data file: https://www.football-data.co.uk/mmz4281/1415/I2.csv\n"
     ]
    },
    {
     "name": "stderr",
     "output_type": "stream",
     "text": [
      "/var/folders/xn/jj94n4tj5w90v1m3njdf44n80000gp/T/ipykernel_45706/3335976498.py:27: UserWarning: Could not infer format, so each element will be parsed individually, falling back to `dateutil`. To ensure parsing is consistent and as-expected, please specify a format.\n",
      "  df = pd.read_csv(\n"
     ]
    },
    {
     "name": "stdout",
     "output_type": "stream",
     "text": [
      "reading, altering, and saving match data file: https://www.football-data.co.uk/mmz4281/0910/I1.csv\n"
     ]
    },
    {
     "name": "stderr",
     "output_type": "stream",
     "text": [
      "/var/folders/xn/jj94n4tj5w90v1m3njdf44n80000gp/T/ipykernel_45706/3335976498.py:27: UserWarning: Could not infer format, so each element will be parsed individually, falling back to `dateutil`. To ensure parsing is consistent and as-expected, please specify a format.\n",
      "  df = pd.read_csv(\n",
      "/var/folders/xn/jj94n4tj5w90v1m3njdf44n80000gp/T/ipykernel_45706/3335976498.py:27: UserWarning: Could not infer format, so each element will be parsed individually, falling back to `dateutil`. To ensure parsing is consistent and as-expected, please specify a format.\n",
      "  df = pd.read_csv(\n"
     ]
    },
    {
     "name": "stdout",
     "output_type": "stream",
     "text": [
      "reading, altering, and saving match data file: https://www.football-data.co.uk/mmz4281/9900/I1.csv\n",
      "reading, altering, and saving match data file: https://www.football-data.co.uk/mmz4281/0102/I2.csv\n"
     ]
    },
    {
     "name": "stderr",
     "output_type": "stream",
     "text": [
      "/var/folders/xn/jj94n4tj5w90v1m3njdf44n80000gp/T/ipykernel_45706/3335976498.py:27: UserWarning: Could not infer format, so each element will be parsed individually, falling back to `dateutil`. To ensure parsing is consistent and as-expected, please specify a format.\n",
      "  df = pd.read_csv(\n"
     ]
    },
    {
     "name": "stdout",
     "output_type": "stream",
     "text": [
      "reading, altering, and saving match data file: https://www.football-data.co.uk/mmz4281/1819/I1.csv\n",
      "reading, altering, and saving match data file: https://www.football-data.co.uk/mmz4281/1718/I2.csv\n"
     ]
    },
    {
     "name": "stderr",
     "output_type": "stream",
     "text": [
      "/var/folders/xn/jj94n4tj5w90v1m3njdf44n80000gp/T/ipykernel_45706/3335976498.py:27: UserWarning: Could not infer format, so each element will be parsed individually, falling back to `dateutil`. To ensure parsing is consistent and as-expected, please specify a format.\n",
      "  df = pd.read_csv(\n"
     ]
    },
    {
     "name": "stdout",
     "output_type": "stream",
     "text": [
      "reading, altering, and saving match data file: https://www.football-data.co.uk/mmz4281/2223/I1.csv\n",
      "reading, altering, and saving match data file: https://www.football-data.co.uk/mmz4281/1516/I1.csv\n"
     ]
    },
    {
     "name": "stderr",
     "output_type": "stream",
     "text": [
      "/var/folders/xn/jj94n4tj5w90v1m3njdf44n80000gp/T/ipykernel_45706/3335976498.py:27: UserWarning: Could not infer format, so each element will be parsed individually, falling back to `dateutil`. To ensure parsing is consistent and as-expected, please specify a format.\n",
      "  df = pd.read_csv(\n"
     ]
    },
    {
     "name": "stdout",
     "output_type": "stream",
     "text": [
      "reading, altering, and saving match data file: https://www.football-data.co.uk/mmz4281/0708/I1.csv\n"
     ]
    },
    {
     "name": "stderr",
     "output_type": "stream",
     "text": [
      "/var/folders/xn/jj94n4tj5w90v1m3njdf44n80000gp/T/ipykernel_45706/3335976498.py:27: UserWarning: Could not infer format, so each element will be parsed individually, falling back to `dateutil`. To ensure parsing is consistent and as-expected, please specify a format.\n",
      "  df = pd.read_csv(\n",
      "/var/folders/xn/jj94n4tj5w90v1m3njdf44n80000gp/T/ipykernel_45706/3335976498.py:27: UserWarning: Could not infer format, so each element will be parsed individually, falling back to `dateutil`. To ensure parsing is consistent and as-expected, please specify a format.\n",
      "  df = pd.read_csv(\n"
     ]
    },
    {
     "name": "stdout",
     "output_type": "stream",
     "text": [
      "reading, altering, and saving match data file: https://www.football-data.co.uk/mmz4281/9900/I2.csv\n",
      "reading, altering, and saving match data file: https://www.football-data.co.uk/mmz4281/0405/I1.csv\n"
     ]
    },
    {
     "name": "stderr",
     "output_type": "stream",
     "text": [
      "/var/folders/xn/jj94n4tj5w90v1m3njdf44n80000gp/T/ipykernel_45706/3335976498.py:27: UserWarning: Could not infer format, so each element will be parsed individually, falling back to `dateutil`. To ensure parsing is consistent and as-expected, please specify a format.\n",
      "  df = pd.read_csv(\n"
     ]
    },
    {
     "name": "stdout",
     "output_type": "stream",
     "text": [
      "reading, altering, and saving match data file: https://www.football-data.co.uk/mmz4281/2021/I1.csv\n",
      "reading, altering, and saving match data file: https://www.football-data.co.uk/mmz4281/1213/I2.csv\n"
     ]
    },
    {
     "name": "stderr",
     "output_type": "stream",
     "text": [
      "/var/folders/xn/jj94n4tj5w90v1m3njdf44n80000gp/T/ipykernel_45706/3335976498.py:27: UserWarning: Could not infer format, so each element will be parsed individually, falling back to `dateutil`. To ensure parsing is consistent and as-expected, please specify a format.\n",
      "  df = pd.read_csv(\n"
     ]
    },
    {
     "name": "stdout",
     "output_type": "stream",
     "text": [
      "reading, altering, and saving match data file: https://www.football-data.co.uk/mmz4281/0708/I2.csv\n"
     ]
    },
    {
     "name": "stderr",
     "output_type": "stream",
     "text": [
      "/var/folders/xn/jj94n4tj5w90v1m3njdf44n80000gp/T/ipykernel_45706/3335976498.py:27: UserWarning: Could not infer format, so each element will be parsed individually, falling back to `dateutil`. To ensure parsing is consistent and as-expected, please specify a format.\n",
      "  df = pd.read_csv(\n"
     ]
    },
    {
     "name": "stdout",
     "output_type": "stream",
     "text": [
      "reading, altering, and saving match data file: https://www.football-data.co.uk/mmz4281/0506/I1.csv\n"
     ]
    },
    {
     "name": "stderr",
     "output_type": "stream",
     "text": [
      "/var/folders/xn/jj94n4tj5w90v1m3njdf44n80000gp/T/ipykernel_45706/3335976498.py:27: UserWarning: Could not infer format, so each element will be parsed individually, falling back to `dateutil`. To ensure parsing is consistent and as-expected, please specify a format.\n",
      "  df = pd.read_csv(\n"
     ]
    },
    {
     "name": "stdout",
     "output_type": "stream",
     "text": [
      "reading, altering, and saving match data file: https://www.football-data.co.uk/mmz4281/2425/I1.csv\n",
      "reading, altering, and saving match data file: https://www.football-data.co.uk/mmz4281/1011/I1.csv\n"
     ]
    },
    {
     "name": "stderr",
     "output_type": "stream",
     "text": [
      "/var/folders/xn/jj94n4tj5w90v1m3njdf44n80000gp/T/ipykernel_45706/3335976498.py:27: UserWarning: Could not infer format, so each element will be parsed individually, falling back to `dateutil`. To ensure parsing is consistent and as-expected, please specify a format.\n",
      "  df = pd.read_csv(\n",
      "/var/folders/xn/jj94n4tj5w90v1m3njdf44n80000gp/T/ipykernel_45706/3335976498.py:27: UserWarning: Could not infer format, so each element will be parsed individually, falling back to `dateutil`. To ensure parsing is consistent and as-expected, please specify a format.\n",
      "  df = pd.read_csv(\n"
     ]
    },
    {
     "name": "stdout",
     "output_type": "stream",
     "text": [
      "reading, altering, and saving match data file: https://www.football-data.co.uk/mmz4281/9495/SP1.csv\n",
      "reading, altering, and saving match data file: https://www.football-data.co.uk/mmz4281/0506/SP1.csv\n"
     ]
    },
    {
     "name": "stderr",
     "output_type": "stream",
     "text": [
      "/var/folders/xn/jj94n4tj5w90v1m3njdf44n80000gp/T/ipykernel_45706/3335976498.py:27: UserWarning: Could not infer format, so each element will be parsed individually, falling back to `dateutil`. To ensure parsing is consistent and as-expected, please specify a format.\n",
      "  df = pd.read_csv(\n"
     ]
    },
    {
     "name": "stdout",
     "output_type": "stream",
     "text": [
      "reading, altering, and saving match data file: https://www.football-data.co.uk/mmz4281/1011/SP1.csv\n"
     ]
    },
    {
     "name": "stderr",
     "output_type": "stream",
     "text": [
      "/var/folders/xn/jj94n4tj5w90v1m3njdf44n80000gp/T/ipykernel_45706/3335976498.py:27: UserWarning: Could not infer format, so each element will be parsed individually, falling back to `dateutil`. To ensure parsing is consistent and as-expected, please specify a format.\n",
      "  df = pd.read_csv(\n"
     ]
    },
    {
     "name": "stdout",
     "output_type": "stream",
     "text": [
      "reading, altering, and saving match data file: https://www.football-data.co.uk/mmz4281/0607/SP2.csv\n"
     ]
    },
    {
     "name": "stderr",
     "output_type": "stream",
     "text": [
      "/var/folders/xn/jj94n4tj5w90v1m3njdf44n80000gp/T/ipykernel_45706/3335976498.py:27: UserWarning: Could not infer format, so each element will be parsed individually, falling back to `dateutil`. To ensure parsing is consistent and as-expected, please specify a format.\n",
      "  df = pd.read_csv(\n"
     ]
    },
    {
     "name": "stdout",
     "output_type": "stream",
     "text": [
      "reading, altering, and saving match data file: https://www.football-data.co.uk/mmz4281/9697/SP1.csv\n"
     ]
    },
    {
     "name": "stderr",
     "output_type": "stream",
     "text": [
      "/var/folders/xn/jj94n4tj5w90v1m3njdf44n80000gp/T/ipykernel_45706/3335976498.py:27: UserWarning: Could not infer format, so each element will be parsed individually, falling back to `dateutil`. To ensure parsing is consistent and as-expected, please specify a format.\n",
      "  df = pd.read_csv(\n"
     ]
    },
    {
     "name": "stdout",
     "output_type": "stream",
     "text": [
      "reading, altering, and saving match data file: https://www.football-data.co.uk/mmz4281/1415/SP2.csv\n"
     ]
    },
    {
     "name": "stderr",
     "output_type": "stream",
     "text": [
      "/var/folders/xn/jj94n4tj5w90v1m3njdf44n80000gp/T/ipykernel_45706/3335976498.py:27: UserWarning: Could not infer format, so each element will be parsed individually, falling back to `dateutil`. To ensure parsing is consistent and as-expected, please specify a format.\n",
      "  df = pd.read_csv(\n"
     ]
    },
    {
     "name": "stdout",
     "output_type": "stream",
     "text": [
      "reading, altering, and saving match data file: https://www.football-data.co.uk/mmz4281/2223/SP2.csv\n",
      "reading, altering, and saving match data file: https://www.football-data.co.uk/mmz4281/1516/SP1.csv\n"
     ]
    },
    {
     "name": "stderr",
     "output_type": "stream",
     "text": [
      "/var/folders/xn/jj94n4tj5w90v1m3njdf44n80000gp/T/ipykernel_45706/3335976498.py:27: UserWarning: Could not infer format, so each element will be parsed individually, falling back to `dateutil`. To ensure parsing is consistent and as-expected, please specify a format.\n",
      "  df = pd.read_csv(\n"
     ]
    },
    {
     "name": "stdout",
     "output_type": "stream",
     "text": [
      "reading, altering, and saving match data file: https://www.football-data.co.uk/mmz4281/0102/SP2.csv\n"
     ]
    },
    {
     "name": "stderr",
     "output_type": "stream",
     "text": [
      "/var/folders/xn/jj94n4tj5w90v1m3njdf44n80000gp/T/ipykernel_45706/3335976498.py:27: UserWarning: Could not infer format, so each element will be parsed individually, falling back to `dateutil`. To ensure parsing is consistent and as-expected, please specify a format.\n",
      "  df = pd.read_csv(\n"
     ]
    },
    {
     "name": "stdout",
     "output_type": "stream",
     "text": [
      "reading, altering, and saving match data file: https://www.football-data.co.uk/mmz4281/9900/SP1.csv\n"
     ]
    },
    {
     "name": "stderr",
     "output_type": "stream",
     "text": [
      "/var/folders/xn/jj94n4tj5w90v1m3njdf44n80000gp/T/ipykernel_45706/3335976498.py:27: UserWarning: Could not infer format, so each element will be parsed individually, falling back to `dateutil`. To ensure parsing is consistent and as-expected, please specify a format.\n",
      "  df = pd.read_csv(\n"
     ]
    },
    {
     "name": "stdout",
     "output_type": "stream",
     "text": [
      "reading, altering, and saving match data file: https://www.football-data.co.uk/mmz4281/1112/SP2.csv\n"
     ]
    },
    {
     "name": "stderr",
     "output_type": "stream",
     "text": [
      "/var/folders/xn/jj94n4tj5w90v1m3njdf44n80000gp/T/ipykernel_45706/3335976498.py:27: UserWarning: Could not infer format, so each element will be parsed individually, falling back to `dateutil`. To ensure parsing is consistent and as-expected, please specify a format.\n",
      "  df = pd.read_csv(\n"
     ]
    },
    {
     "name": "stdout",
     "output_type": "stream",
     "text": [
      "reading, altering, and saving match data file: https://www.football-data.co.uk/mmz4281/1617/SP1.csv\n"
     ]
    },
    {
     "name": "stderr",
     "output_type": "stream",
     "text": [
      "/var/folders/xn/jj94n4tj5w90v1m3njdf44n80000gp/T/ipykernel_45706/3335976498.py:27: UserWarning: Could not infer format, so each element will be parsed individually, falling back to `dateutil`. To ensure parsing is consistent and as-expected, please specify a format.\n",
      "  df = pd.read_csv(\n"
     ]
    },
    {
     "name": "stdout",
     "output_type": "stream",
     "text": [
      "reading, altering, and saving match data file: https://www.football-data.co.uk/mmz4281/1213/SP1.csv\n"
     ]
    },
    {
     "name": "stderr",
     "output_type": "stream",
     "text": [
      "/var/folders/xn/jj94n4tj5w90v1m3njdf44n80000gp/T/ipykernel_45706/3335976498.py:27: UserWarning: Could not infer format, so each element will be parsed individually, falling back to `dateutil`. To ensure parsing is consistent and as-expected, please specify a format.\n",
      "  df = pd.read_csv(\n"
     ]
    },
    {
     "name": "stdout",
     "output_type": "stream",
     "text": [
      "reading, altering, and saving match data file: https://www.football-data.co.uk/mmz4281/1213/SP2.csv\n"
     ]
    },
    {
     "name": "stderr",
     "output_type": "stream",
     "text": [
      "/var/folders/xn/jj94n4tj5w90v1m3njdf44n80000gp/T/ipykernel_45706/3335976498.py:27: UserWarning: Could not infer format, so each element will be parsed individually, falling back to `dateutil`. To ensure parsing is consistent and as-expected, please specify a format.\n",
      "  df = pd.read_csv(\n"
     ]
    },
    {
     "name": "stdout",
     "output_type": "stream",
     "text": [
      "reading, altering, and saving match data file: https://www.football-data.co.uk/mmz4281/0405/SP2.csv\n",
      "reading, altering, and saving match data file: https://www.football-data.co.uk/mmz4281/9900/SP2.csv\n"
     ]
    },
    {
     "name": "stderr",
     "output_type": "stream",
     "text": [
      "/var/folders/xn/jj94n4tj5w90v1m3njdf44n80000gp/T/ipykernel_45706/3335976498.py:27: UserWarning: Could not infer format, so each element will be parsed individually, falling back to `dateutil`. To ensure parsing is consistent and as-expected, please specify a format.\n",
      "  df = pd.read_csv(\n"
     ]
    },
    {
     "name": "stdout",
     "output_type": "stream",
     "text": [
      "reading, altering, and saving match data file: https://www.football-data.co.uk/mmz4281/1819/SP2.csv\n",
      "reading, altering, and saving match data file: https://www.football-data.co.uk/mmz4281/0506/SP2.csv\n"
     ]
    },
    {
     "name": "stderr",
     "output_type": "stream",
     "text": [
      "/var/folders/xn/jj94n4tj5w90v1m3njdf44n80000gp/T/ipykernel_45706/3335976498.py:27: UserWarning: Could not infer format, so each element will be parsed individually, falling back to `dateutil`. To ensure parsing is consistent and as-expected, please specify a format.\n",
      "  df = pd.read_csv(\n"
     ]
    },
    {
     "name": "stdout",
     "output_type": "stream",
     "text": [
      "reading, altering, and saving match data file: https://www.football-data.co.uk/mmz4281/0809/SP2.csv\n"
     ]
    },
    {
     "name": "stderr",
     "output_type": "stream",
     "text": [
      "/var/folders/xn/jj94n4tj5w90v1m3njdf44n80000gp/T/ipykernel_45706/3335976498.py:27: UserWarning: Could not infer format, so each element will be parsed individually, falling back to `dateutil`. To ensure parsing is consistent and as-expected, please specify a format.\n",
      "  df = pd.read_csv(\n"
     ]
    },
    {
     "name": "stdout",
     "output_type": "stream",
     "text": [
      "reading, altering, and saving match data file: https://www.football-data.co.uk/mmz4281/1617/SP2.csv\n"
     ]
    },
    {
     "name": "stderr",
     "output_type": "stream",
     "text": [
      "/var/folders/xn/jj94n4tj5w90v1m3njdf44n80000gp/T/ipykernel_45706/3335976498.py:27: UserWarning: Could not infer format, so each element will be parsed individually, falling back to `dateutil`. To ensure parsing is consistent and as-expected, please specify a format.\n",
      "  df = pd.read_csv(\n"
     ]
    },
    {
     "name": "stdout",
     "output_type": "stream",
     "text": [
      "reading, altering, and saving match data file: https://www.football-data.co.uk/mmz4281/2122/SP1.csv\n",
      "reading, altering, and saving match data file: https://www.football-data.co.uk/mmz4281/2021/SP1.csv\n",
      "reading, altering, and saving match data file: https://www.football-data.co.uk/mmz4281/0203/SP2.csv\n"
     ]
    },
    {
     "name": "stderr",
     "output_type": "stream",
     "text": [
      "/var/folders/xn/jj94n4tj5w90v1m3njdf44n80000gp/T/ipykernel_45706/3335976498.py:27: UserWarning: Could not infer format, so each element will be parsed individually, falling back to `dateutil`. To ensure parsing is consistent and as-expected, please specify a format.\n",
      "  df = pd.read_csv(\n"
     ]
    },
    {
     "name": "stdout",
     "output_type": "stream",
     "text": [
      "reading, altering, and saving match data file: https://www.football-data.co.uk/mmz4281/0203/SP1.csv\n"
     ]
    },
    {
     "name": "stderr",
     "output_type": "stream",
     "text": [
      "/var/folders/xn/jj94n4tj5w90v1m3njdf44n80000gp/T/ipykernel_45706/3335976498.py:27: UserWarning: Could not infer format, so each element will be parsed individually, falling back to `dateutil`. To ensure parsing is consistent and as-expected, please specify a format.\n",
      "  df = pd.read_csv(\n"
     ]
    },
    {
     "name": "stdout",
     "output_type": "stream",
     "text": [
      "reading, altering, and saving match data file: https://www.football-data.co.uk/mmz4281/2223/SP1.csv\n",
      "reading, altering, and saving match data file: https://www.football-data.co.uk/mmz4281/1314/SP1.csv\n"
     ]
    },
    {
     "name": "stderr",
     "output_type": "stream",
     "text": [
      "/var/folders/xn/jj94n4tj5w90v1m3njdf44n80000gp/T/ipykernel_45706/3335976498.py:27: UserWarning: Could not infer format, so each element will be parsed individually, falling back to `dateutil`. To ensure parsing is consistent and as-expected, please specify a format.\n",
      "  df = pd.read_csv(\n"
     ]
    },
    {
     "name": "stdout",
     "output_type": "stream",
     "text": [
      "reading, altering, and saving match data file: https://www.football-data.co.uk/mmz4281/2324/SP2.csv\n",
      "reading, altering, and saving match data file: https://www.football-data.co.uk/mmz4281/1011/SP2.csv\n"
     ]
    },
    {
     "name": "stderr",
     "output_type": "stream",
     "text": [
      "/var/folders/xn/jj94n4tj5w90v1m3njdf44n80000gp/T/ipykernel_45706/3335976498.py:27: UserWarning: Could not infer format, so each element will be parsed individually, falling back to `dateutil`. To ensure parsing is consistent and as-expected, please specify a format.\n",
      "  df = pd.read_csv(\n"
     ]
    },
    {
     "name": "stdout",
     "output_type": "stream",
     "text": [
      "reading, altering, and saving match data file: https://www.football-data.co.uk/mmz4281/1920/SP1.csv\n",
      "reading, altering, and saving match data file: https://www.football-data.co.uk/mmz4281/2021/SP2.csv\n",
      "reading, altering, and saving match data file: https://www.football-data.co.uk/mmz4281/0607/SP1.csv\n"
     ]
    },
    {
     "name": "stderr",
     "output_type": "stream",
     "text": [
      "/var/folders/xn/jj94n4tj5w90v1m3njdf44n80000gp/T/ipykernel_45706/3335976498.py:27: UserWarning: Could not infer format, so each element will be parsed individually, falling back to `dateutil`. To ensure parsing is consistent and as-expected, please specify a format.\n",
      "  df = pd.read_csv(\n"
     ]
    },
    {
     "name": "stdout",
     "output_type": "stream",
     "text": [
      "reading, altering, and saving match data file: https://www.football-data.co.uk/mmz4281/0001/SP1.csv\n"
     ]
    },
    {
     "name": "stderr",
     "output_type": "stream",
     "text": [
      "/var/folders/xn/jj94n4tj5w90v1m3njdf44n80000gp/T/ipykernel_45706/3335976498.py:27: UserWarning: Could not infer format, so each element will be parsed individually, falling back to `dateutil`. To ensure parsing is consistent and as-expected, please specify a format.\n",
      "  df = pd.read_csv(\n"
     ]
    },
    {
     "name": "stdout",
     "output_type": "stream",
     "text": [
      "reading, altering, and saving match data file: https://www.football-data.co.uk/mmz4281/2324/SP1.csv\n",
      "reading, altering, and saving match data file: https://www.football-data.co.uk/mmz4281/2425/SP2.csv\n",
      "reading, altering, and saving match data file: https://www.football-data.co.uk/mmz4281/1718/SP2.csv\n"
     ]
    },
    {
     "name": "stderr",
     "output_type": "stream",
     "text": [
      "/var/folders/xn/jj94n4tj5w90v1m3njdf44n80000gp/T/ipykernel_45706/3335976498.py:27: UserWarning: Could not infer format, so each element will be parsed individually, falling back to `dateutil`. To ensure parsing is consistent and as-expected, please specify a format.\n",
      "  df = pd.read_csv(\n",
      "/var/folders/xn/jj94n4tj5w90v1m3njdf44n80000gp/T/ipykernel_45706/3335976498.py:27: UserWarning: Could not infer format, so each element will be parsed individually, falling back to `dateutil`. To ensure parsing is consistent and as-expected, please specify a format.\n",
      "  df = pd.read_csv(\n"
     ]
    },
    {
     "name": "stdout",
     "output_type": "stream",
     "text": [
      "reading, altering, and saving match data file: https://www.football-data.co.uk/mmz4281/9798/SP2.csv\n",
      "reading, altering, and saving match data file: https://www.football-data.co.uk/mmz4281/0910/SP2.csv\n"
     ]
    },
    {
     "name": "stderr",
     "output_type": "stream",
     "text": [
      "/var/folders/xn/jj94n4tj5w90v1m3njdf44n80000gp/T/ipykernel_45706/3335976498.py:27: UserWarning: Could not infer format, so each element will be parsed individually, falling back to `dateutil`. To ensure parsing is consistent and as-expected, please specify a format.\n",
      "  df = pd.read_csv(\n",
      "/var/folders/xn/jj94n4tj5w90v1m3njdf44n80000gp/T/ipykernel_45706/3335976498.py:27: UserWarning: Could not infer format, so each element will be parsed individually, falling back to `dateutil`. To ensure parsing is consistent and as-expected, please specify a format.\n",
      "  df = pd.read_csv(\n"
     ]
    },
    {
     "name": "stdout",
     "output_type": "stream",
     "text": [
      "reading, altering, and saving match data file: https://www.football-data.co.uk/mmz4281/9899/SP2.csv\n",
      "reading, altering, and saving match data file: https://www.football-data.co.uk/mmz4281/9697/SP2.csv\n"
     ]
    },
    {
     "name": "stderr",
     "output_type": "stream",
     "text": [
      "/var/folders/xn/jj94n4tj5w90v1m3njdf44n80000gp/T/ipykernel_45706/3335976498.py:27: UserWarning: Could not infer format, so each element will be parsed individually, falling back to `dateutil`. To ensure parsing is consistent and as-expected, please specify a format.\n",
      "  df = pd.read_csv(\n"
     ]
    },
    {
     "name": "stdout",
     "output_type": "stream",
     "text": [
      "reading, altering, and saving match data file: https://www.football-data.co.uk/mmz4281/0405/SP1.csv\n"
     ]
    },
    {
     "name": "stderr",
     "output_type": "stream",
     "text": [
      "/var/folders/xn/jj94n4tj5w90v1m3njdf44n80000gp/T/ipykernel_45706/3335976498.py:27: UserWarning: Could not infer format, so each element will be parsed individually, falling back to `dateutil`. To ensure parsing is consistent and as-expected, please specify a format.\n",
      "  df = pd.read_csv(\n"
     ]
    },
    {
     "name": "stdout",
     "output_type": "stream",
     "text": [
      "reading, altering, and saving match data file: https://www.football-data.co.uk/mmz4281/2425/SP1.csv\n",
      "reading, altering, and saving match data file: https://www.football-data.co.uk/mmz4281/9798/SP1.csv\n",
      "reading, altering, and saving match data file: https://www.football-data.co.uk/mmz4281/0304/SP1.csv\n"
     ]
    },
    {
     "name": "stderr",
     "output_type": "stream",
     "text": [
      "/var/folders/xn/jj94n4tj5w90v1m3njdf44n80000gp/T/ipykernel_45706/3335976498.py:27: UserWarning: Could not infer format, so each element will be parsed individually, falling back to `dateutil`. To ensure parsing is consistent and as-expected, please specify a format.\n",
      "  df = pd.read_csv(\n",
      "/var/folders/xn/jj94n4tj5w90v1m3njdf44n80000gp/T/ipykernel_45706/3335976498.py:27: UserWarning: Could not infer format, so each element will be parsed individually, falling back to `dateutil`. To ensure parsing is consistent and as-expected, please specify a format.\n",
      "  df = pd.read_csv(\n"
     ]
    },
    {
     "name": "stdout",
     "output_type": "stream",
     "text": [
      "reading, altering, and saving match data file: https://www.football-data.co.uk/mmz4281/9596/SP1.csv\n"
     ]
    },
    {
     "name": "stderr",
     "output_type": "stream",
     "text": [
      "/var/folders/xn/jj94n4tj5w90v1m3njdf44n80000gp/T/ipykernel_45706/3335976498.py:27: UserWarning: Could not infer format, so each element will be parsed individually, falling back to `dateutil`. To ensure parsing is consistent and as-expected, please specify a format.\n",
      "  df = pd.read_csv(\n"
     ]
    },
    {
     "name": "stdout",
     "output_type": "stream",
     "text": [
      "reading, altering, and saving match data file: https://www.football-data.co.uk/mmz4281/0708/SP2.csv\n"
     ]
    },
    {
     "name": "stderr",
     "output_type": "stream",
     "text": [
      "/var/folders/xn/jj94n4tj5w90v1m3njdf44n80000gp/T/ipykernel_45706/3335976498.py:27: UserWarning: Could not infer format, so each element will be parsed individually, falling back to `dateutil`. To ensure parsing is consistent and as-expected, please specify a format.\n",
      "  df = pd.read_csv(\n"
     ]
    },
    {
     "name": "stdout",
     "output_type": "stream",
     "text": [
      "reading, altering, and saving match data file: https://www.football-data.co.uk/mmz4281/0809/SP1.csv\n"
     ]
    },
    {
     "name": "stderr",
     "output_type": "stream",
     "text": [
      "/var/folders/xn/jj94n4tj5w90v1m3njdf44n80000gp/T/ipykernel_45706/3335976498.py:27: UserWarning: Could not infer format, so each element will be parsed individually, falling back to `dateutil`. To ensure parsing is consistent and as-expected, please specify a format.\n",
      "  df = pd.read_csv(\n"
     ]
    },
    {
     "name": "stdout",
     "output_type": "stream",
     "text": [
      "reading, altering, and saving match data file: https://www.football-data.co.uk/mmz4281/1516/SP2.csv\n"
     ]
    },
    {
     "name": "stderr",
     "output_type": "stream",
     "text": [
      "/var/folders/xn/jj94n4tj5w90v1m3njdf44n80000gp/T/ipykernel_45706/3335976498.py:27: UserWarning: Could not infer format, so each element will be parsed individually, falling back to `dateutil`. To ensure parsing is consistent and as-expected, please specify a format.\n",
      "  df = pd.read_csv(\n"
     ]
    },
    {
     "name": "stdout",
     "output_type": "stream",
     "text": [
      "reading, altering, and saving match data file: https://www.football-data.co.uk/mmz4281/0304/SP2.csv\n"
     ]
    },
    {
     "name": "stderr",
     "output_type": "stream",
     "text": [
      "/var/folders/xn/jj94n4tj5w90v1m3njdf44n80000gp/T/ipykernel_45706/3335976498.py:27: UserWarning: Could not infer format, so each element will be parsed individually, falling back to `dateutil`. To ensure parsing is consistent and as-expected, please specify a format.\n",
      "  df = pd.read_csv(\n",
      "/var/folders/xn/jj94n4tj5w90v1m3njdf44n80000gp/T/ipykernel_45706/3335976498.py:27: UserWarning: Could not infer format, so each element will be parsed individually, falling back to `dateutil`. To ensure parsing is consistent and as-expected, please specify a format.\n",
      "  df = pd.read_csv(\n"
     ]
    },
    {
     "name": "stdout",
     "output_type": "stream",
     "text": [
      "reading, altering, and saving match data file: https://www.football-data.co.uk/mmz4281/9394/SP1.csv\n",
      "reading, altering, and saving match data file: https://www.football-data.co.uk/mmz4281/1819/SP1.csv\n",
      "reading, altering, and saving match data file: https://www.football-data.co.uk/mmz4281/0001/SP2.csv\n"
     ]
    },
    {
     "name": "stderr",
     "output_type": "stream",
     "text": [
      "/var/folders/xn/jj94n4tj5w90v1m3njdf44n80000gp/T/ipykernel_45706/3335976498.py:27: UserWarning: Could not infer format, so each element will be parsed individually, falling back to `dateutil`. To ensure parsing is consistent and as-expected, please specify a format.\n",
      "  df = pd.read_csv(\n"
     ]
    },
    {
     "name": "stdout",
     "output_type": "stream",
     "text": [
      "reading, altering, and saving match data file: https://www.football-data.co.uk/mmz4281/9899/SP1.csv\n"
     ]
    },
    {
     "name": "stderr",
     "output_type": "stream",
     "text": [
      "/var/folders/xn/jj94n4tj5w90v1m3njdf44n80000gp/T/ipykernel_45706/3335976498.py:27: UserWarning: Could not infer format, so each element will be parsed individually, falling back to `dateutil`. To ensure parsing is consistent and as-expected, please specify a format.\n",
      "  df = pd.read_csv(\n"
     ]
    },
    {
     "name": "stdout",
     "output_type": "stream",
     "text": [
      "reading, altering, and saving match data file: https://www.football-data.co.uk/mmz4281/0910/SP1.csv\n"
     ]
    },
    {
     "name": "stderr",
     "output_type": "stream",
     "text": [
      "/var/folders/xn/jj94n4tj5w90v1m3njdf44n80000gp/T/ipykernel_45706/3335976498.py:27: UserWarning: Could not infer format, so each element will be parsed individually, falling back to `dateutil`. To ensure parsing is consistent and as-expected, please specify a format.\n",
      "  df = pd.read_csv(\n"
     ]
    },
    {
     "name": "stdout",
     "output_type": "stream",
     "text": [
      "reading, altering, and saving match data file: https://www.football-data.co.uk/mmz4281/0102/SP1.csv\n"
     ]
    },
    {
     "name": "stderr",
     "output_type": "stream",
     "text": [
      "/var/folders/xn/jj94n4tj5w90v1m3njdf44n80000gp/T/ipykernel_45706/3335976498.py:27: UserWarning: Could not infer format, so each element will be parsed individually, falling back to `dateutil`. To ensure parsing is consistent and as-expected, please specify a format.\n",
      "  df = pd.read_csv(\n"
     ]
    },
    {
     "name": "stdout",
     "output_type": "stream",
     "text": [
      "reading, altering, and saving match data file: https://www.football-data.co.uk/mmz4281/1314/SP2.csv\n"
     ]
    },
    {
     "name": "stderr",
     "output_type": "stream",
     "text": [
      "/var/folders/xn/jj94n4tj5w90v1m3njdf44n80000gp/T/ipykernel_45706/3335976498.py:27: UserWarning: Could not infer format, so each element will be parsed individually, falling back to `dateutil`. To ensure parsing is consistent and as-expected, please specify a format.\n",
      "  df = pd.read_csv(\n"
     ]
    },
    {
     "name": "stdout",
     "output_type": "stream",
     "text": [
      "reading, altering, and saving match data file: https://www.football-data.co.uk/mmz4281/1718/SP1.csv\n"
     ]
    },
    {
     "name": "stderr",
     "output_type": "stream",
     "text": [
      "/var/folders/xn/jj94n4tj5w90v1m3njdf44n80000gp/T/ipykernel_45706/3335976498.py:27: UserWarning: Could not infer format, so each element will be parsed individually, falling back to `dateutil`. To ensure parsing is consistent and as-expected, please specify a format.\n",
      "  df = pd.read_csv(\n"
     ]
    },
    {
     "name": "stdout",
     "output_type": "stream",
     "text": [
      "reading, altering, and saving match data file: https://www.football-data.co.uk/mmz4281/1920/SP2.csv\n",
      "reading, altering, and saving match data file: https://www.football-data.co.uk/mmz4281/0708/SP1.csv\n"
     ]
    },
    {
     "name": "stderr",
     "output_type": "stream",
     "text": [
      "/var/folders/xn/jj94n4tj5w90v1m3njdf44n80000gp/T/ipykernel_45706/3335976498.py:27: UserWarning: Could not infer format, so each element will be parsed individually, falling back to `dateutil`. To ensure parsing is consistent and as-expected, please specify a format.\n",
      "  df = pd.read_csv(\n"
     ]
    },
    {
     "name": "stdout",
     "output_type": "stream",
     "text": [
      "reading, altering, and saving match data file: https://www.football-data.co.uk/mmz4281/2122/SP2.csv\n",
      "reading, altering, and saving match data file: https://www.football-data.co.uk/mmz4281/1112/SP1.csv\n"
     ]
    },
    {
     "name": "stderr",
     "output_type": "stream",
     "text": [
      "/var/folders/xn/jj94n4tj5w90v1m3njdf44n80000gp/T/ipykernel_45706/3335976498.py:27: UserWarning: Could not infer format, so each element will be parsed individually, falling back to `dateutil`. To ensure parsing is consistent and as-expected, please specify a format.\n",
      "  df = pd.read_csv(\n"
     ]
    },
    {
     "name": "stdout",
     "output_type": "stream",
     "text": [
      "reading, altering, and saving match data file: https://www.football-data.co.uk/mmz4281/1415/SP1.csv\n"
     ]
    },
    {
     "name": "stderr",
     "output_type": "stream",
     "text": [
      "/var/folders/xn/jj94n4tj5w90v1m3njdf44n80000gp/T/ipykernel_45706/3335976498.py:27: UserWarning: Could not infer format, so each element will be parsed individually, falling back to `dateutil`. To ensure parsing is consistent and as-expected, please specify a format.\n",
      "  df = pd.read_csv(\n"
     ]
    },
    {
     "name": "stdout",
     "output_type": "stream",
     "text": [
      "reading, altering, and saving match data file: https://www.football-data.co.uk/mmz4281/0607/F2.csv\n"
     ]
    },
    {
     "name": "stderr",
     "output_type": "stream",
     "text": [
      "/var/folders/xn/jj94n4tj5w90v1m3njdf44n80000gp/T/ipykernel_45706/3335976498.py:27: UserWarning: Could not infer format, so each element will be parsed individually, falling back to `dateutil`. To ensure parsing is consistent and as-expected, please specify a format.\n",
      "  df = pd.read_csv(\n"
     ]
    },
    {
     "name": "stdout",
     "output_type": "stream",
     "text": [
      "reading, altering, and saving match data file: https://www.football-data.co.uk/mmz4281/9697/F1.csv\n"
     ]
    },
    {
     "name": "stderr",
     "output_type": "stream",
     "text": [
      "/var/folders/xn/jj94n4tj5w90v1m3njdf44n80000gp/T/ipykernel_45706/3335976498.py:27: UserWarning: Could not infer format, so each element will be parsed individually, falling back to `dateutil`. To ensure parsing is consistent and as-expected, please specify a format.\n",
      "  df = pd.read_csv(\n",
      "/var/folders/xn/jj94n4tj5w90v1m3njdf44n80000gp/T/ipykernel_45706/3335976498.py:27: UserWarning: Could not infer format, so each element will be parsed individually, falling back to `dateutil`. To ensure parsing is consistent and as-expected, please specify a format.\n",
      "  df = pd.read_csv(\n"
     ]
    },
    {
     "name": "stdout",
     "output_type": "stream",
     "text": [
      "reading, altering, and saving match data file: https://www.football-data.co.uk/mmz4281/9798/F1.csv\n",
      "reading, altering, and saving match data file: https://www.football-data.co.uk/mmz4281/2223/F1.csv\n",
      "reading, altering, and saving match data file: https://www.football-data.co.uk/mmz4281/0809/F2.csv\n"
     ]
    },
    {
     "name": "stderr",
     "output_type": "stream",
     "text": [
      "/var/folders/xn/jj94n4tj5w90v1m3njdf44n80000gp/T/ipykernel_45706/3335976498.py:27: UserWarning: Could not infer format, so each element will be parsed individually, falling back to `dateutil`. To ensure parsing is consistent and as-expected, please specify a format.\n",
      "  df = pd.read_csv(\n"
     ]
    },
    {
     "name": "stdout",
     "output_type": "stream",
     "text": [
      "reading, altering, and saving match data file: https://www.football-data.co.uk/mmz4281/9899/F1.csv\n"
     ]
    },
    {
     "name": "stderr",
     "output_type": "stream",
     "text": [
      "/var/folders/xn/jj94n4tj5w90v1m3njdf44n80000gp/T/ipykernel_45706/3335976498.py:27: UserWarning: Could not infer format, so each element will be parsed individually, falling back to `dateutil`. To ensure parsing is consistent and as-expected, please specify a format.\n",
      "  df = pd.read_csv(\n"
     ]
    },
    {
     "name": "stdout",
     "output_type": "stream",
     "text": [
      "reading, altering, and saving match data file: https://www.football-data.co.uk/mmz4281/2223/F2.csv\n",
      "reading, altering, and saving match data file: https://www.football-data.co.uk/mmz4281/0102/F1.csv\n"
     ]
    },
    {
     "name": "stderr",
     "output_type": "stream",
     "text": [
      "/var/folders/xn/jj94n4tj5w90v1m3njdf44n80000gp/T/ipykernel_45706/3335976498.py:27: UserWarning: Could not infer format, so each element will be parsed individually, falling back to `dateutil`. To ensure parsing is consistent and as-expected, please specify a format.\n",
      "  df = pd.read_csv(\n"
     ]
    },
    {
     "name": "stdout",
     "output_type": "stream",
     "text": [
      "reading, altering, and saving match data file: https://www.football-data.co.uk/mmz4281/1516/F1.csv\n"
     ]
    },
    {
     "name": "stderr",
     "output_type": "stream",
     "text": [
      "/var/folders/xn/jj94n4tj5w90v1m3njdf44n80000gp/T/ipykernel_45706/3335976498.py:27: UserWarning: Could not infer format, so each element will be parsed individually, falling back to `dateutil`. To ensure parsing is consistent and as-expected, please specify a format.\n",
      "  df = pd.read_csv(\n"
     ]
    },
    {
     "name": "stdout",
     "output_type": "stream",
     "text": [
      "reading, altering, and saving match data file: https://www.football-data.co.uk/mmz4281/1819/F2.csv\n",
      "reading, altering, and saving match data file: https://www.football-data.co.uk/mmz4281/0910/F1.csv\n"
     ]
    },
    {
     "name": "stderr",
     "output_type": "stream",
     "text": [
      "/var/folders/xn/jj94n4tj5w90v1m3njdf44n80000gp/T/ipykernel_45706/3335976498.py:27: UserWarning: Could not infer format, so each element will be parsed individually, falling back to `dateutil`. To ensure parsing is consistent and as-expected, please specify a format.\n",
      "  df = pd.read_csv(\n"
     ]
    },
    {
     "name": "stdout",
     "output_type": "stream",
     "text": [
      "reading, altering, and saving match data file: https://www.football-data.co.uk/mmz4281/1112/F2.csv\n"
     ]
    },
    {
     "name": "stderr",
     "output_type": "stream",
     "text": [
      "/var/folders/xn/jj94n4tj5w90v1m3njdf44n80000gp/T/ipykernel_45706/3335976498.py:27: UserWarning: Could not infer format, so each element will be parsed individually, falling back to `dateutil`. To ensure parsing is consistent and as-expected, please specify a format.\n",
      "  df = pd.read_csv(\n"
     ]
    },
    {
     "name": "stdout",
     "output_type": "stream",
     "text": [
      "reading, altering, and saving match data file: https://www.football-data.co.uk/mmz4281/0304/F2.csv\n"
     ]
    },
    {
     "name": "stderr",
     "output_type": "stream",
     "text": [
      "/var/folders/xn/jj94n4tj5w90v1m3njdf44n80000gp/T/ipykernel_45706/3335976498.py:27: UserWarning: Could not infer format, so each element will be parsed individually, falling back to `dateutil`. To ensure parsing is consistent and as-expected, please specify a format.\n",
      "  df = pd.read_csv(\n"
     ]
    },
    {
     "name": "stdout",
     "output_type": "stream",
     "text": [
      "reading, altering, and saving match data file: https://www.football-data.co.uk/mmz4281/0001/F2.csv\n"
     ]
    },
    {
     "name": "stderr",
     "output_type": "stream",
     "text": [
      "/var/folders/xn/jj94n4tj5w90v1m3njdf44n80000gp/T/ipykernel_45706/3335976498.py:27: UserWarning: Could not infer format, so each element will be parsed individually, falling back to `dateutil`. To ensure parsing is consistent and as-expected, please specify a format.\n",
      "  df = pd.read_csv(\n"
     ]
    },
    {
     "name": "stdout",
     "output_type": "stream",
     "text": [
      "reading, altering, and saving match data file: https://www.football-data.co.uk/mmz4281/2021/F1.csv\n",
      "reading, altering, and saving match data file: https://www.football-data.co.uk/mmz4281/0001/F1.csv\n"
     ]
    },
    {
     "name": "stderr",
     "output_type": "stream",
     "text": [
      "/var/folders/xn/jj94n4tj5w90v1m3njdf44n80000gp/T/ipykernel_45706/3335976498.py:27: UserWarning: Could not infer format, so each element will be parsed individually, falling back to `dateutil`. To ensure parsing is consistent and as-expected, please specify a format.\n",
      "  df = pd.read_csv(\n"
     ]
    },
    {
     "name": "stdout",
     "output_type": "stream",
     "text": [
      "reading, altering, and saving match data file: https://www.football-data.co.uk/mmz4281/1718/F2.csv\n"
     ]
    },
    {
     "name": "stderr",
     "output_type": "stream",
     "text": [
      "/var/folders/xn/jj94n4tj5w90v1m3njdf44n80000gp/T/ipykernel_45706/3335976498.py:27: UserWarning: Could not infer format, so each element will be parsed individually, falling back to `dateutil`. To ensure parsing is consistent and as-expected, please specify a format.\n",
      "  df = pd.read_csv(\n"
     ]
    },
    {
     "name": "stdout",
     "output_type": "stream",
     "text": [
      "reading, altering, and saving match data file: https://www.football-data.co.uk/mmz4281/1516/F2.csv\n"
     ]
    },
    {
     "name": "stderr",
     "output_type": "stream",
     "text": [
      "/var/folders/xn/jj94n4tj5w90v1m3njdf44n80000gp/T/ipykernel_45706/3335976498.py:27: UserWarning: Could not infer format, so each element will be parsed individually, falling back to `dateutil`. To ensure parsing is consistent and as-expected, please specify a format.\n",
      "  df = pd.read_csv(\n"
     ]
    },
    {
     "name": "stdout",
     "output_type": "stream",
     "text": [
      "reading, altering, and saving match data file: https://www.football-data.co.uk/mmz4281/1415/F1.csv\n"
     ]
    },
    {
     "name": "stderr",
     "output_type": "stream",
     "text": [
      "/var/folders/xn/jj94n4tj5w90v1m3njdf44n80000gp/T/ipykernel_45706/3335976498.py:27: UserWarning: Could not infer format, so each element will be parsed individually, falling back to `dateutil`. To ensure parsing is consistent and as-expected, please specify a format.\n",
      "  df = pd.read_csv(\n"
     ]
    },
    {
     "name": "stdout",
     "output_type": "stream",
     "text": [
      "reading, altering, and saving match data file: https://www.football-data.co.uk/mmz4281/9596/F1.csv\n"
     ]
    },
    {
     "name": "stderr",
     "output_type": "stream",
     "text": [
      "/var/folders/xn/jj94n4tj5w90v1m3njdf44n80000gp/T/ipykernel_45706/3335976498.py:27: UserWarning: Could not infer format, so each element will be parsed individually, falling back to `dateutil`. To ensure parsing is consistent and as-expected, please specify a format.\n",
      "  df = pd.read_csv(\n"
     ]
    },
    {
     "name": "stdout",
     "output_type": "stream",
     "text": [
      "reading, altering, and saving match data file: https://www.football-data.co.uk/mmz4281/1213/F2.csv\n"
     ]
    },
    {
     "name": "stderr",
     "output_type": "stream",
     "text": [
      "/var/folders/xn/jj94n4tj5w90v1m3njdf44n80000gp/T/ipykernel_45706/3335976498.py:27: UserWarning: Could not infer format, so each element will be parsed individually, falling back to `dateutil`. To ensure parsing is consistent and as-expected, please specify a format.\n",
      "  df = pd.read_csv(\n"
     ]
    },
    {
     "name": "stdout",
     "output_type": "stream",
     "text": [
      "reading, altering, and saving match data file: https://www.football-data.co.uk/mmz4281/9394/F1.csv\n"
     ]
    },
    {
     "name": "stderr",
     "output_type": "stream",
     "text": [
      "/var/folders/xn/jj94n4tj5w90v1m3njdf44n80000gp/T/ipykernel_45706/3335976498.py:27: UserWarning: Could not infer format, so each element will be parsed individually, falling back to `dateutil`. To ensure parsing is consistent and as-expected, please specify a format.\n",
      "  df = pd.read_csv(\n"
     ]
    },
    {
     "name": "stdout",
     "output_type": "stream",
     "text": [
      "reading, altering, and saving match data file: https://www.football-data.co.uk/mmz4281/2425/F2.csv\n",
      "reading, altering, and saving match data file: https://www.football-data.co.uk/mmz4281/0102/F2.csv\n"
     ]
    },
    {
     "name": "stderr",
     "output_type": "stream",
     "text": [
      "/var/folders/xn/jj94n4tj5w90v1m3njdf44n80000gp/T/ipykernel_45706/3335976498.py:27: UserWarning: Could not infer format, so each element will be parsed individually, falling back to `dateutil`. To ensure parsing is consistent and as-expected, please specify a format.\n",
      "  df = pd.read_csv(\n"
     ]
    },
    {
     "name": "stdout",
     "output_type": "stream",
     "text": [
      "reading, altering, and saving match data file: https://www.football-data.co.uk/mmz4281/2324/F2.csv\n",
      "reading, altering, and saving match data file: https://www.football-data.co.uk/mmz4281/1415/F2.csv\n"
     ]
    },
    {
     "name": "stderr",
     "output_type": "stream",
     "text": [
      "/var/folders/xn/jj94n4tj5w90v1m3njdf44n80000gp/T/ipykernel_45706/3335976498.py:27: UserWarning: Could not infer format, so each element will be parsed individually, falling back to `dateutil`. To ensure parsing is consistent and as-expected, please specify a format.\n",
      "  df = pd.read_csv(\n"
     ]
    },
    {
     "name": "stdout",
     "output_type": "stream",
     "text": [
      "reading, altering, and saving match data file: https://www.football-data.co.uk/mmz4281/0708/F1.csv\n"
     ]
    },
    {
     "name": "stderr",
     "output_type": "stream",
     "text": [
      "/var/folders/xn/jj94n4tj5w90v1m3njdf44n80000gp/T/ipykernel_45706/3335976498.py:27: UserWarning: Could not infer format, so each element will be parsed individually, falling back to `dateutil`. To ensure parsing is consistent and as-expected, please specify a format.\n",
      "  df = pd.read_csv(\n"
     ]
    },
    {
     "name": "stdout",
     "output_type": "stream",
     "text": [
      "reading, altering, and saving match data file: https://www.football-data.co.uk/mmz4281/0809/F1.csv\n"
     ]
    },
    {
     "name": "stderr",
     "output_type": "stream",
     "text": [
      "/var/folders/xn/jj94n4tj5w90v1m3njdf44n80000gp/T/ipykernel_45706/3335976498.py:27: UserWarning: Could not infer format, so each element will be parsed individually, falling back to `dateutil`. To ensure parsing is consistent and as-expected, please specify a format.\n",
      "  df = pd.read_csv(\n"
     ]
    },
    {
     "name": "stdout",
     "output_type": "stream",
     "text": [
      "reading, altering, and saving match data file: https://www.football-data.co.uk/mmz4281/9900/F1.csv\n"
     ]
    },
    {
     "name": "stderr",
     "output_type": "stream",
     "text": [
      "/var/folders/xn/jj94n4tj5w90v1m3njdf44n80000gp/T/ipykernel_45706/3335976498.py:27: UserWarning: Could not infer format, so each element will be parsed individually, falling back to `dateutil`. To ensure parsing is consistent and as-expected, please specify a format.\n",
      "  df = pd.read_csv(\n"
     ]
    },
    {
     "name": "stdout",
     "output_type": "stream",
     "text": [
      "reading, altering, and saving match data file: https://www.football-data.co.uk/mmz4281/1920/F2.csv\n",
      "reading, altering, and saving match data file: https://www.football-data.co.uk/mmz4281/9798/F2.csv\n"
     ]
    },
    {
     "name": "stderr",
     "output_type": "stream",
     "text": [
      "/var/folders/xn/jj94n4tj5w90v1m3njdf44n80000gp/T/ipykernel_45706/3335976498.py:27: UserWarning: Could not infer format, so each element will be parsed individually, falling back to `dateutil`. To ensure parsing is consistent and as-expected, please specify a format.\n",
      "  df = pd.read_csv(\n"
     ]
    },
    {
     "name": "stdout",
     "output_type": "stream",
     "text": [
      "reading, altering, and saving match data file: https://www.football-data.co.uk/mmz4281/2021/F2.csv\n",
      "reading, altering, and saving match data file: https://www.football-data.co.uk/mmz4281/0506/F2.csv\n"
     ]
    },
    {
     "name": "stderr",
     "output_type": "stream",
     "text": [
      "/var/folders/xn/jj94n4tj5w90v1m3njdf44n80000gp/T/ipykernel_45706/3335976498.py:27: UserWarning: Could not infer format, so each element will be parsed individually, falling back to `dateutil`. To ensure parsing is consistent and as-expected, please specify a format.\n",
      "  df = pd.read_csv(\n"
     ]
    },
    {
     "name": "stdout",
     "output_type": "stream",
     "text": [
      "reading, altering, and saving match data file: https://www.football-data.co.uk/mmz4281/1617/F2.csv\n"
     ]
    },
    {
     "name": "stderr",
     "output_type": "stream",
     "text": [
      "/var/folders/xn/jj94n4tj5w90v1m3njdf44n80000gp/T/ipykernel_45706/3335976498.py:27: UserWarning: Could not infer format, so each element will be parsed individually, falling back to `dateutil`. To ensure parsing is consistent and as-expected, please specify a format.\n",
      "  df = pd.read_csv(\n"
     ]
    },
    {
     "name": "stdout",
     "output_type": "stream",
     "text": [
      "reading, altering, and saving match data file: https://www.football-data.co.uk/mmz4281/0405/F2.csv\n"
     ]
    },
    {
     "name": "stderr",
     "output_type": "stream",
     "text": [
      "/var/folders/xn/jj94n4tj5w90v1m3njdf44n80000gp/T/ipykernel_45706/3335976498.py:27: UserWarning: Could not infer format, so each element will be parsed individually, falling back to `dateutil`. To ensure parsing is consistent and as-expected, please specify a format.\n",
      "  df = pd.read_csv(\n"
     ]
    },
    {
     "name": "stdout",
     "output_type": "stream",
     "text": [
      "reading, altering, and saving match data file: https://www.football-data.co.uk/mmz4281/9899/F2.csv\n"
     ]
    },
    {
     "name": "stderr",
     "output_type": "stream",
     "text": [
      "/var/folders/xn/jj94n4tj5w90v1m3njdf44n80000gp/T/ipykernel_45706/3335976498.py:27: UserWarning: Could not infer format, so each element will be parsed individually, falling back to `dateutil`. To ensure parsing is consistent and as-expected, please specify a format.\n",
      "  df = pd.read_csv(\n"
     ]
    },
    {
     "name": "stdout",
     "output_type": "stream",
     "text": [
      "reading, altering, and saving match data file: https://www.football-data.co.uk/mmz4281/1920/F1.csv\n",
      "reading, altering, and saving match data file: https://www.football-data.co.uk/mmz4281/9495/F1.csv\n"
     ]
    },
    {
     "name": "stderr",
     "output_type": "stream",
     "text": [
      "/var/folders/xn/jj94n4tj5w90v1m3njdf44n80000gp/T/ipykernel_45706/3335976498.py:27: UserWarning: Could not infer format, so each element will be parsed individually, falling back to `dateutil`. To ensure parsing is consistent and as-expected, please specify a format.\n",
      "  df = pd.read_csv(\n"
     ]
    },
    {
     "name": "stdout",
     "output_type": "stream",
     "text": [
      "reading, altering, and saving match data file: https://www.football-data.co.uk/mmz4281/1718/F1.csv\n"
     ]
    },
    {
     "name": "stderr",
     "output_type": "stream",
     "text": [
      "/var/folders/xn/jj94n4tj5w90v1m3njdf44n80000gp/T/ipykernel_45706/3335976498.py:27: UserWarning: Could not infer format, so each element will be parsed individually, falling back to `dateutil`. To ensure parsing is consistent and as-expected, please specify a format.\n",
      "  df = pd.read_csv(\n"
     ]
    },
    {
     "name": "stdout",
     "output_type": "stream",
     "text": [
      "reading, altering, and saving match data file: https://www.football-data.co.uk/mmz4281/1011/F1.csv\n"
     ]
    },
    {
     "name": "stderr",
     "output_type": "stream",
     "text": [
      "/var/folders/xn/jj94n4tj5w90v1m3njdf44n80000gp/T/ipykernel_45706/3335976498.py:27: UserWarning: Could not infer format, so each element will be parsed individually, falling back to `dateutil`. To ensure parsing is consistent and as-expected, please specify a format.\n",
      "  df = pd.read_csv(\n"
     ]
    },
    {
     "name": "stdout",
     "output_type": "stream",
     "text": [
      "reading, altering, and saving match data file: https://www.football-data.co.uk/mmz4281/0506/F1.csv\n"
     ]
    },
    {
     "name": "stderr",
     "output_type": "stream",
     "text": [
      "/var/folders/xn/jj94n4tj5w90v1m3njdf44n80000gp/T/ipykernel_45706/3335976498.py:27: UserWarning: Could not infer format, so each element will be parsed individually, falling back to `dateutil`. To ensure parsing is consistent and as-expected, please specify a format.\n",
      "  df = pd.read_csv(\n"
     ]
    },
    {
     "name": "stdout",
     "output_type": "stream",
     "text": [
      "reading, altering, and saving match data file: https://www.football-data.co.uk/mmz4281/1617/F1.csv\n"
     ]
    },
    {
     "name": "stderr",
     "output_type": "stream",
     "text": [
      "/var/folders/xn/jj94n4tj5w90v1m3njdf44n80000gp/T/ipykernel_45706/3335976498.py:27: UserWarning: Could not infer format, so each element will be parsed individually, falling back to `dateutil`. To ensure parsing is consistent and as-expected, please specify a format.\n",
      "  df = pd.read_csv(\n"
     ]
    },
    {
     "name": "stdout",
     "output_type": "stream",
     "text": [
      "reading, altering, and saving match data file: https://www.football-data.co.uk/mmz4281/2122/F2.csv\n",
      "reading, altering, and saving match data file: https://www.football-data.co.uk/mmz4281/2122/F1.csv\n",
      "reading, altering, and saving match data file: https://www.football-data.co.uk/mmz4281/0405/F1.csv\n"
     ]
    },
    {
     "name": "stderr",
     "output_type": "stream",
     "text": [
      "/var/folders/xn/jj94n4tj5w90v1m3njdf44n80000gp/T/ipykernel_45706/3335976498.py:27: UserWarning: Could not infer format, so each element will be parsed individually, falling back to `dateutil`. To ensure parsing is consistent and as-expected, please specify a format.\n",
      "  df = pd.read_csv(\n"
     ]
    },
    {
     "name": "stdout",
     "output_type": "stream",
     "text": [
      "reading, altering, and saving match data file: https://www.football-data.co.uk/mmz4281/1314/F1.csv\n"
     ]
    },
    {
     "name": "stderr",
     "output_type": "stream",
     "text": [
      "/var/folders/xn/jj94n4tj5w90v1m3njdf44n80000gp/T/ipykernel_45706/3335976498.py:27: UserWarning: Could not infer format, so each element will be parsed individually, falling back to `dateutil`. To ensure parsing is consistent and as-expected, please specify a format.\n",
      "  df = pd.read_csv(\n"
     ]
    },
    {
     "name": "stdout",
     "output_type": "stream",
     "text": [
      "reading, altering, and saving match data file: https://www.football-data.co.uk/mmz4281/0203/F1.csv\n"
     ]
    },
    {
     "name": "stderr",
     "output_type": "stream",
     "text": [
      "/var/folders/xn/jj94n4tj5w90v1m3njdf44n80000gp/T/ipykernel_45706/3335976498.py:27: UserWarning: Could not infer format, so each element will be parsed individually, falling back to `dateutil`. To ensure parsing is consistent and as-expected, please specify a format.\n",
      "  df = pd.read_csv(\n"
     ]
    },
    {
     "name": "stdout",
     "output_type": "stream",
     "text": [
      "reading, altering, and saving match data file: https://www.football-data.co.uk/mmz4281/0203/F2.csv\n"
     ]
    },
    {
     "name": "stderr",
     "output_type": "stream",
     "text": [
      "/var/folders/xn/jj94n4tj5w90v1m3njdf44n80000gp/T/ipykernel_45706/3335976498.py:27: UserWarning: Could not infer format, so each element will be parsed individually, falling back to `dateutil`. To ensure parsing is consistent and as-expected, please specify a format.\n",
      "  df = pd.read_csv(\n"
     ]
    },
    {
     "name": "stdout",
     "output_type": "stream",
     "text": [
      "reading, altering, and saving match data file: https://www.football-data.co.uk/mmz4281/0708/F2.csv\n"
     ]
    },
    {
     "name": "stderr",
     "output_type": "stream",
     "text": [
      "/var/folders/xn/jj94n4tj5w90v1m3njdf44n80000gp/T/ipykernel_45706/3335976498.py:27: UserWarning: Could not infer format, so each element will be parsed individually, falling back to `dateutil`. To ensure parsing is consistent and as-expected, please specify a format.\n",
      "  df = pd.read_csv(\n"
     ]
    },
    {
     "name": "stdout",
     "output_type": "stream",
     "text": [
      "reading, altering, and saving match data file: https://www.football-data.co.uk/mmz4281/1819/F1.csv\n",
      "reading, altering, and saving match data file: https://www.football-data.co.uk/mmz4281/0910/F2.csv\n"
     ]
    },
    {
     "name": "stderr",
     "output_type": "stream",
     "text": [
      "/var/folders/xn/jj94n4tj5w90v1m3njdf44n80000gp/T/ipykernel_45706/3335976498.py:27: UserWarning: Could not infer format, so each element will be parsed individually, falling back to `dateutil`. To ensure parsing is consistent and as-expected, please specify a format.\n",
      "  df = pd.read_csv(\n",
      "/var/folders/xn/jj94n4tj5w90v1m3njdf44n80000gp/T/ipykernel_45706/3335976498.py:27: UserWarning: Could not infer format, so each element will be parsed individually, falling back to `dateutil`. To ensure parsing is consistent and as-expected, please specify a format.\n",
      "  df = pd.read_csv(\n"
     ]
    },
    {
     "name": "stdout",
     "output_type": "stream",
     "text": [
      "reading, altering, and saving match data file: https://www.football-data.co.uk/mmz4281/9900/F2.csv\n",
      "reading, altering, and saving match data file: https://www.football-data.co.uk/mmz4281/0304/F1.csv\n"
     ]
    },
    {
     "name": "stderr",
     "output_type": "stream",
     "text": [
      "/var/folders/xn/jj94n4tj5w90v1m3njdf44n80000gp/T/ipykernel_45706/3335976498.py:27: UserWarning: Could not infer format, so each element will be parsed individually, falling back to `dateutil`. To ensure parsing is consistent and as-expected, please specify a format.\n",
      "  df = pd.read_csv(\n",
      "/var/folders/xn/jj94n4tj5w90v1m3njdf44n80000gp/T/ipykernel_45706/3335976498.py:27: UserWarning: Could not infer format, so each element will be parsed individually, falling back to `dateutil`. To ensure parsing is consistent and as-expected, please specify a format.\n",
      "  df = pd.read_csv(\n"
     ]
    },
    {
     "name": "stdout",
     "output_type": "stream",
     "text": [
      "reading, altering, and saving match data file: https://www.football-data.co.uk/mmz4281/9697/F2.csv\n",
      "reading, altering, and saving match data file: https://www.football-data.co.uk/mmz4281/2324/F1.csv\n",
      "reading, altering, and saving match data file: https://www.football-data.co.uk/mmz4281/1314/F2.csv\n"
     ]
    },
    {
     "name": "stderr",
     "output_type": "stream",
     "text": [
      "/var/folders/xn/jj94n4tj5w90v1m3njdf44n80000gp/T/ipykernel_45706/3335976498.py:27: UserWarning: Could not infer format, so each element will be parsed individually, falling back to `dateutil`. To ensure parsing is consistent and as-expected, please specify a format.\n",
      "  df = pd.read_csv(\n"
     ]
    },
    {
     "name": "stdout",
     "output_type": "stream",
     "text": [
      "reading, altering, and saving match data file: https://www.football-data.co.uk/mmz4281/1112/F1.csv\n"
     ]
    },
    {
     "name": "stderr",
     "output_type": "stream",
     "text": [
      "/var/folders/xn/jj94n4tj5w90v1m3njdf44n80000gp/T/ipykernel_45706/3335976498.py:27: UserWarning: Could not infer format, so each element will be parsed individually, falling back to `dateutil`. To ensure parsing is consistent and as-expected, please specify a format.\n",
      "  df = pd.read_csv(\n"
     ]
    },
    {
     "name": "stdout",
     "output_type": "stream",
     "text": [
      "reading, altering, and saving match data file: https://www.football-data.co.uk/mmz4281/1011/F2.csv\n"
     ]
    },
    {
     "name": "stderr",
     "output_type": "stream",
     "text": [
      "/var/folders/xn/jj94n4tj5w90v1m3njdf44n80000gp/T/ipykernel_45706/3335976498.py:27: UserWarning: Could not infer format, so each element will be parsed individually, falling back to `dateutil`. To ensure parsing is consistent and as-expected, please specify a format.\n",
      "  df = pd.read_csv(\n"
     ]
    },
    {
     "name": "stdout",
     "output_type": "stream",
     "text": [
      "reading, altering, and saving match data file: https://www.football-data.co.uk/mmz4281/1213/F1.csv\n"
     ]
    },
    {
     "name": "stderr",
     "output_type": "stream",
     "text": [
      "/var/folders/xn/jj94n4tj5w90v1m3njdf44n80000gp/T/ipykernel_45706/3335976498.py:27: UserWarning: Could not infer format, so each element will be parsed individually, falling back to `dateutil`. To ensure parsing is consistent and as-expected, please specify a format.\n",
      "  df = pd.read_csv(\n"
     ]
    },
    {
     "name": "stdout",
     "output_type": "stream",
     "text": [
      "reading, altering, and saving match data file: https://www.football-data.co.uk/mmz4281/0607/F1.csv\n",
      "reading, altering, and saving match data file: https://www.football-data.co.uk/mmz4281/2425/F1.csv\n",
      "reading, altering, and saving match data file: https://www.football-data.co.uk/mmz4281/1920/N1.csv\n",
      "reading, altering, and saving match data file: https://www.football-data.co.uk/mmz4281/2324/N1.csv\n",
      "reading, altering, and saving match data file: https://www.football-data.co.uk/mmz4281/1213/N1.csv\n"
     ]
    },
    {
     "name": "stderr",
     "output_type": "stream",
     "text": [
      "/var/folders/xn/jj94n4tj5w90v1m3njdf44n80000gp/T/ipykernel_45706/3335976498.py:27: UserWarning: Could not infer format, so each element will be parsed individually, falling back to `dateutil`. To ensure parsing is consistent and as-expected, please specify a format.\n",
      "  df = pd.read_csv(\n"
     ]
    },
    {
     "name": "stdout",
     "output_type": "stream",
     "text": [
      "reading, altering, and saving match data file: https://www.football-data.co.uk/mmz4281/1112/N1.csv\n"
     ]
    },
    {
     "name": "stderr",
     "output_type": "stream",
     "text": [
      "/var/folders/xn/jj94n4tj5w90v1m3njdf44n80000gp/T/ipykernel_45706/3335976498.py:27: UserWarning: Could not infer format, so each element will be parsed individually, falling back to `dateutil`. To ensure parsing is consistent and as-expected, please specify a format.\n",
      "  df = pd.read_csv(\n"
     ]
    },
    {
     "name": "stdout",
     "output_type": "stream",
     "text": [
      "reading, altering, and saving match data file: https://www.football-data.co.uk/mmz4281/1617/N1.csv\n"
     ]
    },
    {
     "name": "stderr",
     "output_type": "stream",
     "text": [
      "/var/folders/xn/jj94n4tj5w90v1m3njdf44n80000gp/T/ipykernel_45706/3335976498.py:27: UserWarning: Could not infer format, so each element will be parsed individually, falling back to `dateutil`. To ensure parsing is consistent and as-expected, please specify a format.\n",
      "  df = pd.read_csv(\n"
     ]
    },
    {
     "name": "stdout",
     "output_type": "stream",
     "text": [
      "reading, altering, and saving match data file: https://www.football-data.co.uk/mmz4281/0203/N1.csv\n"
     ]
    },
    {
     "name": "stderr",
     "output_type": "stream",
     "text": [
      "/var/folders/xn/jj94n4tj5w90v1m3njdf44n80000gp/T/ipykernel_45706/3335976498.py:27: UserWarning: Could not infer format, so each element will be parsed individually, falling back to `dateutil`. To ensure parsing is consistent and as-expected, please specify a format.\n",
      "  df = pd.read_csv(\n"
     ]
    },
    {
     "name": "stdout",
     "output_type": "stream",
     "text": [
      "reading, altering, and saving match data file: https://www.football-data.co.uk/mmz4281/0102/N1.csv\n"
     ]
    },
    {
     "name": "stderr",
     "output_type": "stream",
     "text": [
      "/var/folders/xn/jj94n4tj5w90v1m3njdf44n80000gp/T/ipykernel_45706/3335976498.py:27: UserWarning: Could not infer format, so each element will be parsed individually, falling back to `dateutil`. To ensure parsing is consistent and as-expected, please specify a format.\n",
      "  df = pd.read_csv(\n",
      "/var/folders/xn/jj94n4tj5w90v1m3njdf44n80000gp/T/ipykernel_45706/3335976498.py:27: UserWarning: Could not infer format, so each element will be parsed individually, falling back to `dateutil`. To ensure parsing is consistent and as-expected, please specify a format.\n",
      "  df = pd.read_csv(\n"
     ]
    },
    {
     "name": "stdout",
     "output_type": "stream",
     "text": [
      "reading, altering, and saving match data file: https://www.football-data.co.uk/mmz4281/9697/N1.csv\n",
      "reading, altering, and saving match data file: https://www.football-data.co.uk/mmz4281/0304/N1.csv\n"
     ]
    },
    {
     "name": "stderr",
     "output_type": "stream",
     "text": [
      "/var/folders/xn/jj94n4tj5w90v1m3njdf44n80000gp/T/ipykernel_45706/3335976498.py:27: UserWarning: Could not infer format, so each element will be parsed individually, falling back to `dateutil`. To ensure parsing is consistent and as-expected, please specify a format.\n",
      "  df = pd.read_csv(\n",
      "/var/folders/xn/jj94n4tj5w90v1m3njdf44n80000gp/T/ipykernel_45706/3335976498.py:27: UserWarning: Could not infer format, so each element will be parsed individually, falling back to `dateutil`. To ensure parsing is consistent and as-expected, please specify a format.\n",
      "  df = pd.read_csv(\n"
     ]
    },
    {
     "name": "stdout",
     "output_type": "stream",
     "text": [
      "reading, altering, and saving match data file: https://www.football-data.co.uk/mmz4281/9495/N1.csv\n",
      "reading, altering, and saving match data file: https://www.football-data.co.uk/mmz4281/2122/N1.csv\n",
      "reading, altering, and saving match data file: https://www.football-data.co.uk/mmz4281/9798/N1.csv\n",
      "reading, altering, and saving match data file: https://www.football-data.co.uk/mmz4281/0405/N1.csv\n"
     ]
    },
    {
     "name": "stderr",
     "output_type": "stream",
     "text": [
      "/var/folders/xn/jj94n4tj5w90v1m3njdf44n80000gp/T/ipykernel_45706/3335976498.py:27: UserWarning: Could not infer format, so each element will be parsed individually, falling back to `dateutil`. To ensure parsing is consistent and as-expected, please specify a format.\n",
      "  df = pd.read_csv(\n",
      "/var/folders/xn/jj94n4tj5w90v1m3njdf44n80000gp/T/ipykernel_45706/3335976498.py:27: UserWarning: Could not infer format, so each element will be parsed individually, falling back to `dateutil`. To ensure parsing is consistent and as-expected, please specify a format.\n",
      "  df = pd.read_csv(\n"
     ]
    },
    {
     "name": "stdout",
     "output_type": "stream",
     "text": [
      "reading, altering, and saving match data file: https://www.football-data.co.uk/mmz4281/2425/N1.csv\n",
      "reading, altering, and saving match data file: https://www.football-data.co.uk/mmz4281/9596/N1.csv\n"
     ]
    },
    {
     "name": "stderr",
     "output_type": "stream",
     "text": [
      "/var/folders/xn/jj94n4tj5w90v1m3njdf44n80000gp/T/ipykernel_45706/3335976498.py:27: UserWarning: Could not infer format, so each element will be parsed individually, falling back to `dateutil`. To ensure parsing is consistent and as-expected, please specify a format.\n",
      "  df = pd.read_csv(\n"
     ]
    },
    {
     "name": "stdout",
     "output_type": "stream",
     "text": [
      "reading, altering, and saving match data file: https://www.football-data.co.uk/mmz4281/1011/N1.csv\n"
     ]
    },
    {
     "name": "stderr",
     "output_type": "stream",
     "text": [
      "/var/folders/xn/jj94n4tj5w90v1m3njdf44n80000gp/T/ipykernel_45706/3335976498.py:27: UserWarning: Could not infer format, so each element will be parsed individually, falling back to `dateutil`. To ensure parsing is consistent and as-expected, please specify a format.\n",
      "  df = pd.read_csv(\n"
     ]
    },
    {
     "name": "stdout",
     "output_type": "stream",
     "text": [
      "reading, altering, and saving match data file: https://www.football-data.co.uk/mmz4281/2021/N1.csv\n",
      "reading, altering, and saving match data file: https://www.football-data.co.uk/mmz4281/1819/N1.csv\n",
      "reading, altering, and saving match data file: https://www.football-data.co.uk/mmz4281/0910/N1.csv\n"
     ]
    },
    {
     "name": "stderr",
     "output_type": "stream",
     "text": [
      "/var/folders/xn/jj94n4tj5w90v1m3njdf44n80000gp/T/ipykernel_45706/3335976498.py:27: UserWarning: Could not infer format, so each element will be parsed individually, falling back to `dateutil`. To ensure parsing is consistent and as-expected, please specify a format.\n",
      "  df = pd.read_csv(\n"
     ]
    },
    {
     "name": "stdout",
     "output_type": "stream",
     "text": [
      "reading, altering, and saving match data file: https://www.football-data.co.uk/mmz4281/0001/N1.csv\n"
     ]
    },
    {
     "name": "stderr",
     "output_type": "stream",
     "text": [
      "/var/folders/xn/jj94n4tj5w90v1m3njdf44n80000gp/T/ipykernel_45706/3335976498.py:27: UserWarning: Could not infer format, so each element will be parsed individually, falling back to `dateutil`. To ensure parsing is consistent and as-expected, please specify a format.\n",
      "  df = pd.read_csv(\n"
     ]
    },
    {
     "name": "stdout",
     "output_type": "stream",
     "text": [
      "reading, altering, and saving match data file: https://www.football-data.co.uk/mmz4281/1314/N1.csv\n"
     ]
    },
    {
     "name": "stderr",
     "output_type": "stream",
     "text": [
      "/var/folders/xn/jj94n4tj5w90v1m3njdf44n80000gp/T/ipykernel_45706/3335976498.py:27: UserWarning: Could not infer format, so each element will be parsed individually, falling back to `dateutil`. To ensure parsing is consistent and as-expected, please specify a format.\n",
      "  df = pd.read_csv(\n"
     ]
    },
    {
     "name": "stdout",
     "output_type": "stream",
     "text": [
      "reading, altering, and saving match data file: https://www.football-data.co.uk/mmz4281/1718/N1.csv\n"
     ]
    },
    {
     "name": "stderr",
     "output_type": "stream",
     "text": [
      "/var/folders/xn/jj94n4tj5w90v1m3njdf44n80000gp/T/ipykernel_45706/3335976498.py:27: UserWarning: Could not infer format, so each element will be parsed individually, falling back to `dateutil`. To ensure parsing is consistent and as-expected, please specify a format.\n",
      "  df = pd.read_csv(\n"
     ]
    },
    {
     "name": "stdout",
     "output_type": "stream",
     "text": [
      "reading, altering, and saving match data file: https://www.football-data.co.uk/mmz4281/0607/N1.csv\n"
     ]
    },
    {
     "name": "stderr",
     "output_type": "stream",
     "text": [
      "/var/folders/xn/jj94n4tj5w90v1m3njdf44n80000gp/T/ipykernel_45706/3335976498.py:27: UserWarning: Could not infer format, so each element will be parsed individually, falling back to `dateutil`. To ensure parsing is consistent and as-expected, please specify a format.\n",
      "  df = pd.read_csv(\n"
     ]
    },
    {
     "name": "stdout",
     "output_type": "stream",
     "text": [
      "reading, altering, and saving match data file: https://www.football-data.co.uk/mmz4281/1516/N1.csv\n"
     ]
    },
    {
     "name": "stderr",
     "output_type": "stream",
     "text": [
      "/var/folders/xn/jj94n4tj5w90v1m3njdf44n80000gp/T/ipykernel_45706/3335976498.py:27: UserWarning: Could not infer format, so each element will be parsed individually, falling back to `dateutil`. To ensure parsing is consistent and as-expected, please specify a format.\n",
      "  df = pd.read_csv(\n"
     ]
    },
    {
     "name": "stdout",
     "output_type": "stream",
     "text": [
      "reading, altering, and saving match data file: https://www.football-data.co.uk/mmz4281/2223/N1.csv\n",
      "reading, altering, and saving match data file: https://www.football-data.co.uk/mmz4281/1415/N1.csv\n"
     ]
    },
    {
     "name": "stderr",
     "output_type": "stream",
     "text": [
      "/var/folders/xn/jj94n4tj5w90v1m3njdf44n80000gp/T/ipykernel_45706/3335976498.py:27: UserWarning: Could not infer format, so each element will be parsed individually, falling back to `dateutil`. To ensure parsing is consistent and as-expected, please specify a format.\n",
      "  df = pd.read_csv(\n"
     ]
    },
    {
     "name": "stdout",
     "output_type": "stream",
     "text": [
      "reading, altering, and saving match data file: https://www.football-data.co.uk/mmz4281/0506/N1.csv\n"
     ]
    },
    {
     "name": "stderr",
     "output_type": "stream",
     "text": [
      "/var/folders/xn/jj94n4tj5w90v1m3njdf44n80000gp/T/ipykernel_45706/3335976498.py:27: UserWarning: Could not infer format, so each element will be parsed individually, falling back to `dateutil`. To ensure parsing is consistent and as-expected, please specify a format.\n",
      "  df = pd.read_csv(\n"
     ]
    },
    {
     "name": "stdout",
     "output_type": "stream",
     "text": [
      "reading, altering, and saving match data file: https://www.football-data.co.uk/mmz4281/9900/N1.csv\n"
     ]
    },
    {
     "name": "stderr",
     "output_type": "stream",
     "text": [
      "/var/folders/xn/jj94n4tj5w90v1m3njdf44n80000gp/T/ipykernel_45706/3335976498.py:27: UserWarning: Could not infer format, so each element will be parsed individually, falling back to `dateutil`. To ensure parsing is consistent and as-expected, please specify a format.\n",
      "  df = pd.read_csv(\n"
     ]
    },
    {
     "name": "stdout",
     "output_type": "stream",
     "text": [
      "reading, altering, and saving match data file: https://www.football-data.co.uk/mmz4281/0708/N1.csv\n"
     ]
    },
    {
     "name": "stderr",
     "output_type": "stream",
     "text": [
      "/var/folders/xn/jj94n4tj5w90v1m3njdf44n80000gp/T/ipykernel_45706/3335976498.py:27: UserWarning: Could not infer format, so each element will be parsed individually, falling back to `dateutil`. To ensure parsing is consistent and as-expected, please specify a format.\n",
      "  df = pd.read_csv(\n"
     ]
    },
    {
     "name": "stdout",
     "output_type": "stream",
     "text": [
      "reading, altering, and saving match data file: https://www.football-data.co.uk/mmz4281/0809/N1.csv\n"
     ]
    },
    {
     "name": "stderr",
     "output_type": "stream",
     "text": [
      "/var/folders/xn/jj94n4tj5w90v1m3njdf44n80000gp/T/ipykernel_45706/3335976498.py:27: UserWarning: Could not infer format, so each element will be parsed individually, falling back to `dateutil`. To ensure parsing is consistent and as-expected, please specify a format.\n",
      "  df = pd.read_csv(\n",
      "/var/folders/xn/jj94n4tj5w90v1m3njdf44n80000gp/T/ipykernel_45706/3335976498.py:27: UserWarning: Could not infer format, so each element will be parsed individually, falling back to `dateutil`. To ensure parsing is consistent and as-expected, please specify a format.\n",
      "  df = pd.read_csv(\n"
     ]
    },
    {
     "name": "stdout",
     "output_type": "stream",
     "text": [
      "reading, altering, and saving match data file: https://www.football-data.co.uk/mmz4281/9899/N1.csv\n",
      "reading, altering, and saving match data file: https://www.football-data.co.uk/mmz4281/9394/N1.csv\n"
     ]
    },
    {
     "name": "stderr",
     "output_type": "stream",
     "text": [
      "/var/folders/xn/jj94n4tj5w90v1m3njdf44n80000gp/T/ipykernel_45706/3335976498.py:27: UserWarning: Could not infer format, so each element will be parsed individually, falling back to `dateutil`. To ensure parsing is consistent and as-expected, please specify a format.\n",
      "  df = pd.read_csv(\n"
     ]
    },
    {
     "name": "stdout",
     "output_type": "stream",
     "text": [
      "reading, altering, and saving match data file: https://www.football-data.co.uk/mmz4281/0304/B1.csv\n"
     ]
    },
    {
     "name": "stderr",
     "output_type": "stream",
     "text": [
      "/var/folders/xn/jj94n4tj5w90v1m3njdf44n80000gp/T/ipykernel_45706/3335976498.py:27: UserWarning: Could not infer format, so each element will be parsed individually, falling back to `dateutil`. To ensure parsing is consistent and as-expected, please specify a format.\n",
      "  df = pd.read_csv(\n"
     ]
    },
    {
     "name": "stdout",
     "output_type": "stream",
     "text": [
      "reading, altering, and saving match data file: https://www.football-data.co.uk/mmz4281/9798/B1.csv\n"
     ]
    },
    {
     "name": "stderr",
     "output_type": "stream",
     "text": [
      "/var/folders/xn/jj94n4tj5w90v1m3njdf44n80000gp/T/ipykernel_45706/3335976498.py:27: UserWarning: Could not infer format, so each element will be parsed individually, falling back to `dateutil`. To ensure parsing is consistent and as-expected, please specify a format.\n",
      "  df = pd.read_csv(\n"
     ]
    },
    {
     "name": "stdout",
     "output_type": "stream",
     "text": [
      "reading, altering, and saving match data file: https://www.football-data.co.uk/mmz4281/2425/B1.csv\n",
      "reading, altering, and saving match data file: https://www.football-data.co.uk/mmz4281/1819/B1.csv\n",
      "reading, altering, and saving match data file: https://www.football-data.co.uk/mmz4281/2223/B1.csv\n",
      "reading, altering, and saving match data file: https://www.football-data.co.uk/mmz4281/1415/B1.csv\n"
     ]
    },
    {
     "name": "stderr",
     "output_type": "stream",
     "text": [
      "/var/folders/xn/jj94n4tj5w90v1m3njdf44n80000gp/T/ipykernel_45706/3335976498.py:27: UserWarning: Could not infer format, so each element will be parsed individually, falling back to `dateutil`. To ensure parsing is consistent and as-expected, please specify a format.\n",
      "  df = pd.read_csv(\n"
     ]
    },
    {
     "name": "stdout",
     "output_type": "stream",
     "text": [
      "reading, altering, and saving match data file: https://www.football-data.co.uk/mmz4281/1314/B1.csv\n"
     ]
    },
    {
     "name": "stderr",
     "output_type": "stream",
     "text": [
      "/var/folders/xn/jj94n4tj5w90v1m3njdf44n80000gp/T/ipykernel_45706/3335976498.py:27: UserWarning: Could not infer format, so each element will be parsed individually, falling back to `dateutil`. To ensure parsing is consistent and as-expected, please specify a format.\n",
      "  df = pd.read_csv(\n"
     ]
    },
    {
     "name": "stdout",
     "output_type": "stream",
     "text": [
      "reading, altering, and saving match data file: https://www.football-data.co.uk/mmz4281/0203/B1.csv\n"
     ]
    },
    {
     "name": "stderr",
     "output_type": "stream",
     "text": [
      "/var/folders/xn/jj94n4tj5w90v1m3njdf44n80000gp/T/ipykernel_45706/3335976498.py:27: UserWarning: Could not infer format, so each element will be parsed individually, falling back to `dateutil`. To ensure parsing is consistent and as-expected, please specify a format.\n",
      "  df = pd.read_csv(\n"
     ]
    },
    {
     "name": "stdout",
     "output_type": "stream",
     "text": [
      "reading, altering, and saving match data file: https://www.football-data.co.uk/mmz4281/1213/B1.csv\n"
     ]
    },
    {
     "name": "stderr",
     "output_type": "stream",
     "text": [
      "/var/folders/xn/jj94n4tj5w90v1m3njdf44n80000gp/T/ipykernel_45706/3335976498.py:27: UserWarning: Could not infer format, so each element will be parsed individually, falling back to `dateutil`. To ensure parsing is consistent and as-expected, please specify a format.\n",
      "  df = pd.read_csv(\n"
     ]
    },
    {
     "name": "stdout",
     "output_type": "stream",
     "text": [
      "reading, altering, and saving match data file: https://www.football-data.co.uk/mmz4281/0506/B1.csv\n"
     ]
    },
    {
     "name": "stderr",
     "output_type": "stream",
     "text": [
      "/var/folders/xn/jj94n4tj5w90v1m3njdf44n80000gp/T/ipykernel_45706/3335976498.py:27: UserWarning: Could not infer format, so each element will be parsed individually, falling back to `dateutil`. To ensure parsing is consistent and as-expected, please specify a format.\n",
      "  df = pd.read_csv(\n"
     ]
    },
    {
     "name": "stdout",
     "output_type": "stream",
     "text": [
      "reading, altering, and saving match data file: https://www.football-data.co.uk/mmz4281/1516/B1.csv\n"
     ]
    },
    {
     "name": "stderr",
     "output_type": "stream",
     "text": [
      "/var/folders/xn/jj94n4tj5w90v1m3njdf44n80000gp/T/ipykernel_45706/3335976498.py:27: UserWarning: Could not infer format, so each element will be parsed individually, falling back to `dateutil`. To ensure parsing is consistent and as-expected, please specify a format.\n",
      "  df = pd.read_csv(\n"
     ]
    },
    {
     "name": "stdout",
     "output_type": "stream",
     "text": [
      "reading, altering, and saving match data file: https://www.football-data.co.uk/mmz4281/1011/B1.csv\n"
     ]
    },
    {
     "name": "stderr",
     "output_type": "stream",
     "text": [
      "/var/folders/xn/jj94n4tj5w90v1m3njdf44n80000gp/T/ipykernel_45706/3335976498.py:27: UserWarning: Could not infer format, so each element will be parsed individually, falling back to `dateutil`. To ensure parsing is consistent and as-expected, please specify a format.\n",
      "  df = pd.read_csv(\n",
      "/var/folders/xn/jj94n4tj5w90v1m3njdf44n80000gp/T/ipykernel_45706/3335976498.py:27: UserWarning: Could not infer format, so each element will be parsed individually, falling back to `dateutil`. To ensure parsing is consistent and as-expected, please specify a format.\n",
      "  df = pd.read_csv(\n"
     ]
    },
    {
     "name": "stdout",
     "output_type": "stream",
     "text": [
      "reading, altering, and saving match data file: https://www.football-data.co.uk/mmz4281/9697/B1.csv\n",
      "reading, altering, and saving match data file: https://www.football-data.co.uk/mmz4281/0708/B1.csv\n"
     ]
    },
    {
     "name": "stderr",
     "output_type": "stream",
     "text": [
      "/var/folders/xn/jj94n4tj5w90v1m3njdf44n80000gp/T/ipykernel_45706/3335976498.py:27: UserWarning: Could not infer format, so each element will be parsed individually, falling back to `dateutil`. To ensure parsing is consistent and as-expected, please specify a format.\n",
      "  df = pd.read_csv(\n",
      "/var/folders/xn/jj94n4tj5w90v1m3njdf44n80000gp/T/ipykernel_45706/3335976498.py:27: UserWarning: Could not infer format, so each element will be parsed individually, falling back to `dateutil`. To ensure parsing is consistent and as-expected, please specify a format.\n",
      "  df = pd.read_csv(\n"
     ]
    },
    {
     "name": "stdout",
     "output_type": "stream",
     "text": [
      "reading, altering, and saving match data file: https://www.football-data.co.uk/mmz4281/9596/B1.csv\n",
      "reading, altering, and saving match data file: https://www.football-data.co.uk/mmz4281/0809/B1.csv\n"
     ]
    },
    {
     "name": "stderr",
     "output_type": "stream",
     "text": [
      "/var/folders/xn/jj94n4tj5w90v1m3njdf44n80000gp/T/ipykernel_45706/3335976498.py:27: UserWarning: Could not infer format, so each element will be parsed individually, falling back to `dateutil`. To ensure parsing is consistent and as-expected, please specify a format.\n",
      "  df = pd.read_csv(\n",
      "/var/folders/xn/jj94n4tj5w90v1m3njdf44n80000gp/T/ipykernel_45706/3335976498.py:27: UserWarning: Could not infer format, so each element will be parsed individually, falling back to `dateutil`. To ensure parsing is consistent and as-expected, please specify a format.\n",
      "  df = pd.read_csv(\n"
     ]
    },
    {
     "name": "stdout",
     "output_type": "stream",
     "text": [
      "reading, altering, and saving match data file: https://www.football-data.co.uk/mmz4281/0102/B1.csv\n",
      "reading, altering, and saving match data file: https://www.football-data.co.uk/mmz4281/1718/B1.csv\n"
     ]
    },
    {
     "name": "stderr",
     "output_type": "stream",
     "text": [
      "/var/folders/xn/jj94n4tj5w90v1m3njdf44n80000gp/T/ipykernel_45706/3335976498.py:27: UserWarning: Could not infer format, so each element will be parsed individually, falling back to `dateutil`. To ensure parsing is consistent and as-expected, please specify a format.\n",
      "  df = pd.read_csv(\n"
     ]
    },
    {
     "name": "stdout",
     "output_type": "stream",
     "text": [
      "reading, altering, and saving match data file: https://www.football-data.co.uk/mmz4281/2324/B1.csv\n",
      "reading, altering, and saving match data file: https://www.football-data.co.uk/mmz4281/0405/B1.csv\n"
     ]
    },
    {
     "name": "stderr",
     "output_type": "stream",
     "text": [
      "/var/folders/xn/jj94n4tj5w90v1m3njdf44n80000gp/T/ipykernel_45706/3335976498.py:27: UserWarning: Could not infer format, so each element will be parsed individually, falling back to `dateutil`. To ensure parsing is consistent and as-expected, please specify a format.\n",
      "  df = pd.read_csv(\n"
     ]
    },
    {
     "name": "stdout",
     "output_type": "stream",
     "text": [
      "reading, altering, and saving match data file: https://www.football-data.co.uk/mmz4281/0001/B1.csv\n"
     ]
    },
    {
     "name": "stderr",
     "output_type": "stream",
     "text": [
      "/var/folders/xn/jj94n4tj5w90v1m3njdf44n80000gp/T/ipykernel_45706/3335976498.py:27: UserWarning: Could not infer format, so each element will be parsed individually, falling back to `dateutil`. To ensure parsing is consistent and as-expected, please specify a format.\n",
      "  df = pd.read_csv(\n"
     ]
    },
    {
     "name": "stdout",
     "output_type": "stream",
     "text": [
      "reading, altering, and saving match data file: https://www.football-data.co.uk/mmz4281/0607/B1.csv\n"
     ]
    },
    {
     "name": "stderr",
     "output_type": "stream",
     "text": [
      "/var/folders/xn/jj94n4tj5w90v1m3njdf44n80000gp/T/ipykernel_45706/3335976498.py:27: UserWarning: Could not infer format, so each element will be parsed individually, falling back to `dateutil`. To ensure parsing is consistent and as-expected, please specify a format.\n",
      "  df = pd.read_csv(\n"
     ]
    },
    {
     "name": "stdout",
     "output_type": "stream",
     "text": [
      "reading, altering, and saving match data file: https://www.football-data.co.uk/mmz4281/1112/B1.csv\n"
     ]
    },
    {
     "name": "stderr",
     "output_type": "stream",
     "text": [
      "/var/folders/xn/jj94n4tj5w90v1m3njdf44n80000gp/T/ipykernel_45706/3335976498.py:27: UserWarning: Could not infer format, so each element will be parsed individually, falling back to `dateutil`. To ensure parsing is consistent and as-expected, please specify a format.\n",
      "  df = pd.read_csv(\n"
     ]
    },
    {
     "name": "stdout",
     "output_type": "stream",
     "text": [
      "reading, altering, and saving match data file: https://www.football-data.co.uk/mmz4281/0910/B1.csv\n"
     ]
    },
    {
     "name": "stderr",
     "output_type": "stream",
     "text": [
      "/var/folders/xn/jj94n4tj5w90v1m3njdf44n80000gp/T/ipykernel_45706/3335976498.py:27: UserWarning: Could not infer format, so each element will be parsed individually, falling back to `dateutil`. To ensure parsing is consistent and as-expected, please specify a format.\n",
      "  df = pd.read_csv(\n"
     ]
    },
    {
     "name": "stdout",
     "output_type": "stream",
     "text": [
      "reading, altering, and saving match data file: https://www.football-data.co.uk/mmz4281/2122/B1.csv\n",
      "reading, altering, and saving match data file: https://www.football-data.co.uk/mmz4281/1617/B1.csv\n"
     ]
    },
    {
     "name": "stderr",
     "output_type": "stream",
     "text": [
      "/var/folders/xn/jj94n4tj5w90v1m3njdf44n80000gp/T/ipykernel_45706/3335976498.py:27: UserWarning: Could not infer format, so each element will be parsed individually, falling back to `dateutil`. To ensure parsing is consistent and as-expected, please specify a format.\n",
      "  df = pd.read_csv(\n"
     ]
    },
    {
     "name": "stdout",
     "output_type": "stream",
     "text": [
      "reading, altering, and saving match data file: https://www.football-data.co.uk/mmz4281/1920/B1.csv\n",
      "reading, altering, and saving match data file: https://www.football-data.co.uk/mmz4281/2021/B1.csv\n",
      "reading, altering, and saving match data file: https://www.football-data.co.uk/mmz4281/9899/B1.csv\n",
      "reading, altering, and saving match data file: https://www.football-data.co.uk/mmz4281/9900/B1.csv\n"
     ]
    },
    {
     "name": "stderr",
     "output_type": "stream",
     "text": [
      "/var/folders/xn/jj94n4tj5w90v1m3njdf44n80000gp/T/ipykernel_45706/3335976498.py:27: UserWarning: Could not infer format, so each element will be parsed individually, falling back to `dateutil`. To ensure parsing is consistent and as-expected, please specify a format.\n",
      "  df = pd.read_csv(\n",
      "/var/folders/xn/jj94n4tj5w90v1m3njdf44n80000gp/T/ipykernel_45706/3335976498.py:27: UserWarning: Could not infer format, so each element will be parsed individually, falling back to `dateutil`. To ensure parsing is consistent and as-expected, please specify a format.\n",
      "  df = pd.read_csv(\n"
     ]
    },
    {
     "name": "stdout",
     "output_type": "stream",
     "text": [
      "reading, altering, and saving match data file: https://www.football-data.co.uk/mmz4281/1415/P1.csv\n"
     ]
    },
    {
     "name": "stderr",
     "output_type": "stream",
     "text": [
      "/var/folders/xn/jj94n4tj5w90v1m3njdf44n80000gp/T/ipykernel_45706/3335976498.py:27: UserWarning: Could not infer format, so each element will be parsed individually, falling back to `dateutil`. To ensure parsing is consistent and as-expected, please specify a format.\n",
      "  df = pd.read_csv(\n"
     ]
    },
    {
     "name": "stdout",
     "output_type": "stream",
     "text": [
      "reading, altering, and saving match data file: https://www.football-data.co.uk/mmz4281/1718/P1.csv\n"
     ]
    },
    {
     "name": "stderr",
     "output_type": "stream",
     "text": [
      "/var/folders/xn/jj94n4tj5w90v1m3njdf44n80000gp/T/ipykernel_45706/3335976498.py:27: UserWarning: Could not infer format, so each element will be parsed individually, falling back to `dateutil`. To ensure parsing is consistent and as-expected, please specify a format.\n",
      "  df = pd.read_csv(\n"
     ]
    },
    {
     "name": "stdout",
     "output_type": "stream",
     "text": [
      "reading, altering, and saving match data file: https://www.football-data.co.uk/mmz4281/1011/P1.csv\n"
     ]
    },
    {
     "name": "stderr",
     "output_type": "stream",
     "text": [
      "/var/folders/xn/jj94n4tj5w90v1m3njdf44n80000gp/T/ipykernel_45706/3335976498.py:27: UserWarning: Could not infer format, so each element will be parsed individually, falling back to `dateutil`. To ensure parsing is consistent and as-expected, please specify a format.\n",
      "  df = pd.read_csv(\n"
     ]
    },
    {
     "name": "stdout",
     "output_type": "stream",
     "text": [
      "reading, altering, and saving match data file: https://www.football-data.co.uk/mmz4281/9899/P1.csv\n"
     ]
    },
    {
     "name": "stderr",
     "output_type": "stream",
     "text": [
      "/var/folders/xn/jj94n4tj5w90v1m3njdf44n80000gp/T/ipykernel_45706/3335976498.py:27: UserWarning: Could not infer format, so each element will be parsed individually, falling back to `dateutil`. To ensure parsing is consistent and as-expected, please specify a format.\n",
      "  df = pd.read_csv(\n"
     ]
    },
    {
     "name": "stdout",
     "output_type": "stream",
     "text": [
      "reading, altering, and saving match data file: https://www.football-data.co.uk/mmz4281/0001/P1.csv\n"
     ]
    },
    {
     "name": "stderr",
     "output_type": "stream",
     "text": [
      "/var/folders/xn/jj94n4tj5w90v1m3njdf44n80000gp/T/ipykernel_45706/3335976498.py:27: UserWarning: Could not infer format, so each element will be parsed individually, falling back to `dateutil`. To ensure parsing is consistent and as-expected, please specify a format.\n",
      "  df = pd.read_csv(\n"
     ]
    },
    {
     "name": "stdout",
     "output_type": "stream",
     "text": [
      "reading, altering, and saving match data file: https://www.football-data.co.uk/mmz4281/2223/P1.csv\n",
      "reading, altering, and saving match data file: https://www.football-data.co.uk/mmz4281/9596/P1.csv\n",
      "reading, altering, and saving match data file: https://www.football-data.co.uk/mmz4281/0708/P1.csv\n"
     ]
    },
    {
     "name": "stderr",
     "output_type": "stream",
     "text": [
      "/var/folders/xn/jj94n4tj5w90v1m3njdf44n80000gp/T/ipykernel_45706/3335976498.py:27: UserWarning: Could not infer format, so each element will be parsed individually, falling back to `dateutil`. To ensure parsing is consistent and as-expected, please specify a format.\n",
      "  df = pd.read_csv(\n",
      "/var/folders/xn/jj94n4tj5w90v1m3njdf44n80000gp/T/ipykernel_45706/3335976498.py:27: UserWarning: Could not infer format, so each element will be parsed individually, falling back to `dateutil`. To ensure parsing is consistent and as-expected, please specify a format.\n",
      "  df = pd.read_csv(\n"
     ]
    },
    {
     "name": "stdout",
     "output_type": "stream",
     "text": [
      "reading, altering, and saving match data file: https://www.football-data.co.uk/mmz4281/0809/P1.csv\n"
     ]
    },
    {
     "name": "stderr",
     "output_type": "stream",
     "text": [
      "/var/folders/xn/jj94n4tj5w90v1m3njdf44n80000gp/T/ipykernel_45706/3335976498.py:27: UserWarning: Could not infer format, so each element will be parsed individually, falling back to `dateutil`. To ensure parsing is consistent and as-expected, please specify a format.\n",
      "  df = pd.read_csv(\n"
     ]
    },
    {
     "name": "stdout",
     "output_type": "stream",
     "text": [
      "reading, altering, and saving match data file: https://www.football-data.co.uk/mmz4281/1920/P1.csv\n",
      "reading, altering, and saving match data file: https://www.football-data.co.uk/mmz4281/1516/P1.csv\n"
     ]
    },
    {
     "name": "stderr",
     "output_type": "stream",
     "text": [
      "/var/folders/xn/jj94n4tj5w90v1m3njdf44n80000gp/T/ipykernel_45706/3335976498.py:27: UserWarning: Could not infer format, so each element will be parsed individually, falling back to `dateutil`. To ensure parsing is consistent and as-expected, please specify a format.\n",
      "  df = pd.read_csv(\n"
     ]
    },
    {
     "name": "stdout",
     "output_type": "stream",
     "text": [
      "reading, altering, and saving match data file: https://www.football-data.co.uk/mmz4281/0304/P1.csv\n"
     ]
    },
    {
     "name": "stderr",
     "output_type": "stream",
     "text": [
      "/var/folders/xn/jj94n4tj5w90v1m3njdf44n80000gp/T/ipykernel_45706/3335976498.py:27: UserWarning: Could not infer format, so each element will be parsed individually, falling back to `dateutil`. To ensure parsing is consistent and as-expected, please specify a format.\n",
      "  df = pd.read_csv(\n"
     ]
    },
    {
     "name": "stdout",
     "output_type": "stream",
     "text": [
      "reading, altering, and saving match data file: https://www.football-data.co.uk/mmz4281/9697/P1.csv\n"
     ]
    },
    {
     "name": "stderr",
     "output_type": "stream",
     "text": [
      "/var/folders/xn/jj94n4tj5w90v1m3njdf44n80000gp/T/ipykernel_45706/3335976498.py:27: UserWarning: Could not infer format, so each element will be parsed individually, falling back to `dateutil`. To ensure parsing is consistent and as-expected, please specify a format.\n",
      "  df = pd.read_csv(\n"
     ]
    },
    {
     "name": "stdout",
     "output_type": "stream",
     "text": [
      "reading, altering, and saving match data file: https://www.football-data.co.uk/mmz4281/1213/P1.csv\n"
     ]
    },
    {
     "name": "stderr",
     "output_type": "stream",
     "text": [
      "/var/folders/xn/jj94n4tj5w90v1m3njdf44n80000gp/T/ipykernel_45706/3335976498.py:27: UserWarning: Could not infer format, so each element will be parsed individually, falling back to `dateutil`. To ensure parsing is consistent and as-expected, please specify a format.\n",
      "  df = pd.read_csv(\n"
     ]
    },
    {
     "name": "stdout",
     "output_type": "stream",
     "text": [
      "reading, altering, and saving match data file: https://www.football-data.co.uk/mmz4281/2425/P1.csv\n",
      "reading, altering, and saving match data file: https://www.football-data.co.uk/mmz4281/0910/P1.csv\n"
     ]
    },
    {
     "name": "stderr",
     "output_type": "stream",
     "text": [
      "/var/folders/xn/jj94n4tj5w90v1m3njdf44n80000gp/T/ipykernel_45706/3335976498.py:27: UserWarning: Could not infer format, so each element will be parsed individually, falling back to `dateutil`. To ensure parsing is consistent and as-expected, please specify a format.\n",
      "  df = pd.read_csv(\n"
     ]
    },
    {
     "name": "stdout",
     "output_type": "stream",
     "text": [
      "reading, altering, and saving match data file: https://www.football-data.co.uk/mmz4281/1617/P1.csv\n"
     ]
    },
    {
     "name": "stderr",
     "output_type": "stream",
     "text": [
      "/var/folders/xn/jj94n4tj5w90v1m3njdf44n80000gp/T/ipykernel_45706/3335976498.py:27: UserWarning: Could not infer format, so each element will be parsed individually, falling back to `dateutil`. To ensure parsing is consistent and as-expected, please specify a format.\n",
      "  df = pd.read_csv(\n"
     ]
    },
    {
     "name": "stdout",
     "output_type": "stream",
     "text": [
      "reading, altering, and saving match data file: https://www.football-data.co.uk/mmz4281/0506/P1.csv\n"
     ]
    },
    {
     "name": "stderr",
     "output_type": "stream",
     "text": [
      "/var/folders/xn/jj94n4tj5w90v1m3njdf44n80000gp/T/ipykernel_45706/3335976498.py:27: UserWarning: Could not infer format, so each element will be parsed individually, falling back to `dateutil`. To ensure parsing is consistent and as-expected, please specify a format.\n",
      "  df = pd.read_csv(\n"
     ]
    },
    {
     "name": "stdout",
     "output_type": "stream",
     "text": [
      "reading, altering, and saving match data file: https://www.football-data.co.uk/mmz4281/0203/P1.csv\n"
     ]
    },
    {
     "name": "stderr",
     "output_type": "stream",
     "text": [
      "/var/folders/xn/jj94n4tj5w90v1m3njdf44n80000gp/T/ipykernel_45706/3335976498.py:27: UserWarning: Could not infer format, so each element will be parsed individually, falling back to `dateutil`. To ensure parsing is consistent and as-expected, please specify a format.\n",
      "  df = pd.read_csv(\n"
     ]
    },
    {
     "name": "stdout",
     "output_type": "stream",
     "text": [
      "reading, altering, and saving match data file: https://www.football-data.co.uk/mmz4281/2122/P1.csv\n",
      "reading, altering, and saving match data file: https://www.football-data.co.uk/mmz4281/0405/P1.csv\n"
     ]
    },
    {
     "name": "stderr",
     "output_type": "stream",
     "text": [
      "/var/folders/xn/jj94n4tj5w90v1m3njdf44n80000gp/T/ipykernel_45706/3335976498.py:27: UserWarning: Could not infer format, so each element will be parsed individually, falling back to `dateutil`. To ensure parsing is consistent and as-expected, please specify a format.\n",
      "  df = pd.read_csv(\n"
     ]
    },
    {
     "name": "stdout",
     "output_type": "stream",
     "text": [
      "reading, altering, and saving match data file: https://www.football-data.co.uk/mmz4281/1112/P1.csv\n"
     ]
    },
    {
     "name": "stderr",
     "output_type": "stream",
     "text": [
      "/var/folders/xn/jj94n4tj5w90v1m3njdf44n80000gp/T/ipykernel_45706/3335976498.py:27: UserWarning: Could not infer format, so each element will be parsed individually, falling back to `dateutil`. To ensure parsing is consistent and as-expected, please specify a format.\n",
      "  df = pd.read_csv(\n"
     ]
    },
    {
     "name": "stdout",
     "output_type": "stream",
     "text": [
      "reading, altering, and saving match data file: https://www.football-data.co.uk/mmz4281/1314/P1.csv\n"
     ]
    },
    {
     "name": "stderr",
     "output_type": "stream",
     "text": [
      "/var/folders/xn/jj94n4tj5w90v1m3njdf44n80000gp/T/ipykernel_45706/3335976498.py:27: UserWarning: Could not infer format, so each element will be parsed individually, falling back to `dateutil`. To ensure parsing is consistent and as-expected, please specify a format.\n",
      "  df = pd.read_csv(\n"
     ]
    },
    {
     "name": "stdout",
     "output_type": "stream",
     "text": [
      "reading, altering, and saving match data file: https://www.football-data.co.uk/mmz4281/9798/P1.csv\n"
     ]
    },
    {
     "name": "stderr",
     "output_type": "stream",
     "text": [
      "/var/folders/xn/jj94n4tj5w90v1m3njdf44n80000gp/T/ipykernel_45706/3335976498.py:27: UserWarning: Could not infer format, so each element will be parsed individually, falling back to `dateutil`. To ensure parsing is consistent and as-expected, please specify a format.\n",
      "  df = pd.read_csv(\n"
     ]
    },
    {
     "name": "stdout",
     "output_type": "stream",
     "text": [
      "reading, altering, and saving match data file: https://www.football-data.co.uk/mmz4281/0102/P1.csv\n"
     ]
    },
    {
     "name": "stderr",
     "output_type": "stream",
     "text": [
      "/var/folders/xn/jj94n4tj5w90v1m3njdf44n80000gp/T/ipykernel_45706/3335976498.py:27: UserWarning: Could not infer format, so each element will be parsed individually, falling back to `dateutil`. To ensure parsing is consistent and as-expected, please specify a format.\n",
      "  df = pd.read_csv(\n"
     ]
    },
    {
     "name": "stdout",
     "output_type": "stream",
     "text": [
      "reading, altering, and saving match data file: https://www.football-data.co.uk/mmz4281/1819/P1.csv\n",
      "reading, altering, and saving match data file: https://www.football-data.co.uk/mmz4281/2021/P1.csv\n",
      "reading, altering, and saving match data file: https://www.football-data.co.uk/mmz4281/2324/P1.csv\n",
      "reading, altering, and saving match data file: https://www.football-data.co.uk/mmz4281/9495/P1.csv\n",
      "reading, altering, and saving match data file: https://www.football-data.co.uk/mmz4281/9900/P1.csv\n"
     ]
    },
    {
     "name": "stderr",
     "output_type": "stream",
     "text": [
      "/var/folders/xn/jj94n4tj5w90v1m3njdf44n80000gp/T/ipykernel_45706/3335976498.py:27: UserWarning: Could not infer format, so each element will be parsed individually, falling back to `dateutil`. To ensure parsing is consistent and as-expected, please specify a format.\n",
      "  df = pd.read_csv(\n",
      "/var/folders/xn/jj94n4tj5w90v1m3njdf44n80000gp/T/ipykernel_45706/3335976498.py:27: UserWarning: Could not infer format, so each element will be parsed individually, falling back to `dateutil`. To ensure parsing is consistent and as-expected, please specify a format.\n",
      "  df = pd.read_csv(\n"
     ]
    },
    {
     "name": "stdout",
     "output_type": "stream",
     "text": [
      "reading, altering, and saving match data file: https://www.football-data.co.uk/mmz4281/0607/P1.csv\n"
     ]
    },
    {
     "name": "stderr",
     "output_type": "stream",
     "text": [
      "/var/folders/xn/jj94n4tj5w90v1m3njdf44n80000gp/T/ipykernel_45706/3335976498.py:27: UserWarning: Could not infer format, so each element will be parsed individually, falling back to `dateutil`. To ensure parsing is consistent and as-expected, please specify a format.\n",
      "  df = pd.read_csv(\n"
     ]
    },
    {
     "name": "stdout",
     "output_type": "stream",
     "text": [
      "reading, altering, and saving match data file: https://www.football-data.co.uk/mmz4281/9697/T1.csv\n"
     ]
    },
    {
     "name": "stderr",
     "output_type": "stream",
     "text": [
      "/var/folders/xn/jj94n4tj5w90v1m3njdf44n80000gp/T/ipykernel_45706/3335976498.py:27: UserWarning: Could not infer format, so each element will be parsed individually, falling back to `dateutil`. To ensure parsing is consistent and as-expected, please specify a format.\n",
      "  df = pd.read_csv(\n"
     ]
    },
    {
     "name": "stdout",
     "output_type": "stream",
     "text": [
      "reading, altering, and saving match data file: https://www.football-data.co.uk/mmz4281/1112/T1.csv\n"
     ]
    },
    {
     "name": "stderr",
     "output_type": "stream",
     "text": [
      "/var/folders/xn/jj94n4tj5w90v1m3njdf44n80000gp/T/ipykernel_45706/3335976498.py:27: UserWarning: Could not infer format, so each element will be parsed individually, falling back to `dateutil`. To ensure parsing is consistent and as-expected, please specify a format.\n",
      "  df = pd.read_csv(\n"
     ]
    },
    {
     "name": "stdout",
     "output_type": "stream",
     "text": [
      "reading, altering, and saving match data file: https://www.football-data.co.uk/mmz4281/2122/T1.csv\n",
      "reading, altering, and saving match data file: https://www.football-data.co.uk/mmz4281/1011/T1.csv\n"
     ]
    },
    {
     "name": "stderr",
     "output_type": "stream",
     "text": [
      "/var/folders/xn/jj94n4tj5w90v1m3njdf44n80000gp/T/ipykernel_45706/3335976498.py:27: UserWarning: Could not infer format, so each element will be parsed individually, falling back to `dateutil`. To ensure parsing is consistent and as-expected, please specify a format.\n",
      "  df = pd.read_csv(\n"
     ]
    },
    {
     "name": "stdout",
     "output_type": "stream",
     "text": [
      "reading, altering, and saving match data file: https://www.football-data.co.uk/mmz4281/0001/T1.csv\n"
     ]
    },
    {
     "name": "stderr",
     "output_type": "stream",
     "text": [
      "/var/folders/xn/jj94n4tj5w90v1m3njdf44n80000gp/T/ipykernel_45706/3335976498.py:27: UserWarning: Could not infer format, so each element will be parsed individually, falling back to `dateutil`. To ensure parsing is consistent and as-expected, please specify a format.\n",
      "  df = pd.read_csv(\n"
     ]
    },
    {
     "name": "stdout",
     "output_type": "stream",
     "text": [
      "reading, altering, and saving match data file: https://www.football-data.co.uk/mmz4281/0809/T1.csv\n"
     ]
    },
    {
     "name": "stderr",
     "output_type": "stream",
     "text": [
      "/var/folders/xn/jj94n4tj5w90v1m3njdf44n80000gp/T/ipykernel_45706/3335976498.py:27: UserWarning: Could not infer format, so each element will be parsed individually, falling back to `dateutil`. To ensure parsing is consistent and as-expected, please specify a format.\n",
      "  df = pd.read_csv(\n"
     ]
    },
    {
     "name": "stdout",
     "output_type": "stream",
     "text": [
      "reading, altering, and saving match data file: https://www.football-data.co.uk/mmz4281/1718/T1.csv\n"
     ]
    },
    {
     "name": "stderr",
     "output_type": "stream",
     "text": [
      "/var/folders/xn/jj94n4tj5w90v1m3njdf44n80000gp/T/ipykernel_45706/3335976498.py:27: UserWarning: Could not infer format, so each element will be parsed individually, falling back to `dateutil`. To ensure parsing is consistent and as-expected, please specify a format.\n",
      "  df = pd.read_csv(\n"
     ]
    },
    {
     "name": "stdout",
     "output_type": "stream",
     "text": [
      "reading, altering, and saving match data file: https://www.football-data.co.uk/mmz4281/1819/T1.csv\n",
      "reading, altering, and saving match data file: https://www.football-data.co.uk/mmz4281/9495/T1.csv\n",
      "reading, altering, and saving match data file: https://www.football-data.co.uk/mmz4281/0304/T1.csv\n"
     ]
    },
    {
     "name": "stderr",
     "output_type": "stream",
     "text": [
      "/var/folders/xn/jj94n4tj5w90v1m3njdf44n80000gp/T/ipykernel_45706/3335976498.py:27: UserWarning: Could not infer format, so each element will be parsed individually, falling back to `dateutil`. To ensure parsing is consistent and as-expected, please specify a format.\n",
      "  df = pd.read_csv(\n",
      "/var/folders/xn/jj94n4tj5w90v1m3njdf44n80000gp/T/ipykernel_45706/3335976498.py:27: UserWarning: Could not infer format, so each element will be parsed individually, falling back to `dateutil`. To ensure parsing is consistent and as-expected, please specify a format.\n",
      "  df = pd.read_csv(\n"
     ]
    },
    {
     "name": "stdout",
     "output_type": "stream",
     "text": [
      "reading, altering, and saving match data file: https://www.football-data.co.uk/mmz4281/1617/T1.csv\n"
     ]
    },
    {
     "name": "stderr",
     "output_type": "stream",
     "text": [
      "/var/folders/xn/jj94n4tj5w90v1m3njdf44n80000gp/T/ipykernel_45706/3335976498.py:27: UserWarning: Could not infer format, so each element will be parsed individually, falling back to `dateutil`. To ensure parsing is consistent and as-expected, please specify a format.\n",
      "  df = pd.read_csv(\n"
     ]
    },
    {
     "name": "stdout",
     "output_type": "stream",
     "text": [
      "reading, altering, and saving match data file: https://www.football-data.co.uk/mmz4281/0102/T1.csv\n"
     ]
    },
    {
     "name": "stderr",
     "output_type": "stream",
     "text": [
      "/var/folders/xn/jj94n4tj5w90v1m3njdf44n80000gp/T/ipykernel_45706/3335976498.py:27: UserWarning: Could not infer format, so each element will be parsed individually, falling back to `dateutil`. To ensure parsing is consistent and as-expected, please specify a format.\n",
      "  df = pd.read_csv(\n"
     ]
    },
    {
     "name": "stdout",
     "output_type": "stream",
     "text": [
      "reading, altering, and saving match data file: https://www.football-data.co.uk/mmz4281/0203/T1.csv\n"
     ]
    },
    {
     "name": "stderr",
     "output_type": "stream",
     "text": [
      "/var/folders/xn/jj94n4tj5w90v1m3njdf44n80000gp/T/ipykernel_45706/3335976498.py:27: UserWarning: Could not infer format, so each element will be parsed individually, falling back to `dateutil`. To ensure parsing is consistent and as-expected, please specify a format.\n",
      "  df = pd.read_csv(\n"
     ]
    },
    {
     "name": "stdout",
     "output_type": "stream",
     "text": [
      "reading, altering, and saving match data file: https://www.football-data.co.uk/mmz4281/0405/T1.csv\n"
     ]
    },
    {
     "name": "stderr",
     "output_type": "stream",
     "text": [
      "/var/folders/xn/jj94n4tj5w90v1m3njdf44n80000gp/T/ipykernel_45706/3335976498.py:27: UserWarning: Could not infer format, so each element will be parsed individually, falling back to `dateutil`. To ensure parsing is consistent and as-expected, please specify a format.\n",
      "  df = pd.read_csv(\n"
     ]
    },
    {
     "name": "stdout",
     "output_type": "stream",
     "text": [
      "reading, altering, and saving match data file: https://www.football-data.co.uk/mmz4281/1516/T1.csv\n"
     ]
    },
    {
     "name": "stderr",
     "output_type": "stream",
     "text": [
      "/var/folders/xn/jj94n4tj5w90v1m3njdf44n80000gp/T/ipykernel_45706/3335976498.py:27: UserWarning: Could not infer format, so each element will be parsed individually, falling back to `dateutil`. To ensure parsing is consistent and as-expected, please specify a format.\n",
      "  df = pd.read_csv(\n"
     ]
    },
    {
     "name": "stdout",
     "output_type": "stream",
     "text": [
      "reading, altering, and saving match data file: https://www.football-data.co.uk/mmz4281/1314/T1.csv\n"
     ]
    },
    {
     "name": "stderr",
     "output_type": "stream",
     "text": [
      "/var/folders/xn/jj94n4tj5w90v1m3njdf44n80000gp/T/ipykernel_45706/3335976498.py:27: UserWarning: Could not infer format, so each element will be parsed individually, falling back to `dateutil`. To ensure parsing is consistent and as-expected, please specify a format.\n",
      "  df = pd.read_csv(\n"
     ]
    },
    {
     "name": "stdout",
     "output_type": "stream",
     "text": [
      "reading, altering, and saving match data file: https://www.football-data.co.uk/mmz4281/2425/T1.csv\n",
      "reading, altering, and saving match data file: https://www.football-data.co.uk/mmz4281/0506/T1.csv\n"
     ]
    },
    {
     "name": "stderr",
     "output_type": "stream",
     "text": [
      "/var/folders/xn/jj94n4tj5w90v1m3njdf44n80000gp/T/ipykernel_45706/3335976498.py:27: UserWarning: Could not infer format, so each element will be parsed individually, falling back to `dateutil`. To ensure parsing is consistent and as-expected, please specify a format.\n",
      "  df = pd.read_csv(\n"
     ]
    },
    {
     "name": "stdout",
     "output_type": "stream",
     "text": [
      "reading, altering, and saving match data file: https://www.football-data.co.uk/mmz4281/2223/T1.csv\n",
      "reading, altering, and saving match data file: https://www.football-data.co.uk/mmz4281/9596/T1.csv\n",
      "reading, altering, and saving match data file: https://www.football-data.co.uk/mmz4281/2324/T1.csv\n"
     ]
    },
    {
     "name": "stderr",
     "output_type": "stream",
     "text": [
      "/var/folders/xn/jj94n4tj5w90v1m3njdf44n80000gp/T/ipykernel_45706/3335976498.py:27: UserWarning: Could not infer format, so each element will be parsed individually, falling back to `dateutil`. To ensure parsing is consistent and as-expected, please specify a format.\n",
      "  df = pd.read_csv(\n"
     ]
    },
    {
     "name": "stdout",
     "output_type": "stream",
     "text": [
      "reading, altering, and saving match data file: https://www.football-data.co.uk/mmz4281/0607/T1.csv\n",
      "reading, altering, and saving match data file: https://www.football-data.co.uk/mmz4281/9899/T1.csv\n"
     ]
    },
    {
     "name": "stderr",
     "output_type": "stream",
     "text": [
      "/var/folders/xn/jj94n4tj5w90v1m3njdf44n80000gp/T/ipykernel_45706/3335976498.py:27: UserWarning: Could not infer format, so each element will be parsed individually, falling back to `dateutil`. To ensure parsing is consistent and as-expected, please specify a format.\n",
      "  df = pd.read_csv(\n"
     ]
    },
    {
     "name": "stdout",
     "output_type": "stream",
     "text": [
      "reading, altering, and saving match data file: https://www.football-data.co.uk/mmz4281/1415/T1.csv\n"
     ]
    },
    {
     "name": "stderr",
     "output_type": "stream",
     "text": [
      "/var/folders/xn/jj94n4tj5w90v1m3njdf44n80000gp/T/ipykernel_45706/3335976498.py:27: UserWarning: Could not infer format, so each element will be parsed individually, falling back to `dateutil`. To ensure parsing is consistent and as-expected, please specify a format.\n",
      "  df = pd.read_csv(\n"
     ]
    },
    {
     "name": "stdout",
     "output_type": "stream",
     "text": [
      "reading, altering, and saving match data file: https://www.football-data.co.uk/mmz4281/9900/T1.csv\n"
     ]
    },
    {
     "name": "stderr",
     "output_type": "stream",
     "text": [
      "/var/folders/xn/jj94n4tj5w90v1m3njdf44n80000gp/T/ipykernel_45706/3335976498.py:27: UserWarning: Could not infer format, so each element will be parsed individually, falling back to `dateutil`. To ensure parsing is consistent and as-expected, please specify a format.\n",
      "  df = pd.read_csv(\n"
     ]
    },
    {
     "name": "stdout",
     "output_type": "stream",
     "text": [
      "reading, altering, and saving match data file: https://www.football-data.co.uk/mmz4281/2021/T1.csv\n",
      "reading, altering, and saving match data file: https://www.football-data.co.uk/mmz4281/0708/T1.csv\n"
     ]
    },
    {
     "name": "stderr",
     "output_type": "stream",
     "text": [
      "/var/folders/xn/jj94n4tj5w90v1m3njdf44n80000gp/T/ipykernel_45706/3335976498.py:27: UserWarning: Could not infer format, so each element will be parsed individually, falling back to `dateutil`. To ensure parsing is consistent and as-expected, please specify a format.\n",
      "  df = pd.read_csv(\n",
      "/var/folders/xn/jj94n4tj5w90v1m3njdf44n80000gp/T/ipykernel_45706/3335976498.py:27: UserWarning: Could not infer format, so each element will be parsed individually, falling back to `dateutil`. To ensure parsing is consistent and as-expected, please specify a format.\n",
      "  df = pd.read_csv(\n"
     ]
    },
    {
     "name": "stdout",
     "output_type": "stream",
     "text": [
      "reading, altering, and saving match data file: https://www.football-data.co.uk/mmz4281/9798/T1.csv\n",
      "reading, altering, and saving match data file: https://www.football-data.co.uk/mmz4281/0910/T1.csv\n"
     ]
    },
    {
     "name": "stderr",
     "output_type": "stream",
     "text": [
      "/var/folders/xn/jj94n4tj5w90v1m3njdf44n80000gp/T/ipykernel_45706/3335976498.py:27: UserWarning: Could not infer format, so each element will be parsed individually, falling back to `dateutil`. To ensure parsing is consistent and as-expected, please specify a format.\n",
      "  df = pd.read_csv(\n"
     ]
    },
    {
     "name": "stdout",
     "output_type": "stream",
     "text": [
      "reading, altering, and saving match data file: https://www.football-data.co.uk/mmz4281/1213/T1.csv\n"
     ]
    },
    {
     "name": "stderr",
     "output_type": "stream",
     "text": [
      "/var/folders/xn/jj94n4tj5w90v1m3njdf44n80000gp/T/ipykernel_45706/3335976498.py:27: UserWarning: Could not infer format, so each element will be parsed individually, falling back to `dateutil`. To ensure parsing is consistent and as-expected, please specify a format.\n",
      "  df = pd.read_csv(\n"
     ]
    },
    {
     "name": "stdout",
     "output_type": "stream",
     "text": [
      "reading, altering, and saving match data file: https://www.football-data.co.uk/mmz4281/1920/T1.csv\n",
      "reading, altering, and saving match data file: https://www.football-data.co.uk/mmz4281/1718/G1.csv\n"
     ]
    },
    {
     "name": "stderr",
     "output_type": "stream",
     "text": [
      "/var/folders/xn/jj94n4tj5w90v1m3njdf44n80000gp/T/ipykernel_45706/3335976498.py:27: UserWarning: Could not infer format, so each element will be parsed individually, falling back to `dateutil`. To ensure parsing is consistent and as-expected, please specify a format.\n",
      "  df = pd.read_csv(\n"
     ]
    },
    {
     "name": "stdout",
     "output_type": "stream",
     "text": [
      "reading, altering, and saving match data file: https://www.football-data.co.uk/mmz4281/0405/G1.csv\n"
     ]
    },
    {
     "name": "stderr",
     "output_type": "stream",
     "text": [
      "/var/folders/xn/jj94n4tj5w90v1m3njdf44n80000gp/T/ipykernel_45706/3335976498.py:27: UserWarning: Could not infer format, so each element will be parsed individually, falling back to `dateutil`. To ensure parsing is consistent and as-expected, please specify a format.\n",
      "  df = pd.read_csv(\n"
     ]
    },
    {
     "name": "stdout",
     "output_type": "stream",
     "text": [
      "reading, altering, and saving match data file: https://www.football-data.co.uk/mmz4281/9495/G1.csv\n"
     ]
    },
    {
     "name": "stderr",
     "output_type": "stream",
     "text": [
      "/var/folders/xn/jj94n4tj5w90v1m3njdf44n80000gp/T/ipykernel_45706/3335976498.py:27: UserWarning: Could not infer format, so each element will be parsed individually, falling back to `dateutil`. To ensure parsing is consistent and as-expected, please specify a format.\n",
      "  df = pd.read_csv(\n"
     ]
    },
    {
     "name": "stdout",
     "output_type": "stream",
     "text": [
      "reading, altering, and saving match data file: https://www.football-data.co.uk/mmz4281/1516/G1.csv\n"
     ]
    },
    {
     "name": "stderr",
     "output_type": "stream",
     "text": [
      "/var/folders/xn/jj94n4tj5w90v1m3njdf44n80000gp/T/ipykernel_45706/3335976498.py:27: UserWarning: Could not infer format, so each element will be parsed individually, falling back to `dateutil`. To ensure parsing is consistent and as-expected, please specify a format.\n",
      "  df = pd.read_csv(\n"
     ]
    },
    {
     "name": "stdout",
     "output_type": "stream",
     "text": [
      "reading, altering, and saving match data file: https://www.football-data.co.uk/mmz4281/1112/G1.csv\n"
     ]
    },
    {
     "name": "stderr",
     "output_type": "stream",
     "text": [
      "/var/folders/xn/jj94n4tj5w90v1m3njdf44n80000gp/T/ipykernel_45706/3335976498.py:27: UserWarning: Could not infer format, so each element will be parsed individually, falling back to `dateutil`. To ensure parsing is consistent and as-expected, please specify a format.\n",
      "  df = pd.read_csv(\n",
      "/var/folders/xn/jj94n4tj5w90v1m3njdf44n80000gp/T/ipykernel_45706/3335976498.py:27: UserWarning: Could not infer format, so each element will be parsed individually, falling back to `dateutil`. To ensure parsing is consistent and as-expected, please specify a format.\n",
      "  df = pd.read_csv(\n"
     ]
    },
    {
     "name": "stdout",
     "output_type": "stream",
     "text": [
      "reading, altering, and saving match data file: https://www.football-data.co.uk/mmz4281/9697/G1.csv\n",
      "reading, altering, and saving match data file: https://www.football-data.co.uk/mmz4281/1011/G1.csv\n"
     ]
    },
    {
     "name": "stderr",
     "output_type": "stream",
     "text": [
      "/var/folders/xn/jj94n4tj5w90v1m3njdf44n80000gp/T/ipykernel_45706/3335976498.py:27: UserWarning: Could not infer format, so each element will be parsed individually, falling back to `dateutil`. To ensure parsing is consistent and as-expected, please specify a format.\n",
      "  df = pd.read_csv(\n"
     ]
    },
    {
     "name": "stdout",
     "output_type": "stream",
     "text": [
      "reading, altering, and saving match data file: https://www.football-data.co.uk/mmz4281/0809/G1.csv\n"
     ]
    },
    {
     "name": "stderr",
     "output_type": "stream",
     "text": [
      "/var/folders/xn/jj94n4tj5w90v1m3njdf44n80000gp/T/ipykernel_45706/3335976498.py:27: UserWarning: Could not infer format, so each element will be parsed individually, falling back to `dateutil`. To ensure parsing is consistent and as-expected, please specify a format.\n",
      "  df = pd.read_csv(\n"
     ]
    },
    {
     "name": "stdout",
     "output_type": "stream",
     "text": [
      "reading, altering, and saving match data file: https://www.football-data.co.uk/mmz4281/2324/G1.csv\n",
      "reading, altering, and saving match data file: https://www.football-data.co.uk/mmz4281/1617/G1.csv\n"
     ]
    },
    {
     "name": "stderr",
     "output_type": "stream",
     "text": [
      "/var/folders/xn/jj94n4tj5w90v1m3njdf44n80000gp/T/ipykernel_45706/3335976498.py:27: UserWarning: Could not infer format, so each element will be parsed individually, falling back to `dateutil`. To ensure parsing is consistent and as-expected, please specify a format.\n",
      "  df = pd.read_csv(\n"
     ]
    },
    {
     "name": "stdout",
     "output_type": "stream",
     "text": [
      "reading, altering, and saving match data file: https://www.football-data.co.uk/mmz4281/0708/G1.csv\n"
     ]
    },
    {
     "name": "stderr",
     "output_type": "stream",
     "text": [
      "/var/folders/xn/jj94n4tj5w90v1m3njdf44n80000gp/T/ipykernel_45706/3335976498.py:27: UserWarning: Could not infer format, so each element will be parsed individually, falling back to `dateutil`. To ensure parsing is consistent and as-expected, please specify a format.\n",
      "  df = pd.read_csv(\n"
     ]
    },
    {
     "name": "stdout",
     "output_type": "stream",
     "text": [
      "reading, altering, and saving match data file: https://www.football-data.co.uk/mmz4281/0910/G1.csv\n"
     ]
    },
    {
     "name": "stderr",
     "output_type": "stream",
     "text": [
      "/var/folders/xn/jj94n4tj5w90v1m3njdf44n80000gp/T/ipykernel_45706/3335976498.py:27: UserWarning: Could not infer format, so each element will be parsed individually, falling back to `dateutil`. To ensure parsing is consistent and as-expected, please specify a format.\n",
      "  df = pd.read_csv(\n"
     ]
    },
    {
     "name": "stdout",
     "output_type": "stream",
     "text": [
      "reading, altering, and saving match data file: https://www.football-data.co.uk/mmz4281/2122/G1.csv\n",
      "reading, altering, and saving match data file: https://www.football-data.co.uk/mmz4281/0102/G1.csv\n"
     ]
    },
    {
     "name": "stderr",
     "output_type": "stream",
     "text": [
      "/var/folders/xn/jj94n4tj5w90v1m3njdf44n80000gp/T/ipykernel_45706/3335976498.py:27: UserWarning: Could not infer format, so each element will be parsed individually, falling back to `dateutil`. To ensure parsing is consistent and as-expected, please specify a format.\n",
      "  df = pd.read_csv(\n"
     ]
    },
    {
     "name": "stdout",
     "output_type": "stream",
     "text": [
      "reading, altering, and saving match data file: https://www.football-data.co.uk/mmz4281/1213/G1.csv\n"
     ]
    },
    {
     "name": "stderr",
     "output_type": "stream",
     "text": [
      "/var/folders/xn/jj94n4tj5w90v1m3njdf44n80000gp/T/ipykernel_45706/3335976498.py:27: UserWarning: Could not infer format, so each element will be parsed individually, falling back to `dateutil`. To ensure parsing is consistent and as-expected, please specify a format.\n",
      "  df = pd.read_csv(\n"
     ]
    },
    {
     "name": "stdout",
     "output_type": "stream",
     "text": [
      "reading, altering, and saving match data file: https://www.football-data.co.uk/mmz4281/1920/G1.csv\n",
      "reading, altering, and saving match data file: https://www.football-data.co.uk/mmz4281/0203/G1.csv\n"
     ]
    },
    {
     "name": "stderr",
     "output_type": "stream",
     "text": [
      "/var/folders/xn/jj94n4tj5w90v1m3njdf44n80000gp/T/ipykernel_45706/3335976498.py:27: UserWarning: Could not infer format, so each element will be parsed individually, falling back to `dateutil`. To ensure parsing is consistent and as-expected, please specify a format.\n",
      "  df = pd.read_csv(\n"
     ]
    },
    {
     "name": "stdout",
     "output_type": "stream",
     "text": [
      "reading, altering, and saving match data file: https://www.football-data.co.uk/mmz4281/9900/G1.csv\n"
     ]
    },
    {
     "name": "stderr",
     "output_type": "stream",
     "text": [
      "/var/folders/xn/jj94n4tj5w90v1m3njdf44n80000gp/T/ipykernel_45706/3335976498.py:27: UserWarning: Could not infer format, so each element will be parsed individually, falling back to `dateutil`. To ensure parsing is consistent and as-expected, please specify a format.\n",
      "  df = pd.read_csv(\n",
      "/var/folders/xn/jj94n4tj5w90v1m3njdf44n80000gp/T/ipykernel_45706/3335976498.py:27: UserWarning: Could not infer format, so each element will be parsed individually, falling back to `dateutil`. To ensure parsing is consistent and as-expected, please specify a format.\n",
      "  df = pd.read_csv(\n"
     ]
    },
    {
     "name": "stdout",
     "output_type": "stream",
     "text": [
      "reading, altering, and saving match data file: https://www.football-data.co.uk/mmz4281/0001/G1.csv\n",
      "reading, altering, and saving match data file: https://www.football-data.co.uk/mmz4281/0304/G1.csv\n"
     ]
    },
    {
     "name": "stderr",
     "output_type": "stream",
     "text": [
      "/var/folders/xn/jj94n4tj5w90v1m3njdf44n80000gp/T/ipykernel_45706/3335976498.py:27: UserWarning: Could not infer format, so each element will be parsed individually, falling back to `dateutil`. To ensure parsing is consistent and as-expected, please specify a format.\n",
      "  df = pd.read_csv(\n"
     ]
    },
    {
     "name": "stdout",
     "output_type": "stream",
     "text": [
      "reading, altering, and saving match data file: https://www.football-data.co.uk/mmz4281/2425/G1.csv\n",
      "reading, altering, and saving match data file: https://www.football-data.co.uk/mmz4281/0607/G1.csv\n"
     ]
    },
    {
     "name": "stderr",
     "output_type": "stream",
     "text": [
      "/var/folders/xn/jj94n4tj5w90v1m3njdf44n80000gp/T/ipykernel_45706/3335976498.py:27: UserWarning: Could not infer format, so each element will be parsed individually, falling back to `dateutil`. To ensure parsing is consistent and as-expected, please specify a format.\n",
      "  df = pd.read_csv(\n"
     ]
    },
    {
     "name": "stdout",
     "output_type": "stream",
     "text": [
      "reading, altering, and saving match data file: https://www.football-data.co.uk/mmz4281/2223/G1.csv\n",
      "reading, altering, and saving match data file: https://www.football-data.co.uk/mmz4281/9798/G1.csv\n"
     ]
    },
    {
     "name": "stderr",
     "output_type": "stream",
     "text": [
      "/var/folders/xn/jj94n4tj5w90v1m3njdf44n80000gp/T/ipykernel_45706/3335976498.py:27: UserWarning: Could not infer format, so each element will be parsed individually, falling back to `dateutil`. To ensure parsing is consistent and as-expected, please specify a format.\n",
      "  df = pd.read_csv(\n"
     ]
    },
    {
     "name": "stdout",
     "output_type": "stream",
     "text": [
      "reading, altering, and saving match data file: https://www.football-data.co.uk/mmz4281/1314/G1.csv\n"
     ]
    },
    {
     "name": "stderr",
     "output_type": "stream",
     "text": [
      "/var/folders/xn/jj94n4tj5w90v1m3njdf44n80000gp/T/ipykernel_45706/3335976498.py:27: UserWarning: Could not infer format, so each element will be parsed individually, falling back to `dateutil`. To ensure parsing is consistent and as-expected, please specify a format.\n",
      "  df = pd.read_csv(\n"
     ]
    },
    {
     "name": "stdout",
     "output_type": "stream",
     "text": [
      "reading, altering, and saving match data file: https://www.football-data.co.uk/mmz4281/9899/G1.csv\n"
     ]
    },
    {
     "name": "stderr",
     "output_type": "stream",
     "text": [
      "/var/folders/xn/jj94n4tj5w90v1m3njdf44n80000gp/T/ipykernel_45706/3335976498.py:27: UserWarning: Could not infer format, so each element will be parsed individually, falling back to `dateutil`. To ensure parsing is consistent and as-expected, please specify a format.\n",
      "  df = pd.read_csv(\n"
     ]
    },
    {
     "name": "stdout",
     "output_type": "stream",
     "text": [
      "reading, altering, and saving match data file: https://www.football-data.co.uk/mmz4281/0506/G1.csv\n"
     ]
    },
    {
     "name": "stderr",
     "output_type": "stream",
     "text": [
      "/var/folders/xn/jj94n4tj5w90v1m3njdf44n80000gp/T/ipykernel_45706/3335976498.py:27: UserWarning: Could not infer format, so each element will be parsed individually, falling back to `dateutil`. To ensure parsing is consistent and as-expected, please specify a format.\n",
      "  df = pd.read_csv(\n"
     ]
    },
    {
     "name": "stdout",
     "output_type": "stream",
     "text": [
      "reading, altering, and saving match data file: https://www.football-data.co.uk/mmz4281/1415/G1.csv\n"
     ]
    },
    {
     "name": "stderr",
     "output_type": "stream",
     "text": [
      "/var/folders/xn/jj94n4tj5w90v1m3njdf44n80000gp/T/ipykernel_45706/3335976498.py:27: UserWarning: Could not infer format, so each element will be parsed individually, falling back to `dateutil`. To ensure parsing is consistent and as-expected, please specify a format.\n",
      "  df = pd.read_csv(\n",
      "/var/folders/xn/jj94n4tj5w90v1m3njdf44n80000gp/T/ipykernel_45706/3335976498.py:27: UserWarning: Could not infer format, so each element will be parsed individually, falling back to `dateutil`. To ensure parsing is consistent and as-expected, please specify a format.\n",
      "  df = pd.read_csv(\n"
     ]
    },
    {
     "name": "stdout",
     "output_type": "stream",
     "text": [
      "reading, altering, and saving match data file: https://www.football-data.co.uk/mmz4281/9596/G1.csv\n",
      "reading, altering, and saving match data file: https://www.football-data.co.uk/mmz4281/2021/G1.csv\n",
      "reading, altering, and saving match data file: https://www.football-data.co.uk/mmz4281/1819/G1.csv\n",
      "reading, altering, and saving match data file: https://www.football-data.co.uk/new/ARG.csv\n",
      "reading, altering, and saving match data file: https://www.football-data.co.uk/new/AUT.csv\n",
      "reading, altering, and saving match data file: https://www.football-data.co.uk/new/BRA.csv\n",
      "reading, altering, and saving match data file: https://www.football-data.co.uk/new/CHN.csv\n",
      "reading, altering, and saving match data file: https://www.football-data.co.uk/new/DNK.csv\n",
      "reading, altering, and saving match data file: https://www.football-data.co.uk/new/FIN.csv\n",
      "reading, altering, and saving match data file: https://www.football-data.co.uk/new/IRL.csv\n",
      "reading, altering, and saving match data file: https://www.football-data.co.uk/new/JPN.csv\n",
      "reading, altering, and saving match data file: https://www.football-data.co.uk/new/MEX.csv\n",
      "reading, altering, and saving match data file: https://www.football-data.co.uk/new/NOR.csv\n",
      "reading, altering, and saving match data file: https://www.football-data.co.uk/new/POL.csv\n",
      "reading, altering, and saving match data file: https://www.football-data.co.uk/new/ROU.csv\n",
      "reading, altering, and saving match data file: https://www.football-data.co.uk/new/RUS.csv\n",
      "reading, altering, and saving match data file: https://www.football-data.co.uk/new/SWE.csv\n",
      "reading, altering, and saving match data file: https://www.football-data.co.uk/new/SWZ.csv\n",
      "reading, altering, and saving match data file: https://www.football-data.co.uk/new/USA.csv\n"
     ]
    }
   ],
   "source": [
    "column_names = []\n",
    "for country in countries:\n",
    "    datafile_urls = pd.read_csv(PATH_TO_SOURCE_URLS+country+'_data_file_urls.csv')\n",
    "    for datafile_url in datafile_urls['data_url']:\n",
    "        print('reading, altering, and saving match data file:', datafile_url)\n",
    "        df = read_problematic_csv(datafile_url)\n",
    "        column_names = list(set(column_names + list(df.columns)))\n",
    "        # df = pd.read_csv(datafile_url, parse_dates=['Date'], dayfirst=True, on_bad_lines='error')\n",
    "        df['country'] = country\n",
    "        filename =                                \\\n",
    "            PATH_TO_MATCH_DATA                    \\\n",
    "            + country                             \\\n",
    "            + '_'                                 \\\n",
    "            + datafile_url                        \\\n",
    "                .split('football-data.co.uk/')[1] \\\n",
    "                .replace('/', '_')                \\\n",
    "                .split('.')[0]                    \\\n",
    "            + '.csv'                              \\\n",
    "            .lower()\n",
    "        df.to_csv(filename, index=False)"
   ]
  },
  {
   "cell_type": "code",
   "execution_count": 9,
   "id": "13d2a21e-1d88-4df7-872c-c0aed11350dd",
   "metadata": {},
   "outputs": [
    {
     "name": "stdout",
     "output_type": "stream",
     "text": [
      "266 ['1XBA', '1XBCA', '1XBCD', '1XBCH', '1XBD', '1XBH', 'ABP', 'AC', 'AF', 'AFKC', 'AG', 'AHCh', 'AHW', 'AHh', 'AO', 'AR', 'AS', 'AST', 'AT', 'AY', 'Attendance', 'Avg<2.5', 'Avg>2.5', 'AvgA', 'AvgAHA', 'AvgAHH', 'AvgC<2.5', 'AvgC>2.5', 'AvgCA', 'AvgCAHA', 'AvgCAHH', 'AvgCD', 'AvgCH', 'AvgD', 'AvgH', 'Away', 'AwayTeam', 'B365<2.5', 'B365>2.5', 'B365A', 'B365AH', 'B365AHA', 'B365AHH', 'B365C<2.5', 'B365C>2.5', 'B365CA', 'B365CAHA', 'B365CAHH', 'B365CD', 'B365CH', 'B365D', 'B365H', 'BFA', 'BFCA', 'BFCD', 'BFCH', 'BFD', 'BFE<2.5', 'BFE>2.5', 'BFEA', 'BFEAHA', 'BFEAHH', 'BFEC<2.5', 'BFEC>2.5', 'BFECA', 'BFECAHA', 'BFECAHH', 'BFECD', 'BFECH', 'BFED', 'BFEH', 'BFH', 'BSA', 'BSD', 'BSH', 'BWA', 'BWCA', 'BWCD', 'BWCH', 'BWD', 'BWH', 'Bb1X2', 'BbAH', 'BbAHh', 'BbAv<2.5', 'BbAv>2.5', 'BbAvA', 'BbAvAHA', 'BbAvAHH', 'BbAvD', 'BbAvH', 'BbMx<2.5', 'BbMx>2.5', 'BbMxA', 'BbMxAHA', 'BbMxAHH', 'BbMxD', 'BbMxH', 'BbOU', 'Country', 'Date', 'Div', 'FTAG', 'FTHG', 'FTR', 'GB<2.5', 'GB>2.5', 'GBA', 'GBAH', 'GBAHA', 'GBAHH', 'GBD', 'GBH', 'HBP', 'HC', 'HF', 'HFKC', 'HG', 'HHW', 'HO', 'HR', 'HS', 'HST', 'HT', 'HTAG', 'HTHG', 'HTR', 'HY', 'Home', 'HomeTeam', 'IWA', 'IWCA', 'IWCD', 'IWCH', 'IWD', 'IWH', 'LB', 'LB.1', 'LB.2', 'LBA', 'LBAH', 'LBAHA', 'LBAHH', 'LBD', 'LBH', 'League', 'Max<2.5', 'Max>2.5', 'MaxA', 'MaxAHA', 'MaxAHH', 'MaxC<2.5', 'MaxC>2.5', 'MaxCA', 'MaxCAHA', 'MaxCAHH', 'MaxCD', 'MaxCH', 'MaxD', 'MaxH', 'P<2.5', 'P>2.5', 'PAHA', 'PAHH', 'PC<2.5', 'PC>2.5', 'PCAHA', 'PCAHH', 'PSA', 'PSCA', 'PSCD', 'PSCH', 'PSD', 'PSH', 'Referee', 'Res', 'SBA', 'SBD', 'SBH', 'SJA', 'SJD', 'SJH', 'SOA', 'SOD', 'SOH', 'SYA', 'SYD', 'SYH', 'Season', 'Time', 'Unnamed: 10', 'Unnamed: 105', 'Unnamed: 106', 'Unnamed: 11', 'Unnamed: 119', 'Unnamed: 12', 'Unnamed: 120', 'Unnamed: 121', 'Unnamed: 13', 'Unnamed: 14', 'Unnamed: 15', 'Unnamed: 16', 'Unnamed: 17', 'Unnamed: 18', 'Unnamed: 19', 'Unnamed: 20', 'Unnamed: 21', 'Unnamed: 22', 'Unnamed: 23', 'Unnamed: 24', 'Unnamed: 25', 'Unnamed: 26', 'Unnamed: 27', 'Unnamed: 28', 'Unnamed: 29', 'Unnamed: 30', 'Unnamed: 31', 'Unnamed: 32', 'Unnamed: 33', 'Unnamed: 34', 'Unnamed: 35', 'Unnamed: 36', 'Unnamed: 37', 'Unnamed: 38', 'Unnamed: 39', 'Unnamed: 40', 'Unnamed: 41', 'Unnamed: 42', 'Unnamed: 43', 'Unnamed: 44', 'Unnamed: 45', 'Unnamed: 46', 'Unnamed: 47', 'Unnamed: 48', 'Unnamed: 49', 'Unnamed: 50', 'Unnamed: 51', 'Unnamed: 52', 'Unnamed: 53', 'Unnamed: 54', 'Unnamed: 55', 'Unnamed: 56', 'Unnamed: 57', 'Unnamed: 58', 'Unnamed: 59', 'Unnamed: 60', 'Unnamed: 61', 'Unnamed: 62', 'Unnamed: 7', 'Unnamed: 70', 'Unnamed: 71', 'Unnamed: 72', 'Unnamed: 8', 'Unnamed: 9', 'VCA', 'VCCA', 'VCCD', 'VCCH', 'VCD', 'VCH', 'WHA', 'WHCA', 'WHCD', 'WHCH', 'WHD', 'WHH']\n"
     ]
    }
   ],
   "source": [
    "print(len(column_names), sorted(column_names))"
   ]
  },
  {
   "cell_type": "code",
   "execution_count": null,
   "id": "c19eaf51-eb93-4906-a4ac-97e6117c785f",
   "metadata": {},
   "outputs": [],
   "source": []
  }
 ],
 "metadata": {
  "kernelspec": {
   "display_name": "Python 3 (ipykernel)",
   "language": "python",
   "name": "python3"
  },
  "language_info": {
   "codemirror_mode": {
    "name": "ipython",
    "version": 3
   },
   "file_extension": ".py",
   "mimetype": "text/x-python",
   "name": "python",
   "nbconvert_exporter": "python",
   "pygments_lexer": "ipython3",
   "version": "3.12.5"
  }
 },
 "nbformat": 4,
 "nbformat_minor": 5
}
