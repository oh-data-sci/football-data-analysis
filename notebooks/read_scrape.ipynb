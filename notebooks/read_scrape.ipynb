{
 "cells": [
  {
   "cell_type": "markdown",
   "id": "10484789-3352-47ea-973c-2c83e302f748",
   "metadata": {},
   "source": [
    "# collect data file links from football-data source pages\n",
    "\n",
    "using the freely available [football-data](https://www.football-data.co.uk) page, we have a collected per-country page listing. \n",
    "\n",
    "for each country page, we scrape/collect all the data file links and output these into a csv table, one table per country. "
   ]
  },
  {
   "cell_type": "code",
   "execution_count": 1,
   "id": "267eda7d-800c-4f35-8984-2380aa891541",
   "metadata": {},
   "outputs": [],
   "source": [
    "from bs4 import BeautifulSoup\n",
    "import pandas as pd\n",
    "import requests"
   ]
  },
  {
   "cell_type": "code",
   "execution_count": 2,
   "id": "76d1baef-9725-4fcc-818d-db4687bfb3ce",
   "metadata": {},
   "outputs": [],
   "source": [
    "DATA_PATH = '../data/'\n",
    "URL_FILEPATH              = DATA_PATH + 'config/football_data_source_pages.txt' # input\n",
    "EACH_COUNTRY_URL_FILEPATH = DATA_PATH +'source_urls/country_urls.csv'           # output\n",
    "DATAFILE_URLS_FILEPATH    = DATA_PATH +'source_urls/'           "
   ]
  },
  {
   "cell_type": "markdown",
   "id": "ff3bde5f-34a5-4636-80f4-af19b25d5787",
   "metadata": {},
   "source": [
    "# read a list of page urls, one per country"
   ]
  },
  {
   "cell_type": "code",
   "execution_count": 3,
   "id": "c89439e4-e0fb-4d3a-b622-3dac9e693d38",
   "metadata": {},
   "outputs": [],
   "source": [
    "# read all the urls, one per country/region, \n",
    "country_urls = []\n",
    "with open(URL_FILEPATH, \"r\") as uf:\n",
    "   country_urls = uf.read().splitlines()"
   ]
  },
  {
   "cell_type": "markdown",
   "id": "ccf4b97c-159f-4047-b221-4f4ddc758759",
   "metadata": {},
   "source": [
    "# extract the country name from the url"
   ]
  },
  {
   "cell_type": "code",
   "execution_count": 4,
   "id": "70a59681-79be-4f41-a4f5-c5236a597728",
   "metadata": {},
   "outputs": [],
   "source": [
    "countries = []\n",
    "for url in country_urls:\n",
    "    # the last part of the url is the country, name\n",
    "    country = url.split('/')[-1].split('.')[0].lower()\n",
    "    # occasionally, the country name has 'm' appended, for no good reason.\n",
    "    if country.endswith('m'):\n",
    "        country=country[:-1]\n",
    "    countries.append(country)"
   ]
  },
  {
   "cell_type": "markdown",
   "id": "bd695210-1a69-41c0-ad26-eef34f3851b4",
   "metadata": {},
   "source": [
    "# output a country-link table as csv"
   ]
  },
  {
   "cell_type": "code",
   "execution_count": 5,
   "id": "d5f5340c-9b85-472b-9aff-62161377eb8c",
   "metadata": {},
   "outputs": [],
   "source": [
    "pd.DataFrame(\n",
    "    {\n",
    "        'country':countries, \n",
    "         'url':country_urls}\n",
    "    )\\\n",
    "    .to_csv(EACH_COUNTRY_URL_FILEPATH, index=False)"
   ]
  },
  {
   "cell_type": "markdown",
   "id": "dca72e06-33ce-4d1c-9971-3cb6bdffef4f",
   "metadata": {},
   "source": [
    "# collect data file links\n",
    "for each country page, read/parse it and scrape all the data file links within. output a table of each country's links to match data files. also report on the number of data links found in each page. "
   ]
  },
  {
   "cell_type": "code",
   "execution_count": 6,
   "id": "f294efaf-147f-4a0d-9f32-8288de06ddff",
   "metadata": {},
   "outputs": [
    {
     "name": "stdout",
     "output_type": "stream",
     "text": [
      "england -- parsed 148 data urls\n",
      "scotland -- parsed 118 data urls\n",
      "germany -- parsed 64 data urls\n",
      "italy -- parsed 60 data urls\n",
      "spain -- parsed 61 data urls\n",
      "france -- parsed 61 data urls\n",
      "netherlands -- parsed 32 data urls\n",
      "belgium -- parsed 30 data urls\n",
      "portugal -- parsed 31 data urls\n",
      "turkey -- parsed 31 data urls\n",
      "greece -- parsed 31 data urls\n",
      "argentina -- parsed 1 data urls\n",
      "austria -- parsed 1 data urls\n",
      "brazil -- parsed 1 data urls\n",
      "china -- parsed 1 data urls\n",
      "denmark -- parsed 1 data urls\n",
      "finland -- parsed 1 data urls\n",
      "ireland -- parsed 1 data urls\n",
      "japan -- parsed 1 data urls\n",
      "mexico -- parsed 1 data urls\n",
      "norway -- parsed 1 data urls\n",
      "poland -- parsed 1 data urls\n",
      "romania -- parsed 1 data urls\n",
      "russia -- parsed 1 data urls\n",
      "sweden -- parsed 1 data urls\n",
      "switzerland -- parsed 1 data urls\n",
      "usa -- parsed 1 data urls\n"
     ]
    }
   ],
   "source": [
    "for url in country_urls:\n",
    "    country = url.split('/')[-1].split('.')[0].lower()\n",
    "    if country.endswith('m'):\n",
    "        country=country[:-1]\n",
    "    r = requests.get(url)\n",
    "    soup_page = BeautifulSoup(r.content, 'html.parser')\n",
    "    table = soup_page.html.body.find_all('table')[4]\n",
    "    links = table.find_all('a')\n",
    "\n",
    "    data_urls = []\n",
    "    for link in links:\n",
    "        url = link.get('href')\n",
    "        if url.endswith('.csv'):\n",
    "            data_urls.append('https://www.football-data.co.uk/'+url)\n",
    "    data_urls = list(set(data_urls)) # deduplicated\n",
    "    num_urls = len(data_urls)\n",
    "    df_url = pd.DataFrame({'country':[country]*num_urls, 'data_url':data_urls})\n",
    "    df_url.to_csv(DATAFILE_URLS_FILEPATH+country+'_data_file_urls.csv', index=False)\n",
    "    print(country, '-- parsed', num_urls, 'data urls')"
   ]
  },
  {
   "cell_type": "code",
   "execution_count": null,
   "id": "55daaedc-6635-4f34-a4a0-75465da568ff",
   "metadata": {},
   "outputs": [],
   "source": []
  },
  {
   "cell_type": "code",
   "execution_count": null,
   "id": "26857361-52d9-44ac-8a18-9ddf73cd94a2",
   "metadata": {},
   "outputs": [],
   "source": []
  },
  {
   "cell_type": "code",
   "execution_count": null,
   "id": "14598235-d0f0-4fc1-b1d5-a5c7d0fc23fd",
   "metadata": {},
   "outputs": [],
   "source": []
  }
 ],
 "metadata": {
  "kernelspec": {
   "display_name": "Python 3 (ipykernel)",
   "language": "python",
   "name": "python3"
  },
  "language_info": {
   "codemirror_mode": {
    "name": "ipython",
    "version": 3
   },
   "file_extension": ".py",
   "mimetype": "text/x-python",
   "name": "python",
   "nbconvert_exporter": "python",
   "pygments_lexer": "ipython3",
   "version": "3.12.5"
  }
 },
 "nbformat": 4,
 "nbformat_minor": 5
}
